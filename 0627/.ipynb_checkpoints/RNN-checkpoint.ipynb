{
 "cells": [
  {
   "cell_type": "code",
   "execution_count": 73,
   "id": "d43e22a0-17c1-493f-adcc-e08a6dded80a",
   "metadata": {},
   "outputs": [
    {
     "name": "stdout",
     "output_type": "stream",
     "text": [
      "Model: \"sequential_10\"\n",
      "_________________________________________________________________\n",
      " Layer (type)                Output Shape              Param #   \n",
      "=================================================================\n",
      " simple_rnn_9 (SimpleRNN)    (None, 3)                 42        \n",
      "                                                                 \n",
      "=================================================================\n",
      "Total params: 42 (168.00 Byte)\n",
      "Trainable params: 42 (168.00 Byte)\n",
      "Non-trainable params: 0 (0.00 Byte)\n",
      "_________________________________________________________________\n"
     ]
    }
   ],
   "source": [
    "from keras.models import Sequential\n",
    "from keras.layers import SimpleRNN\n",
    "\n",
    "model = Sequential()\n",
    "model.add(SimpleRNN(3, input_shape = (2, 10)))\n",
    "model.summary()"
   ]
  },
  {
   "cell_type": "code",
   "execution_count": 74,
   "id": "067b2c10-7df2-4a77-9b04-62a28cc600db",
   "metadata": {},
   "outputs": [
    {
     "name": "stdout",
     "output_type": "stream",
     "text": [
      "Model: \"sequential_11\"\n",
      "_________________________________________________________________\n",
      " Layer (type)                Output Shape              Param #   \n",
      "=================================================================\n",
      " simple_rnn_10 (SimpleRNN)   (8, 3)                    42        \n",
      "                                                                 \n",
      "=================================================================\n",
      "Total params: 42 (168.00 Byte)\n",
      "Trainable params: 42 (168.00 Byte)\n",
      "Non-trainable params: 0 (0.00 Byte)\n",
      "_________________________________________________________________\n"
     ]
    }
   ],
   "source": [
    "from keras.models import Sequential\n",
    "from keras.layers import SimpleRNN\n",
    "import numpy as np\n",
    "\n",
    "imputs = np.random.random((8,2,10)) #batch size, time-stemp , input\n",
    "\n",
    "model = Sequential()\n",
    "model.add(SimpleRNN(3))\n",
    "model(imputs)\n",
    "model.summary()"
   ]
  },
  {
   "cell_type": "code",
   "execution_count": 75,
   "id": "7f21ee1f-28ea-4f32-8fe6-ee7c4b6905d8",
   "metadata": {},
   "outputs": [
    {
     "name": "stdout",
     "output_type": "stream",
     "text": [
      "Model: \"sequential_12\"\n",
      "_________________________________________________________________\n",
      " Layer (type)                Output Shape              Param #   \n",
      "=================================================================\n",
      " simple_rnn_11 (SimpleRNN)   (8, 2, 3)                 42        \n",
      "                                                                 \n",
      "=================================================================\n",
      "Total params: 42 (168.00 Byte)\n",
      "Trainable params: 42 (168.00 Byte)\n",
      "Non-trainable params: 0 (0.00 Byte)\n",
      "_________________________________________________________________\n"
     ]
    }
   ],
   "source": [
    "from keras.models import Sequential\n",
    "from keras.layers import SimpleRNN\n",
    "import numpy as np\n",
    "\n",
    "imputs = np.random.random((8,2,10)) #batch size, time-stemp , input\n",
    "\n",
    "model = Sequential()\n",
    "model.add(SimpleRNN(3, return_sequences = True))\n",
    "model(imputs)\n",
    "model.summary()"
   ]
  },
  {
   "cell_type": "code",
   "execution_count": 76,
   "id": "a80194c9-5de0-4d33-a34a-881f3364ab1a",
   "metadata": {},
   "outputs": [],
   "source": [
    "### RNN을 이용하여 텍스트 생성하기"
   ]
  },
  {
   "cell_type": "code",
   "execution_count": 77,
   "id": "8c2d1c1d-1f85-4f7b-adb0-0b001904ff3b",
   "metadata": {},
   "outputs": [],
   "source": [
    "from tensorflow.keras.preprocessing.text import Tokenizer\n",
    "from tensorflow.keras.preprocessing.sequence import pad_sequences\n",
    "import numpy as np\n",
    "from tensorflow.keras.utils import to_categorical"
   ]
  },
  {
   "cell_type": "code",
   "execution_count": 78,
   "id": "e8bb3a7f-35e3-4646-bfcd-8e283b389250",
   "metadata": {},
   "outputs": [],
   "source": [
    "text = \"\"\"경마장에 있는 말이 뛰고 있다\\n그의 말이 법이다\\n가는 말이 고아야 오는 말이 곱다\"\"\""
   ]
  },
  {
   "cell_type": "code",
   "execution_count": 79,
   "id": "9b0bc466-866c-4de4-9169-9c98d0ec94ba",
   "metadata": {},
   "outputs": [
    {
     "name": "stdout",
     "output_type": "stream",
     "text": [
      "단어 집합의 크기: 12\n"
     ]
    }
   ],
   "source": [
    "t = Tokenizer()\n",
    "t.fit_on_texts([text])\n",
    "vocab_size = len(t.word_index) + 1\n",
    "print(\"단어 집합의 크기: %d\" % vocab_size)"
   ]
  },
  {
   "cell_type": "code",
   "execution_count": 80,
   "id": "865f82c4-e94b-4f6c-8bee-420c347742e9",
   "metadata": {},
   "outputs": [
    {
     "data": {
      "text/plain": [
       "{'말이': 1,\n",
       " '경마장에': 2,\n",
       " '있는': 3,\n",
       " '뛰고': 4,\n",
       " '있다': 5,\n",
       " '그의': 6,\n",
       " '법이다': 7,\n",
       " '가는': 8,\n",
       " '고아야': 9,\n",
       " '오는': 10,\n",
       " '곱다': 11}"
      ]
     },
     "execution_count": 80,
     "metadata": {},
     "output_type": "execute_result"
    }
   ],
   "source": [
    "t.word_index"
   ]
  },
  {
   "cell_type": "code",
   "execution_count": 81,
   "id": "039cc461-93f3-477e-a900-f6b8941640c6",
   "metadata": {},
   "outputs": [
    {
     "name": "stdout",
     "output_type": "stream",
     "text": [
      "[[2, 3], [2, 3, 1], [2, 3, 1, 4], [2, 3, 1, 4, 5], [6, 1], [6, 1, 7], [8, 1], [8, 1, 9], [8, 1, 9, 10], [8, 1, 9, 10, 1], [8, 1, 9, 10, 1, 11]]\n",
      "학습에 사용할 샘플의 개수: 6\n"
     ]
    }
   ],
   "source": [
    "sequences = list()\n",
    "for line in text.split(\"\\n\"):\n",
    "    encoded = t.texts_to_sequences([line])[0]\n",
    "    for i in range(1, len(encoded)):\n",
    "        sequence = encoded[:i+1]\n",
    "        sequences.append(sequence)\n",
    "\n",
    "print(sequences)\n",
    "print(\"학습에 사용할 샘플의 개수: %d\" % len(sequence))"
   ]
  },
  {
   "cell_type": "code",
   "execution_count": 82,
   "id": "6b25c8fa-e5ca-4d1c-92c1-51d71e616183",
   "metadata": {},
   "outputs": [
    {
     "name": "stdout",
     "output_type": "stream",
     "text": [
      "샘플의 최대 길이: 6\n"
     ]
    }
   ],
   "source": [
    "max_len = max(len(l) for l in sequences)\n",
    "print(\"샘플의 최대 길이: {}\".format(max_len))"
   ]
  },
  {
   "cell_type": "code",
   "execution_count": 83,
   "id": "7d8c2fac-a61f-4541-80ff-2a7b5c03bada",
   "metadata": {},
   "outputs": [
    {
     "data": {
      "text/plain": [
       "array([[ 0,  0,  0,  0,  2,  3],\n",
       "       [ 0,  0,  0,  2,  3,  1],\n",
       "       [ 0,  0,  2,  3,  1,  4],\n",
       "       [ 0,  2,  3,  1,  4,  5],\n",
       "       [ 0,  0,  0,  0,  6,  1],\n",
       "       [ 0,  0,  0,  6,  1,  7],\n",
       "       [ 0,  0,  0,  0,  8,  1],\n",
       "       [ 0,  0,  0,  8,  1,  9],\n",
       "       [ 0,  0,  8,  1,  9, 10],\n",
       "       [ 0,  8,  1,  9, 10,  1],\n",
       "       [ 8,  1,  9, 10,  1, 11]])"
      ]
     },
     "execution_count": 83,
     "metadata": {},
     "output_type": "execute_result"
    }
   ],
   "source": [
    "sequences = pad_sequences(sequences, maxlen =max_len, padding= 'pre')\n",
    "sequences"
   ]
  },
  {
   "cell_type": "markdown",
   "id": "25e74d6e-22ef-4692-b8a0-17562f3180e8",
   "metadata": {},
   "source": [
    "| 파라미터         | 설명                                                   | 예시                                                    |\n",
    "| ------------ | ---------------------------------------------------- | ----------------------------------------------------- |\n",
    "| `sequences`  | 패딩할 대상 시퀀스 (리스트의 리스트)                                | `[[1, 2, 3], [4, 5], [6]]`                            |\n",
    "| `maxlen`     | 최종적으로 맞출 시퀀스 길이<br>지정 안 하면 가장 긴 시퀀스 기준               | `maxlen=4` → `[0, 1, 2, 3]`                           |\n",
    "| `dtype`      | 데이터 타입 (기본 `'int32'`)                                | 보통 그대로 둠                                              |\n",
    "| `padding`    | 짧은 시퀀스를 어디에 0으로 채울지 <br> `'pre'` (앞에), `'post'` (뒤에) | `'pre'` → `[0, 0, 1, 2]`<br>`'post'` → `[1, 2, 0, 0]` |\n",
    "| `truncating` | 길이를 자를 때 앞/뒤 중 어디를 자를지                               | `'pre'` → 앞에서 자름<br>`'post'` → 뒤에서 자름                 |\n",
    "| `value`      | 패딩할 때 넣을 값 (기본: `0`)                                 | `value=-1` → `[-1, -1, 1, 2]`                         |\n"
   ]
  },
  {
   "cell_type": "code",
   "execution_count": 84,
   "id": "3ea6b8b8-c6fb-4667-b77c-75dfbbd99ff6",
   "metadata": {},
   "outputs": [],
   "source": [
    "sequences = [[3, 4, 5], [1, 2], [6]]\n",
    "max_len = 4\n",
    "sequences = pad_sequences(sequences, maxlen=max_len, padding='pre')"
   ]
  },
  {
   "cell_type": "code",
   "execution_count": 85,
   "id": "a3aedf19-8256-4574-b797-a324c75e7995",
   "metadata": {},
   "outputs": [],
   "source": [
    "sequences = np.array(sequences)\n",
    "X = sequences[:, : -1]\n",
    "y = sequences[:, -1]"
   ]
  },
  {
   "cell_type": "code",
   "execution_count": null,
   "id": "d71becc3-c192-449b-a005-9aa7917128e1",
   "metadata": {},
   "outputs": [],
   "source": [
    "model = Sequential()\n",
    "model.add(Embedding(vocab_size ,6))\n",
    "model.add(SimpleRNN(32))\n",
    "model.add(Dense(vocab_size, actication = 'softmax')\n",
    "model.build(input_shape=(None,))"
   ]
  },
  {
   "cell_type": "code",
   "execution_count": 86,
   "id": "803ea6e4-427e-49de-91e8-951d41156584",
   "metadata": {},
   "outputs": [
    {
     "name": "stdout",
     "output_type": "stream",
     "text": [
      "샘플의 최대 길이 : 4\n"
     ]
    }
   ],
   "source": [
    "max_len=max(len(l) for l in sequences)\n",
    "print('샘플의 최대 길이 : {}'.format(max_len))"
   ]
  },
  {
   "cell_type": "code",
   "execution_count": 87,
   "id": "c2e2438b-00b2-43d8-aae6-e9249dd0f840",
   "metadata": {},
   "outputs": [],
   "source": [
    "sequences = np.array(sequences)\n",
    "X = sequences[:, :-1]\n",
    "y = sequences[:, -1]"
   ]
  },
  {
   "cell_type": "code",
   "execution_count": 88,
   "id": "2683a7b6-7566-47a0-9c0c-ba423af12cf2",
   "metadata": {},
   "outputs": [
    {
     "name": "stdout",
     "output_type": "stream",
     "text": [
      "[[0. 0. 0. 0. 0. 1. 0. 0. 0. 0. 0. 0.]\n",
      " [0. 0. 1. 0. 0. 0. 0. 0. 0. 0. 0. 0.]\n",
      " [0. 0. 0. 0. 0. 0. 1. 0. 0. 0. 0. 0.]]\n"
     ]
    }
   ],
   "source": [
    "y = to_categorical(y, num_classes=vocab_size)\n",
    "print(y)"
   ]
  },
  {
   "cell_type": "code",
   "execution_count": 89,
   "id": "03f50446-dcd5-42aa-9e58-2f0d3b22caf6",
   "metadata": {},
   "outputs": [],
   "source": [
    "from tensorflow.keras.models import Sequential\n",
    "from tensorflow.keras.layers import Embedding, Dense, SimpleRNN"
   ]
  },
  {
   "cell_type": "code",
   "execution_count": 90,
   "id": "4d30a84a-634e-4892-ae1c-012dec0d20dd",
   "metadata": {},
   "outputs": [
    {
     "name": "stdout",
     "output_type": "stream",
     "text": [
      "Model: \"sequential_13\"\n",
      "_________________________________________________________________\n",
      " Layer (type)                Output Shape              Param #   \n",
      "=================================================================\n",
      " embedding_3 (Embedding)     (None, None, 6)           72        \n",
      "                                                                 \n",
      " simple_rnn_12 (SimpleRNN)   (None, 32)                1248      \n",
      "                                                                 \n",
      " dense_3 (Dense)             (None, 12)                396       \n",
      "                                                                 \n",
      "=================================================================\n",
      "Total params: 1716 (6.70 KB)\n",
      "Trainable params: 1716 (6.70 KB)\n",
      "Non-trainable params: 0 (0.00 Byte)\n",
      "_________________________________________________________________\n"
     ]
    }
   ],
   "source": [
    "model = Sequential()\n",
    "model.add(Embedding(vocab_size, 6)) # 밀집벡터\n",
    "model.add(SimpleRNN(32))\n",
    "model.add(Dense(vocab_size, activation='softmax'))\n",
    "model.build(input_shape=(None, max_len-1))\n",
    "model.summary()"
   ]
  },
  {
   "cell_type": "code",
   "execution_count": 94,
   "id": "02e95ff0-d009-4605-9bb3-5514b113b3b6",
   "metadata": {},
   "outputs": [
    {
     "name": "stdout",
     "output_type": "stream",
     "text": [
      "Epoch 1/200\n",
      "1/1 - 1s - loss: 0.2001 - accuracy: 1.0000 - 728ms/epoch - 728ms/step\n",
      "Epoch 2/200\n",
      "1/1 - 0s - loss: 0.1961 - accuracy: 1.0000 - 4ms/epoch - 4ms/step\n",
      "Epoch 3/200\n",
      "1/1 - 0s - loss: 0.1923 - accuracy: 1.0000 - 4ms/epoch - 4ms/step\n",
      "Epoch 4/200\n",
      "1/1 - 0s - loss: 0.1884 - accuracy: 1.0000 - 5ms/epoch - 5ms/step\n",
      "Epoch 5/200\n",
      "1/1 - 0s - loss: 0.1847 - accuracy: 1.0000 - 4ms/epoch - 4ms/step\n",
      "Epoch 6/200\n",
      "1/1 - 0s - loss: 0.1810 - accuracy: 1.0000 - 5ms/epoch - 5ms/step\n",
      "Epoch 7/200\n",
      "1/1 - 0s - loss: 0.1773 - accuracy: 1.0000 - 3ms/epoch - 3ms/step\n",
      "Epoch 8/200\n",
      "1/1 - 0s - loss: 0.1737 - accuracy: 1.0000 - 3ms/epoch - 3ms/step\n",
      "Epoch 9/200\n",
      "1/1 - 0s - loss: 0.1702 - accuracy: 1.0000 - 5ms/epoch - 5ms/step\n",
      "Epoch 10/200\n",
      "1/1 - 0s - loss: 0.1667 - accuracy: 1.0000 - 3ms/epoch - 3ms/step\n",
      "Epoch 11/200\n",
      "1/1 - 0s - loss: 0.1632 - accuracy: 1.0000 - 5ms/epoch - 5ms/step\n",
      "Epoch 12/200\n",
      "1/1 - 0s - loss: 0.1598 - accuracy: 1.0000 - 4ms/epoch - 4ms/step\n",
      "Epoch 13/200\n",
      "1/1 - 0s - loss: 0.1565 - accuracy: 1.0000 - 6ms/epoch - 6ms/step\n",
      "Epoch 14/200\n",
      "1/1 - 0s - loss: 0.1532 - accuracy: 1.0000 - 6ms/epoch - 6ms/step\n",
      "Epoch 15/200\n",
      "1/1 - 0s - loss: 0.1499 - accuracy: 1.0000 - 5ms/epoch - 5ms/step\n",
      "Epoch 16/200\n",
      "1/1 - 0s - loss: 0.1467 - accuracy: 1.0000 - 4ms/epoch - 4ms/step\n",
      "Epoch 17/200\n",
      "1/1 - 0s - loss: 0.1436 - accuracy: 1.0000 - 4ms/epoch - 4ms/step\n",
      "Epoch 18/200\n",
      "1/1 - 0s - loss: 0.1405 - accuracy: 1.0000 - 5ms/epoch - 5ms/step\n",
      "Epoch 19/200\n",
      "1/1 - 0s - loss: 0.1374 - accuracy: 1.0000 - 4ms/epoch - 4ms/step\n",
      "Epoch 20/200\n",
      "1/1 - 0s - loss: 0.1344 - accuracy: 1.0000 - 4ms/epoch - 4ms/step\n",
      "Epoch 21/200\n",
      "1/1 - 0s - loss: 0.1314 - accuracy: 1.0000 - 5ms/epoch - 5ms/step\n",
      "Epoch 22/200\n",
      "1/1 - 0s - loss: 0.1285 - accuracy: 1.0000 - 5ms/epoch - 5ms/step\n",
      "Epoch 23/200\n",
      "1/1 - 0s - loss: 0.1256 - accuracy: 1.0000 - 4ms/epoch - 4ms/step\n",
      "Epoch 24/200\n",
      "1/1 - 0s - loss: 0.1227 - accuracy: 1.0000 - 6ms/epoch - 6ms/step\n",
      "Epoch 25/200\n",
      "1/1 - 0s - loss: 0.1199 - accuracy: 1.0000 - 5ms/epoch - 5ms/step\n",
      "Epoch 26/200\n",
      "1/1 - 0s - loss: 0.1171 - accuracy: 1.0000 - 6ms/epoch - 6ms/step\n",
      "Epoch 27/200\n",
      "1/1 - 0s - loss: 0.1144 - accuracy: 1.0000 - 6ms/epoch - 6ms/step\n",
      "Epoch 28/200\n",
      "1/1 - 0s - loss: 0.1117 - accuracy: 1.0000 - 5ms/epoch - 5ms/step\n",
      "Epoch 29/200\n",
      "1/1 - 0s - loss: 0.1090 - accuracy: 1.0000 - 5ms/epoch - 5ms/step\n",
      "Epoch 30/200\n",
      "1/1 - 0s - loss: 0.1064 - accuracy: 1.0000 - 6ms/epoch - 6ms/step\n",
      "Epoch 31/200\n",
      "1/1 - 0s - loss: 0.1039 - accuracy: 1.0000 - 5ms/epoch - 5ms/step\n",
      "Epoch 32/200\n",
      "1/1 - 0s - loss: 0.1014 - accuracy: 1.0000 - 5ms/epoch - 5ms/step\n",
      "Epoch 33/200\n",
      "1/1 - 0s - loss: 0.0989 - accuracy: 1.0000 - 5ms/epoch - 5ms/step\n",
      "Epoch 34/200\n",
      "1/1 - 0s - loss: 0.0964 - accuracy: 1.0000 - 5ms/epoch - 5ms/step\n",
      "Epoch 35/200\n",
      "1/1 - 0s - loss: 0.0941 - accuracy: 1.0000 - 5ms/epoch - 5ms/step\n",
      "Epoch 36/200\n",
      "1/1 - 0s - loss: 0.0917 - accuracy: 1.0000 - 5ms/epoch - 5ms/step\n",
      "Epoch 37/200\n",
      "1/1 - 0s - loss: 0.0895 - accuracy: 1.0000 - 5ms/epoch - 5ms/step\n",
      "Epoch 38/200\n",
      "1/1 - 0s - loss: 0.0872 - accuracy: 1.0000 - 5ms/epoch - 5ms/step\n",
      "Epoch 39/200\n",
      "1/1 - 0s - loss: 0.0850 - accuracy: 1.0000 - 5ms/epoch - 5ms/step\n",
      "Epoch 40/200\n",
      "1/1 - 0s - loss: 0.0829 - accuracy: 1.0000 - 5ms/epoch - 5ms/step\n",
      "Epoch 41/200\n",
      "1/1 - 0s - loss: 0.0808 - accuracy: 1.0000 - 5ms/epoch - 5ms/step\n",
      "Epoch 42/200\n",
      "1/1 - 0s - loss: 0.0788 - accuracy: 1.0000 - 6ms/epoch - 6ms/step\n",
      "Epoch 43/200\n",
      "1/1 - 0s - loss: 0.0769 - accuracy: 1.0000 - 6ms/epoch - 6ms/step\n",
      "Epoch 44/200\n",
      "1/1 - 0s - loss: 0.0749 - accuracy: 1.0000 - 4ms/epoch - 4ms/step\n",
      "Epoch 45/200\n",
      "1/1 - 0s - loss: 0.0731 - accuracy: 1.0000 - 6ms/epoch - 6ms/step\n",
      "Epoch 46/200\n",
      "1/1 - 0s - loss: 0.0713 - accuracy: 1.0000 - 5ms/epoch - 5ms/step\n",
      "Epoch 47/200\n",
      "1/1 - 0s - loss: 0.0695 - accuracy: 1.0000 - 6ms/epoch - 6ms/step\n",
      "Epoch 48/200\n",
      "1/1 - 0s - loss: 0.0678 - accuracy: 1.0000 - 6ms/epoch - 6ms/step\n",
      "Epoch 49/200\n",
      "1/1 - 0s - loss: 0.0662 - accuracy: 1.0000 - 6ms/epoch - 6ms/step\n",
      "Epoch 50/200\n",
      "1/1 - 0s - loss: 0.0645 - accuracy: 1.0000 - 5ms/epoch - 5ms/step\n",
      "Epoch 51/200\n",
      "1/1 - 0s - loss: 0.0630 - accuracy: 1.0000 - 5ms/epoch - 5ms/step\n",
      "Epoch 52/200\n",
      "1/1 - 0s - loss: 0.0614 - accuracy: 1.0000 - 4ms/epoch - 4ms/step\n",
      "Epoch 53/200\n",
      "1/1 - 0s - loss: 0.0600 - accuracy: 1.0000 - 5ms/epoch - 5ms/step\n",
      "Epoch 54/200\n",
      "1/1 - 0s - loss: 0.0585 - accuracy: 1.0000 - 4ms/epoch - 4ms/step\n",
      "Epoch 55/200\n",
      "1/1 - 0s - loss: 0.0571 - accuracy: 1.0000 - 5ms/epoch - 5ms/step\n",
      "Epoch 56/200\n",
      "1/1 - 0s - loss: 0.0557 - accuracy: 1.0000 - 5ms/epoch - 5ms/step\n",
      "Epoch 57/200\n",
      "1/1 - 0s - loss: 0.0544 - accuracy: 1.0000 - 5ms/epoch - 5ms/step\n",
      "Epoch 58/200\n",
      "1/1 - 0s - loss: 0.0531 - accuracy: 1.0000 - 4ms/epoch - 4ms/step\n",
      "Epoch 59/200\n",
      "1/1 - 0s - loss: 0.0519 - accuracy: 1.0000 - 5ms/epoch - 5ms/step\n",
      "Epoch 60/200\n",
      "1/1 - 0s - loss: 0.0506 - accuracy: 1.0000 - 5ms/epoch - 5ms/step\n",
      "Epoch 61/200\n",
      "1/1 - 0s - loss: 0.0494 - accuracy: 1.0000 - 5ms/epoch - 5ms/step\n",
      "Epoch 62/200\n",
      "1/1 - 0s - loss: 0.0483 - accuracy: 1.0000 - 4ms/epoch - 4ms/step\n",
      "Epoch 63/200\n",
      "1/1 - 0s - loss: 0.0471 - accuracy: 1.0000 - 5ms/epoch - 5ms/step\n",
      "Epoch 64/200\n",
      "1/1 - 0s - loss: 0.0460 - accuracy: 1.0000 - 4ms/epoch - 4ms/step\n",
      "Epoch 65/200\n",
      "1/1 - 0s - loss: 0.0450 - accuracy: 1.0000 - 5ms/epoch - 5ms/step\n",
      "Epoch 66/200\n",
      "1/1 - 0s - loss: 0.0439 - accuracy: 1.0000 - 5ms/epoch - 5ms/step\n",
      "Epoch 67/200\n",
      "1/1 - 0s - loss: 0.0429 - accuracy: 1.0000 - 5ms/epoch - 5ms/step\n",
      "Epoch 68/200\n",
      "1/1 - 0s - loss: 0.0419 - accuracy: 1.0000 - 5ms/epoch - 5ms/step\n",
      "Epoch 69/200\n",
      "1/1 - 0s - loss: 0.0409 - accuracy: 1.0000 - 6ms/epoch - 6ms/step\n",
      "Epoch 70/200\n",
      "1/1 - 0s - loss: 0.0400 - accuracy: 1.0000 - 5ms/epoch - 5ms/step\n",
      "Epoch 71/200\n",
      "1/1 - 0s - loss: 0.0391 - accuracy: 1.0000 - 5ms/epoch - 5ms/step\n",
      "Epoch 72/200\n",
      "1/1 - 0s - loss: 0.0382 - accuracy: 1.0000 - 5ms/epoch - 5ms/step\n",
      "Epoch 73/200\n",
      "1/1 - 0s - loss: 0.0373 - accuracy: 1.0000 - 5ms/epoch - 5ms/step\n",
      "Epoch 74/200\n",
      "1/1 - 0s - loss: 0.0365 - accuracy: 1.0000 - 4ms/epoch - 4ms/step\n",
      "Epoch 75/200\n",
      "1/1 - 0s - loss: 0.0357 - accuracy: 1.0000 - 6ms/epoch - 6ms/step\n",
      "Epoch 76/200\n",
      "1/1 - 0s - loss: 0.0349 - accuracy: 1.0000 - 5ms/epoch - 5ms/step\n",
      "Epoch 77/200\n",
      "1/1 - 0s - loss: 0.0341 - accuracy: 1.0000 - 4ms/epoch - 4ms/step\n",
      "Epoch 78/200\n",
      "1/1 - 0s - loss: 0.0333 - accuracy: 1.0000 - 4ms/epoch - 4ms/step\n",
      "Epoch 79/200\n",
      "1/1 - 0s - loss: 0.0326 - accuracy: 1.0000 - 4ms/epoch - 4ms/step\n",
      "Epoch 80/200\n",
      "1/1 - 0s - loss: 0.0319 - accuracy: 1.0000 - 5ms/epoch - 5ms/step\n",
      "Epoch 81/200\n",
      "1/1 - 0s - loss: 0.0312 - accuracy: 1.0000 - 5ms/epoch - 5ms/step\n",
      "Epoch 82/200\n",
      "1/1 - 0s - loss: 0.0305 - accuracy: 1.0000 - 5ms/epoch - 5ms/step\n",
      "Epoch 83/200\n",
      "1/1 - 0s - loss: 0.0299 - accuracy: 1.0000 - 4ms/epoch - 4ms/step\n",
      "Epoch 84/200\n",
      "1/1 - 0s - loss: 0.0292 - accuracy: 1.0000 - 4ms/epoch - 4ms/step\n",
      "Epoch 85/200\n",
      "1/1 - 0s - loss: 0.0286 - accuracy: 1.0000 - 5ms/epoch - 5ms/step\n",
      "Epoch 86/200\n",
      "1/1 - 0s - loss: 0.0280 - accuracy: 1.0000 - 5ms/epoch - 5ms/step\n",
      "Epoch 87/200\n",
      "1/1 - 0s - loss: 0.0274 - accuracy: 1.0000 - 4ms/epoch - 4ms/step\n",
      "Epoch 88/200\n",
      "1/1 - 0s - loss: 0.0268 - accuracy: 1.0000 - 5ms/epoch - 5ms/step\n",
      "Epoch 89/200\n",
      "1/1 - 0s - loss: 0.0263 - accuracy: 1.0000 - 4ms/epoch - 4ms/step\n",
      "Epoch 90/200\n",
      "1/1 - 0s - loss: 0.0257 - accuracy: 1.0000 - 5ms/epoch - 5ms/step\n",
      "Epoch 91/200\n",
      "1/1 - 0s - loss: 0.0252 - accuracy: 1.0000 - 4ms/epoch - 4ms/step\n",
      "Epoch 92/200\n",
      "1/1 - 0s - loss: 0.0247 - accuracy: 1.0000 - 5ms/epoch - 5ms/step\n",
      "Epoch 93/200\n",
      "1/1 - 0s - loss: 0.0242 - accuracy: 1.0000 - 5ms/epoch - 5ms/step\n",
      "Epoch 94/200\n",
      "1/1 - 0s - loss: 0.0237 - accuracy: 1.0000 - 4ms/epoch - 4ms/step\n",
      "Epoch 95/200\n",
      "1/1 - 0s - loss: 0.0232 - accuracy: 1.0000 - 5ms/epoch - 5ms/step\n",
      "Epoch 96/200\n",
      "1/1 - 0s - loss: 0.0228 - accuracy: 1.0000 - 5ms/epoch - 5ms/step\n",
      "Epoch 97/200\n",
      "1/1 - 0s - loss: 0.0223 - accuracy: 1.0000 - 5ms/epoch - 5ms/step\n",
      "Epoch 98/200\n",
      "1/1 - 0s - loss: 0.0219 - accuracy: 1.0000 - 3ms/epoch - 3ms/step\n",
      "Epoch 99/200\n",
      "1/1 - 0s - loss: 0.0214 - accuracy: 1.0000 - 5ms/epoch - 5ms/step\n",
      "Epoch 100/200\n",
      "1/1 - 0s - loss: 0.0210 - accuracy: 1.0000 - 3ms/epoch - 3ms/step\n",
      "Epoch 101/200\n",
      "1/1 - 0s - loss: 0.0206 - accuracy: 1.0000 - 4ms/epoch - 4ms/step\n",
      "Epoch 102/200\n",
      "1/1 - 0s - loss: 0.0202 - accuracy: 1.0000 - 4ms/epoch - 4ms/step\n",
      "Epoch 103/200\n",
      "1/1 - 0s - loss: 0.0198 - accuracy: 1.0000 - 5ms/epoch - 5ms/step\n",
      "Epoch 104/200\n",
      "1/1 - 0s - loss: 0.0194 - accuracy: 1.0000 - 4ms/epoch - 4ms/step\n",
      "Epoch 105/200\n",
      "1/1 - 0s - loss: 0.0191 - accuracy: 1.0000 - 3ms/epoch - 3ms/step\n",
      "Epoch 106/200\n",
      "1/1 - 0s - loss: 0.0187 - accuracy: 1.0000 - 3ms/epoch - 3ms/step\n",
      "Epoch 107/200\n",
      "1/1 - 0s - loss: 0.0184 - accuracy: 1.0000 - 4ms/epoch - 4ms/step\n",
      "Epoch 108/200\n",
      "1/1 - 0s - loss: 0.0180 - accuracy: 1.0000 - 5ms/epoch - 5ms/step\n",
      "Epoch 109/200\n",
      "1/1 - 0s - loss: 0.0177 - accuracy: 1.0000 - 4ms/epoch - 4ms/step\n",
      "Epoch 110/200\n",
      "1/1 - 0s - loss: 0.0174 - accuracy: 1.0000 - 3ms/epoch - 3ms/step\n",
      "Epoch 111/200\n",
      "1/1 - 0s - loss: 0.0170 - accuracy: 1.0000 - 3ms/epoch - 3ms/step\n",
      "Epoch 112/200\n",
      "1/1 - 0s - loss: 0.0167 - accuracy: 1.0000 - 3ms/epoch - 3ms/step\n",
      "Epoch 113/200\n",
      "1/1 - 0s - loss: 0.0164 - accuracy: 1.0000 - 3ms/epoch - 3ms/step\n",
      "Epoch 114/200\n",
      "1/1 - 0s - loss: 0.0161 - accuracy: 1.0000 - 4ms/epoch - 4ms/step\n",
      "Epoch 115/200\n",
      "1/1 - 0s - loss: 0.0158 - accuracy: 1.0000 - 5ms/epoch - 5ms/step\n",
      "Epoch 116/200\n",
      "1/1 - 0s - loss: 0.0156 - accuracy: 1.0000 - 4ms/epoch - 4ms/step\n",
      "Epoch 117/200\n",
      "1/1 - 0s - loss: 0.0153 - accuracy: 1.0000 - 4ms/epoch - 4ms/step\n",
      "Epoch 118/200\n",
      "1/1 - 0s - loss: 0.0150 - accuracy: 1.0000 - 5ms/epoch - 5ms/step\n",
      "Epoch 119/200\n",
      "1/1 - 0s - loss: 0.0148 - accuracy: 1.0000 - 3ms/epoch - 3ms/step\n",
      "Epoch 120/200\n",
      "1/1 - 0s - loss: 0.0145 - accuracy: 1.0000 - 4ms/epoch - 4ms/step\n",
      "Epoch 121/200\n",
      "1/1 - 0s - loss: 0.0142 - accuracy: 1.0000 - 4ms/epoch - 4ms/step\n",
      "Epoch 122/200\n",
      "1/1 - 0s - loss: 0.0140 - accuracy: 1.0000 - 4ms/epoch - 4ms/step\n",
      "Epoch 123/200\n",
      "1/1 - 0s - loss: 0.0138 - accuracy: 1.0000 - 4ms/epoch - 4ms/step\n",
      "Epoch 124/200\n",
      "1/1 - 0s - loss: 0.0135 - accuracy: 1.0000 - 4ms/epoch - 4ms/step\n",
      "Epoch 125/200\n",
      "1/1 - 0s - loss: 0.0133 - accuracy: 1.0000 - 5ms/epoch - 5ms/step\n",
      "Epoch 126/200\n",
      "1/1 - 0s - loss: 0.0131 - accuracy: 1.0000 - 3ms/epoch - 3ms/step\n",
      "Epoch 127/200\n",
      "1/1 - 0s - loss: 0.0129 - accuracy: 1.0000 - 4ms/epoch - 4ms/step\n",
      "Epoch 128/200\n",
      "1/1 - 0s - loss: 0.0127 - accuracy: 1.0000 - 5ms/epoch - 5ms/step\n",
      "Epoch 129/200\n",
      "1/1 - 0s - loss: 0.0125 - accuracy: 1.0000 - 5ms/epoch - 5ms/step\n",
      "Epoch 130/200\n",
      "1/1 - 0s - loss: 0.0123 - accuracy: 1.0000 - 4ms/epoch - 4ms/step\n",
      "Epoch 131/200\n",
      "1/1 - 0s - loss: 0.0121 - accuracy: 1.0000 - 3ms/epoch - 3ms/step\n",
      "Epoch 132/200\n",
      "1/1 - 0s - loss: 0.0119 - accuracy: 1.0000 - 4ms/epoch - 4ms/step\n",
      "Epoch 133/200\n",
      "1/1 - 0s - loss: 0.0117 - accuracy: 1.0000 - 3ms/epoch - 3ms/step\n",
      "Epoch 134/200\n",
      "1/1 - 0s - loss: 0.0115 - accuracy: 1.0000 - 4ms/epoch - 4ms/step\n",
      "Epoch 135/200\n",
      "1/1 - 0s - loss: 0.0113 - accuracy: 1.0000 - 4ms/epoch - 4ms/step\n",
      "Epoch 136/200\n",
      "1/1 - 0s - loss: 0.0111 - accuracy: 1.0000 - 3ms/epoch - 3ms/step\n",
      "Epoch 137/200\n",
      "1/1 - 0s - loss: 0.0110 - accuracy: 1.0000 - 4ms/epoch - 4ms/step\n",
      "Epoch 138/200\n",
      "1/1 - 0s - loss: 0.0108 - accuracy: 1.0000 - 3ms/epoch - 3ms/step\n",
      "Epoch 139/200\n",
      "1/1 - 0s - loss: 0.0106 - accuracy: 1.0000 - 4ms/epoch - 4ms/step\n",
      "Epoch 140/200\n",
      "1/1 - 0s - loss: 0.0105 - accuracy: 1.0000 - 4ms/epoch - 4ms/step\n",
      "Epoch 141/200\n",
      "1/1 - 0s - loss: 0.0103 - accuracy: 1.0000 - 3ms/epoch - 3ms/step\n",
      "Epoch 142/200\n",
      "1/1 - 0s - loss: 0.0102 - accuracy: 1.0000 - 4ms/epoch - 4ms/step\n",
      "Epoch 143/200\n",
      "1/1 - 0s - loss: 0.0100 - accuracy: 1.0000 - 4ms/epoch - 4ms/step\n",
      "Epoch 144/200\n",
      "1/1 - 0s - loss: 0.0099 - accuracy: 1.0000 - 4ms/epoch - 4ms/step\n",
      "Epoch 145/200\n",
      "1/1 - 0s - loss: 0.0097 - accuracy: 1.0000 - 4ms/epoch - 4ms/step\n",
      "Epoch 146/200\n",
      "1/1 - 0s - loss: 0.0096 - accuracy: 1.0000 - 4ms/epoch - 4ms/step\n",
      "Epoch 147/200\n",
      "1/1 - 0s - loss: 0.0095 - accuracy: 1.0000 - 4ms/epoch - 4ms/step\n",
      "Epoch 148/200\n",
      "1/1 - 0s - loss: 0.0093 - accuracy: 1.0000 - 3ms/epoch - 3ms/step\n",
      "Epoch 149/200\n",
      "1/1 - 0s - loss: 0.0092 - accuracy: 1.0000 - 4ms/epoch - 4ms/step\n",
      "Epoch 150/200\n",
      "1/1 - 0s - loss: 0.0091 - accuracy: 1.0000 - 4ms/epoch - 4ms/step\n",
      "Epoch 151/200\n",
      "1/1 - 0s - loss: 0.0089 - accuracy: 1.0000 - 3ms/epoch - 3ms/step\n",
      "Epoch 152/200\n",
      "1/1 - 0s - loss: 0.0088 - accuracy: 1.0000 - 3ms/epoch - 3ms/step\n",
      "Epoch 153/200\n",
      "1/1 - 0s - loss: 0.0087 - accuracy: 1.0000 - 3ms/epoch - 3ms/step\n",
      "Epoch 154/200\n",
      "1/1 - 0s - loss: 0.0086 - accuracy: 1.0000 - 4ms/epoch - 4ms/step\n",
      "Epoch 155/200\n",
      "1/1 - 0s - loss: 0.0085 - accuracy: 1.0000 - 5ms/epoch - 5ms/step\n",
      "Epoch 156/200\n",
      "1/1 - 0s - loss: 0.0084 - accuracy: 1.0000 - 3ms/epoch - 3ms/step\n",
      "Epoch 157/200\n",
      "1/1 - 0s - loss: 0.0083 - accuracy: 1.0000 - 3ms/epoch - 3ms/step\n",
      "Epoch 158/200\n",
      "1/1 - 0s - loss: 0.0081 - accuracy: 1.0000 - 4ms/epoch - 4ms/step\n",
      "Epoch 159/200\n",
      "1/1 - 0s - loss: 0.0080 - accuracy: 1.0000 - 4ms/epoch - 4ms/step\n",
      "Epoch 160/200\n",
      "1/1 - 0s - loss: 0.0079 - accuracy: 1.0000 - 4ms/epoch - 4ms/step\n",
      "Epoch 161/200\n",
      "1/1 - 0s - loss: 0.0078 - accuracy: 1.0000 - 3ms/epoch - 3ms/step\n",
      "Epoch 162/200\n",
      "1/1 - 0s - loss: 0.0077 - accuracy: 1.0000 - 3ms/epoch - 3ms/step\n",
      "Epoch 163/200\n",
      "1/1 - 0s - loss: 0.0076 - accuracy: 1.0000 - 3ms/epoch - 3ms/step\n",
      "Epoch 164/200\n",
      "1/1 - 0s - loss: 0.0075 - accuracy: 1.0000 - 4ms/epoch - 4ms/step\n",
      "Epoch 165/200\n",
      "1/1 - 0s - loss: 0.0074 - accuracy: 1.0000 - 4ms/epoch - 4ms/step\n",
      "Epoch 166/200\n",
      "1/1 - 0s - loss: 0.0073 - accuracy: 1.0000 - 5ms/epoch - 5ms/step\n",
      "Epoch 167/200\n",
      "1/1 - 0s - loss: 0.0073 - accuracy: 1.0000 - 4ms/epoch - 4ms/step\n",
      "Epoch 168/200\n",
      "1/1 - 0s - loss: 0.0072 - accuracy: 1.0000 - 4ms/epoch - 4ms/step\n",
      "Epoch 169/200\n",
      "1/1 - 0s - loss: 0.0071 - accuracy: 1.0000 - 4ms/epoch - 4ms/step\n",
      "Epoch 170/200\n",
      "1/1 - 0s - loss: 0.0070 - accuracy: 1.0000 - 4ms/epoch - 4ms/step\n",
      "Epoch 171/200\n",
      "1/1 - 0s - loss: 0.0069 - accuracy: 1.0000 - 4ms/epoch - 4ms/step\n",
      "Epoch 172/200\n",
      "1/1 - 0s - loss: 0.0068 - accuracy: 1.0000 - 3ms/epoch - 3ms/step\n",
      "Epoch 173/200\n",
      "1/1 - 0s - loss: 0.0067 - accuracy: 1.0000 - 5ms/epoch - 5ms/step\n",
      "Epoch 174/200\n",
      "1/1 - 0s - loss: 0.0067 - accuracy: 1.0000 - 3ms/epoch - 3ms/step\n",
      "Epoch 175/200\n",
      "1/1 - 0s - loss: 0.0066 - accuracy: 1.0000 - 5ms/epoch - 5ms/step\n",
      "Epoch 176/200\n",
      "1/1 - 0s - loss: 0.0065 - accuracy: 1.0000 - 4ms/epoch - 4ms/step\n",
      "Epoch 177/200\n",
      "1/1 - 0s - loss: 0.0064 - accuracy: 1.0000 - 4ms/epoch - 4ms/step\n",
      "Epoch 178/200\n",
      "1/1 - 0s - loss: 0.0064 - accuracy: 1.0000 - 4ms/epoch - 4ms/step\n",
      "Epoch 179/200\n",
      "1/1 - 0s - loss: 0.0063 - accuracy: 1.0000 - 4ms/epoch - 4ms/step\n",
      "Epoch 180/200\n",
      "1/1 - 0s - loss: 0.0062 - accuracy: 1.0000 - 3ms/epoch - 3ms/step\n",
      "Epoch 181/200\n",
      "1/1 - 0s - loss: 0.0061 - accuracy: 1.0000 - 4ms/epoch - 4ms/step\n",
      "Epoch 182/200\n",
      "1/1 - 0s - loss: 0.0061 - accuracy: 1.0000 - 3ms/epoch - 3ms/step\n",
      "Epoch 183/200\n",
      "1/1 - 0s - loss: 0.0060 - accuracy: 1.0000 - 4ms/epoch - 4ms/step\n",
      "Epoch 184/200\n",
      "1/1 - 0s - loss: 0.0059 - accuracy: 1.0000 - 3ms/epoch - 3ms/step\n",
      "Epoch 185/200\n",
      "1/1 - 0s - loss: 0.0059 - accuracy: 1.0000 - 4ms/epoch - 4ms/step\n",
      "Epoch 186/200\n",
      "1/1 - 0s - loss: 0.0058 - accuracy: 1.0000 - 3ms/epoch - 3ms/step\n",
      "Epoch 187/200\n",
      "1/1 - 0s - loss: 0.0057 - accuracy: 1.0000 - 3ms/epoch - 3ms/step\n",
      "Epoch 188/200\n",
      "1/1 - 0s - loss: 0.0057 - accuracy: 1.0000 - 4ms/epoch - 4ms/step\n",
      "Epoch 189/200\n",
      "1/1 - 0s - loss: 0.0056 - accuracy: 1.0000 - 3ms/epoch - 3ms/step\n",
      "Epoch 190/200\n",
      "1/1 - 0s - loss: 0.0056 - accuracy: 1.0000 - 4ms/epoch - 4ms/step\n",
      "Epoch 191/200\n",
      "1/1 - 0s - loss: 0.0055 - accuracy: 1.0000 - 3ms/epoch - 3ms/step\n",
      "Epoch 192/200\n",
      "1/1 - 0s - loss: 0.0054 - accuracy: 1.0000 - 4ms/epoch - 4ms/step\n",
      "Epoch 193/200\n",
      "1/1 - 0s - loss: 0.0054 - accuracy: 1.0000 - 4ms/epoch - 4ms/step\n",
      "Epoch 194/200\n",
      "1/1 - 0s - loss: 0.0053 - accuracy: 1.0000 - 5ms/epoch - 5ms/step\n",
      "Epoch 195/200\n",
      "1/1 - 0s - loss: 0.0053 - accuracy: 1.0000 - 4ms/epoch - 4ms/step\n",
      "Epoch 196/200\n",
      "1/1 - 0s - loss: 0.0052 - accuracy: 1.0000 - 4ms/epoch - 4ms/step\n",
      "Epoch 197/200\n",
      "1/1 - 0s - loss: 0.0052 - accuracy: 1.0000 - 4ms/epoch - 4ms/step\n",
      "Epoch 198/200\n",
      "1/1 - 0s - loss: 0.0051 - accuracy: 1.0000 - 5ms/epoch - 5ms/step\n",
      "Epoch 199/200\n",
      "1/1 - 0s - loss: 0.0051 - accuracy: 1.0000 - 4ms/epoch - 4ms/step\n",
      "Epoch 200/200\n",
      "1/1 - 0s - loss: 0.0050 - accuracy: 1.0000 - 4ms/epoch - 4ms/step\n"
     ]
    },
    {
     "data": {
      "text/plain": [
       "<keras.src.callbacks.History at 0x1fd8a7fc710>"
      ]
     },
     "execution_count": 94,
     "metadata": {},
     "output_type": "execute_result"
    }
   ],
   "source": [
    "model.compile(loss='categorical_crossentropy', optimizer='adam', metrics=['accuracy'])\n",
    "model.fit(X, y, epochs=200, verbose=2)"
   ]
  },
  {
   "cell_type": "code",
   "execution_count": 95,
   "id": "6cc80700-db7f-4135-b786-adc85d18ba5d",
   "metadata": {},
   "outputs": [],
   "source": [
    "def sentence_generation(model, t, current_word, n ):\n",
    "    init_word = current_word\n",
    "    sentence =''\n",
    "    for _ in range(n):\n",
    "        encoded = t.texts_to_sequences([current_word])[0]\n",
    "        encoded = pad_sequences([encoded], maxlen = max_len -1 , padding= 'pre')\n",
    "        temp = model.predict(encoded)\n",
    "        result = np.argmax(temp, axis = 1)\n",
    "        for word, index in t.word_index.items():\n",
    "            if index == result:\n",
    "                break\n",
    "        current_word = current_word + \" \" +word\n",
    "        sentence = sentence + ' ' + word\n",
    "    sentence =init_word + sentence\n",
    "    return sentence"
   ]
  },
  {
   "cell_type": "code",
   "execution_count": 100,
   "id": "d1139df1-733b-465c-8a68-fbc213327c8d",
   "metadata": {},
   "outputs": [
    {
     "name": "stdout",
     "output_type": "stream",
     "text": [
      "1/1 [==============================] - 0s 15ms/step\n",
      "1/1 [==============================] - 0s 18ms/step\n",
      "1/1 [==============================] - 0s 14ms/step\n",
      "경마장에 경마장에 있다 있다\n"
     ]
    }
   ],
   "source": [
    "print(sentence_generation(model, t, \"경마장에\", 3))"
   ]
  },
  {
   "cell_type": "code",
   "execution_count": 101,
   "id": "f4cc9815-2991-4365-8a56-cb2645911d9a",
   "metadata": {},
   "outputs": [],
   "source": [
    "#LSTM을 이용하여 텍스트 생성하기"
   ]
  },
  {
   "cell_type": "code",
   "execution_count": 1,
   "id": "8b9d5459-a6cf-4faa-b5c7-28277c989f1b",
   "metadata": {},
   "outputs": [
    {
     "name": "stdout",
     "output_type": "stream",
     "text": [
      "WARNING:tensorflow:From C:\\Users\\MINJUN\\Documents\\GitHub\\Data_Baisc_Analyze\\Data_Baisc_Analyze\\.venv\\Lib\\site-packages\\keras\\src\\losses.py:2976: The name tf.losses.sparse_softmax_cross_entropy is deprecated. Please use tf.compat.v1.losses.sparse_softmax_cross_entropy instead.\n",
      "\n"
     ]
    }
   ],
   "source": [
    "import pandas as pd\n",
    "from string import punctuation\n",
    "from tensorflow.keras.preprocessing.text import Tokenizer\n",
    "from tensorflow.keras.preprocessing.sequence import pad_sequences\n",
    "import numpy as np\n",
    "from tensorflow.keras.utils import to_categorical"
   ]
  },
  {
   "cell_type": "code",
   "execution_count": 6,
   "id": "ae44823e-05eb-4e6b-b781-2d3e881184ca",
   "metadata": {
    "scrolled": true
   },
   "outputs": [
    {
     "data": {
      "text/html": [
       "<div>\n",
       "<style scoped>\n",
       "    .dataframe tbody tr th:only-of-type {\n",
       "        vertical-align: middle;\n",
       "    }\n",
       "\n",
       "    .dataframe tbody tr th {\n",
       "        vertical-align: top;\n",
       "    }\n",
       "\n",
       "    .dataframe thead th {\n",
       "        text-align: right;\n",
       "    }\n",
       "</style>\n",
       "<table border=\"1\" class=\"dataframe\">\n",
       "  <thead>\n",
       "    <tr style=\"text-align: right;\">\n",
       "      <th></th>\n",
       "      <th>articleID</th>\n",
       "      <th>articleWordCount</th>\n",
       "      <th>byline</th>\n",
       "      <th>documentType</th>\n",
       "      <th>headline</th>\n",
       "      <th>keywords</th>\n",
       "      <th>multimedia</th>\n",
       "      <th>newDesk</th>\n",
       "      <th>printPage</th>\n",
       "      <th>pubDate</th>\n",
       "      <th>sectionName</th>\n",
       "      <th>snippet</th>\n",
       "      <th>source</th>\n",
       "      <th>typeOfMaterial</th>\n",
       "      <th>webURL</th>\n",
       "    </tr>\n",
       "  </thead>\n",
       "  <tbody>\n",
       "    <tr>\n",
       "      <th>0</th>\n",
       "      <td>5adf6684068401528a2aa69b</td>\n",
       "      <td>781</td>\n",
       "      <td>By JOHN BRANCH</td>\n",
       "      <td>article</td>\n",
       "      <td>Former N.F.L. Cheerleaders’ Settlement Offer: ...</td>\n",
       "      <td>['Workplace Hazards and Violations', 'Football...</td>\n",
       "      <td>68</td>\n",
       "      <td>Sports</td>\n",
       "      <td>0</td>\n",
       "      <td>2018-04-24 17:16:49</td>\n",
       "      <td>Pro Football</td>\n",
       "      <td>“I understand that they could meet with us, pa...</td>\n",
       "      <td>The New York Times</td>\n",
       "      <td>News</td>\n",
       "      <td>https://www.nytimes.com/2018/04/24/sports/foot...</td>\n",
       "    </tr>\n",
       "    <tr>\n",
       "      <th>1</th>\n",
       "      <td>5adf653f068401528a2aa697</td>\n",
       "      <td>656</td>\n",
       "      <td>By LISA FRIEDMAN</td>\n",
       "      <td>article</td>\n",
       "      <td>E.P.A. to Unveil a New Rule. Its Effect: Less ...</td>\n",
       "      <td>['Environmental Protection Agency', 'Pruitt, S...</td>\n",
       "      <td>68</td>\n",
       "      <td>Climate</td>\n",
       "      <td>0</td>\n",
       "      <td>2018-04-24 17:11:21</td>\n",
       "      <td>Unknown</td>\n",
       "      <td>The agency plans to publish a new regulation T...</td>\n",
       "      <td>The New York Times</td>\n",
       "      <td>News</td>\n",
       "      <td>https://www.nytimes.com/2018/04/24/climate/epa...</td>\n",
       "    </tr>\n",
       "  </tbody>\n",
       "</table>\n",
       "</div>"
      ],
      "text/plain": [
       "                  articleID  articleWordCount            byline documentType  \\\n",
       "0  5adf6684068401528a2aa69b               781    By JOHN BRANCH      article   \n",
       "1  5adf653f068401528a2aa697               656  By LISA FRIEDMAN      article   \n",
       "\n",
       "                                            headline  \\\n",
       "0  Former N.F.L. Cheerleaders’ Settlement Offer: ...   \n",
       "1  E.P.A. to Unveil a New Rule. Its Effect: Less ...   \n",
       "\n",
       "                                            keywords  multimedia  newDesk  \\\n",
       "0  ['Workplace Hazards and Violations', 'Football...          68   Sports   \n",
       "1  ['Environmental Protection Agency', 'Pruitt, S...          68  Climate   \n",
       "\n",
       "   printPage              pubDate   sectionName  \\\n",
       "0          0  2018-04-24 17:16:49  Pro Football   \n",
       "1          0  2018-04-24 17:11:21       Unknown   \n",
       "\n",
       "                                             snippet              source  \\\n",
       "0  “I understand that they could meet with us, pa...  The New York Times   \n",
       "1  The agency plans to publish a new regulation T...  The New York Times   \n",
       "\n",
       "  typeOfMaterial                                             webURL  \n",
       "0           News  https://www.nytimes.com/2018/04/24/sports/foot...  \n",
       "1           News  https://www.nytimes.com/2018/04/24/climate/epa...  "
      ]
     },
     "execution_count": 6,
     "metadata": {},
     "output_type": "execute_result"
    }
   ],
   "source": [
    "df = pd.read_csv(r\"C:\\Users\\MINJUN\\Documents\\GitHub\\Data_Baisc_Analyze\\Data_Baisc_Analyze\\0627\\ArticlesApril2018.csv\")\n",
    "df.head(2)"
   ]
  },
  {
   "cell_type": "code",
   "execution_count": 9,
   "id": "9e6285ec-bfc5-4343-986d-55ab19eaa8fc",
   "metadata": {},
   "outputs": [
    {
     "data": {
      "text/plain": [
       "False"
      ]
     },
     "execution_count": 9,
     "metadata": {},
     "output_type": "execute_result"
    }
   ],
   "source": [
    "df['headline'].isnull().values.any()"
   ]
  },
  {
   "cell_type": "code",
   "execution_count": 10,
   "id": "05ea9d51-222a-47cf-9301-53fbc9454364",
   "metadata": {},
   "outputs": [
    {
     "data": {
      "text/plain": [
       "['Former N.F.L. Cheerleaders’ Settlement Offer: $1 and a Meeting With Goodell',\n",
       " 'E.P.A. to Unveil a New Rule. Its Effect: Less Science in Policymaking.',\n",
       " 'The New Noma, Explained',\n",
       " 'Unknown',\n",
       " 'Unknown']"
      ]
     },
     "execution_count": 10,
     "metadata": {},
     "output_type": "execute_result"
    }
   ],
   "source": [
    "headline  = []\n",
    "headline.extend(list(df.headline.values))\n",
    "headline[: 5]"
   ]
  },
  {
   "cell_type": "code",
   "execution_count": 12,
   "id": "f8120902-4f24-4b92-9542-151886aefd68",
   "metadata": {},
   "outputs": [
    {
     "name": "stdout",
     "output_type": "stream",
     "text": [
      "총 샘플의 개수 : 1324\n"
     ]
    }
   ],
   "source": [
    "print(\"총 샘플의 개수 : {}\".format(len(headline)))"
   ]
  },
  {
   "cell_type": "code",
   "execution_count": 14,
   "id": "38e652e7-cc67-4fc7-9aaa-d71628e68154",
   "metadata": {},
   "outputs": [
    {
     "name": "stdout",
     "output_type": "stream",
     "text": [
      "노이즈값 제거 샘플의 수 : 1214\n"
     ]
    }
   ],
   "source": [
    "headline = [n for n in headline if n != \"Unknown\"]\n",
    "print(\"노이즈값 제거 샘플의 수 : {}\".format(len(headline)) )"
   ]
  },
  {
   "cell_type": "code",
   "execution_count": 22,
   "id": "8db1af2c-8665-4e48-9d82-461ef77f1f90",
   "metadata": {},
   "outputs": [
    {
     "data": {
      "text/plain": [
       "'!\"#$%&\\'()*+,-./:;<=>?@[\\\\]^_`{|}~'"
      ]
     },
     "execution_count": 22,
     "metadata": {},
     "output_type": "execute_result"
    }
   ],
   "source": [
    "punctuation"
   ]
  },
  {
   "cell_type": "code",
   "execution_count": 21,
   "id": "67e290f3-85ed-4764-a25e-d430501ba432",
   "metadata": {},
   "outputs": [
    {
     "name": "stdout",
     "output_type": "stream",
     "text": [
      "['former nfl cheerleaders settlement offer 1 and a meeting with goodell', 'epa to unveil a new rule its effect less science in policymaking', 'the new noma explained']\n"
     ]
    }
   ],
   "source": [
    "from string import punctuation  \n",
    "\n",
    "def repreprocessing(s):\n",
    "    s = s.encode('utf8').decode('ascii', 'ignore') \n",
    "    return ''.join(c for c in s if c not in punctuation).lower()\n",
    "\n",
    "text = [repreprocessing(x) for x in headline]  # 오타 수정\n",
    "print(text[:3])\n"
   ]
  },
  {
   "cell_type": "code",
   "execution_count": 23,
   "id": "3904dc13-6c4f-4fbd-be79-e098933c308b",
   "metadata": {},
   "outputs": [
    {
     "name": "stdout",
     "output_type": "stream",
     "text": [
      "단어으이 집합 3494\n"
     ]
    }
   ],
   "source": [
    "t = Tokenizer()\n",
    "t.fit_on_texts(text)\n",
    "vocab_size = len(t.word_index) + 1\n",
    "print('단어으이 집합', vocab_size)"
   ]
  },
  {
   "cell_type": "code",
   "execution_count": 25,
   "id": "7f202de1-01d2-4f06-b2c0-852db811180e",
   "metadata": {},
   "outputs": [
    {
     "name": "stdout",
     "output_type": "stream",
     "text": [
      "[[99, 269], [99, 269, 371], [99, 269, 371, 1115], [99, 269, 371, 1115, 582], [99, 269, 371, 1115, 582, 52], [99, 269, 371, 1115, 582, 52, 7], [99, 269, 371, 1115, 582, 52, 7, 2], [99, 269, 371, 1115, 582, 52, 7, 2, 372], [99, 269, 371, 1115, 582, 52, 7, 2, 372, 10], [99, 269, 371, 1115, 582, 52, 7, 2, 372, 10, 1116], [100, 3]]\n",
      "학습에 사용할 샘플의 개수: 6\n"
     ]
    }
   ],
   "source": [
    "sequences = list()\n",
    "for line in text:\n",
    "    encoded = t.texts_to_sequences([line])[0]\n",
    "    for i in range(1, len(encoded)):\n",
    "        sequence = encoded[:i+1]\n",
    "        sequences.append(sequence)\n",
    "\n",
    "print(sequences[:11])\n",
    "print(\"학습에 사용할 샘플의 개수: %d\" % len(sequence))"
   ]
  },
  {
   "cell_type": "code",
   "execution_count": 26,
   "id": "4464d427-a309-4c61-b918-e659999facc7",
   "metadata": {},
   "outputs": [
    {
     "name": "stdout",
     "output_type": "stream",
     "text": [
      "샘플의 최대 길이: 24\n"
     ]
    }
   ],
   "source": [
    "max_len = max(len(l) for l in sequences)\n",
    "print(\"샘플의 최대 길이: {}\".format(max_len))"
   ]
  },
  {
   "cell_type": "code",
   "execution_count": 29,
   "id": "fa4447c3-bfda-4b67-af48-6f4bde68741f",
   "metadata": {},
   "outputs": [
    {
     "data": {
      "text/plain": [
       "array([[   0,    0,    0, ...,    0,   99,  269],\n",
       "       [   0,    0,    0, ...,   99,  269,  371],\n",
       "       [   0,    0,    0, ...,  269,  371, 1115],\n",
       "       ...,\n",
       "       [   0,    0,    0, ...,    8, 3493,  115],\n",
       "       [   0,    0,    0, ..., 3493,  115,    2],\n",
       "       [   0,    0,    0, ...,  115,    2, 1025]])"
      ]
     },
     "execution_count": 29,
     "metadata": {},
     "output_type": "execute_result"
    }
   ],
   "source": [
    "sequences = pad_sequences(sequences, maxlen =max_len, padding= 'pre')\n",
    "sequences"
   ]
  },
  {
   "cell_type": "code",
   "execution_count": 30,
   "id": "d6db7fe5-2bb8-40e8-8da2-078c08d8f324",
   "metadata": {},
   "outputs": [],
   "source": [
    "sequences = np.array(sequences)\n",
    "X = sequences[:, : -1]\n",
    "y = sequences[:, -1]"
   ]
  },
  {
   "cell_type": "code",
   "execution_count": 36,
   "id": "f51c9418-8478-4022-bd5e-1e4aaeaf1be4",
   "metadata": {},
   "outputs": [
    {
     "name": "stdout",
     "output_type": "stream",
     "text": [
      "WARNING:tensorflow:From C:\\Users\\MINJUN\\Documents\\GitHub\\Data_Baisc_Analyze\\Data_Baisc_Analyze\\.venv\\Lib\\site-packages\\keras\\src\\optimizers\\__init__.py:309: The name tf.train.Optimizer is deprecated. Please use tf.compat.v1.train.Optimizer instead.\n",
      "\n",
      "Model: \"sequential_2\"\n",
      "_________________________________________________________________\n",
      " Layer (type)                Output Shape              Param #   \n",
      "=================================================================\n",
      " embedding_2 (Embedding)     (None, None, 10)          34940     \n",
      "                                                                 \n",
      " lstm_2 (LSTM)               (None, 128)               71168     \n",
      "                                                                 \n",
      " dense (Dense)               (None, 3494)              450726    \n",
      "                                                                 \n",
      "=================================================================\n",
      "Total params: 556834 (2.12 MB)\n",
      "Trainable params: 556834 (2.12 MB)\n",
      "Non-trainable params: 0 (0.00 Byte)\n",
      "_________________________________________________________________\n"
     ]
    }
   ],
   "source": [
    "from tensorflow.keras.models import Sequential\n",
    "from tensorflow.keras.layers import Embedding, LSTM, Dense\n",
    "\n",
    "model = Sequential()\n",
    "model.add(Embedding(vocab_size, 10))   # 임베딩: 단어 인덱스를 10차원 벡터로 변환\n",
    "model.add(LSTM(128))                   # LSTM 셀 128개\n",
    "model.add(Dense(vocab_size, activation='softmax'))  # 다음 단어 확률 예측\n",
    "\n",
    "model.build(input_shape=(None, max_len-1))\n",
    "model.compile(loss=\"categorical_crossentropy\", optimizer='adam', metrics=['accuracy'])\n",
    "model.summary()\n"
   ]
  },
  {
   "cell_type": "code",
   "execution_count": 37,
   "id": "a9abee3b-8a7d-439a-8b5a-0eed85c1dd60",
   "metadata": {},
   "outputs": [
    {
     "name": "stdout",
     "output_type": "stream",
     "text": [
      "Epoch 1/200\n"
     ]
    },
    {
     "ename": "ValueError",
     "evalue": "in user code:\n\n    File \"C:\\Users\\MINJUN\\Documents\\GitHub\\Data_Baisc_Analyze\\Data_Baisc_Analyze\\.venv\\Lib\\site-packages\\keras\\src\\engine\\training.py\", line 1401, in train_function  *\n        return step_function(self, iterator)\n    File \"C:\\Users\\MINJUN\\Documents\\GitHub\\Data_Baisc_Analyze\\Data_Baisc_Analyze\\.venv\\Lib\\site-packages\\keras\\src\\engine\\training.py\", line 1384, in step_function  **\n        outputs = model.distribute_strategy.run(run_step, args=(data,))\n    File \"C:\\Users\\MINJUN\\Documents\\GitHub\\Data_Baisc_Analyze\\Data_Baisc_Analyze\\.venv\\Lib\\site-packages\\keras\\src\\engine\\training.py\", line 1373, in run_step  **\n        outputs = model.train_step(data)\n    File \"C:\\Users\\MINJUN\\Documents\\GitHub\\Data_Baisc_Analyze\\Data_Baisc_Analyze\\.venv\\Lib\\site-packages\\keras\\src\\engine\\training.py\", line 1151, in train_step\n        loss = self.compute_loss(x, y, y_pred, sample_weight)\n    File \"C:\\Users\\MINJUN\\Documents\\GitHub\\Data_Baisc_Analyze\\Data_Baisc_Analyze\\.venv\\Lib\\site-packages\\keras\\src\\engine\\training.py\", line 1209, in compute_loss\n        return self.compiled_loss(\n    File \"C:\\Users\\MINJUN\\Documents\\GitHub\\Data_Baisc_Analyze\\Data_Baisc_Analyze\\.venv\\Lib\\site-packages\\keras\\src\\engine\\compile_utils.py\", line 277, in __call__\n        loss_value = loss_obj(y_t, y_p, sample_weight=sw)\n    File \"C:\\Users\\MINJUN\\Documents\\GitHub\\Data_Baisc_Analyze\\Data_Baisc_Analyze\\.venv\\Lib\\site-packages\\keras\\src\\losses.py\", line 143, in __call__\n        losses = call_fn(y_true, y_pred)\n    File \"C:\\Users\\MINJUN\\Documents\\GitHub\\Data_Baisc_Analyze\\Data_Baisc_Analyze\\.venv\\Lib\\site-packages\\keras\\src\\losses.py\", line 270, in call  **\n        return ag_fn(y_true, y_pred, **self._fn_kwargs)\n    File \"C:\\Users\\MINJUN\\Documents\\GitHub\\Data_Baisc_Analyze\\Data_Baisc_Analyze\\.venv\\Lib\\site-packages\\keras\\src\\losses.py\", line 2221, in categorical_crossentropy\n        return backend.categorical_crossentropy(\n    File \"C:\\Users\\MINJUN\\Documents\\GitHub\\Data_Baisc_Analyze\\Data_Baisc_Analyze\\.venv\\Lib\\site-packages\\keras\\src\\backend.py\", line 5573, in categorical_crossentropy\n        target.shape.assert_is_compatible_with(output.shape)\n\n    ValueError: Shapes (None, 1) and (None, 3494) are incompatible\n",
     "output_type": "error",
     "traceback": [
      "\u001b[31m---------------------------------------------------------------------------\u001b[39m",
      "\u001b[31mValueError\u001b[39m                                Traceback (most recent call last)",
      "\u001b[36mCell\u001b[39m\u001b[36m \u001b[39m\u001b[32mIn[37]\u001b[39m\u001b[32m, line 1\u001b[39m\n\u001b[32m----> \u001b[39m\u001b[32m1\u001b[39m \u001b[43mmodel\u001b[49m\u001b[43m.\u001b[49m\u001b[43mfit\u001b[49m\u001b[43m(\u001b[49m\u001b[43mX\u001b[49m\u001b[43m,\u001b[49m\u001b[43m \u001b[49m\u001b[43my\u001b[49m\u001b[43m,\u001b[49m\u001b[43m \u001b[49m\u001b[43mepochs\u001b[49m\u001b[43m=\u001b[49m\u001b[32;43m200\u001b[39;49m\u001b[43m,\u001b[49m\u001b[43m \u001b[49m\u001b[43mverbose\u001b[49m\u001b[43m=\u001b[49m\u001b[32;43m2\u001b[39;49m\u001b[43m)\u001b[49m\n",
      "\u001b[36mFile \u001b[39m\u001b[32m~\\Documents\\GitHub\\Data_Baisc_Analyze\\Data_Baisc_Analyze\\.venv\\Lib\\site-packages\\keras\\src\\utils\\traceback_utils.py:70\u001b[39m, in \u001b[36mfilter_traceback.<locals>.error_handler\u001b[39m\u001b[34m(*args, **kwargs)\u001b[39m\n\u001b[32m     67\u001b[39m     filtered_tb = _process_traceback_frames(e.__traceback__)\n\u001b[32m     68\u001b[39m     \u001b[38;5;66;03m# To get the full stack trace, call:\u001b[39;00m\n\u001b[32m     69\u001b[39m     \u001b[38;5;66;03m# `tf.debugging.disable_traceback_filtering()`\u001b[39;00m\n\u001b[32m---> \u001b[39m\u001b[32m70\u001b[39m     \u001b[38;5;28;01mraise\u001b[39;00m e.with_traceback(filtered_tb) \u001b[38;5;28;01mfrom\u001b[39;00m\u001b[38;5;250m \u001b[39m\u001b[38;5;28;01mNone\u001b[39;00m\n\u001b[32m     71\u001b[39m \u001b[38;5;28;01mfinally\u001b[39;00m:\n\u001b[32m     72\u001b[39m     \u001b[38;5;28;01mdel\u001b[39;00m filtered_tb\n",
      "\u001b[36mFile \u001b[39m\u001b[32m~\\AppData\\Local\\Temp\\__autograph_generated_filehe5byfez.py:15\u001b[39m, in \u001b[36mouter_factory.<locals>.inner_factory.<locals>.tf__train_function\u001b[39m\u001b[34m(iterator)\u001b[39m\n\u001b[32m     13\u001b[39m \u001b[38;5;28;01mtry\u001b[39;00m:\n\u001b[32m     14\u001b[39m     do_return = \u001b[38;5;28;01mTrue\u001b[39;00m\n\u001b[32m---> \u001b[39m\u001b[32m15\u001b[39m     retval_ = ag__.converted_call(ag__.ld(step_function), (ag__.ld(\u001b[38;5;28mself\u001b[39m), ag__.ld(iterator)), \u001b[38;5;28;01mNone\u001b[39;00m, fscope)\n\u001b[32m     16\u001b[39m \u001b[38;5;28;01mexcept\u001b[39;00m:\n\u001b[32m     17\u001b[39m     do_return = \u001b[38;5;28;01mFalse\u001b[39;00m\n",
      "\u001b[31mValueError\u001b[39m: in user code:\n\n    File \"C:\\Users\\MINJUN\\Documents\\GitHub\\Data_Baisc_Analyze\\Data_Baisc_Analyze\\.venv\\Lib\\site-packages\\keras\\src\\engine\\training.py\", line 1401, in train_function  *\n        return step_function(self, iterator)\n    File \"C:\\Users\\MINJUN\\Documents\\GitHub\\Data_Baisc_Analyze\\Data_Baisc_Analyze\\.venv\\Lib\\site-packages\\keras\\src\\engine\\training.py\", line 1384, in step_function  **\n        outputs = model.distribute_strategy.run(run_step, args=(data,))\n    File \"C:\\Users\\MINJUN\\Documents\\GitHub\\Data_Baisc_Analyze\\Data_Baisc_Analyze\\.venv\\Lib\\site-packages\\keras\\src\\engine\\training.py\", line 1373, in run_step  **\n        outputs = model.train_step(data)\n    File \"C:\\Users\\MINJUN\\Documents\\GitHub\\Data_Baisc_Analyze\\Data_Baisc_Analyze\\.venv\\Lib\\site-packages\\keras\\src\\engine\\training.py\", line 1151, in train_step\n        loss = self.compute_loss(x, y, y_pred, sample_weight)\n    File \"C:\\Users\\MINJUN\\Documents\\GitHub\\Data_Baisc_Analyze\\Data_Baisc_Analyze\\.venv\\Lib\\site-packages\\keras\\src\\engine\\training.py\", line 1209, in compute_loss\n        return self.compiled_loss(\n    File \"C:\\Users\\MINJUN\\Documents\\GitHub\\Data_Baisc_Analyze\\Data_Baisc_Analyze\\.venv\\Lib\\site-packages\\keras\\src\\engine\\compile_utils.py\", line 277, in __call__\n        loss_value = loss_obj(y_t, y_p, sample_weight=sw)\n    File \"C:\\Users\\MINJUN\\Documents\\GitHub\\Data_Baisc_Analyze\\Data_Baisc_Analyze\\.venv\\Lib\\site-packages\\keras\\src\\losses.py\", line 143, in __call__\n        losses = call_fn(y_true, y_pred)\n    File \"C:\\Users\\MINJUN\\Documents\\GitHub\\Data_Baisc_Analyze\\Data_Baisc_Analyze\\.venv\\Lib\\site-packages\\keras\\src\\losses.py\", line 270, in call  **\n        return ag_fn(y_true, y_pred, **self._fn_kwargs)\n    File \"C:\\Users\\MINJUN\\Documents\\GitHub\\Data_Baisc_Analyze\\Data_Baisc_Analyze\\.venv\\Lib\\site-packages\\keras\\src\\losses.py\", line 2221, in categorical_crossentropy\n        return backend.categorical_crossentropy(\n    File \"C:\\Users\\MINJUN\\Documents\\GitHub\\Data_Baisc_Analyze\\Data_Baisc_Analyze\\.venv\\Lib\\site-packages\\keras\\src\\backend.py\", line 5573, in categorical_crossentropy\n        target.shape.assert_is_compatible_with(output.shape)\n\n    ValueError: Shapes (None, 1) and (None, 3494) are incompatible\n"
     ]
    }
   ],
   "source": [
    "my = sequences[:, -1]\n",
    "y = to_categorical(y, num_classes=vocab_size)\n",
    "\n",
    "model.compile(loss=\"categorical_crossentropy\", optimizer=\"adam\", metrics=[\"accuracy\"])\n",
    "model.fit(X, y, epochs=200, verbose=2)\n"
   ]
  },
  {
   "cell_type": "code",
   "execution_count": null,
   "id": "6ea13d47-22a2-4913-aa9b-261c9bf45c26",
   "metadata": {},
   "outputs": [],
   "source": []
  }
 ],
 "metadata": {
  "kernelspec": {
   "display_name": "Python 3 (ipykernel)",
   "language": "python",
   "name": "python3"
  },
  "language_info": {
   "codemirror_mode": {
    "name": "ipython",
    "version": 3
   },
   "file_extension": ".py",
   "mimetype": "text/x-python",
   "name": "python",
   "nbconvert_exporter": "python",
   "pygments_lexer": "ipython3",
   "version": "3.11.0"
  }
 },
 "nbformat": 4,
 "nbformat_minor": 5
}
