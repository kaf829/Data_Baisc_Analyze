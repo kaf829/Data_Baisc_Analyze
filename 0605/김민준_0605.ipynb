{
 "cells": [
  {
   "cell_type": "code",
   "execution_count": 1,
   "id": "9b972929-8b24-4c68-9f4e-725ca6efc939",
   "metadata": {},
   "outputs": [
    {
     "name": "stdout",
     "output_type": "stream",
     "text": [
      "테스트 정확도: 0.9435\n"
     ]
    }
   ],
   "source": [
    "import pandas as pd\n",
    "from sklearn.model_selection import train_test_split\n",
    "from sklearn.tree import DecisionTreeClassifier\n",
    "from sklearn.preprocessing import LabelEncoder\n",
    "\n",
    "fruits = pd.read_csv('./fruits.csv')\n",
    "\n",
    "X = fruits[['diameter', 'weight', 'red', 'green', 'blue']]\n",
    "y = fruits['name']\n",
    "\n",
    "le = LabelEncoder()\n",
    "y_encoded = le.fit_transform(y)\n",
    "\n",
    "X_train, X_test, y_train, y_test = train_test_split(\n",
    "    X, y_encoded, test_size=0.2, random_state=42\n",
    ")\n",
    "\n",
    "clf = DecisionTreeClassifier(random_state=42)\n",
    "clf.fit(X_train, y_train)\n",
    "\n",
    "accuracy = clf.score(X_test, y_test)\n",
    "print(\"테스트 정확도:\", accuracy)\n"
   ]
  },
  {
   "cell_type": "code",
   "execution_count": 3,
   "id": "c5b3da6f-6ae9-4e8b-b8b1-70b0f5b6e118",
   "metadata": {},
   "outputs": [
    {
     "name": "stdout",
     "output_type": "stream",
     "text": [
      "하이퍼 파라미터: {'criterion': 'entropy', 'max_depth': 18, 'max_leaf_nodes': None, 'min_samples_leaf': 1, 'min_samples_split': 6, 'splitter': 'best'}\n",
      "정확도 :   0.95\n"
     ]
    }
   ],
   "source": [
    "from sklearn.model_selection import GridSearchCV\n",
    "\n",
    "param_grid = {\n",
    "    'max_depth': [10, 12, 14, 16, 18],\n",
    "    'min_samples_leaf': [1, 2, 3, 4],\n",
    "    'min_samples_split': [2, 4, 6, 8, 10],\n",
    "    'max_leaf_nodes': [None, 20, 30, 40],\n",
    "    'criterion': ['gini', 'entropy'],\n",
    "    'splitter': ['best']\n",
    "}\n",
    "\n",
    "grid_search = GridSearchCV(clf, param_grid, cv=10)\n",
    "grid_search.fit(X_train, y_train)\n",
    "\n",
    "print(\"하이퍼 파라미터:\", grid_search.best_params_)\n",
    "score = grid_search.score(X_test, y_test)\n",
    "print(\"정확도 :  \", score)"
   ]
  },
  {
   "cell_type": "code",
   "execution_count": null,
   "id": "f748b21a-6399-498b-b803-abde99d602d6",
   "metadata": {},
   "outputs": [],
   "source": []
  }
 ],
 "metadata": {
  "kernelspec": {
   "display_name": "Python 3 (ipykernel)",
   "language": "python",
   "name": "python3"
  },
  "language_info": {
   "codemirror_mode": {
    "name": "ipython",
    "version": 3
   },
   "file_extension": ".py",
   "mimetype": "text/x-python",
   "name": "python",
   "nbconvert_exporter": "python",
   "pygments_lexer": "ipython3",
   "version": "3.11.0"
  }
 },
 "nbformat": 4,
 "nbformat_minor": 5
}
