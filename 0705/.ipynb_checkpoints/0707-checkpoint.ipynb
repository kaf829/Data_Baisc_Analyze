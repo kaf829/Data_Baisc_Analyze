{
 "cells": [
  {
   "cell_type": "code",
   "execution_count": 2,
   "id": "f969f869-f1c4-4bf8-a502-806f5cf24fe9",
   "metadata": {},
   "outputs": [],
   "source": [
    "from konlpy.tag import Okt\n",
    "\n",
    "okt = Okt()"
   ]
  },
  {
   "cell_type": "code",
   "execution_count": 3,
   "id": "1494b3bd-8381-4816-85fc-09b72dec90e2",
   "metadata": {},
   "outputs": [],
   "source": [
    "from konlpy.tag import Okt\n",
    "\n",
    "okt = Okt()\n",
    "\n",
    "def build_bag_of_words(document):\n",
    "  document = document.replace('.', '')\n",
    "  tokenized_document = okt.morphs(document)\n",
    "\n",
    "  word_to_index = {}\n",
    "  bow = []\n",
    "\n",
    "  for word in tokenized_document:  \n",
    "    if word not in word_to_index.keys():\n",
    "      word_to_index[word] = len(word_to_index)  \n",
    "      bow.insert(len(word_to_index) - 1, 1)\n",
    "    else:\n",
    "      index = word_to_index.get(word)\n",
    "      bow[index] = bow[index] + 1\n",
    "\n",
    "  return word_to_index, bow\n"
   ]
  },
  {
   "cell_type": "code",
   "execution_count": 4,
   "id": "97dec275-2b72-4fc3-9840-bfc43524338a",
   "metadata": {},
   "outputs": [
    {
     "name": "stdout",
     "output_type": "stream",
     "text": [
      "vocabulary : {'정부': 0, '가': 1, '발표': 2, '하는': 3, '물가상승률': 4, '과': 5, '소비자': 6, '느끼는': 7, '은': 8, '다르다': 9}\n",
      "bag of words vector : [1, 2, 1, 1, 2, 1, 1, 1, 1, 1]\n"
     ]
    }
   ],
   "source": [
    "doc1 = \"정부가 발표하는 물가상승률과 소비자가 느끼는 물가상승률은 다르다.\"\n",
    "vocab, bow = build_bag_of_words(doc1)\n",
    "print('vocabulary :', vocab)\n",
    "print('bag of words vector :', bow)\n"
   ]
  },
  {
   "cell_type": "code",
   "execution_count": 5,
   "id": "49af8c05-a1a0-4e42-8586-de1438d1f669",
   "metadata": {},
   "outputs": [
    {
     "name": "stdout",
     "output_type": "stream",
     "text": [
      "bag of words vector: [[1 1 2 1 2 1]]\n",
      "{'you': 4, 'know': 1, 'want': 3, 'your': 5, 'love': 2, 'because': 0}\n"
     ]
    }
   ],
   "source": [
    "from sklearn.feature_extraction.text import CountVectorizer\n",
    "\n",
    "corpus = ['you know I want your love. because I love you']\n",
    "vector = CountVectorizer()\n",
    "\n",
    "print('bag of words vector:', vector.fit_transform(corpus).toarray())\n",
    "print(vector.vocabulary_)"
   ]
  },
  {
   "cell_type": "code",
   "execution_count": 6,
   "id": "166d76b0-18b8-4c30-939f-fbf6c386fa60",
   "metadata": {},
   "outputs": [
    {
     "name": "stdout",
     "output_type": "stream",
     "text": [
      "bag of words vector : [[1 1 2 1 2 1]]\n",
      "vocabulary : {'you': 4, 'know': 1, 'want': 3, 'your': 5, 'love': 2, 'because': 0}\n"
     ]
    }
   ],
   "source": [
    "from sklearn.feature_extraction.text import CountVectorizer\n",
    "\n",
    "corpus = ['you know I want your love. because I love you.']\n",
    "vector = CountVectorizer()\n",
    "\n",
    "# 코퍼스로부터 각 단어의 빈도수를 기록\n",
    "print('bag of words vector :', vector.fit_transform(corpus).toarray()) \n",
    "\n",
    "# 각 단어의 인덱스가 어떻게 부여되었는지를 출력\n",
    "print('vocabulary :',vector.vocabulary_)"
   ]
  },
  {
   "cell_type": "code",
   "execution_count": 17,
   "id": "fc63ff41-57e9-45a9-94cc-f153fd71b419",
   "metadata": {},
   "outputs": [
    {
     "data": {
      "text/plain": [
       "{'this': 9,\n",
       " 'is': 3,\n",
       " 'the': 7,\n",
       " 'first': 2,\n",
       " 'document': 1,\n",
       " 'second': 6,\n",
       " 'and': 0,\n",
       " 'third': 8,\n",
       " 'one': 5,\n",
       " 'last': 4}"
      ]
     },
     "execution_count": 17,
     "metadata": {},
     "output_type": "execute_result"
    }
   ],
   "source": [
    "from sklearn.feature_extraction.text import CountVectorizer\n",
    "corpus = [\n",
    "    'This is the first document.',\n",
    "    'This is the second second document.',\n",
    "    'And the third one.',\n",
    "    'Is this the first document?',\n",
    "    'The last document?',\n",
    "]\n",
    "vect = CountVectorizer()\n",
    "vect.fit(corpus)\n",
    "vect.vocabulary_"
   ]
  },
  {
   "cell_type": "code",
   "execution_count": 18,
   "id": "b9a1a0a5-e067-47c9-a31c-4e18daa2ff2e",
   "metadata": {},
   "outputs": [
    {
     "data": {
      "text/plain": [
       "array([[0, 1, 1, 1, 0, 0, 0, 0, 1, 1, 0, 0, 0],\n",
       "       [0, 1, 0, 1, 0, 0, 0, 2, 1, 1, 0, 0, 0],\n",
       "       [0, 0, 0, 0, 0, 0, 0, 0, 1, 0, 0, 0, 0],\n",
       "       [0, 1, 1, 1, 0, 0, 0, 0, 1, 1, 0, 0, 0],\n",
       "       [0, 1, 0, 0, 0, 1, 0, 0, 1, 0, 0, 0, 0]], dtype=int64)"
      ]
     },
     "execution_count": 18,
     "metadata": {},
     "output_type": "execute_result"
    }
   ],
   "source": [
    "vector.transform(corpus).toarray()"
   ]
  },
  {
   "cell_type": "code",
   "execution_count": 19,
   "id": "803d9d72-03ca-483e-a64a-3d41979a774a",
   "metadata": {},
   "outputs": [
    {
     "data": {
      "text/plain": [
       "{'t': 16,\n",
       " 'h': 8,\n",
       " 'i': 9,\n",
       " 's': 15,\n",
       " ' ': 0,\n",
       " 'e': 6,\n",
       " 'f': 7,\n",
       " 'r': 14,\n",
       " 'd': 5,\n",
       " 'o': 13,\n",
       " 'c': 4,\n",
       " 'u': 17,\n",
       " 'm': 11,\n",
       " 'n': 12,\n",
       " '.': 1,\n",
       " 'a': 3,\n",
       " '?': 2,\n",
       " 'l': 10}"
      ]
     },
     "execution_count": 19,
     "metadata": {},
     "output_type": "execute_result"
    }
   ],
   "source": [
    "vect = CountVectorizer(analyzer = \"char\").fit(corpus)\n",
    "vect.vocabulary_"
   ]
  },
  {
   "cell_type": "code",
   "execution_count": 21,
   "id": "1f09e908-d47c-4a0b-9ec3-a5dcc8101db7",
   "metadata": {},
   "outputs": [
    {
     "data": {
      "text/plain": [
       "{'this': 2, 'the': 0, 'third': 1}"
      ]
     },
     "execution_count": 21,
     "metadata": {},
     "output_type": "execute_result"
    }
   ],
   "source": [
    "vect = CountVectorizer(token_pattern=\"t\\w+\").fit(corpus)\n",
    "vect.vocabulary_"
   ]
  },
  {
   "cell_type": "code",
   "execution_count": 22,
   "id": "72b82070-9dc6-4ae2-9891-ab9b88dd698b",
   "metadata": {},
   "outputs": [
    {
     "data": {
      "text/plain": [
       "{'this is': 12,\n",
       " 'is the': 2,\n",
       " 'the first': 7,\n",
       " 'first document': 1,\n",
       " 'the second': 9,\n",
       " 'second second': 6,\n",
       " 'second document': 5,\n",
       " 'and the': 0,\n",
       " 'the third': 10,\n",
       " 'third one': 11,\n",
       " 'is this': 3,\n",
       " 'this the': 13,\n",
       " 'the last': 8,\n",
       " 'last document': 4}"
      ]
     },
     "execution_count": 22,
     "metadata": {},
     "output_type": "execute_result"
    }
   ],
   "source": [
    "import nltk\n",
    "\n",
    "vect = CountVectorizer(ngram_range = (2,2)).fit(corpus)\n",
    "vect.vocabulary_"
   ]
  },
  {
   "cell_type": "code",
   "execution_count": 23,
   "id": "f88cb845-62ca-4c8b-87f6-8580d676a4cd",
   "metadata": {},
   "outputs": [
    {
     "data": {
      "text/plain": [
       "{'this the': 1, 'the third': 0}"
      ]
     },
     "execution_count": 23,
     "metadata": {},
     "output_type": "execute_result"
    }
   ],
   "source": [
    "import nltk\n",
    "\n",
    "vect = CountVectorizer(ngram_range = (2,2),token_pattern=\"t\\w+\").fit(corpus)\n",
    "vect.vocabulary_"
   ]
  },
  {
   "cell_type": "code",
   "execution_count": 25,
   "id": "b66daa9c-c9af-4c10-93a7-3f5931e969c2",
   "metadata": {},
   "outputs": [
    {
     "data": {
      "text/plain": [
       "{'this': 3, 'is': 2, 'first': 1, 'document': 0}"
      ]
     },
     "execution_count": 25,
     "metadata": {},
     "output_type": "execute_result"
    }
   ],
   "source": [
    "import nltk\n",
    "\n",
    "vect = CountVectorizer(max_df=4,min_df = 2).fit(corpus)\n",
    "vect.vocabulary_"
   ]
  },
  {
   "cell_type": "code",
   "execution_count": 27,
   "id": "6740d088-5db7-4827-96a2-c15b9a717f9f",
   "metadata": {},
   "outputs": [
    {
     "data": {
      "text/plain": [
       "array([4, 2, 3, 3], dtype=int64)"
      ]
     },
     "execution_count": 27,
     "metadata": {},
     "output_type": "execute_result"
    }
   ],
   "source": [
    "vect.transform(corpus).toarray().sum(axis = 0)"
   ]
  },
  {
   "cell_type": "code",
   "execution_count": 28,
   "id": "c198928e-0408-45c8-a433-6c2f7853af46",
   "metadata": {},
   "outputs": [],
   "source": [
    "import pandas as pd # 데이터프레임 사용을 위해\n",
    "from math import log # IDF 계산을 위해\n",
    "\n",
    "docs = [\n",
    "  '먹고 싶은 사과',\n",
    "  '먹고 싶은 바나나',\n",
    "  '길고 노란 바나나 바나나',\n",
    "  '저는 과일이 좋아요'\n",
    "] \n",
    "vocab = list(set(w for doc in docs for w in doc.split()))\n",
    "vocab.sort()\n"
   ]
  },
  {
   "cell_type": "code",
   "execution_count": 29,
   "id": "41d09d0a-fd99-40b3-b864-a52a0d4d059e",
   "metadata": {},
   "outputs": [
    {
     "name": "stdout",
     "output_type": "stream",
     "text": [
      "['과일이', '길고', '노란', '먹고', '바나나', '사과', '싶은', '저는', '좋아요']\n"
     ]
    }
   ],
   "source": [
    "print(vocab)"
   ]
  },
  {
   "cell_type": "code",
   "execution_count": 30,
   "id": "a21b8793-27de-44f5-b868-7f0d1af1301e",
   "metadata": {},
   "outputs": [],
   "source": [
    "\n",
    "N = len(docs) \n",
    "\n",
    "def tf(t, d):\n",
    "  return d.count(t)\n",
    "\n",
    "def idf(t):\n",
    "  df = 0\n",
    "  for doc in docs:\n",
    "    df += t in doc\n",
    "  return log(N/(df+1))\n",
    "\n",
    "def tfidf(t, d):\n",
    "  return tf(t,d)* idf(t)\n"
   ]
  },
  {
   "cell_type": "code",
   "execution_count": 36,
   "id": "2ddfd6f5-f0b4-4895-94ac-59c0b7e453dc",
   "metadata": {},
   "outputs": [],
   "source": [
    "result = []\n",
    "\n",
    "# 각 문서에 대해서 아래 연산을 반복\n",
    "for i in range(N):\n",
    "  result.append([])\n",
    "  d = docs[i]\n",
    "  for j in range(len(vocab)):\n",
    "    t = vocab[j]\n",
    "    result[-1].append(tf(t, d))\n",
    "\n",
    "tf_ = pd.DataFrame(result, columns = vocab)\n",
    "\n"
   ]
  },
  {
   "cell_type": "code",
   "execution_count": 32,
   "id": "5a7b3511-a943-40c1-b544-d66236eeb1c4",
   "metadata": {},
   "outputs": [
    {
     "data": {
      "text/html": [
       "<div>\n",
       "<style scoped>\n",
       "    .dataframe tbody tr th:only-of-type {\n",
       "        vertical-align: middle;\n",
       "    }\n",
       "\n",
       "    .dataframe tbody tr th {\n",
       "        vertical-align: top;\n",
       "    }\n",
       "\n",
       "    .dataframe thead th {\n",
       "        text-align: right;\n",
       "    }\n",
       "</style>\n",
       "<table border=\"1\" class=\"dataframe\">\n",
       "  <thead>\n",
       "    <tr style=\"text-align: right;\">\n",
       "      <th></th>\n",
       "      <th>과일이</th>\n",
       "      <th>길고</th>\n",
       "      <th>노란</th>\n",
       "      <th>먹고</th>\n",
       "      <th>바나나</th>\n",
       "      <th>사과</th>\n",
       "      <th>싶은</th>\n",
       "      <th>저는</th>\n",
       "      <th>좋아요</th>\n",
       "    </tr>\n",
       "  </thead>\n",
       "  <tbody>\n",
       "    <tr>\n",
       "      <th>0</th>\n",
       "      <td>0</td>\n",
       "      <td>0</td>\n",
       "      <td>0</td>\n",
       "      <td>1</td>\n",
       "      <td>0</td>\n",
       "      <td>1</td>\n",
       "      <td>1</td>\n",
       "      <td>0</td>\n",
       "      <td>0</td>\n",
       "    </tr>\n",
       "    <tr>\n",
       "      <th>1</th>\n",
       "      <td>0</td>\n",
       "      <td>0</td>\n",
       "      <td>0</td>\n",
       "      <td>1</td>\n",
       "      <td>1</td>\n",
       "      <td>0</td>\n",
       "      <td>1</td>\n",
       "      <td>0</td>\n",
       "      <td>0</td>\n",
       "    </tr>\n",
       "    <tr>\n",
       "      <th>2</th>\n",
       "      <td>0</td>\n",
       "      <td>1</td>\n",
       "      <td>1</td>\n",
       "      <td>0</td>\n",
       "      <td>2</td>\n",
       "      <td>0</td>\n",
       "      <td>0</td>\n",
       "      <td>0</td>\n",
       "      <td>0</td>\n",
       "    </tr>\n",
       "    <tr>\n",
       "      <th>3</th>\n",
       "      <td>1</td>\n",
       "      <td>0</td>\n",
       "      <td>0</td>\n",
       "      <td>0</td>\n",
       "      <td>0</td>\n",
       "      <td>0</td>\n",
       "      <td>0</td>\n",
       "      <td>1</td>\n",
       "      <td>1</td>\n",
       "    </tr>\n",
       "  </tbody>\n",
       "</table>\n",
       "</div>"
      ],
      "text/plain": [
       "   과일이  길고  노란  먹고  바나나  사과  싶은  저는  좋아요\n",
       "0    0   0   0   1    0   1   1   0    0\n",
       "1    0   0   0   1    1   0   1   0    0\n",
       "2    0   1   1   0    2   0   0   0    0\n",
       "3    1   0   0   0    0   0   0   1    1"
      ]
     },
     "execution_count": 32,
     "metadata": {},
     "output_type": "execute_result"
    }
   ],
   "source": [
    "tf_"
   ]
  },
  {
   "cell_type": "code",
   "execution_count": 37,
   "id": "9f56f33d-dc93-4d1e-8ab9-ddd0364a0aa0",
   "metadata": {},
   "outputs": [
    {
     "data": {
      "text/html": [
       "<div>\n",
       "<style scoped>\n",
       "    .dataframe tbody tr th:only-of-type {\n",
       "        vertical-align: middle;\n",
       "    }\n",
       "\n",
       "    .dataframe tbody tr th {\n",
       "        vertical-align: top;\n",
       "    }\n",
       "\n",
       "    .dataframe thead th {\n",
       "        text-align: right;\n",
       "    }\n",
       "</style>\n",
       "<table border=\"1\" class=\"dataframe\">\n",
       "  <thead>\n",
       "    <tr style=\"text-align: right;\">\n",
       "      <th></th>\n",
       "      <th>IDF</th>\n",
       "    </tr>\n",
       "  </thead>\n",
       "  <tbody>\n",
       "    <tr>\n",
       "      <th>과일이</th>\n",
       "      <td>0.693147</td>\n",
       "    </tr>\n",
       "    <tr>\n",
       "      <th>길고</th>\n",
       "      <td>0.693147</td>\n",
       "    </tr>\n",
       "    <tr>\n",
       "      <th>노란</th>\n",
       "      <td>0.693147</td>\n",
       "    </tr>\n",
       "    <tr>\n",
       "      <th>먹고</th>\n",
       "      <td>0.287682</td>\n",
       "    </tr>\n",
       "    <tr>\n",
       "      <th>바나나</th>\n",
       "      <td>0.287682</td>\n",
       "    </tr>\n",
       "    <tr>\n",
       "      <th>사과</th>\n",
       "      <td>0.693147</td>\n",
       "    </tr>\n",
       "    <tr>\n",
       "      <th>싶은</th>\n",
       "      <td>0.287682</td>\n",
       "    </tr>\n",
       "    <tr>\n",
       "      <th>저는</th>\n",
       "      <td>0.693147</td>\n",
       "    </tr>\n",
       "    <tr>\n",
       "      <th>좋아요</th>\n",
       "      <td>0.693147</td>\n",
       "    </tr>\n",
       "  </tbody>\n",
       "</table>\n",
       "</div>"
      ],
      "text/plain": [
       "          IDF\n",
       "과일이  0.693147\n",
       "길고   0.693147\n",
       "노란   0.693147\n",
       "먹고   0.287682\n",
       "바나나  0.287682\n",
       "사과   0.693147\n",
       "싶은   0.287682\n",
       "저는   0.693147\n",
       "좋아요  0.693147"
      ]
     },
     "execution_count": 37,
     "metadata": {},
     "output_type": "execute_result"
    }
   ],
   "source": [
    "result = []\n",
    "for j in range(len(vocab)):\n",
    "    t = vocab[j]\n",
    "    result.append(idf(t))\n",
    "\n",
    "idf_ = pd.DataFrame(result, index=vocab, columns=[\"IDF\"])\n",
    "idf_\n"
   ]
  },
  {
   "cell_type": "code",
   "execution_count": 38,
   "id": "47a2e547-8c9a-4571-b79d-26b93a6020ab",
   "metadata": {},
   "outputs": [
    {
     "data": {
      "text/html": [
       "<div>\n",
       "<style scoped>\n",
       "    .dataframe tbody tr th:only-of-type {\n",
       "        vertical-align: middle;\n",
       "    }\n",
       "\n",
       "    .dataframe tbody tr th {\n",
       "        vertical-align: top;\n",
       "    }\n",
       "\n",
       "    .dataframe thead th {\n",
       "        text-align: right;\n",
       "    }\n",
       "</style>\n",
       "<table border=\"1\" class=\"dataframe\">\n",
       "  <thead>\n",
       "    <tr style=\"text-align: right;\">\n",
       "      <th></th>\n",
       "      <th>과일이</th>\n",
       "      <th>길고</th>\n",
       "      <th>노란</th>\n",
       "      <th>먹고</th>\n",
       "      <th>바나나</th>\n",
       "      <th>사과</th>\n",
       "      <th>싶은</th>\n",
       "      <th>저는</th>\n",
       "      <th>좋아요</th>\n",
       "    </tr>\n",
       "  </thead>\n",
       "  <tbody>\n",
       "    <tr>\n",
       "      <th>0</th>\n",
       "      <td>0.000000</td>\n",
       "      <td>0.000000</td>\n",
       "      <td>0.000000</td>\n",
       "      <td>0.287682</td>\n",
       "      <td>0.000000</td>\n",
       "      <td>0.693147</td>\n",
       "      <td>0.287682</td>\n",
       "      <td>0.000000</td>\n",
       "      <td>0.000000</td>\n",
       "    </tr>\n",
       "    <tr>\n",
       "      <th>1</th>\n",
       "      <td>0.000000</td>\n",
       "      <td>0.000000</td>\n",
       "      <td>0.000000</td>\n",
       "      <td>0.287682</td>\n",
       "      <td>0.287682</td>\n",
       "      <td>0.000000</td>\n",
       "      <td>0.287682</td>\n",
       "      <td>0.000000</td>\n",
       "      <td>0.000000</td>\n",
       "    </tr>\n",
       "    <tr>\n",
       "      <th>2</th>\n",
       "      <td>0.000000</td>\n",
       "      <td>0.693147</td>\n",
       "      <td>0.693147</td>\n",
       "      <td>0.000000</td>\n",
       "      <td>0.575364</td>\n",
       "      <td>0.000000</td>\n",
       "      <td>0.000000</td>\n",
       "      <td>0.000000</td>\n",
       "      <td>0.000000</td>\n",
       "    </tr>\n",
       "    <tr>\n",
       "      <th>3</th>\n",
       "      <td>0.693147</td>\n",
       "      <td>0.000000</td>\n",
       "      <td>0.000000</td>\n",
       "      <td>0.000000</td>\n",
       "      <td>0.000000</td>\n",
       "      <td>0.000000</td>\n",
       "      <td>0.000000</td>\n",
       "      <td>0.693147</td>\n",
       "      <td>0.693147</td>\n",
       "    </tr>\n",
       "  </tbody>\n",
       "</table>\n",
       "</div>"
      ],
      "text/plain": [
       "        과일이        길고        노란        먹고       바나나        사과        싶은        저는       좋아요\n",
       "0  0.000000  0.000000  0.000000  0.287682  0.000000  0.693147  0.287682  0.000000  0.000000\n",
       "1  0.000000  0.000000  0.000000  0.287682  0.287682  0.000000  0.287682  0.000000  0.000000\n",
       "2  0.000000  0.693147  0.693147  0.000000  0.575364  0.000000  0.000000  0.000000  0.000000\n",
       "3  0.693147  0.000000  0.000000  0.000000  0.000000  0.000000  0.000000  0.693147  0.693147"
      ]
     },
     "execution_count": 38,
     "metadata": {},
     "output_type": "execute_result"
    }
   ],
   "source": [
    "result = []\n",
    "for i in range(N):\n",
    "  result.append([])\n",
    "  d = docs[i]\n",
    "  for j in range(len(vocab)):\n",
    "    t = vocab[j]\n",
    "    result[-1].append(tfidf(t,d))\n",
    "\n",
    "tfidf_ = pd.DataFrame(result, columns = vocab)\n",
    "tfidf_\n"
   ]
  },
  {
   "cell_type": "code",
   "execution_count": 40,
   "id": "13d572ea-99af-4d78-94ab-4215ecec16a1",
   "metadata": {},
   "outputs": [
    {
     "name": "stdout",
     "output_type": "stream",
     "text": [
      "[[0 1 0 1 0 1 0 1 1]\n",
      " [0 0 1 0 0 0 0 1 0]\n",
      " [1 0 0 0 1 0 1 0 0]]\n",
      "{'you': 7, 'know': 1, 'want': 5, 'your': 8, 'love': 3, 'like': 2, 'what': 6, 'should': 4, 'do': 0}\n"
     ]
    }
   ],
   "source": [
    "from sklearn.feature_extraction.text import CountVectorizer\n",
    "\n",
    "corpus = ['you know I want your love',\n",
    "          'I like you',\n",
    "          'what should I do'\n",
    "         ]\n",
    "\n",
    "vector = CountVectorizer()\n",
    "print(vector.fit_transform(corpus).toarray())\n",
    "print(vector.vocabulary_)"
   ]
  },
  {
   "cell_type": "code",
   "execution_count": 41,
   "id": "271b34ef-3499-4cca-b1b7-f75aaf8e78f5",
   "metadata": {},
   "outputs": [
    {
     "name": "stdout",
     "output_type": "stream",
     "text": [
      "[[0.         0.46735098 0.         0.46735098 0.         0.46735098\n",
      "  0.         0.35543247 0.46735098]\n",
      " [0.         0.         0.79596054 0.         0.         0.\n",
      "  0.         0.60534851 0.        ]\n",
      " [0.57735027 0.         0.         0.         0.57735027 0.\n",
      "  0.57735027 0.         0.        ]]\n",
      "{'you': 7, 'know': 1, 'want': 5, 'your': 8, 'love': 3, 'like': 2, 'what': 6, 'should': 4, 'do': 0}\n"
     ]
    }
   ],
   "source": [
    "from sklearn.feature_extraction.text import TfidfVectorizer\n",
    "\n",
    "corpus = [\n",
    "    'you know I want your love',\n",
    "    'I like you',\n",
    "    'what should I do ',    \n",
    "]\n",
    "\n",
    "tfidfv = TfidfVectorizer().fit(corpus)\n",
    "print(tfidfv.transform(corpus).toarray())\n",
    "print(tfidfv.vocabulary_)\n"
   ]
  },
  {
   "cell_type": "code",
   "execution_count": 42,
   "id": "e0db6590-fa9a-4568-8428-a94c8ddc46fe",
   "metadata": {},
   "outputs": [
    {
     "name": "stdout",
     "output_type": "stream",
     "text": [
      "0.6666666666666667\n",
      "0.6666666666666667\n",
      "1.0000000000000002\n"
     ]
    }
   ],
   "source": [
    "import numpy as np\n",
    "from numpy import dot\n",
    "from numpy.linalg import norm\n",
    "\n",
    "def cos_sim(A,B):\n",
    "    return dot(A,B) / (norm(A)* norm(B))\n",
    "\n",
    "doc1 = np.array([0,1,1,1])\n",
    "doc2 = np.array([1,0,1,1])\n",
    "doc3 = np.array([2,0,2,2])\n",
    "\n",
    "print(cos_sim(doc1, doc2))\n",
    "print(cos_sim(doc1, doc3))\n",
    "print(cos_sim(doc2, doc3))\n"
   ]
  },
  {
   "cell_type": "code",
   "execution_count": 44,
   "id": "409b56dc-9902-4a4b-807f-38b865db7ec5",
   "metadata": {},
   "outputs": [],
   "source": [
    "# 코사인 유사도"
   ]
  },
  {
   "cell_type": "code",
   "execution_count": 45,
   "id": "b80c2167-d7cf-4352-9e96-3360f2c6447d",
   "metadata": {},
   "outputs": [
    {
     "data": {
      "text/html": [
       "<div>\n",
       "<style scoped>\n",
       "    .dataframe tbody tr th:only-of-type {\n",
       "        vertical-align: middle;\n",
       "    }\n",
       "\n",
       "    .dataframe tbody tr th {\n",
       "        vertical-align: top;\n",
       "    }\n",
       "\n",
       "    .dataframe thead th {\n",
       "        text-align: right;\n",
       "    }\n",
       "</style>\n",
       "<table border=\"1\" class=\"dataframe\">\n",
       "  <thead>\n",
       "    <tr style=\"text-align: right;\">\n",
       "      <th></th>\n",
       "      <th>adult</th>\n",
       "      <th>belongs_to_collection</th>\n",
       "      <th>budget</th>\n",
       "      <th>genres</th>\n",
       "      <th>homepage</th>\n",
       "      <th>id</th>\n",
       "      <th>imdb_id</th>\n",
       "      <th>original_language</th>\n",
       "      <th>original_title</th>\n",
       "      <th>overview</th>\n",
       "      <th>popularity</th>\n",
       "      <th>poster_path</th>\n",
       "      <th>production_companies</th>\n",
       "      <th>production_countries</th>\n",
       "      <th>release_date</th>\n",
       "      <th>revenue</th>\n",
       "      <th>runtime</th>\n",
       "      <th>spoken_languages</th>\n",
       "      <th>status</th>\n",
       "      <th>tagline</th>\n",
       "      <th>title</th>\n",
       "      <th>video</th>\n",
       "      <th>vote_average</th>\n",
       "      <th>vote_count</th>\n",
       "    </tr>\n",
       "  </thead>\n",
       "  <tbody>\n",
       "    <tr>\n",
       "      <th>0</th>\n",
       "      <td>False</td>\n",
       "      <td>{'id': 10194, 'name': 'Toy Story Collection', ...</td>\n",
       "      <td>30000000</td>\n",
       "      <td>[{'id': 16, 'name': 'Animation'}, {'id': 35, '...</td>\n",
       "      <td>http://toystory.disney.com/toy-story</td>\n",
       "      <td>862</td>\n",
       "      <td>tt0114709</td>\n",
       "      <td>en</td>\n",
       "      <td>Toy Story</td>\n",
       "      <td>Led by Woody, Andy's toys live happily in his ...</td>\n",
       "      <td>21.946943</td>\n",
       "      <td>/rhIRbceoE9lR4veEXuwCC2wARtG.jpg</td>\n",
       "      <td>[{'name': 'Pixar Animation Studios', 'id': 3}]</td>\n",
       "      <td>[{'iso_3166_1': 'US', 'name': 'United States o...</td>\n",
       "      <td>1995-10-30</td>\n",
       "      <td>373554033.0</td>\n",
       "      <td>81.0</td>\n",
       "      <td>[{'iso_639_1': 'en', 'name': 'English'}]</td>\n",
       "      <td>Released</td>\n",
       "      <td>NaN</td>\n",
       "      <td>Toy Story</td>\n",
       "      <td>False</td>\n",
       "      <td>7.7</td>\n",
       "      <td>5415.0</td>\n",
       "    </tr>\n",
       "    <tr>\n",
       "      <th>1</th>\n",
       "      <td>False</td>\n",
       "      <td>NaN</td>\n",
       "      <td>65000000</td>\n",
       "      <td>[{'id': 12, 'name': 'Adventure'}, {'id': 14, '...</td>\n",
       "      <td>NaN</td>\n",
       "      <td>8844</td>\n",
       "      <td>tt0113497</td>\n",
       "      <td>en</td>\n",
       "      <td>Jumanji</td>\n",
       "      <td>When siblings Judy and Peter discover an encha...</td>\n",
       "      <td>17.015539</td>\n",
       "      <td>/vzmL6fP7aPKNKPRTFnZmiUfciyV.jpg</td>\n",
       "      <td>[{'name': 'TriStar Pictures', 'id': 559}, {'na...</td>\n",
       "      <td>[{'iso_3166_1': 'US', 'name': 'United States o...</td>\n",
       "      <td>1995-12-15</td>\n",
       "      <td>262797249.0</td>\n",
       "      <td>104.0</td>\n",
       "      <td>[{'iso_639_1': 'en', 'name': 'English'}, {'iso...</td>\n",
       "      <td>Released</td>\n",
       "      <td>Roll the dice and unleash the excitement!</td>\n",
       "      <td>Jumanji</td>\n",
       "      <td>False</td>\n",
       "      <td>6.9</td>\n",
       "      <td>2413.0</td>\n",
       "    </tr>\n",
       "  </tbody>\n",
       "</table>\n",
       "</div>"
      ],
      "text/plain": [
       "   adult                              belongs_to_collection    budget                                             genres  ...      title  video vote_average vote_count\n",
       "0  False  {'id': 10194, 'name': 'Toy Story Collection', ...  30000000  [{'id': 16, 'name': 'Animation'}, {'id': 35, '...  ...  Toy Story  False          7.7     5415.0\n",
       "1  False                                                NaN  65000000  [{'id': 12, 'name': 'Adventure'}, {'id': 14, '...  ...    Jumanji  False          6.9     2413.0\n",
       "\n",
       "[2 rows x 24 columns]"
      ]
     },
     "execution_count": 45,
     "metadata": {},
     "output_type": "execute_result"
    }
   ],
   "source": [
    "import pandas as pd\n",
    "from sklearn.feature_extraction.text import TfidfVectorizer\n",
    "from sklearn.metrics.pairwise import cosine_similarity\n",
    "\n",
    "data = pd.read_csv('movies_metadata.csv', low_memory=False)\n",
    "data.head(2)\n"
   ]
  },
  {
   "cell_type": "code",
   "execution_count": 46,
   "id": "abf6f32f-50a4-49f6-b9a5-ddfe5dc996a3",
   "metadata": {},
   "outputs": [],
   "source": [
    "# 상위 2만개의 샘플을 data에 저장\n",
    "data = data.head(20000)\n"
   ]
  },
  {
   "cell_type": "code",
   "execution_count": 47,
   "id": "163f0f55-d225-441d-8bae-3b15dd39be58",
   "metadata": {},
   "outputs": [
    {
     "name": "stdout",
     "output_type": "stream",
     "text": [
      "overview 열의 결측값의 수: 135\n"
     ]
    }
   ],
   "source": [
    "# overview 열에 존재하는 모든 결측값을 전부 카운트하여 출력\n",
    "print('overview 열의 결측값의 수:',data['overview'].isnull().sum())\n"
   ]
  },
  {
   "cell_type": "code",
   "execution_count": 48,
   "id": "1b5e954d-57d4-483c-9d58-1106edd4a755",
   "metadata": {},
   "outputs": [
    {
     "name": "stderr",
     "output_type": "stream",
     "text": [
      "C:\\Users\\MINJUN\\AppData\\Local\\Temp\\ipykernel_6524\\950370519.py:2: SettingWithCopyWarning: \n",
      "A value is trying to be set on a copy of a slice from a DataFrame.\n",
      "Try using .loc[row_indexer,col_indexer] = value instead\n",
      "\n",
      "See the caveats in the documentation: https://pandas.pydata.org/pandas-docs/stable/user_guide/indexing.html#returning-a-view-versus-a-copy\n",
      "  data['overview'] = data['overview'].fillna('')\n"
     ]
    }
   ],
   "source": [
    "# 결측값을 빈 값으로 대체\n",
    "data['overview'] = data['overview'].fillna('')\n"
   ]
  },
  {
   "cell_type": "code",
   "execution_count": 49,
   "id": "9a20a69a-da77-47bf-9c99-5aaddbf4775b",
   "metadata": {},
   "outputs": [
    {
     "name": "stdout",
     "output_type": "stream",
     "text": [
      "TF-IDF 행렬의 크기(shape) : (20000, 47487)\n"
     ]
    }
   ],
   "source": [
    "tfidf = TfidfVectorizer(stop_words='english')\n",
    "tfidf_matrix = tfidf.fit_transform(data['overview'])\n",
    "print('TF-IDF 행렬의 크기(shape) :',tfidf_matrix.shape)\n"
   ]
  },
  {
   "cell_type": "code",
   "execution_count": 50,
   "id": "c821fefa-30ad-4ffa-8cb9-3bf925cf65bc",
   "metadata": {},
   "outputs": [
    {
     "name": "stdout",
     "output_type": "stream",
     "text": [
      "코사인 유사도 연산 결과 : (20000, 20000)\n"
     ]
    }
   ],
   "source": [
    "cosine_sim = cosine_similarity(tfidf_matrix, tfidf_matrix)\n",
    "print('코사인 유사도 연산 결과 :',cosine_sim.shape)\n"
   ]
  },
  {
   "cell_type": "code",
   "execution_count": 51,
   "id": "0900d5f0-e47f-4c39-9fdf-0f5131733a37",
   "metadata": {},
   "outputs": [
    {
     "name": "stdout",
     "output_type": "stream",
     "text": [
      "4\n"
     ]
    }
   ],
   "source": [
    "title_to_index = dict(zip(data['title'], data.index))\n",
    "\n",
    "# 영화 제목 Father of the Bride Part II의 인덱스를 리턴\n",
    "idx = title_to_index['Father of the Bride Part II']\n",
    "print(idx)\n"
   ]
  },
  {
   "cell_type": "code",
   "execution_count": 52,
   "id": "cfb300d2-ec17-421b-ad17-47b814c58ded",
   "metadata": {},
   "outputs": [],
   "source": [
    "def get_recommendations(title, cosine_sim=cosine_sim):\n",
    "    idx = title_to_index[title]\n",
    "    sim_scores = list(enumerate(cosine_sim[idx]))\n",
    "\n",
    "    sim_scores = sorted(sim_scores, key=lambda x: x[1], reverse=True)\n",
    " \n",
    "    sim_scores = sim_scores[1:11]\n",
    "\n",
    "    movie_indices = [idx[0] for idx in sim_scores]\n",
    "\n",
    "    return data['title'].iloc[movie_indices]\n"
   ]
  },
  {
   "cell_type": "code",
   "execution_count": 55,
   "id": "4443502a-efcc-46f8-9c7a-564337d4b095",
   "metadata": {},
   "outputs": [],
   "source": [
    "## 영어 Word2Vec"
   ]
  },
  {
   "cell_type": "code",
   "execution_count": 10,
   "id": "328cc681-3800-4af9-be1c-d5458f3423a1",
   "metadata": {},
   "outputs": [],
   "source": [
    "import re\n",
    "import urllib.request\n",
    "import zipfile\n",
    "from lxml import etree\n",
    "from nltk.tokenize import word_tokenize, sent_tokenize\n",
    "from lxml import etree"
   ]
  },
  {
   "cell_type": "code",
   "execution_count": 11,
   "id": "5eb1b256-0da2-4cb7-a4f9-d57a0e7e94fd",
   "metadata": {},
   "outputs": [
    {
     "data": {
      "text/plain": [
       "('ted_en-20160408.xml', <http.client.HTTPMessage at 0x19f5278a650>)"
      ]
     },
     "execution_count": 11,
     "metadata": {},
     "output_type": "execute_result"
    }
   ],
   "source": [
    "urllib.request.urlretrieve(\"https://raw.githubusercontent.com/ukairia777/tensorflow-nlp-tutorial/main/09.%20Word%20Embedding/dataset/ted_en-20160408.xml\", filename=\"ted_en-20160408.xml\")"
   ]
  },
  {
   "cell_type": "code",
   "execution_count": 12,
   "id": "d0c7a209-8a95-4664-b0e7-4494a186616d",
   "metadata": {},
   "outputs": [],
   "source": [
    "targetXML = open('ted_en-20160408.xml', 'r', encoding='UTF8')\n",
    "target_text = etree.parse(targetXML)\n",
    "\n",
    "parse_text = '\\n'.join(target_text.xpath('//content/text()'))\n",
    "\n",
    "content_text = re.sub(r'\\([^)]*\\)', '', parse_text)\n",
    "\n",
    "sent_text = sent_tokenize(content_text)\n",
    "normalized_text = []\n",
    "for string in sent_text:\n",
    "     tokens = re.sub(r\"[^a-z0-9]+\", \" \", string.lower())\n",
    "     normalized_text.append(tokens)\n",
    "\n",
    "result = [word_tokenize(sentence) for sentence in normalized_text]\n"
   ]
  },
  {
   "cell_type": "code",
   "execution_count": 16,
   "id": "a9fec606-d7bf-4cd4-aad6-d7264ec76eb0",
   "metadata": {},
   "outputs": [
    {
     "name": "stdout",
     "output_type": "stream",
     "text": [
      "총 샘플의 수: 273424\n"
     ]
    }
   ],
   "source": [
    "print(\"총 샘플의 수: {}\".format(len(result)))"
   ]
  },
  {
   "cell_type": "code",
   "execution_count": 17,
   "id": "f73e405c-04c8-413c-8bfd-8a192e364813",
   "metadata": {},
   "outputs": [
    {
     "name": "stdout",
     "output_type": "stream",
     "text": [
      "['here', 'are', 'two', 'reasons', 'companies', 'fail', 'they', 'only', 'do', 'more', 'of', 'the', 'same', 'or', 'they', 'only', 'do', 'what', 's', 'new']\n",
      "['to', 'me', 'the', 'real', 'real', 'solution', 'to', 'quality', 'growth', 'is', 'figuring', 'out', 'the', 'balance', 'between', 'two', 'activities', 'exploration', 'and', 'exploitation']\n",
      "['both', 'are', 'necessary', 'but', 'it', 'can', 'be', 'too', 'much', 'of', 'a', 'good', 'thing']\n"
     ]
    }
   ],
   "source": [
    "# 샘플 3개만 출력\n",
    "for line in result[:3]:\n",
    "    print(line)\n"
   ]
  },
  {
   "cell_type": "code",
   "execution_count": 18,
   "id": "afd65df0-3aa0-4669-a32d-55555c5a7e1e",
   "metadata": {},
   "outputs": [],
   "source": [
    "from gensim.models import Word2Vec\n",
    "from gensim.models import KeyedVectors\n",
    "\n",
    "model = Word2Vec(sentences=result, vector_size=100, window=5, min_count=5, workers=4, sg=0)\n"
   ]
  },
  {
   "cell_type": "code",
   "execution_count": 19,
   "id": "8c9562e9-9760-47d0-89f6-51d78b2e3319",
   "metadata": {},
   "outputs": [
    {
     "name": "stdout",
     "output_type": "stream",
     "text": [
      "[('woman', 0.8591322302818298), ('guy', 0.817167341709137), ('lady', 0.7750178575515747), ('boy', 0.7623923420906067), ('soldier', 0.7449814081192017), ('girl', 0.7235356569290161), ('gentleman', 0.723091721534729), ('kid', 0.6943509578704834), ('poet', 0.6678791046142578), ('friend', 0.6591227054595947)]\n"
     ]
    }
   ],
   "source": [
    "model_result = model.wv.most_similar(\"man\")\n",
    "print(model_result)\n"
   ]
  },
  {
   "cell_type": "code",
   "execution_count": 20,
   "id": "b8caad55-13c2-424c-8d92-3e92030d77cb",
   "metadata": {},
   "outputs": [],
   "source": [
    "model.wv.save_word2vec_format('eng_w2v')"
   ]
  },
  {
   "cell_type": "code",
   "execution_count": 21,
   "id": "0de654ef-f21f-4766-b1e9-7176ec90edb0",
   "metadata": {},
   "outputs": [],
   "source": [
    "loaded_model = KeyedVectors.load_word2vec_format('eng_w2v')"
   ]
  },
  {
   "cell_type": "code",
   "execution_count": 22,
   "id": "c2ed99bf-3642-455a-8213-81321e902f4c",
   "metadata": {},
   "outputs": [
    {
     "name": "stdout",
     "output_type": "stream",
     "text": [
      "[('woman', 0.8591322302818298), ('guy', 0.817167341709137), ('lady', 0.7750178575515747), ('boy', 0.7623923420906067), ('soldier', 0.7449814081192017), ('girl', 0.7235356569290161), ('gentleman', 0.723091721534729), ('kid', 0.6943509578704834), ('poet', 0.6678791046142578), ('friend', 0.6591227054595947)]\n"
     ]
    }
   ],
   "source": [
    "model_result = loaded_model.most_similar('man')\n",
    "print(model_result)"
   ]
  },
  {
   "cell_type": "code",
   "execution_count": 23,
   "id": "cf863d34-c40c-45e3-a2fd-74c3cfa19acf",
   "metadata": {},
   "outputs": [],
   "source": [
    "# 한국어 Word2Vec 만들기(네이버 영화 리뷰)"
   ]
  },
  {
   "cell_type": "code",
   "execution_count": 25,
   "id": "817293ba-9bf6-4ada-8646-d2dd7c647f88",
   "metadata": {},
   "outputs": [],
   "source": [
    "import pandas as pd\n",
    "import matplotlib.pyplot as plt\n",
    "import urllib.request\n",
    "from gensim.models.word2vec import Word2Vec\n",
    "from konlpy.tag import Okt\n",
    "from tqdm import tqdm"
   ]
  },
  {
   "cell_type": "code",
   "execution_count": 26,
   "id": "522a867c-d37b-4aa6-9ec2-7801cc954145",
   "metadata": {},
   "outputs": [
    {
     "data": {
      "text/plain": [
       "('ratings.txt', <http.client.HTTPMessage at 0x19f09020a90>)"
      ]
     },
     "execution_count": 26,
     "metadata": {},
     "output_type": "execute_result"
    }
   ],
   "source": [
    "urllib.request.urlretrieve(\"https://raw.githubusercontent.com/e9t/nsmc/master/ratings.txt\", filename=\"ratings.txt\")"
   ]
  },
  {
   "cell_type": "code",
   "execution_count": 27,
   "id": "3de61010-6c99-4f76-8daf-be5100e7accc",
   "metadata": {},
   "outputs": [
    {
     "data": {
      "text/html": [
       "<div>\n",
       "<style scoped>\n",
       "    .dataframe tbody tr th:only-of-type {\n",
       "        vertical-align: middle;\n",
       "    }\n",
       "\n",
       "    .dataframe tbody tr th {\n",
       "        vertical-align: top;\n",
       "    }\n",
       "\n",
       "    .dataframe thead th {\n",
       "        text-align: right;\n",
       "    }\n",
       "</style>\n",
       "<table border=\"1\" class=\"dataframe\">\n",
       "  <thead>\n",
       "    <tr style=\"text-align: right;\">\n",
       "      <th></th>\n",
       "      <th>id</th>\n",
       "      <th>document</th>\n",
       "      <th>label</th>\n",
       "    </tr>\n",
       "  </thead>\n",
       "  <tbody>\n",
       "    <tr>\n",
       "      <th>0</th>\n",
       "      <td>8112052</td>\n",
       "      <td>어릴때보고 지금다시봐도 재밌어요ㅋㅋ</td>\n",
       "      <td>1</td>\n",
       "    </tr>\n",
       "    <tr>\n",
       "      <th>1</th>\n",
       "      <td>8132799</td>\n",
       "      <td>디자인을 배우는 학생으로, 외국디자이너와 그들이 일군 전통을 통해 발전해가는 문화산...</td>\n",
       "      <td>1</td>\n",
       "    </tr>\n",
       "    <tr>\n",
       "      <th>2</th>\n",
       "      <td>4655635</td>\n",
       "      <td>폴리스스토리 시리즈는 1부터 뉴까지 버릴께 하나도 없음.. 최고.</td>\n",
       "      <td>1</td>\n",
       "    </tr>\n",
       "  </tbody>\n",
       "</table>\n",
       "</div>"
      ],
      "text/plain": [
       "        id                                           document  label\n",
       "0  8112052                                어릴때보고 지금다시봐도 재밌어요ㅋㅋ      1\n",
       "1  8132799  디자인을 배우는 학생으로, 외국디자이너와 그들이 일군 전통을 통해 발전해가는 문화산...      1\n",
       "2  4655635               폴리스스토리 시리즈는 1부터 뉴까지 버릴께 하나도 없음.. 최고.      1"
      ]
     },
     "execution_count": 27,
     "metadata": {},
     "output_type": "execute_result"
    }
   ],
   "source": [
    "train_data = pd.read_table('ratings.txt')\n",
    "train_data[:3]"
   ]
  },
  {
   "cell_type": "code",
   "execution_count": 28,
   "id": "797d11e6-2c60-4f7f-b704-979c2c0667ce",
   "metadata": {},
   "outputs": [
    {
     "name": "stdout",
     "output_type": "stream",
     "text": [
      "id          0\n",
      "document    8\n",
      "label       0\n",
      "dtype: int64\n"
     ]
    }
   ],
   "source": [
    "print(train_data.isnull().sum())"
   ]
  },
  {
   "cell_type": "code",
   "execution_count": 29,
   "id": "0624e9ff-2965-45c2-ba00-76a760f3ac88",
   "metadata": {},
   "outputs": [
    {
     "name": "stdout",
     "output_type": "stream",
     "text": [
      "True\n"
     ]
    }
   ],
   "source": [
    "print(train_data.isnull().values.any())"
   ]
  },
  {
   "cell_type": "code",
   "execution_count": 31,
   "id": "37bcb8b1-9efd-45ec-9921-72d50e903a52",
   "metadata": {},
   "outputs": [
    {
     "name": "stdout",
     "output_type": "stream",
     "text": [
      "False\n"
     ]
    }
   ],
   "source": [
    "train_data = train_data.dropna(how = 'any')\n",
    "print(train_data.isnull().values.any())"
   ]
  },
  {
   "cell_type": "code",
   "execution_count": 32,
   "id": "df540f8a-0483-42d8-8919-72129d07720c",
   "metadata": {},
   "outputs": [
    {
     "name": "stdout",
     "output_type": "stream",
     "text": [
      "199992\n"
     ]
    }
   ],
   "source": [
    "print(len(train_data))"
   ]
  },
  {
   "cell_type": "code",
   "execution_count": 41,
   "id": "77363ad6-81aa-47b0-a08b-7e19c833417c",
   "metadata": {},
   "outputs": [
    {
     "data": {
      "text/html": [
       "<div>\n",
       "<style scoped>\n",
       "    .dataframe tbody tr th:only-of-type {\n",
       "        vertical-align: middle;\n",
       "    }\n",
       "\n",
       "    .dataframe tbody tr th {\n",
       "        vertical-align: top;\n",
       "    }\n",
       "\n",
       "    .dataframe thead th {\n",
       "        text-align: right;\n",
       "    }\n",
       "</style>\n",
       "<table border=\"1\" class=\"dataframe\">\n",
       "  <thead>\n",
       "    <tr style=\"text-align: right;\">\n",
       "      <th></th>\n",
       "      <th>id</th>\n",
       "      <th>document</th>\n",
       "      <th>label</th>\n",
       "    </tr>\n",
       "  </thead>\n",
       "  <tbody>\n",
       "    <tr>\n",
       "      <th>0</th>\n",
       "      <td>8112052</td>\n",
       "      <td>어릴때보고 지금다시봐도 재밌어요ㅋㅋ</td>\n",
       "      <td>1</td>\n",
       "    </tr>\n",
       "    <tr>\n",
       "      <th>1</th>\n",
       "      <td>8132799</td>\n",
       "      <td>디자인을 배우는 학생으로 외국디자이너와 그들이 일군 전통을 통해 발전해가는 문화산업...</td>\n",
       "      <td>1</td>\n",
       "    </tr>\n",
       "    <tr>\n",
       "      <th>2</th>\n",
       "      <td>4655635</td>\n",
       "      <td>폴리스스토리 시리즈는 부터 뉴까지 버릴께 하나도 없음 최고</td>\n",
       "      <td>1</td>\n",
       "    </tr>\n",
       "    <tr>\n",
       "      <th>3</th>\n",
       "      <td>9251303</td>\n",
       "      <td>와 연기가 진짜 개쩔구나 지루할거라고 생각했는데 몰입해서 봤다 그래 이런게 진짜 영화지</td>\n",
       "      <td>1</td>\n",
       "    </tr>\n",
       "    <tr>\n",
       "      <th>4</th>\n",
       "      <td>10067386</td>\n",
       "      <td>안개 자욱한 밤하늘에 떠 있는 초승달 같은 영화</td>\n",
       "      <td>1</td>\n",
       "    </tr>\n",
       "  </tbody>\n",
       "</table>\n",
       "</div>"
      ],
      "text/plain": [
       "         id                                           document  label\n",
       "0   8112052                                어릴때보고 지금다시봐도 재밌어요ㅋㅋ      1\n",
       "1   8132799  디자인을 배우는 학생으로 외국디자이너와 그들이 일군 전통을 통해 발전해가는 문화산업...      1\n",
       "2   4655635                   폴리스스토리 시리즈는 부터 뉴까지 버릴께 하나도 없음 최고      1\n",
       "3   9251303   와 연기가 진짜 개쩔구나 지루할거라고 생각했는데 몰입해서 봤다 그래 이런게 진짜 영화지      1\n",
       "4  10067386                         안개 자욱한 밤하늘에 떠 있는 초승달 같은 영화      1"
      ]
     },
     "execution_count": 41,
     "metadata": {},
     "output_type": "execute_result"
    }
   ],
   "source": [
    "train_data['document'] = train_data['document'].str.replace(\"[^ㄱ-ㅎㅏ-ㅣ 가-힣 ]\",\"\")\n",
    "train_data[:5]"
   ]
  },
  {
   "cell_type": "code",
   "execution_count": 42,
   "id": "31065976-72f1-41dc-9ebe-0a3be99b3f77",
   "metadata": {},
   "outputs": [
    {
     "name": "stderr",
     "output_type": "stream",
     "text": [
      "100%|██████████████████████████████████████████████████████████████████████████████████████████████████████████████████████████████████████████████████████████| 199992/199992 [11:42<00:00, 284.64it/s]\n"
     ]
    }
   ],
   "source": [
    "# 불용어 정의\n",
    "stopwords = ['의','가','이','은','들','는','좀','잘','걍','과','도','를','으로','자','에','와','한','하다']\n",
    "\n",
    "# 형태소 분석기 OKT를 사용한 토큰화 작업 (다소 시간 소요)\n",
    "okt = Okt()\n",
    "\n",
    "tokenized_data = []\n",
    "for sentence in tqdm(train_data['document']):\n",
    "    tokenized_sentence = okt.morphs(sentence, stem=True) # 토큰화\n",
    "    stopwords_removed_sentence = [word for word in tokenized_sentence if not word in stopwords] # 불용어 제거\n",
    "    tokenized_data.append(stopwords_removed_sentence)\n"
   ]
  },
  {
   "cell_type": "code",
   "execution_count": 37,
   "id": "cf9a8bc5-e27d-42cf-9676-c6b4f64e26f8",
   "metadata": {},
   "outputs": [
    {
     "name": "stdout",
     "output_type": "stream",
     "text": [
      "리뷰의 최대길이 95\n",
      "리뷰의 평균길이 12.338453538141525\n"
     ]
    },
    {
     "data": {
      "image/png": "[encoded data removed]",
      "text/plain": [
       "<Figure size 640x480 with 1 Axes>"
      ]
     },
     "metadata": {},
     "output_type": "display_data"
    }
   ],
   "source": [
    "print(\"리뷰의 최대길이\" , max(len(review) for review in tokenized_data))\n",
    "print(\"리뷰의 평균길이\", sum(map(len, tokenized_data))/len(tokenized_data))\n",
    "\n",
    "plt.hist([len(review) for review in tokenized_data], bins =50)\n",
    "plt.xlabel(\"length og samples\")\n",
    "plt.ylabel(\"number of samples\")\n",
    "plt.show()"
   ]
  },
  {
   "cell_type": "code",
   "execution_count": null,
   "id": "c36580bc-dae3-4f82-aa42-3d58a73c8c4a",
   "metadata": {},
   "outputs": [],
   "source": []
  },
  {
   "cell_type": "code",
   "execution_count": 47,
   "id": "f6cd0922-ce18-479f-a389-9c48339a5842",
   "metadata": {},
   "outputs": [],
   "source": [
    "import numpy as np\n",
    "from tensorflow.keras.preprocessing.text import Tokenizer\n",
    "from tensorflow.keras.preprocessing.sequence import pad_sequences\n",
    "\n",
    "sentences = ['nice great best amazing', 'stop lies', 'pitiful nerd', 'excellent work', 'supreme quality', 'bad', 'highly respectable']\n",
    "y_train = [1, 0, 0, 1, 1, 0, 1]\n"
   ]
  },
  {
   "cell_type": "code",
   "execution_count": 48,
   "id": "d7f9dd39-7573-43d1-b636-b75224fcd148",
   "metadata": {},
   "outputs": [
    {
     "name": "stdout",
     "output_type": "stream",
     "text": [
      "단어 집합 : 16\n"
     ]
    }
   ],
   "source": [
    "tokenizer = Tokenizer()\n",
    "tokenizer.fit_on_texts(sentences)\n",
    "vocab_size = len(tokenizer.word_index) + 1 # 패딩을 고려하여 +1\n",
    "print('단어 집합 :',vocab_size)\n"
   ]
  },
  {
   "cell_type": "code",
   "execution_count": 49,
   "id": "3e7c6c86-5b72-4ad1-ab90-83f223927c5e",
   "metadata": {},
   "outputs": [
    {
     "name": "stdout",
     "output_type": "stream",
     "text": [
      "정수 인코딩 결과 : [[1, 2, 3, 4], [5, 6], [7, 8], [9, 10], [11, 12], [13], [14, 15]]\n"
     ]
    }
   ],
   "source": [
    "X_encoded = tokenizer.texts_to_sequences(sentences)\n",
    "print('정수 인코딩 결과 :',X_encoded)\n"
   ]
  },
  {
   "cell_type": "code",
   "execution_count": 50,
   "id": "be8326d5-f949-4bf7-846c-579d0ddd30b5",
   "metadata": {},
   "outputs": [
    {
     "name": "stdout",
     "output_type": "stream",
     "text": [
      "최대 길이 : 4\n"
     ]
    }
   ],
   "source": [
    "max_len = max(len(l) for l in X_encoded)\n",
    "print('최대 길이 :',max_len)\n"
   ]
  },
  {
   "cell_type": "code",
   "execution_count": 51,
   "id": "22ce266c-d46a-48f8-a134-1b97ac8ab45b",
   "metadata": {},
   "outputs": [
    {
     "name": "stdout",
     "output_type": "stream",
     "text": [
      "패딩 결과 :\n",
      "[[ 1  2  3  4]\n",
      " [ 5  6  0  0]\n",
      " [ 7  8  0  0]\n",
      " [ 9 10  0  0]\n",
      " [11 12  0  0]\n",
      " [13  0  0  0]\n",
      " [14 15  0  0]]\n"
     ]
    }
   ],
   "source": [
    "X_train = pad_sequences(X_encoded, maxlen=max_len, padding='post')\n",
    "y_train = np.array(y_train)\n",
    "print('패딩 결과 :')\n",
    "print(X_train)\n"
   ]
  },
  {
   "cell_type": "code",
   "execution_count": 52,
   "id": "39b9609e-f9cd-4abe-be4f-f6d0c982d202",
   "metadata": {},
   "outputs": [
    {
     "name": "stdout",
     "output_type": "stream",
     "text": [
      "Epoch 1/100\n"
     ]
    },
    {
     "name": "stderr",
     "output_type": "stream",
     "text": [
      "C:\\Users\\MINJUN\\Documents\\GitHub\\Data_Baisc_Analyze\\Data_Baisc_Analyze\\.venv\\Lib\\site-packages\\keras\\src\\layers\\core\\embedding.py:97: UserWarning: Argument `input_length` is deprecated. Just remove it.\n",
      "  warnings.warn(\n"
     ]
    },
    {
     "name": "stdout",
     "output_type": "stream",
     "text": [
      "1/1 - 1s - 516ms/step - acc: 0.5714 - loss: 0.6912\n",
      "Epoch 2/100\n",
      "1/1 - 0s - 37ms/step - acc: 0.5714 - loss: 0.6897\n",
      "Epoch 3/100\n",
      "1/1 - 0s - 35ms/step - acc: 0.7143 - loss: 0.6883\n",
      "Epoch 4/100\n",
      "1/1 - 0s - 35ms/step - acc: 0.7143 - loss: 0.6868\n",
      "Epoch 5/100\n",
      "1/1 - 0s - 36ms/step - acc: 0.7143 - loss: 0.6854\n",
      "Epoch 6/100\n",
      "1/1 - 0s - 36ms/step - acc: 0.7143 - loss: 0.6840\n",
      "Epoch 7/100\n",
      "1/1 - 0s - 34ms/step - acc: 0.7143 - loss: 0.6825\n",
      "Epoch 8/100\n",
      "1/1 - 0s - 35ms/step - acc: 0.8571 - loss: 0.6811\n",
      "Epoch 9/100\n",
      "1/1 - 0s - 34ms/step - acc: 1.0000 - loss: 0.6796\n",
      "Epoch 10/100\n",
      "1/1 - 0s - 34ms/step - acc: 1.0000 - loss: 0.6782\n",
      "Epoch 11/100\n",
      "1/1 - 0s - 36ms/step - acc: 1.0000 - loss: 0.6768\n",
      "Epoch 12/100\n",
      "1/1 - 0s - 37ms/step - acc: 1.0000 - loss: 0.6753\n",
      "Epoch 13/100\n",
      "1/1 - 0s - 35ms/step - acc: 1.0000 - loss: 0.6739\n",
      "Epoch 14/100\n",
      "1/1 - 0s - 34ms/step - acc: 1.0000 - loss: 0.6725\n",
      "Epoch 15/100\n",
      "1/1 - 0s - 35ms/step - acc: 1.0000 - loss: 0.6710\n",
      "Epoch 16/100\n",
      "1/1 - 0s - 33ms/step - acc: 1.0000 - loss: 0.6696\n",
      "Epoch 17/100\n",
      "1/1 - 0s - 32ms/step - acc: 1.0000 - loss: 0.6681\n",
      "Epoch 18/100\n",
      "1/1 - 0s - 36ms/step - acc: 1.0000 - loss: 0.6667\n",
      "Epoch 19/100\n",
      "1/1 - 0s - 36ms/step - acc: 1.0000 - loss: 0.6652\n",
      "Epoch 20/100\n",
      "1/1 - 0s - 37ms/step - acc: 1.0000 - loss: 0.6638\n",
      "Epoch 21/100\n",
      "1/1 - 0s - 34ms/step - acc: 1.0000 - loss: 0.6623\n",
      "Epoch 22/100\n",
      "1/1 - 0s - 36ms/step - acc: 1.0000 - loss: 0.6608\n",
      "Epoch 23/100\n",
      "1/1 - 0s - 35ms/step - acc: 1.0000 - loss: 0.6594\n",
      "Epoch 24/100\n",
      "1/1 - 0s - 35ms/step - acc: 1.0000 - loss: 0.6579\n",
      "Epoch 25/100\n",
      "1/1 - 0s - 33ms/step - acc: 1.0000 - loss: 0.6564\n",
      "Epoch 26/100\n",
      "1/1 - 0s - 33ms/step - acc: 1.0000 - loss: 0.6549\n",
      "Epoch 27/100\n",
      "1/1 - 0s - 36ms/step - acc: 1.0000 - loss: 0.6535\n",
      "Epoch 28/100\n",
      "1/1 - 0s - 36ms/step - acc: 1.0000 - loss: 0.6520\n",
      "Epoch 29/100\n",
      "1/1 - 0s - 39ms/step - acc: 1.0000 - loss: 0.6505\n",
      "Epoch 30/100\n",
      "1/1 - 0s - 39ms/step - acc: 1.0000 - loss: 0.6490\n",
      "Epoch 31/100\n",
      "1/1 - 0s - 40ms/step - acc: 1.0000 - loss: 0.6474\n",
      "Epoch 32/100\n",
      "1/1 - 0s - 39ms/step - acc: 1.0000 - loss: 0.6459\n",
      "Epoch 33/100\n",
      "1/1 - 0s - 39ms/step - acc: 1.0000 - loss: 0.6444\n",
      "Epoch 34/100\n",
      "1/1 - 0s - 34ms/step - acc: 1.0000 - loss: 0.6429\n",
      "Epoch 35/100\n",
      "1/1 - 0s - 32ms/step - acc: 1.0000 - loss: 0.6413\n",
      "Epoch 36/100\n",
      "1/1 - 0s - 32ms/step - acc: 1.0000 - loss: 0.6398\n",
      "Epoch 37/100\n",
      "1/1 - 0s - 33ms/step - acc: 1.0000 - loss: 0.6382\n",
      "Epoch 38/100\n",
      "1/1 - 0s - 34ms/step - acc: 1.0000 - loss: 0.6366\n",
      "Epoch 39/100\n",
      "1/1 - 0s - 41ms/step - acc: 1.0000 - loss: 0.6351\n",
      "Epoch 40/100\n",
      "1/1 - 0s - 39ms/step - acc: 1.0000 - loss: 0.6335\n",
      "Epoch 41/100\n",
      "1/1 - 0s - 40ms/step - acc: 1.0000 - loss: 0.6319\n",
      "Epoch 42/100\n",
      "1/1 - 0s - 37ms/step - acc: 1.0000 - loss: 0.6303\n",
      "Epoch 43/100\n",
      "1/1 - 0s - 39ms/step - acc: 1.0000 - loss: 0.6287\n",
      "Epoch 44/100\n",
      "1/1 - 0s - 39ms/step - acc: 1.0000 - loss: 0.6271\n",
      "Epoch 45/100\n",
      "1/1 - 0s - 40ms/step - acc: 1.0000 - loss: 0.6254\n",
      "Epoch 46/100\n",
      "1/1 - 0s - 38ms/step - acc: 1.0000 - loss: 0.6238\n",
      "Epoch 47/100\n",
      "1/1 - 0s - 32ms/step - acc: 1.0000 - loss: 0.6222\n",
      "Epoch 48/100\n",
      "1/1 - 0s - 32ms/step - acc: 1.0000 - loss: 0.6205\n",
      "Epoch 49/100\n",
      "1/1 - 0s - 33ms/step - acc: 1.0000 - loss: 0.6189\n",
      "Epoch 50/100\n",
      "1/1 - 0s - 32ms/step - acc: 1.0000 - loss: 0.6172\n",
      "Epoch 51/100\n",
      "1/1 - 0s - 33ms/step - acc: 1.0000 - loss: 0.6155\n",
      "Epoch 52/100\n",
      "1/1 - 0s - 33ms/step - acc: 1.0000 - loss: 0.6138\n",
      "Epoch 53/100\n",
      "1/1 - 0s - 34ms/step - acc: 1.0000 - loss: 0.6121\n",
      "Epoch 54/100\n",
      "1/1 - 0s - 33ms/step - acc: 1.0000 - loss: 0.6104\n",
      "Epoch 55/100\n",
      "1/1 - 0s - 49ms/step - acc: 1.0000 - loss: 0.6087\n",
      "Epoch 56/100\n",
      "1/1 - 0s - 41ms/step - acc: 1.0000 - loss: 0.6070\n",
      "Epoch 57/100\n",
      "1/1 - 0s - 40ms/step - acc: 1.0000 - loss: 0.6053\n",
      "Epoch 58/100\n",
      "1/1 - 0s - 33ms/step - acc: 1.0000 - loss: 0.6035\n",
      "Epoch 59/100\n",
      "1/1 - 0s - 32ms/step - acc: 1.0000 - loss: 0.6018\n",
      "Epoch 60/100\n",
      "1/1 - 0s - 34ms/step - acc: 1.0000 - loss: 0.6000\n",
      "Epoch 61/100\n",
      "1/1 - 0s - 32ms/step - acc: 1.0000 - loss: 0.5983\n",
      "Epoch 62/100\n",
      "1/1 - 0s - 31ms/step - acc: 1.0000 - loss: 0.5965\n",
      "Epoch 63/100\n",
      "1/1 - 0s - 32ms/step - acc: 1.0000 - loss: 0.5947\n",
      "Epoch 64/100\n",
      "1/1 - 0s - 31ms/step - acc: 1.0000 - loss: 0.5930\n",
      "Epoch 65/100\n",
      "1/1 - 0s - 32ms/step - acc: 1.0000 - loss: 0.5912\n",
      "Epoch 66/100\n",
      "1/1 - 0s - 34ms/step - acc: 1.0000 - loss: 0.5894\n",
      "Epoch 67/100\n",
      "1/1 - 0s - 31ms/step - acc: 1.0000 - loss: 0.5876\n",
      "Epoch 68/100\n",
      "1/1 - 0s - 35ms/step - acc: 1.0000 - loss: 0.5857\n",
      "Epoch 69/100\n",
      "1/1 - 0s - 34ms/step - acc: 1.0000 - loss: 0.5839\n",
      "Epoch 70/100\n",
      "1/1 - 0s - 32ms/step - acc: 1.0000 - loss: 0.5821\n",
      "Epoch 71/100\n",
      "1/1 - 0s - 33ms/step - acc: 1.0000 - loss: 0.5802\n",
      "Epoch 72/100\n",
      "1/1 - 0s - 33ms/step - acc: 1.0000 - loss: 0.5784\n",
      "Epoch 73/100\n",
      "1/1 - 0s - 34ms/step - acc: 1.0000 - loss: 0.5765\n",
      "Epoch 74/100\n",
      "1/1 - 0s - 34ms/step - acc: 1.0000 - loss: 0.5747\n",
      "Epoch 75/100\n",
      "1/1 - 0s - 35ms/step - acc: 1.0000 - loss: 0.5728\n",
      "Epoch 76/100\n",
      "1/1 - 0s - 34ms/step - acc: 1.0000 - loss: 0.5709\n",
      "Epoch 77/100\n",
      "1/1 - 0s - 33ms/step - acc: 1.0000 - loss: 0.5690\n",
      "Epoch 78/100\n",
      "1/1 - 0s - 71ms/step - acc: 1.0000 - loss: 0.5672\n",
      "Epoch 79/100\n",
      "1/1 - 0s - 34ms/step - acc: 1.0000 - loss: 0.5653\n",
      "Epoch 80/100\n",
      "1/1 - 0s - 35ms/step - acc: 1.0000 - loss: 0.5634\n",
      "Epoch 81/100\n",
      "1/1 - 0s - 34ms/step - acc: 1.0000 - loss: 0.5614\n",
      "Epoch 82/100\n",
      "1/1 - 0s - 34ms/step - acc: 1.0000 - loss: 0.5595\n",
      "Epoch 83/100\n",
      "1/1 - 0s - 36ms/step - acc: 1.0000 - loss: 0.5576\n",
      "Epoch 84/100\n",
      "1/1 - 0s - 35ms/step - acc: 1.0000 - loss: 0.5557\n",
      "Epoch 85/100\n",
      "1/1 - 0s - 33ms/step - acc: 1.0000 - loss: 0.5537\n",
      "Epoch 86/100\n",
      "1/1 - 0s - 34ms/step - acc: 1.0000 - loss: 0.5518\n",
      "Epoch 87/100\n",
      "1/1 - 0s - 34ms/step - acc: 1.0000 - loss: 0.5499\n",
      "Epoch 88/100\n",
      "1/1 - 0s - 34ms/step - acc: 1.0000 - loss: 0.5479\n",
      "Epoch 89/100\n",
      "1/1 - 0s - 36ms/step - acc: 1.0000 - loss: 0.5459\n",
      "Epoch 90/100\n",
      "1/1 - 0s - 36ms/step - acc: 1.0000 - loss: 0.5440\n",
      "Epoch 91/100\n",
      "1/1 - 0s - 36ms/step - acc: 1.0000 - loss: 0.5420\n",
      "Epoch 92/100\n",
      "1/1 - 0s - 38ms/step - acc: 1.0000 - loss: 0.5400\n",
      "Epoch 93/100\n",
      "1/1 - 0s - 37ms/step - acc: 1.0000 - loss: 0.5381\n",
      "Epoch 94/100\n",
      "1/1 - 0s - 37ms/step - acc: 1.0000 - loss: 0.5361\n",
      "Epoch 95/100\n",
      "1/1 - 0s - 33ms/step - acc: 1.0000 - loss: 0.5341\n",
      "Epoch 96/100\n",
      "1/1 - 0s - 33ms/step - acc: 1.0000 - loss: 0.5321\n",
      "Epoch 97/100\n",
      "1/1 - 0s - 32ms/step - acc: 1.0000 - loss: 0.5301\n",
      "Epoch 98/100\n",
      "1/1 - 0s - 33ms/step - acc: 1.0000 - loss: 0.5281\n",
      "Epoch 99/100\n",
      "1/1 - 0s - 35ms/step - acc: 1.0000 - loss: 0.5261\n",
      "Epoch 100/100\n",
      "1/1 - 0s - 38ms/step - acc: 1.0000 - loss: 0.5241\n"
     ]
    },
    {
     "data": {
      "text/plain": [
       "<keras.src.callbacks.history.History at 0x19f1ec14190>"
      ]
     },
     "execution_count": 52,
     "metadata": {},
     "output_type": "execute_result"
    }
   ],
   "source": [
    "from tensorflow.keras.models import Sequential\n",
    "from tensorflow.keras.layers import Dense, Embedding, Flatten\n",
    "\n",
    "embedding_dim = 4\n",
    "\n",
    "model = Sequential()\n",
    "model.add(Embedding(vocab_size, embedding_dim, input_length=max_len))\n",
    "model.add(Flatten())\n",
    "model.add(Dense(1, activation='sigmoid'))\n",
    "\n",
    "model.compile(optimizer='adam', loss='binary_crossentropy', metrics=['acc'])\n",
    "model.fit(X_train, y_train, epochs=100, verbose=2)\n"
   ]
  },
  {
   "cell_type": "code",
   "execution_count": 55,
   "id": "e88f156d-69f2-4d86-b1ea-40285541e10f",
   "metadata": {},
   "outputs": [],
   "source": [
    "from urllib.request import urlretrieve, urlopen\n",
    "import gzip\n",
    "import zipfile\n",
    "\n",
    "urlretrieve(\"http://nlp.stanford.edu/data/glove.6B.zip\", filename=\"glove.6B.zip\")\n",
    "zf = zipfile.ZipFile('glove.6B.zip')\n",
    "zf.extractall() \n",
    "zf.close()\n"
   ]
  },
  {
   "cell_type": "code",
   "execution_count": 56,
   "id": "87beb250-8771-411d-a958-5fad82bd1450",
   "metadata": {},
   "outputs": [
    {
     "name": "stdout",
     "output_type": "stream",
     "text": [
      "400000개의 Embedding vector가 있습니다.\n"
     ]
    }
   ],
   "source": [
    "embedding_dict = dict()\n",
    "\n",
    "f = open('glove.6B.100d.txt', encoding=\"utf8\")\n",
    "\n",
    "for line in f:\n",
    "    word_vector = line.split()\n",
    "    word = word_vector[0]\n",
    "\n",
    "    # 100개의 값을 가지는 array로 변환\n",
    "    word_vector_arr = np.asarray(word_vector[1:], dtype='float32')\n",
    "    embedding_dict[word] = word_vector_arr\n",
    "f.close()\n",
    "\n",
    "print('%s개의 Embedding vector가 있습니다.' % len(embedding_dict))\n"
   ]
  },
  {
   "cell_type": "code",
   "execution_count": 57,
   "id": "51fb0ece-9b54-4f35-92df-4ae0e598ba0f",
   "metadata": {},
   "outputs": [
    {
     "name": "stdout",
     "output_type": "stream",
     "text": [
      "[-0.049773   0.19903    0.10585    0.1391    -0.32395    0.44053\n",
      "  0.3947    -0.22805   -0.25793    0.49768    0.15384   -0.08831\n",
      "  0.0782    -0.8299    -0.037788   0.16772   -0.45197   -0.17085\n",
      "  0.74756    0.98256    0.81872    0.28507    0.16178   -0.48626\n",
      " -0.006265  -0.92469   -0.30625   -0.067318  -0.046762  -0.76291\n",
      " -0.0025264 -0.018795   0.12882   -0.52457    0.3586     0.43119\n",
      " -0.89477   -0.057421  -0.53724    0.25587    0.55195    0.44698\n",
      " -0.24252    0.29946    0.25776   -0.8717     0.68426   -0.05688\n",
      " -0.1848    -0.59352   -0.11227   -0.57692   -0.013593   0.18488\n",
      " -0.32507   -0.90171    0.17672    0.075601   0.54896   -0.21488\n",
      " -0.54018   -0.45882   -0.79536    0.26331    0.18879   -0.16363\n",
      "  0.3975     0.1099     0.1164    -0.083499   0.50159    0.35802\n",
      "  0.25677    0.088546   0.42108    0.28674   -0.71285   -0.82915\n",
      "  0.15297   -0.82712    0.022112   1.067     -0.31776    0.1211\n",
      " -0.069755  -0.61327    0.27308   -0.42638   -0.085084  -0.17694\n",
      " -0.0090944  0.1109     0.62543   -0.23682   -0.44928   -0.3667\n",
      " -0.21616   -0.19187   -0.032502   0.38025  ]\n",
      "벡터의 차원 수 : 100\n"
     ]
    }
   ],
   "source": [
    "print(embedding_dict['respectable'])\n",
    "print('벡터의 차원 수 :',len(embedding_dict['respectable']))\n"
   ]
  },
  {
   "cell_type": "code",
   "execution_count": null,
   "id": "a3251f10-6036-4a6a-a1fd-ecf7886ded2e",
   "metadata": {},
   "outputs": [],
   "source": [
    "from tensorflow.keras.models import Sequential\n",
    "from tensorflow.keras.layers import Dense, Embedding, Flatten\n",
    "\n",
    "output_dim = 100\n",
    "\n",
    "model = Sequential()\n",
    "e = Embedding(vocab_size, output_dim, weights=[embedding_matrix], input_length=max_len, trainable=False)\n",
    "model.add(e)\n",
    "model.add(Flatten())\n",
    "model.add(Dense(1, activation='sigmoid'))\n",
    "model.compile(optimizer='adam', loss='binary_crossentropy', metrics=['acc'])\n",
    "model.fit(X_train, y_train, epochs=100, verbose=2)\n"
   ]
  },
  {
   "cell_type": "code",
   "execution_count": 2,
   "id": "d9751a88-26a6-41d5-a09a-2186a72e5049",
   "metadata": {},
   "outputs": [],
   "source": [
    "import pandas as pd\n",
    "import numpy as np\n",
    "import nltk\n",
    "from nltk.corpus import stopwords\n",
    "from sklearn.datasets import fetch_20newsgroups\n",
    "from tensorflow.keras.preprocessing.text import Tokenizer\n"
   ]
  },
  {
   "cell_type": "code",
   "execution_count": 3,
   "id": "ac756715-932a-4fda-979f-29afe390dc15",
   "metadata": {},
   "outputs": [
    {
     "name": "stdout",
     "output_type": "stream",
     "text": [
      "총 샘플 수 : 11314\n"
     ]
    }
   ],
   "source": [
    "dataset = fetch_20newsgroups(shuffle=True, random_state=1, remove=('headers', 'footers', 'quotes'))\n",
    "documents = dataset.data\n",
    "print('총 샘플 수 :',len(documents))\n"
   ]
  },
  {
   "cell_type": "code",
   "execution_count": 4,
   "id": "e917fe1b-8318-4feb-ad3a-a6998ee0b2bc",
   "metadata": {},
   "outputs": [],
   "source": [
    "news_df = pd.DataFrame({'document':documents})\n",
    "# 특수 문자 제거\n",
    "news_df['clean_doc'] = news_df['document'].str.replace(\"[^a-zA-Z]\", \" \", regex=True)\n",
    "# 길이가 3이하인 단어는 제거 (길이가 짧은 단어 제거)\n",
    "news_df['clean_doc'] = news_df['clean_doc'].apply(lambda x: ' '.join([w for w in x.split() if len(w)>3]))\n",
    "# 전체 단어에 대한 소문자 변환\n",
    "news_df['clean_doc'] = news_df['clean_doc'].apply(lambda x: x.lower())\n"
   ]
  },
  {
   "cell_type": "code",
   "execution_count": 5,
   "id": "c9e9f72f-422b-4646-a650-c9f97d9fb726",
   "metadata": {},
   "outputs": [
    {
     "data": {
      "text/plain": [
       "False"
      ]
     },
     "execution_count": 5,
     "metadata": {},
     "output_type": "execute_result"
    }
   ],
   "source": [
    "news_df.isnull().values.any()"
   ]
  },
  {
   "cell_type": "code",
   "execution_count": 8,
   "id": "7062e1c4-521f-421b-905d-91541d558194",
   "metadata": {},
   "outputs": [
    {
     "data": {
      "text/plain": [
       "True"
      ]
     },
     "execution_count": 8,
     "metadata": {},
     "output_type": "execute_result"
    }
   ],
   "source": [
    "news_df.replace(\"\", float(\"NaN\"), inplace=True)\n",
    "news_df.isnull().values.any()"
   ]
  },
  {
   "cell_type": "code",
   "execution_count": 9,
   "id": "1633031a-d90e-485c-922b-d6ea1508d5ad",
   "metadata": {},
   "outputs": [
    {
     "name": "stdout",
     "output_type": "stream",
     "text": [
      "총 샘플 수 : 10995\n"
     ]
    }
   ],
   "source": [
    "news_df.dropna(inplace=True)\n",
    "print('총 샘플 수 :',len(news_df))"
   ]
  },
  {
   "cell_type": "code",
   "execution_count": 14,
   "id": "631cd680-af85-4d10-8d17-813c2eb24707",
   "metadata": {},
   "outputs": [],
   "source": [
    "# 불용어를 제거\n",
    "stop_words = stopwords.words('english')\n",
    "tokenized_doc = news_df['clean_doc'].apply(lambda x: x.split())\n",
    "tokenized_doc = tokenized_doc.apply(lambda x: [item for item in x if item not in stop_words])\n",
    "tokenized_doc = tokenized_doc.to_list()\n"
   ]
  },
  {
   "cell_type": "markdown",
   "id": "d3b43e30-7f9c-4d03-bf47-49fd3b66693e",
   "metadata": {},
   "source": [
    "\n",
    "\n",
    "\n",
    "\n",
    "### 패스트 텍스트"
   ]
  },
  {
   "cell_type": "code",
   "execution_count": 26,
   "id": "fa10c3bd-2637-4701-9e40-429744d50154",
   "metadata": {},
   "outputs": [],
   "source": [
    "import urllib.request\n",
    "import zipfile\n",
    "from lxml import etree\n",
    "from nltk.tokenize import word_tokenize, sent_tokenize\n",
    "import re"
   ]
  },
  {
   "cell_type": "code",
   "execution_count": 27,
   "id": "6dd943d0-aa3d-4b03-9e54-cf644fb9059c",
   "metadata": {},
   "outputs": [
    {
     "data": {
      "text/plain": [
       "('ted_en-20160408.xml', <http.client.HTTPMessage at 0x1ab004ca950>)"
      ]
     },
     "execution_count": 27,
     "metadata": {},
     "output_type": "execute_result"
    }
   ],
   "source": [
    "# 데이터 다운로드\n",
    "urllib.request.urlretrieve(\"https://raw.githubusercontent.com/GaoleMeng/RNN-and-FFNN-textClassification/master/ted_en-20160408.xml\", filename=\"ted_en-20160408.xml\")"
   ]
  },
  {
   "cell_type": "code",
   "execution_count": 28,
   "id": "6ad63e99-7143-4bdd-a152-aae74ba9fcce",
   "metadata": {},
   "outputs": [],
   "source": [
    "targetXML = open('ted_en-20160408.xml', 'r', encoding='UTF8')\n",
    "target_text = etree.parse(targetXML)\n",
    "\n",
    "# xml 파일로부터 <content>와 </content> 사이의 내용만 가져온다.\n",
    "parse_text = '\\n'.join(target_text.xpath('//content/text()'))\n",
    "\n",
    "# 정규 표현식의 sub 모듈을 통해 content 중간에 등장하는 (Audio), (Laughter) 등의 배경음 부분을 제거.\n",
    "# 해당 코드는 괄호로 구성된 내용을 제거.\n",
    "content_text = re.sub(r'\\([^)]*\\)', '', parse_text)\n",
    "\n",
    "# 입력 코퍼스에 대해서 NLTK를 이용하여 문장 토큰화를 수행.\n",
    "sent_text = sent_tokenize(content_text)\n",
    "\n",
    "# 각 문장에 대해서 구두점을 제거하고, 대문자를 소문자로 변환.\n",
    "normalized_text = []\n",
    "for string in sent_text:\n",
    "     tokens = re.sub(r\"[^a-z0-9]+\", \" \", string.lower())\n",
    "     normalized_text.append(tokens)\n",
    "\n",
    "# 각 문장에 대해서 NLTK를 이용하여 단어 토큰화를 수행.\n",
    "result = [word_tokenize(sentence) for sentence in normalized_text]\n"
   ]
  },
  {
   "cell_type": "code",
   "execution_count": 29,
   "id": "8d0e0c17-218f-4155-af0f-8a15ea4ddee2",
   "metadata": {},
   "outputs": [
    {
     "name": "stdout",
     "output_type": "stream",
     "text": [
      "총 샘플의 개수 : 273424\n"
     ]
    }
   ],
   "source": [
    "print('총 샘플의 개수 : {}'.format(len(result)))"
   ]
  },
  {
   "cell_type": "code",
   "execution_count": 30,
   "id": "7f9d027a-099c-434a-9db1-82226bbf1769",
   "metadata": {},
   "outputs": [],
   "source": [
    "from gensim.models import Word2Vec\n",
    "from gensim.models import KeyedVectors"
   ]
  },
  {
   "cell_type": "code",
   "execution_count": 31,
   "id": "33246a31-27e6-4cfc-9702-940c0c93b1f2",
   "metadata": {},
   "outputs": [],
   "source": [
    "from gensim.models import FastText\n",
    "\n",
    "model = FastText(result, size=100, window=5, min_count=5, workers=4, sg=1)\n"
   ]
  },
  {
   "cell_type": "code",
   "execution_count": 33,
   "id": "139cea6d-5a73-4588-a0bc-c06c768b4983",
   "metadata": {},
   "outputs": [
    {
     "ename": "KeyError",
     "evalue": "\"Key 'electrofishing' not present in vocabulary\"",
     "output_type": "error",
     "traceback": [
      "\u001b[31m---------------------------------------------------------------------------\u001b[39m",
      "\u001b[31mKeyError\u001b[39m                                  Traceback (most recent call last)",
      "\u001b[36mCell\u001b[39m\u001b[36m \u001b[39m\u001b[32mIn[33]\u001b[39m\u001b[32m, line 1\u001b[39m\n\u001b[32m----> \u001b[39m\u001b[32m1\u001b[39m \u001b[43mmodel\u001b[49m\u001b[43m.\u001b[49m\u001b[43mwv\u001b[49m\u001b[43m.\u001b[49m\u001b[43mmost_similar\u001b[49m\u001b[43m(\u001b[49m\u001b[33;43m'\u001b[39;49m\u001b[33;43melectrofishing\u001b[39;49m\u001b[33;43m'\u001b[39;49m\u001b[43m)\u001b[49m\n",
      "\u001b[36mFile \u001b[39m\u001b[32m~\\Documents\\GitHub\\Data_Baisc_Analyze\\Data_Baisc_Analyze\\.venv\\Lib\\site-packages\\gensim\\models\\keyedvectors.py:841\u001b[39m, in \u001b[36mKeyedVectors.most_similar\u001b[39m\u001b[34m(self, positive, negative, topn, clip_start, clip_end, restrict_vocab, indexer)\u001b[39m\n\u001b[32m    838\u001b[39m         weight[idx] = item[\u001b[32m1\u001b[39m]\n\u001b[32m    840\u001b[39m \u001b[38;5;66;03m# compute the weighted average of all keys\u001b[39;00m\n\u001b[32m--> \u001b[39m\u001b[32m841\u001b[39m mean = \u001b[38;5;28;43mself\u001b[39;49m\u001b[43m.\u001b[49m\u001b[43mget_mean_vector\u001b[49m\u001b[43m(\u001b[49m\u001b[43mkeys\u001b[49m\u001b[43m,\u001b[49m\u001b[43m \u001b[49m\u001b[43mweight\u001b[49m\u001b[43m,\u001b[49m\u001b[43m \u001b[49m\u001b[43mpre_normalize\u001b[49m\u001b[43m=\u001b[49m\u001b[38;5;28;43;01mTrue\u001b[39;49;00m\u001b[43m,\u001b[49m\u001b[43m \u001b[49m\u001b[43mpost_normalize\u001b[49m\u001b[43m=\u001b[49m\u001b[38;5;28;43;01mTrue\u001b[39;49;00m\u001b[43m,\u001b[49m\u001b[43m \u001b[49m\u001b[43mignore_missing\u001b[49m\u001b[43m=\u001b[49m\u001b[38;5;28;43;01mFalse\u001b[39;49;00m\u001b[43m)\u001b[49m\n\u001b[32m    842\u001b[39m all_keys = [\n\u001b[32m    843\u001b[39m     \u001b[38;5;28mself\u001b[39m.get_index(key) \u001b[38;5;28;01mfor\u001b[39;00m key \u001b[38;5;129;01min\u001b[39;00m keys \u001b[38;5;28;01mif\u001b[39;00m \u001b[38;5;28misinstance\u001b[39m(key, _KEY_TYPES) \u001b[38;5;129;01mand\u001b[39;00m \u001b[38;5;28mself\u001b[39m.has_index_for(key)\n\u001b[32m    844\u001b[39m ]\n\u001b[32m    846\u001b[39m \u001b[38;5;28;01mif\u001b[39;00m indexer \u001b[38;5;129;01mis\u001b[39;00m \u001b[38;5;129;01mnot\u001b[39;00m \u001b[38;5;28;01mNone\u001b[39;00m \u001b[38;5;129;01mand\u001b[39;00m \u001b[38;5;28misinstance\u001b[39m(topn, \u001b[38;5;28mint\u001b[39m):\n",
      "\u001b[36mFile \u001b[39m\u001b[32m~\\Documents\\GitHub\\Data_Baisc_Analyze\\Data_Baisc_Analyze\\.venv\\Lib\\site-packages\\gensim\\models\\keyedvectors.py:518\u001b[39m, in \u001b[36mKeyedVectors.get_mean_vector\u001b[39m\u001b[34m(self, keys, weights, pre_normalize, post_normalize, ignore_missing)\u001b[39m\n\u001b[32m    516\u001b[39m         total_weight += \u001b[38;5;28mabs\u001b[39m(weights[idx])\n\u001b[32m    517\u001b[39m     \u001b[38;5;28;01melif\u001b[39;00m \u001b[38;5;129;01mnot\u001b[39;00m ignore_missing:\n\u001b[32m--> \u001b[39m\u001b[32m518\u001b[39m         \u001b[38;5;28;01mraise\u001b[39;00m \u001b[38;5;167;01mKeyError\u001b[39;00m(\u001b[33mf\u001b[39m\u001b[33m\"\u001b[39m\u001b[33mKey \u001b[39m\u001b[33m'\u001b[39m\u001b[38;5;132;01m{\u001b[39;00mkey\u001b[38;5;132;01m}\u001b[39;00m\u001b[33m'\u001b[39m\u001b[33m not present in vocabulary\u001b[39m\u001b[33m\"\u001b[39m)\n\u001b[32m    520\u001b[39m \u001b[38;5;28;01mif\u001b[39;00m total_weight > \u001b[32m0\u001b[39m:\n\u001b[32m    521\u001b[39m     mean = mean / total_weight\n",
      "\u001b[31mKeyError\u001b[39m: \"Key 'electrofishing' not present in vocabulary\""
     ]
    }
   ],
   "source": [
    "model.wv.most_similar('electrofishing')"
   ]
  },
  {
   "cell_type": "code",
   "execution_count": null,
   "id": "4d99aed3-6e28-4a79-a29d-fa8afcc6c672",
   "metadata": {},
   "outputs": [],
   "source": []
  }
 ],
 "metadata": {
  "kernelspec": {
   "display_name": "Python 3 (ipykernel)",
   "language": "python",
   "name": "python3"
  },
  "language_info": {
   "codemirror_mode": {
    "name": "ipython",
    "version": 3
   },
   "file_extension": ".py",
   "mimetype": "text/x-python",
   "name": "python",
   "nbconvert_exporter": "python",
   "pygments_lexer": "ipython3",
   "version": "3.11.0"
  }
 },
 "nbformat": 4,
 "nbformat_minor": 5
}
