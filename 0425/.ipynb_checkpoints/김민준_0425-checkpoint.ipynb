{
 "cells": [
  {
   "cell_type": "code",
   "execution_count": 1,
   "id": "aaafe77c-0f1d-42d8-8572-ff752d1ba186",
   "metadata": {},
   "outputs": [],
   "source": [
    "import pandas as pd\n",
    "import numpy as np\n",
    "import matplotlib.pyplot as plt\n",
    "import seaborn as sns\n",
    "import warnings\n",
    "warnings.filterwarnings(action='ignore')\n",
    "%config IPCompleter.greedy=True"
   ]
  },
  {
   "cell_type": "code",
   "execution_count": 2,
   "id": "dda7bb47-61cb-43bc-99cc-fa5a113a119f",
   "metadata": {},
   "outputs": [],
   "source": [
    "member = pd.read_csv(\"./member.csv\")"
   ]
  },
  {
   "cell_type": "code",
   "execution_count": null,
   "id": "cd92f729-58ca-4235-b7f4-3ac9bb43b8f4",
   "metadata": {},
   "outputs": [],
   "source": [
    "# from IPython.display import display, HTML\n",
    "\n",
    "\n",
    "# # HTML 테이블로 변환 후 스크롤 영역 지정\n",
    "# html = member.to_html()\n",
    "# scrollable_html = f\"\"\"\n",
    "# <div style='height:1200px; overflow:auto;'>\n",
    "# {html}\n",
    "# </div>\n",
    "# \"\"\"\n",
    "\n",
    "# display(HTML(scrollable_html))"
   ]
  },
  {
   "cell_type": "code",
   "execution_count": null,
   "id": "05a3d104-f7c8-4919-bbdc-7084546bbc66",
   "metadata": {},
   "outputs": [],
   "source": [
    "member"
   ]
  },
  {
   "cell_type": "code",
   "execution_count": null,
   "id": "295cd5a1-7fc4-42bc-ae33-872604464f15",
   "metadata": {},
   "outputs": [],
   "source": []
  },
  {
   "cell_type": "code",
   "execution_count": null,
   "id": "b253e520-3c9e-4a1c-94a7-7fec3c3a0d6b",
   "metadata": {},
   "outputs": [],
   "source": [
    "member.describe()"
   ]
  },
  {
   "cell_type": "code",
   "execution_count": null,
   "id": "a67ebab4-6eb2-4199-8583-185d1132545b",
   "metadata": {},
   "outputs": [],
   "source": [
    "member.isnull().sum() #결측치를 확인해봄 "
   ]
  },
  {
   "cell_type": "code",
   "execution_count": null,
   "id": "0db3027c-0245-473b-b187-5b913688e7ee",
   "metadata": {},
   "outputs": [],
   "source": [
    "member[member.isnull().any(axis=1)] #결측치 로우를 확인했는데 어떤 컬럼이 결측치라서 나왔는지 확인하기 어려움"
   ]
  },
  {
   "cell_type": "code",
   "execution_count": null,
   "id": "a607c796-1f89-42b8-bc89-7954e0a188e7",
   "metadata": {},
   "outputs": [],
   "source": [
    "sns.heatmap(member.corr(), annot=True, cmap='coolwarm')"
   ]
  },
  {
   "cell_type": "code",
   "execution_count": null,
   "id": "83168b3d-68a5-4b52-80b5-6b38242079fc",
   "metadata": {},
   "outputs": [],
   "source": [
    "counts = member.count()\n",
    "df_counts = counts.reset_index()\n",
    "df_counts.columns = ['column', 'count']\n",
    "\n",
    "sns.barplot(x='column', y='count', data=df_counts)"
   ]
  },
  {
   "cell_type": "code",
   "execution_count": null,
   "id": "3da5057e-0054-44ef-9fff-48c874049591",
   "metadata": {},
   "outputs": [],
   "source": []
  },
  {
   "cell_type": "code",
   "execution_count": null,
   "id": "c5cbcc0e-0ade-4bff-a842-2f0609cbbb70",
   "metadata": {},
   "outputs": [],
   "source": []
  },
  {
   "cell_type": "code",
   "execution_count": null,
   "id": "1191e164-01d3-4250-85a0-3d2402c4d6e7",
   "metadata": {},
   "outputs": [],
   "source": []
  }
 ],
 "metadata": {
  "kernelspec": {
   "display_name": "Python 3 (ipykernel)",
   "language": "python",
   "name": "python3"
  },
  "language_info": {
   "codemirror_mode": {
    "name": "ipython",
    "version": 3
   },
   "file_extension": ".py",
   "mimetype": "text/x-python",
   "name": "python",
   "nbconvert_exporter": "python",
   "pygments_lexer": "ipython3",
   "version": "3.11.0"
  }
 },
 "nbformat": 4,
 "nbformat_minor": 5
}
