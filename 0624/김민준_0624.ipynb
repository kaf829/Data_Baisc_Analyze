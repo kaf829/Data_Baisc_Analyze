{
 "cells": [
  {
   "cell_type": "code",
   "execution_count": 2,
   "id": "cb397799-5cb8-41e2-b087-4a8ae6bec67f",
   "metadata": {},
   "outputs": [],
   "source": [
    "import numpy as np\n",
    "\n",
    "def sigmoid(x):\n",
    "    return 1. / (1. + np.exp(-x))\n",
    "\n",
    "def numerical_derivative(f, x):\n",
    "    delta_x = 1e-4\n",
    "    grad = np.zeros_like(x)\n",
    "    it = np.nditer(x, flags=['multi_index'], op_flags=['readwrite'])\n",
    "    while not it.finished:\n",
    "        idx = it.multi_index\n",
    "        tmp_val = x[idx]\n",
    "        x[idx] = float(tmp_val) + delta_x\n",
    "        fx1 = f(x)\n",
    "        x[idx] = float(tmp_val) - delta_x\n",
    "        fx2 = f(x)\n",
    "        grad[idx] = (fx1 - fx2) / (2 * delta_x)\n",
    "        x[idx] = tmp_val\n",
    "        it.iternext()\n",
    "    return grad\n",
    "\n",
    "class LogicGate:\n",
    "    def __init__(self, gate_name, xdata, tdata):\n",
    "        self.name = gate_name\n",
    "        self.xdata = xdata\n",
    "        self.tdata = tdata.reshape(-1, 1)\n",
    "        self.W = np.random.rand(xdata.shape[1], 1)\n",
    "        self.b = np.random.rand(1)\n",
    "        self.learning_rate = 1e-2\n",
    "\n",
    "    def loss_func(self):\n",
    "        delta = 1e-7\n",
    "        z = np.dot(self.xdata, self.W) + self.b\n",
    "        y = sigmoid(z)\n",
    "        return -np.sum(self.tdata * np.log(y + delta) + (1 - self.tdata) * np.log(1 - y + delta))\n",
    "\n",
    "    def train(self):\n",
    "        f = lambda x: self.loss_func()\n",
    "        for step in range(180001):\n",
    "            self.W -= self.learning_rate * numerical_derivative(f, self.W)\n",
    "            self.b -= self.learning_rate * numerical_derivative(f, self.b)\n",
    "            if step % 10000 == 0:\n",
    "                print(f\"{self.name} step {step}, loss = {self.loss_func()}\")\n",
    "\n",
    "    def predict(self, x):\n",
    "        z = np.dot(x, self.W) + self.b\n",
    "        y = sigmoid(z)\n",
    "        logical_val = 1 if y > 0.5 else 0\n",
    "        return y, logical_val\n",
    "\n",
    "    def accuracy(self, test_input, test_target):\n",
    "        matched = 0\n",
    "        for idx in range(len(test_input)):\n",
    "            (_, logical_val) = self.predict(test_input[idx])\n",
    "            if logical_val == test_target[idx]:\n",
    "                matched += 1\n",
    "        return matched / len(test_input)\n",
    "\n"
   ]
  },
  {
   "cell_type": "code",
   "execution_count": 3,
   "id": "7faa183b-eee2-4c63-8300-0030ad456706",
   "metadata": {},
   "outputs": [],
   "source": [
    "xdata = np.array([[0,0], [0,1], [1,0], [1,1]])"
   ]
  },
  {
   "cell_type": "code",
   "execution_count": 4,
   "id": "375373b3-36a4-40df-8834-48a747a067c0",
   "metadata": {},
   "outputs": [
    {
     "name": "stdout",
     "output_type": "stream",
     "text": [
      "OR_GATE step 0, loss = 1.9148486850851236\n",
      "OR_GATE step 10000, loss = 0.09452893203252861\n",
      "OR_GATE step 20000, loss = 0.04671747577421242\n",
      "OR_GATE step 30000, loss = 0.030912491817671462\n",
      "OR_GATE step 40000, loss = 0.02307216299267471\n",
      "OR_GATE step 50000, loss = 0.01839521086281991\n",
      "OR_GATE step 60000, loss = 0.015290832175252017\n",
      "OR_GATE step 70000, loss = 0.01308094159244645\n",
      "OR_GATE step 80000, loss = 0.01142803052486527\n",
      "OR_GATE step 90000, loss = 0.010145302774826614\n",
      "OR_GATE step 100000, loss = 0.009121038078144756\n",
      "OR_GATE step 110000, loss = 0.008284335453805119\n",
      "OR_GATE step 120000, loss = 0.00758803892291547\n",
      "OR_GATE step 130000, loss = 0.006999569216160975\n",
      "OR_GATE step 140000, loss = 0.006495697648163727\n",
      "OR_GATE step 150000, loss = 0.006059417324662433\n",
      "OR_GATE step 160000, loss = 0.005677991497321398\n",
      "OR_GATE step 170000, loss = 0.005341692978027845\n",
      "OR_GATE step 180000, loss = 0.005042965102846402\n"
     ]
    }
   ],
   "source": [
    "or_tdata = np.array([0,1,1,1])\n",
    "OR_gate = LogicGate(\"OR_GATE\", xdata, or_tdata)\n",
    "OR_gate.train()"
   ]
  },
  {
   "cell_type": "code",
   "execution_count": 20,
   "id": "4f2513e1-fe65-456b-b177-e2bac142d2c7",
   "metadata": {},
   "outputs": [
    {
     "name": "stdout",
     "output_type": "stream",
     "text": [
      "1.0\n"
     ]
    }
   ],
   "source": [
    "test_xdata= np.array([[0,0], [0,1], [1,0], [1,1]])\n",
    "test_tdata = np.array([0,1,1,1])\n",
    "accuracy_ret = OR_gate.accuracy(test_xdata, test_tdata)\n",
    "print(accuracy_ret)"
   ]
  },
  {
   "cell_type": "code",
   "execution_count": 21,
   "id": "da27e4d2-f44f-4528-9de5-169ee417e014",
   "metadata": {},
   "outputs": [
    {
     "name": "stdout",
     "output_type": "stream",
     "text": [
      "NAND_GATE step 0, loss = 2.89433114382009\n",
      "NAND_GATE step 10000, loss = 0.1730549685692322\n",
      "NAND_GATE step 20000, loss = 0.0874115769582245\n",
      "NAND_GATE step 30000, loss = 0.05817934313335662\n",
      "NAND_GATE step 40000, loss = 0.04352697559698127\n",
      "NAND_GATE step 50000, loss = 0.034744455669909274\n",
      "NAND_GATE step 60000, loss = 0.028899641952677677\n",
      "NAND_GATE step 70000, loss = 0.02473233028429601\n",
      "NAND_GATE step 80000, loss = 0.021612149007285412\n",
      "NAND_GATE step 90000, loss = 0.019189079530537285\n",
      "NAND_GATE step 100000, loss = 0.0172533080321512\n",
      "NAND_GATE step 110000, loss = 0.015671463162308663\n",
      "NAND_GATE step 120000, loss = 0.014354732092298698\n",
      "NAND_GATE step 130000, loss = 0.013241698365042768\n",
      "NAND_GATE step 140000, loss = 0.012288540835224838\n",
      "NAND_GATE step 150000, loss = 0.01146315732629979\n",
      "NAND_GATE step 160000, loss = 0.010741494836069024\n",
      "NAND_GATE step 170000, loss = 0.010105176914078525\n",
      "NAND_GATE step 180000, loss = 0.009539923217027171\n"
     ]
    }
   ],
   "source": [
    "nand_tdata = np.array([1,1,1,0])\n",
    "NAND_gate = LogicGate(\"NAND_GATE\", xdata, nand_tdata)\n",
    "NAND_gate.train()"
   ]
  },
  {
   "cell_type": "code",
   "execution_count": 22,
   "id": "c89bccd1-6c60-4aec-90e8-b8dd779625c0",
   "metadata": {},
   "outputs": [
    {
     "name": "stdout",
     "output_type": "stream",
     "text": [
      "1.0\n"
     ]
    }
   ],
   "source": [
    "test_xdata = np.array([[0,0], [0,1], [1,0], [1,1]])\n",
    "test_tdata = np.array([1,1,1,0])\n",
    "accuracy_ret = NAND_gate.accuracy(test_xdata, test_tdata)\n",
    "print(accuracy_ret)"
   ]
  },
  {
   "cell_type": "code",
   "execution_count": 23,
   "id": "6d187f17-0931-4422-a26d-731699c6f201",
   "metadata": {},
   "outputs": [
    {
     "data": {
      "text/plain": [
       "array([[0, 1],\n",
       "       [1, 1],\n",
       "       [1, 1],\n",
       "       [1, 0]])"
      ]
     },
     "execution_count": 23,
     "metadata": {},
     "output_type": "execute_result"
    }
   ],
   "source": [
    "hidden_output = []\n",
    "for input_data in xdata:\n",
    "    y, or_val = OR_gate.predict(input_data)\n",
    "    y, nand_val = NAND_gate.predict(input_data)\n",
    "    hidden_output.append([or_val, nand_val])\n",
    "hidden_output = np.array(hidden_output)\n",
    "hidden_output"
   ]
  },
  {
   "cell_type": "code",
   "execution_count": 24,
   "id": "9c3e8c37-a523-4ad4-8e57-65693c95b055",
   "metadata": {},
   "outputs": [
    {
     "name": "stdout",
     "output_type": "stream",
     "text": [
      "AND_GATE step 0, loss = 3.028425182651552\n",
      "AND_GATE step 10000, loss = 0.18095813186097387\n",
      "AND_GATE step 20000, loss = 0.08907252483967518\n",
      "AND_GATE step 30000, loss = 0.05881140413893336\n",
      "AND_GATE step 40000, loss = 0.043837903627709895\n",
      "AND_GATE step 50000, loss = 0.03492096236666671\n",
      "AND_GATE step 60000, loss = 0.029009397182847528\n",
      "AND_GATE step 70000, loss = 0.02480499824721628\n",
      "AND_GATE step 80000, loss = 0.021662505058688143\n",
      "AND_GATE step 90000, loss = 0.019225192394712383\n",
      "AND_GATE step 100000, loss = 0.017279901454876127\n",
      "AND_GATE step 110000, loss = 0.015691457495103533\n",
      "AND_GATE step 120000, loss = 0.014370013719559333\n",
      "AND_GATE step 130000, loss = 0.013253530523277718\n",
      "AND_GATE step 140000, loss = 0.012297795368805224\n",
      "AND_GATE step 150000, loss = 0.011470451554680915\n",
      "AND_GATE step 160000, loss = 0.010747275575296816\n",
      "AND_GATE step 170000, loss = 0.010109773798142643\n",
      "AND_GATE step 180000, loss = 0.00954358352446667\n"
     ]
    }
   ],
   "source": [
    "and_tdata = np.array([0,1,1,0]) \n",
    "AND_gate = LogicGate(\"AND_GATE\", hidden_output, and_tdata)\n",
    "AND_gate.train()"
   ]
  },
  {
   "cell_type": "code",
   "execution_count": 10,
   "id": "b3ae740c-5800-40cb-b89d-89da2e6a30dc",
   "metadata": {},
   "outputs": [
    {
     "name": "stdout",
     "output_type": "stream",
     "text": [
      "[0 0] => 0\n",
      "[0 1] => 1\n",
      "[1 0] => 1\n",
      "[1 1] => 0\n",
      "XOR Accuracy => 1.0\n"
     ]
    }
   ],
   "source": [
    "for input_data in xdata:\n",
    "    _, or_val = OR_gate.predict(input_data)\n",
    "    _, nand_val = NAND_gate.predict(input_data)\n",
    "    and_input = np.array([or_val, nand_val])\n",
    "    _, xor_val = AND_gate.predict(and_input)\n",
    "    print(f\"{input_data} => {xor_val}\")\n",
    "\n",
    "xor_test_input = hidden_output\n",
    "xor_test_target = and_tdata\n",
    "accuracy = AND_gate.accuracy(xor_test_input, xor_test_target)\n",
    "print(\"XOR Accuracy =>\", accuracy)"
   ]
  },
  {
   "cell_type": "code",
   "execution_count": null,
   "id": "310e1829-5f4a-4d00-ac94-f64d4acfb9d3",
   "metadata": {},
   "outputs": [],
   "source": []
  }
 ],
 "metadata": {
  "kernelspec": {
   "display_name": "Python 3 (ipykernel)",
   "language": "python",
   "name": "python3"
  },
  "language_info": {
   "codemirror_mode": {
    "name": "ipython",
    "version": 3
   },
   "file_extension": ".py",
   "mimetype": "text/x-python",
   "name": "python",
   "nbconvert_exporter": "python",
   "pygments_lexer": "ipython3",
   "version": "3.11.0"
  }
 },
 "nbformat": 4,
 "nbformat_minor": 5
}
