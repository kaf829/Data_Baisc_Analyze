{
 "cells": [
  {
   "cell_type": "code",
   "execution_count": 2,
   "id": "cb397799-5cb8-41e2-b087-4a8ae6bec67f",
   "metadata": {},
   "outputs": [],
   "source": [
    "import numpy as np\n",
    "\n",
    "def sigmoid(x):\n",
    "    return 1. / (1. + np.exp(-x))\n",
    "\n",
    "def numerical_derivative(f, x):\n",
    "    delta_x = 1e-4\n",
    "    grad = np.zeros_like(x)\n",
    "    it = np.nditer(x, flags=['multi_index'], op_flags=['readwrite'])\n",
    "    while not it.finished:\n",
    "        idx = it.multi_index\n",
    "        tmp_val = x[idx]\n",
    "        x[idx] = float(tmp_val) + delta_x\n",
    "        fx1 = f(x)\n",
    "        x[idx] = float(tmp_val) - delta_x\n",
    "        fx2 = f(x)\n",
    "        grad[idx] = (fx1 - fx2) / (2 * delta_x)\n",
    "        x[idx] = tmp_val\n",
    "        it.iternext()\n",
    "    return grad\n",
    "\n",
    "class LogicGate:\n",
    "    def __init__(self, gate_name, xdata, tdata):\n",
    "        self.name = gate_name\n",
    "        self.xdata = xdata\n",
    "        self.tdata = tdata.reshape(-1, 1)\n",
    "        self.W = np.random.rand(xdata.shape[1], 1)\n",
    "        self.b = np.random.rand(1)\n",
    "        self.learning_rate = 1e-2\n",
    "\n",
    "    def loss_func(self):\n",
    "        delta = 1e-7\n",
    "        z = np.dot(self.xdata, self.W) + self.b\n",
    "        y = sigmoid(z)\n",
    "        return -np.sum(self.tdata * np.log(y + delta) + (1 - self.tdata) * np.log(1 - y + delta))\n",
    "\n",
    "    def train(self):\n",
    "        f = lambda x: self.loss_func()\n",
    "        for step in range(180001):\n",
    "            self.W -= self.learning_rate * numerical_derivative(f, self.W)\n",
    "            self.b -= self.learning_rate * numerical_derivative(f, self.b)\n",
    "            if step % 10000 == 0:\n",
    "                print(f\"{self.name} step {step}, loss = {self.loss_func()}\")\n",
    "\n",
    "    def predict(self, x):\n",
    "        z = np.dot(x, self.W) + self.b\n",
    "        y = sigmoid(z)\n",
    "        logical_val = 1 if y > 0.5 else 0\n",
    "        return y, logical_val\n",
    "\n",
    "    def accuracy(self, test_input, test_target):\n",
    "        matched = 0\n",
    "        for idx in range(len(test_input)):\n",
    "            (_, logical_val) = self.predict(test_input[idx])\n",
    "            if logical_val == test_target[idx]:\n",
    "                matched += 1\n",
    "        return matched / len(test_input)\n",
    "\n"
   ]
  },
  {
   "cell_type": "code",
   "execution_count": 3,
   "id": "7faa183b-eee2-4c63-8300-0030ad456706",
   "metadata": {},
   "outputs": [],
   "source": [
    "xdata = np.array([[0,0], [0,1], [1,0], [1,1]])"
   ]
  },
  {
   "cell_type": "code",
   "execution_count": 4,
   "id": "375373b3-36a4-40df-8834-48a747a067c0",
   "metadata": {},
   "outputs": [
    {
     "name": "stdout",
     "output_type": "stream",
     "text": [
      "OR_GATE step 0, loss = 1.9148486850851236\n",
      "OR_GATE step 10000, loss = 0.09452893203252861\n",
      "OR_GATE step 20000, loss = 0.04671747577421242\n",
      "OR_GATE step 30000, loss = 0.030912491817671462\n",
      "OR_GATE step 40000, loss = 0.02307216299267471\n",
      "OR_GATE step 50000, loss = 0.01839521086281991\n",
      "OR_GATE step 60000, loss = 0.015290832175252017\n",
      "OR_GATE step 70000, loss = 0.01308094159244645\n",
      "OR_GATE step 80000, loss = 0.01142803052486527\n",
      "OR_GATE step 90000, loss = 0.010145302774826614\n",
      "OR_GATE step 100000, loss = 0.009121038078144756\n",
      "OR_GATE step 110000, loss = 0.008284335453805119\n",
      "OR_GATE step 120000, loss = 0.00758803892291547\n",
      "OR_GATE step 130000, loss = 0.006999569216160975\n",
      "OR_GATE step 140000, loss = 0.006495697648163727\n",
      "OR_GATE step 150000, loss = 0.006059417324662433\n",
      "OR_GATE step 160000, loss = 0.005677991497321398\n",
      "OR_GATE step 170000, loss = 0.005341692978027845\n",
      "OR_GATE step 180000, loss = 0.005042965102846402\n"
     ]
    }
   ],
   "source": [
    "or_tdata = np.array([0,1,1,1])\n",
    "OR_gate = LogicGate(\"OR_GATE\", xdata, or_tdata)\n",
    "OR_gate.train()"
   ]
  },
  {
   "cell_type": "code",
   "execution_count": 17,
   "id": "4f2513e1-fe65-456b-b177-e2bac142d2c7",
   "metadata": {},
   "outputs": [
    {
     "name": "stdout",
     "output_type": "stream",
     "text": [
      "1.0\n"
     ]
    }
   ],
   "source": [
    "test_xdata= np.array([[0,0], [0,1], [1,0], [1,1]])\n",
    "test_tdata = np.array([0,1,1,1])\n",
    "accuracy_ret = OR_gate.accuracy(test_xdata, test_tdata)\n",
    "print(accuracy_ret)"
   ]
  },
  {
   "cell_type": "code",
   "execution_count": 18,
   "id": "da27e4d2-f44f-4528-9de5-169ee417e014",
   "metadata": {},
   "outputs": [
    {
     "name": "stdout",
     "output_type": "stream",
     "text": [
      "NAND_GATE step 0, loss = 2.920655179221294\n",
      "NAND_GATE step 10000, loss = 0.17209615544150716\n",
      "NAND_GATE step 20000, loss = 0.08716009155637788\n",
      "NAND_GATE step 30000, loss = 0.05806680450537959\n",
      "NAND_GATE step 40000, loss = 0.04346365667707596\n",
      "NAND_GATE step 50000, loss = 0.03470398368588235\n",
      "NAND_GATE step 60000, loss = 0.02887158210406686\n",
      "NAND_GATE step 70000, loss = 0.024711748265332983\n",
      "NAND_GATE step 80000, loss = 0.021596414675302586\n",
      "NAND_GATE step 90000, loss = 0.019176664546468852\n",
      "NAND_GATE step 100000, loss = 0.017243264380893394\n",
      "NAND_GATE step 110000, loss = 0.015663171926910153\n",
      "NAND_GATE step 120000, loss = 0.014347772211675595\n",
      "NAND_GATE step 130000, loss = 0.013235773502951041\n",
      "NAND_GATE step 140000, loss = 0.012283436426475714\n",
      "NAND_GATE step 150000, loss = 0.011458714216910262\n",
      "NAND_GATE step 160000, loss = 0.010737592495445362\n",
      "NAND_GATE step 170000, loss = 0.010101722397842737\n",
      "NAND_GATE step 180000, loss = 0.009536843707707986\n"
     ]
    }
   ],
   "source": [
    "nand_tdata = np.array([1,1,1,0])\n",
    "NAND_gate = LogicGate(\"NAND_GATE\", xdata, nand_tdata)\n",
    "NAND_gate.train()"
   ]
  },
  {
   "cell_type": "code",
   "execution_count": 16,
   "id": "c89bccd1-6c60-4aec-90e8-b8dd779625c0",
   "metadata": {},
   "outputs": [
    {
     "name": "stdout",
     "output_type": "stream",
     "text": [
      "1.0\n"
     ]
    }
   ],
   "source": [
    "test_xdata = np.array([[0,0], [0,1], [1,0], [1,1]])\n",
    "test_tdata = np.array([1,1,1,0])\n",
    "accuracy_ret = NAND_gate.accuracy(test_xdata, test_tdata)\n",
    "print(accuracy_ret)"
   ]
  },
  {
   "cell_type": "code",
   "execution_count": 19,
   "id": "6d187f17-0931-4422-a26d-731699c6f201",
   "metadata": {},
   "outputs": [
    {
     "data": {
      "text/plain": [
       "array([[0, 1],\n",
       "       [1, 1],\n",
       "       [1, 1],\n",
       "       [1, 0]])"
      ]
     },
     "execution_count": 19,
     "metadata": {},
     "output_type": "execute_result"
    }
   ],
   "source": [
    "hidden_output = []\n",
    "for input_data in xdata:\n",
    "    y, or_val = OR_gate.predict(input_data)\n",
    "    y, nand_val = NAND_gate.predict(input_data)\n",
    "    hidden_output.append([or_val, nand_val])\n",
    "hidden_output = np.array(hidden_output)\n",
    "hidden_output"
   ]
  },
  {
   "cell_type": "code",
   "execution_count": 8,
   "id": "9c3e8c37-a523-4ad4-8e57-65693c95b055",
   "metadata": {},
   "outputs": [
    {
     "name": "stdout",
     "output_type": "stream",
     "text": [
      "AND_GATE step 0, loss = 3.190708764621473\n",
      "AND_GATE step 10000, loss = 0.1825474209544512\n",
      "AND_GATE step 20000, loss = 0.08946495674710053\n",
      "AND_GATE step 30000, loss = 0.0589835466436851\n",
      "AND_GATE step 40000, loss = 0.04393384177823162\n",
      "AND_GATE step 50000, loss = 0.03498195167671087\n",
      "AND_GATE step 60000, loss = 0.029051535991160116\n",
      "AND_GATE step 70000, loss = 0.024835834094727113\n",
      "AND_GATE step 80000, loss = 0.021686037865563182\n",
      "AND_GATE step 90000, loss = 0.019243736865212593\n",
      "AND_GATE step 100000, loss = 0.01729488894321463\n",
      "AND_GATE step 110000, loss = 0.01570382023522078\n",
      "AND_GATE step 120000, loss = 0.014380384724656185\n",
      "AND_GATE step 130000, loss = 0.013262354612820996\n",
      "AND_GATE step 140000, loss = 0.012305394210028117\n",
      "AND_GATE step 150000, loss = 0.01147706349123021\n",
      "AND_GATE step 160000, loss = 0.010753080947261148\n",
      "AND_GATE step 170000, loss = 0.010114911563328893\n",
      "AND_GATE step 180000, loss = 0.009548162477094\n"
     ]
    }
   ],
   "source": [
    "and_tdata = np.array([0,1,1,0]) \n",
    "AND_gate = LogicGate(\"AND_GATE\", hidden_output, and_tdata)\n",
    "AND_gate.train()"
   ]
  },
  {
   "cell_type": "code",
   "execution_count": 10,
   "id": "b3ae740c-5800-40cb-b89d-89da2e6a30dc",
   "metadata": {},
   "outputs": [
    {
     "name": "stdout",
     "output_type": "stream",
     "text": [
      "[0 0] => 0\n",
      "[0 1] => 1\n",
      "[1 0] => 1\n",
      "[1 1] => 0\n",
      "XOR Accuracy => 1.0\n"
     ]
    }
   ],
   "source": [
    "for input_data in xdata:\n",
    "    _, or_val = OR_gate.predict(input_data)\n",
    "    _, nand_val = NAND_gate.predict(input_data)\n",
    "    and_input = np.array([or_val, nand_val])\n",
    "    _, xor_val = AND_gate.predict(and_input)\n",
    "    print(f\"{input_data} => {xor_val}\")\n",
    "\n",
    "xor_test_input = hidden_output\n",
    "xor_test_target = and_tdata\n",
    "accuracy = AND_gate.accuracy(xor_test_input, xor_test_target)\n",
    "print(\"XOR Accuracy =>\", accuracy)"
   ]
  },
  {
   "cell_type": "code",
   "execution_count": null,
   "id": "310e1829-5f4a-4d00-ac94-f64d4acfb9d3",
   "metadata": {},
   "outputs": [],
   "source": []
  }
 ],
 "metadata": {
  "kernelspec": {
   "display_name": "Python 3 (ipykernel)",
   "language": "python",
   "name": "python3"
  },
  "language_info": {
   "codemirror_mode": {
    "name": "ipython",
    "version": 3
   },
   "file_extension": ".py",
   "mimetype": "text/x-python",
   "name": "python",
   "nbconvert_exporter": "python",
   "pygments_lexer": "ipython3",
   "version": "3.11.0"
  }
 },
 "nbformat": 4,
 "nbformat_minor": 5
}
