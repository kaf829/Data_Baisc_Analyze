{
 "cells": [
  {
   "cell_type": "code",
   "execution_count": 2,
   "id": "4ff906db-20c8-4ba9-9a9a-1d5b168b8615",
   "metadata": {},
   "outputs": [
    {
     "name": "stdout",
     "output_type": "stream",
     "text": [
      "          일시 지점명  예측 평균 이슬점온도(°C)\n",
      "0 2026-01-01  고산            3.321\n",
      "1 2026-01-02  고산            3.717\n",
      "2 2026-01-03  고산            2.525\n",
      "3 2026-01-04  고산            1.614\n",
      "4 2026-01-05  고산            3.730\n"
     ]
    }
   ],
   "source": [
    "import pandas as pd\n",
    "from sklearn.ensemble import RandomForestRegressor\n",
    "\n",
    "# 📌 1. 데이터 불러오기\n",
    "weather_df = pd.read_csv(\"weather_all_data_cleaned.csv\", encoding=\"euc-kr\")\n",
    "forecast_df = pd.read_csv(\"2026_지점별_예측_통합.csv\", encoding=\"ISO-8859-1\")\n",
    "\n",
    "# 📌 2. forecast_df 컬럼 복구 및 날짜 처리\n",
    "forecast_df.columns = [\n",
    "    \"일시\", \"평균기온(°C)\", \"최저기온(°C)\", \"최고기온(°C)\",\n",
    "    \"일강수량(mm)\", \"최대 순간 풍속(m/s)\", \"최대 풍속(m/s)\",\n",
    "    \"평균 풍속(m/s)\", \"최소 상대습도(%)\", \"평균 증기압(hPa)\",\n",
    "    \"평균 현지기압(hPa)\", \"최저 해면기압(hPa)\", \"일 최심신적설(cm)\",\n",
    "    \"평균 지면온도(°C)\", \"지점명\"\n",
    "]\n",
    "forecast_df[\"지점명\"] = forecast_df[\"지점명\"].str.encode('latin1').str.decode('utf-8')\n",
    "forecast_df[\"일시\"] = pd.to_datetime(forecast_df[\"일시\"])\n",
    "\n",
    "# 📌 3. weather_df 컬럼 정리\n",
    "weather_df[\"일시\"] = pd.to_datetime(weather_df[\"일시\"])\n",
    "weather_df = weather_df[[\n",
    "    \"지점\", \"지점명\", \"일시\", \"평균기온(°C)\", \"최저기온(°C)\", \"최고기온(°C)\",\n",
    "    \"일강수량(mm)\", \"최대 순간 풍속(m/s)\", \"최대 풍속(m/s)\", \"평균 풍속(m/s)\",\n",
    "    \"최소 상대습도(%)\", \"평균 증기압(hPa)\", \"평균 현지기압(hPa)\", \"평균 지면온도(°C)\",\n",
    "    \"평균 이슬점온도(°C)\"\n",
    "]].dropna()\n",
    "\n",
    "# 📌 4. 학습/예측 데이터 분리\n",
    "X_train = weather_df.drop(columns=[\"지점\", \"지점명\", \"일시\", \"평균 이슬점온도(°C)\"])\n",
    "y_train = weather_df[\"평균 이슬점온도(°C)\"]\n",
    "\n",
    "X_test = forecast_df[[\n",
    "    \"평균기온(°C)\", \"최저기온(°C)\", \"최고기온(°C)\", \"일강수량(mm)\",\n",
    "    \"최대 순간 풍속(m/s)\", \"최대 풍속(m/s)\", \"평균 풍속(m/s)\", \"최소 상대습도(%)\",\n",
    "    \"평균 증기압(hPa)\", \"평균 현지기압(hPa)\", \"평균 지면온도(°C)\"\n",
    "]]\n",
    "\n",
    "# 📌 5. 모델 학습 및 예측\n",
    "model = RandomForestRegressor(n_estimators=100, random_state=42)\n",
    "model.fit(X_train, y_train)\n",
    "forecast_df[\"예측 평균 이슬점온도(°C)\"] = model.predict(X_test)\n",
    "\n",
    "# 📌 6. 지점별 일자별 예측 결과 정리\n",
    "result_df = forecast_df[[\"일시\", \"지점명\", \"예측 평균 이슬점온도(°C)\"]].sort_values(by=[\"지점명\", \"일시\"])\n",
    "\n",
    "result_df.to_csv(\"2026_이슬점온도_예측.csv\", index=False, encoding=\"utf-8-sig\")\n",
    "\n",
    "# 📌 출력 확인\n",
    "print(result_df.head())\n"
   ]
  },
  {
   "cell_type": "code",
   "execution_count": 3,
   "id": "c831ceea-c645-4d03-acee-6c6ce1f210a9",
   "metadata": {},
   "outputs": [
    {
     "ename": "KeyError",
     "evalue": "\"['평균 상대습도(%)'] not found in axis\"",
     "output_type": "error",
     "traceback": [
      "\u001b[31m---------------------------------------------------------------------------\u001b[39m",
      "\u001b[31mKeyError\u001b[39m                                  Traceback (most recent call last)",
      "\u001b[36mCell\u001b[39m\u001b[36m \u001b[39m\u001b[32mIn[3]\u001b[39m\u001b[32m, line 29\u001b[39m\n\u001b[32m     21\u001b[39m weather_df = weather_df[[\n\u001b[32m     22\u001b[39m     \u001b[33m\"\u001b[39m\u001b[33m지점\u001b[39m\u001b[33m\"\u001b[39m, \u001b[33m\"\u001b[39m\u001b[33m지점명\u001b[39m\u001b[33m\"\u001b[39m, \u001b[33m\"\u001b[39m\u001b[33m일시\u001b[39m\u001b[33m\"\u001b[39m, \u001b[33m\"\u001b[39m\u001b[33m평균기온(°C)\u001b[39m\u001b[33m\"\u001b[39m, \u001b[33m\"\u001b[39m\u001b[33m최저기온(°C)\u001b[39m\u001b[33m\"\u001b[39m, \u001b[33m\"\u001b[39m\u001b[33m최고기온(°C)\u001b[39m\u001b[33m\"\u001b[39m,\n\u001b[32m     23\u001b[39m     \u001b[33m\"\u001b[39m\u001b[33m일강수량(mm)\u001b[39m\u001b[33m\"\u001b[39m, \u001b[33m\"\u001b[39m\u001b[33m최대 순간 풍속(m/s)\u001b[39m\u001b[33m\"\u001b[39m, \u001b[33m\"\u001b[39m\u001b[33m최대 풍속(m/s)\u001b[39m\u001b[33m\"\u001b[39m, \u001b[33m\"\u001b[39m\u001b[33m평균 풍속(m/s)\u001b[39m\u001b[33m\"\u001b[39m,\n\u001b[32m     24\u001b[39m     \u001b[33m\"\u001b[39m\u001b[33m최소 상대습도(\u001b[39m\u001b[33m%\u001b[39m\u001b[33m)\u001b[39m\u001b[33m\"\u001b[39m, \u001b[33m\"\u001b[39m\u001b[33m평균 증기압(hPa)\u001b[39m\u001b[33m\"\u001b[39m, \u001b[33m\"\u001b[39m\u001b[33m평균 현지기압(hPa)\u001b[39m\u001b[33m\"\u001b[39m, \u001b[33m\"\u001b[39m\u001b[33m평균 지면온도(°C)\u001b[39m\u001b[33m\"\u001b[39m,\n\u001b[32m     25\u001b[39m     \u001b[33m\"\u001b[39m\u001b[33m평균 이슬점온도(°C)\u001b[39m\u001b[33m\"\u001b[39m\n\u001b[32m     26\u001b[39m ]].dropna()\n\u001b[32m     28\u001b[39m \u001b[38;5;66;03m# 📌 4. 학습/예측 데이터 분리\u001b[39;00m\n\u001b[32m---> \u001b[39m\u001b[32m29\u001b[39m X_train = \u001b[43mweather_df\u001b[49m\u001b[43m.\u001b[49m\u001b[43mdrop\u001b[49m\u001b[43m(\u001b[49m\u001b[43mcolumns\u001b[49m\u001b[43m=\u001b[49m\u001b[43m[\u001b[49m\u001b[33;43m\"\u001b[39;49m\u001b[33;43m지점\u001b[39;49m\u001b[33;43m\"\u001b[39;49m\u001b[43m,\u001b[49m\u001b[43m \u001b[49m\u001b[33;43m\"\u001b[39;49m\u001b[33;43m지점명\u001b[39;49m\u001b[33;43m\"\u001b[39;49m\u001b[43m,\u001b[49m\u001b[43m \u001b[49m\u001b[33;43m\"\u001b[39;49m\u001b[33;43m일시\u001b[39;49m\u001b[33;43m\"\u001b[39;49m\u001b[43m,\u001b[49m\u001b[43m \u001b[49m\u001b[33;43m\"\u001b[39;49m\u001b[33;43m평균 상대습도(\u001b[39;49m\u001b[33;43m%\u001b[39;49m\u001b[33;43m)\u001b[39;49m\u001b[33;43m\"\u001b[39;49m\u001b[43m]\u001b[49m\u001b[43m)\u001b[49m\n\u001b[32m     30\u001b[39m y_train = weather_df[\u001b[33m\"\u001b[39m\u001b[33m평균 상대습도(\u001b[39m\u001b[33m%\u001b[39m\u001b[33m)\u001b[39m\u001b[33m\"\u001b[39m]\n\u001b[32m     32\u001b[39m X_test = forecast_df[[\n\u001b[32m     33\u001b[39m     \u001b[33m\"\u001b[39m\u001b[33m평균기온(°C)\u001b[39m\u001b[33m\"\u001b[39m, \u001b[33m\"\u001b[39m\u001b[33m최저기온(°C)\u001b[39m\u001b[33m\"\u001b[39m, \u001b[33m\"\u001b[39m\u001b[33m최고기온(°C)\u001b[39m\u001b[33m\"\u001b[39m, \u001b[33m\"\u001b[39m\u001b[33m일강수량(mm)\u001b[39m\u001b[33m\"\u001b[39m,\n\u001b[32m     34\u001b[39m     \u001b[33m\"\u001b[39m\u001b[33m최대 순간 풍속(m/s)\u001b[39m\u001b[33m\"\u001b[39m, \u001b[33m\"\u001b[39m\u001b[33m최대 풍속(m/s)\u001b[39m\u001b[33m\"\u001b[39m, \u001b[33m\"\u001b[39m\u001b[33m평균 풍속(m/s)\u001b[39m\u001b[33m\"\u001b[39m, \u001b[33m\"\u001b[39m\u001b[33m최소 상대습도(\u001b[39m\u001b[33m%\u001b[39m\u001b[33m)\u001b[39m\u001b[33m\"\u001b[39m,\n\u001b[32m     35\u001b[39m     \u001b[33m\"\u001b[39m\u001b[33m평균 증기압(hPa)\u001b[39m\u001b[33m\"\u001b[39m, \u001b[33m\"\u001b[39m\u001b[33m평균 현지기압(hPa)\u001b[39m\u001b[33m\"\u001b[39m, \u001b[33m\"\u001b[39m\u001b[33m평균 지면온도(°C)\u001b[39m\u001b[33m\"\u001b[39m\n\u001b[32m     36\u001b[39m ]]\n",
      "\u001b[36mFile \u001b[39m\u001b[32m~\\Documents\\GitHub\\Data_Baisc_Analyze\\Data_Baisc_Analyze\\.venv\\Lib\\site-packages\\pandas\\core\\frame.py:5581\u001b[39m, in \u001b[36mDataFrame.drop\u001b[39m\u001b[34m(self, labels, axis, index, columns, level, inplace, errors)\u001b[39m\n\u001b[32m   5433\u001b[39m \u001b[38;5;28;01mdef\u001b[39;00m\u001b[38;5;250m \u001b[39m\u001b[34mdrop\u001b[39m(\n\u001b[32m   5434\u001b[39m     \u001b[38;5;28mself\u001b[39m,\n\u001b[32m   5435\u001b[39m     labels: IndexLabel | \u001b[38;5;28;01mNone\u001b[39;00m = \u001b[38;5;28;01mNone\u001b[39;00m,\n\u001b[32m   (...)\u001b[39m\u001b[32m   5442\u001b[39m     errors: IgnoreRaise = \u001b[33m\"\u001b[39m\u001b[33mraise\u001b[39m\u001b[33m\"\u001b[39m,\n\u001b[32m   5443\u001b[39m ) -> DataFrame | \u001b[38;5;28;01mNone\u001b[39;00m:\n\u001b[32m   5444\u001b[39m \u001b[38;5;250m    \u001b[39m\u001b[33;03m\"\"\"\u001b[39;00m\n\u001b[32m   5445\u001b[39m \u001b[33;03m    Drop specified labels from rows or columns.\u001b[39;00m\n\u001b[32m   5446\u001b[39m \n\u001b[32m   (...)\u001b[39m\u001b[32m   5579\u001b[39m \u001b[33;03m            weight  1.0     0.8\u001b[39;00m\n\u001b[32m   5580\u001b[39m \u001b[33;03m    \"\"\"\u001b[39;00m\n\u001b[32m-> \u001b[39m\u001b[32m5581\u001b[39m     \u001b[38;5;28;01mreturn\u001b[39;00m \u001b[38;5;28;43msuper\u001b[39;49m\u001b[43m(\u001b[49m\u001b[43m)\u001b[49m\u001b[43m.\u001b[49m\u001b[43mdrop\u001b[49m\u001b[43m(\u001b[49m\n\u001b[32m   5582\u001b[39m \u001b[43m        \u001b[49m\u001b[43mlabels\u001b[49m\u001b[43m=\u001b[49m\u001b[43mlabels\u001b[49m\u001b[43m,\u001b[49m\n\u001b[32m   5583\u001b[39m \u001b[43m        \u001b[49m\u001b[43maxis\u001b[49m\u001b[43m=\u001b[49m\u001b[43maxis\u001b[49m\u001b[43m,\u001b[49m\n\u001b[32m   5584\u001b[39m \u001b[43m        \u001b[49m\u001b[43mindex\u001b[49m\u001b[43m=\u001b[49m\u001b[43mindex\u001b[49m\u001b[43m,\u001b[49m\n\u001b[32m   5585\u001b[39m \u001b[43m        \u001b[49m\u001b[43mcolumns\u001b[49m\u001b[43m=\u001b[49m\u001b[43mcolumns\u001b[49m\u001b[43m,\u001b[49m\n\u001b[32m   5586\u001b[39m \u001b[43m        \u001b[49m\u001b[43mlevel\u001b[49m\u001b[43m=\u001b[49m\u001b[43mlevel\u001b[49m\u001b[43m,\u001b[49m\n\u001b[32m   5587\u001b[39m \u001b[43m        \u001b[49m\u001b[43minplace\u001b[49m\u001b[43m=\u001b[49m\u001b[43minplace\u001b[49m\u001b[43m,\u001b[49m\n\u001b[32m   5588\u001b[39m \u001b[43m        \u001b[49m\u001b[43merrors\u001b[49m\u001b[43m=\u001b[49m\u001b[43merrors\u001b[49m\u001b[43m,\u001b[49m\n\u001b[32m   5589\u001b[39m \u001b[43m    \u001b[49m\u001b[43m)\u001b[49m\n",
      "\u001b[36mFile \u001b[39m\u001b[32m~\\Documents\\GitHub\\Data_Baisc_Analyze\\Data_Baisc_Analyze\\.venv\\Lib\\site-packages\\pandas\\core\\generic.py:4788\u001b[39m, in \u001b[36mNDFrame.drop\u001b[39m\u001b[34m(self, labels, axis, index, columns, level, inplace, errors)\u001b[39m\n\u001b[32m   4786\u001b[39m \u001b[38;5;28;01mfor\u001b[39;00m axis, labels \u001b[38;5;129;01min\u001b[39;00m axes.items():\n\u001b[32m   4787\u001b[39m     \u001b[38;5;28;01mif\u001b[39;00m labels \u001b[38;5;129;01mis\u001b[39;00m \u001b[38;5;129;01mnot\u001b[39;00m \u001b[38;5;28;01mNone\u001b[39;00m:\n\u001b[32m-> \u001b[39m\u001b[32m4788\u001b[39m         obj = \u001b[43mobj\u001b[49m\u001b[43m.\u001b[49m\u001b[43m_drop_axis\u001b[49m\u001b[43m(\u001b[49m\u001b[43mlabels\u001b[49m\u001b[43m,\u001b[49m\u001b[43m \u001b[49m\u001b[43maxis\u001b[49m\u001b[43m,\u001b[49m\u001b[43m \u001b[49m\u001b[43mlevel\u001b[49m\u001b[43m=\u001b[49m\u001b[43mlevel\u001b[49m\u001b[43m,\u001b[49m\u001b[43m \u001b[49m\u001b[43merrors\u001b[49m\u001b[43m=\u001b[49m\u001b[43merrors\u001b[49m\u001b[43m)\u001b[49m\n\u001b[32m   4790\u001b[39m \u001b[38;5;28;01mif\u001b[39;00m inplace:\n\u001b[32m   4791\u001b[39m     \u001b[38;5;28mself\u001b[39m._update_inplace(obj)\n",
      "\u001b[36mFile \u001b[39m\u001b[32m~\\Documents\\GitHub\\Data_Baisc_Analyze\\Data_Baisc_Analyze\\.venv\\Lib\\site-packages\\pandas\\core\\generic.py:4830\u001b[39m, in \u001b[36mNDFrame._drop_axis\u001b[39m\u001b[34m(self, labels, axis, level, errors, only_slice)\u001b[39m\n\u001b[32m   4828\u001b[39m         new_axis = axis.drop(labels, level=level, errors=errors)\n\u001b[32m   4829\u001b[39m     \u001b[38;5;28;01melse\u001b[39;00m:\n\u001b[32m-> \u001b[39m\u001b[32m4830\u001b[39m         new_axis = \u001b[43maxis\u001b[49m\u001b[43m.\u001b[49m\u001b[43mdrop\u001b[49m\u001b[43m(\u001b[49m\u001b[43mlabels\u001b[49m\u001b[43m,\u001b[49m\u001b[43m \u001b[49m\u001b[43merrors\u001b[49m\u001b[43m=\u001b[49m\u001b[43merrors\u001b[49m\u001b[43m)\u001b[49m\n\u001b[32m   4831\u001b[39m     indexer = axis.get_indexer(new_axis)\n\u001b[32m   4833\u001b[39m \u001b[38;5;66;03m# Case for non-unique axis\u001b[39;00m\n\u001b[32m   4834\u001b[39m \u001b[38;5;28;01melse\u001b[39;00m:\n",
      "\u001b[36mFile \u001b[39m\u001b[32m~\\Documents\\GitHub\\Data_Baisc_Analyze\\Data_Baisc_Analyze\\.venv\\Lib\\site-packages\\pandas\\core\\indexes\\base.py:7070\u001b[39m, in \u001b[36mIndex.drop\u001b[39m\u001b[34m(self, labels, errors)\u001b[39m\n\u001b[32m   7068\u001b[39m \u001b[38;5;28;01mif\u001b[39;00m mask.any():\n\u001b[32m   7069\u001b[39m     \u001b[38;5;28;01mif\u001b[39;00m errors != \u001b[33m\"\u001b[39m\u001b[33mignore\u001b[39m\u001b[33m\"\u001b[39m:\n\u001b[32m-> \u001b[39m\u001b[32m7070\u001b[39m         \u001b[38;5;28;01mraise\u001b[39;00m \u001b[38;5;167;01mKeyError\u001b[39;00m(\u001b[33mf\u001b[39m\u001b[33m\"\u001b[39m\u001b[38;5;132;01m{\u001b[39;00mlabels[mask].tolist()\u001b[38;5;132;01m}\u001b[39;00m\u001b[33m not found in axis\u001b[39m\u001b[33m\"\u001b[39m)\n\u001b[32m   7071\u001b[39m     indexer = indexer[~mask]\n\u001b[32m   7072\u001b[39m \u001b[38;5;28;01mreturn\u001b[39;00m \u001b[38;5;28mself\u001b[39m.delete(indexer)\n",
      "\u001b[31mKeyError\u001b[39m: \"['평균 상대습도(%)'] not found in axis\""
     ]
    }
   ],
   "source": [
    "import pandas as pd\n",
    "from sklearn.ensemble import RandomForestRegressor\n",
    "\n",
    "# 📌 1. 데이터 불러오기\n",
    "weather_df = pd.read_csv(\"weather_all_data_cleaned.csv\", encoding=\"euc-kr\")\n",
    "forecast_df = pd.read_csv(\"2026_지점별_예측_통합.csv\", encoding=\"ISO-8859-1\")\n",
    "\n",
    "# 📌 2. forecast_df 컬럼 복구 및 날짜 처리\n",
    "forecast_df.columns = [\n",
    "    \"일시\", \"평균기온(°C)\", \"최저기온(°C)\", \"최고기온(°C)\",\n",
    "    \"일강수량(mm)\", \"최대 순간 풍속(m/s)\", \"최대 풍속(m/s)\",\n",
    "    \"평균 풍속(m/s)\", \"최소 상대습도(%)\", \"평균 증기압(hPa)\",\n",
    "    \"평균 현지기압(hPa)\", \"최저 해면기압(hPa)\", \"일 최심신적설(cm)\",\n",
    "    \"평균 지면온도(°C)\", \"지점명\"\n",
    "]\n",
    "forecast_df[\"지점명\"] = forecast_df[\"지점명\"].str.encode('latin1').str.decode('utf-8')\n",
    "forecast_df[\"일시\"] = pd.to_datetime(forecast_df[\"일시\"])\n",
    "\n",
    "# 📌 3. weather_df 컬럼 정리\n",
    "weather_df[\"일시\"] = pd.to_datetime(weather_df[\"일시\"])\n",
    "weather_df = weather_df[[\n",
    "    \"지점\", \"지점명\", \"일시\", \"평균기온(°C)\", \"최저기온(°C)\", \"최고기온(°C)\",\n",
    "    \"일강수량(mm)\", \"최대 순간 풍속(m/s)\", \"최대 풍속(m/s)\", \"평균 풍속(m/s)\",\n",
    "    \"최소 상대습도(%)\", \"평균 증기압(hPa)\", \"평균 현지기압(hPa)\", \"평균 지면온도(°C)\",\n",
    "    \"평균 이슬점온도(°C)\"\n",
    "]].dropna()\n",
    "\n",
    "# 📌 4. 학습/예측 데이터 분리\n",
    "X_train = weather_df.drop(columns=[\"지점\", \"지점명\", \"일시\", \"평균 상대습도(%)\"])\n",
    "y_train = weather_df[\"평균 상대습도(%)\"]\n",
    "\n",
    "X_test = forecast_df[[\n",
    "    \"평균기온(°C)\", \"최저기온(°C)\", \"최고기온(°C)\", \"일강수량(mm)\",\n",
    "    \"최대 순간 풍속(m/s)\", \"최대 풍속(m/s)\", \"평균 풍속(m/s)\", \"최소 상대습도(%)\",\n",
    "    \"평균 증기압(hPa)\", \"평균 현지기압(hPa)\", \"평균 지면온도(°C)\"\n",
    "]]\n",
    "\n",
    "# 📌 5. 모델 학습 및 예측\n",
    "model = RandomForestRegressor(n_estimators=100, random_state=42)\n",
    "model.fit(X_train, y_train)\n",
    "forecast_df[\"예측 평균 상대습도(%)\"] = model.predict(X_test)\n",
    "\n",
    "# 📌 6. 지점별 일자별 예측 결과 정리\n",
    "result_df = forecast_df[[\"일시\", \"지점명\", \"예측 평균 이슬점온도(°C)\"]].sort_values(by=[\"지점명\", \"일시\"])\n",
    "\n",
    "result_df.to_csv(\"2026_상대습도_예측.csv\", index=False, encoding=\"utf-8-sig\")\n",
    "\n",
    "# 📌 출력 확인\n",
    "print(result_df.head())\n"
   ]
  },
  {
   "cell_type": "code",
   "execution_count": null,
   "id": "9e0d0f4c-8c53-4953-9db5-6252ed075ace",
   "metadata": {},
   "outputs": [],
   "source": []
  }
 ],
 "metadata": {
  "kernelspec": {
   "display_name": "Python 3 (ipykernel)",
   "language": "python",
   "name": "python3"
  },
  "language_info": {
   "codemirror_mode": {
    "name": "ipython",
    "version": 3
   },
   "file_extension": ".py",
   "mimetype": "text/x-python",
   "name": "python",
   "nbconvert_exporter": "python",
   "pygments_lexer": "ipython3",
   "version": "3.11.0"
  }
 },
 "nbformat": 4,
 "nbformat_minor": 5
}
