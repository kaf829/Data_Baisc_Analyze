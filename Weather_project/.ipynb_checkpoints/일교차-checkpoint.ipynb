{
 "cells": [
  {
   "cell_type": "code",
   "execution_count": 3,
   "id": "8ea3fc9e-adc1-4b0c-b1e6-fa75de3a982a",
   "metadata": {},
   "outputs": [
    {
     "ename": "NameError",
     "evalue": "name 'df_actual' is not defined",
     "output_type": "error",
     "traceback": [
      "\u001b[31m---------------------------------------------------------------------------\u001b[39m",
      "\u001b[31mNameError\u001b[39m                                 Traceback (most recent call last)",
      "\u001b[36mCell\u001b[39m\u001b[36m \u001b[39m\u001b[32mIn[3]\u001b[39m\u001b[32m, line 8\u001b[39m\n\u001b[32m      3\u001b[39m \u001b[38;5;28;01mimport\u001b[39;00m\u001b[38;5;250m \u001b[39m\u001b[34;01mpandas\u001b[39;00m\u001b[38;5;250m \u001b[39m\u001b[38;5;28;01mas\u001b[39;00m\u001b[38;5;250m \u001b[39m\u001b[34;01mpd\u001b[39;00m\n\u001b[32m      6\u001b[39m df = pd.read_csv(\u001b[33m\"\u001b[39m\u001b[33m./weather_data_all.csv\u001b[39m\u001b[33m\"\u001b[39m)\n\u001b[32m----> \u001b[39m\u001b[32m8\u001b[39m df_actual[\u001b[33m\"\u001b[39m\u001b[33mmonth\u001b[39m\u001b[33m\"\u001b[39m] = \u001b[43mdf_actual\u001b[49m[\u001b[33m\"\u001b[39m\u001b[33m일시\u001b[39m\u001b[33m\"\u001b[39m].dt.month\n\u001b[32m      9\u001b[39m df_actual[\u001b[33m\"\u001b[39m\u001b[33mday\u001b[39m\u001b[33m\"\u001b[39m] = df_actual[\u001b[33m\"\u001b[39m\u001b[33m일시\u001b[39m\u001b[33m\"\u001b[39m].dt.day\n\u001b[32m     10\u001b[39m df_actual[\u001b[33m\"\u001b[39m\u001b[33mdayofyear\u001b[39m\u001b[33m\"\u001b[39m] = df_actual[\u001b[33m\"\u001b[39m\u001b[33m일시\u001b[39m\u001b[33m\"\u001b[39m].dt.dayofyear\n",
      "\u001b[31mNameError\u001b[39m: name 'df_actual' is not defined"
     ]
    }
   ],
   "source": [
    "# 전체 코드: RandomForest로 최고기온/최저기온 예측 후 일교차 계산 (2026년 가을 기준)\n",
    "\n",
    "import pandas as pd\n",
    "from sklearn.ensemble import RandomForestRegressor\n",
    "from sklearn.impute import SimpleImputer\n",
    "import numpy as np\n",
    "\n",
    "# 1. 데이터 불러오기 및 전처리\n",
    "file_path = \"./weather_data_all.csv\"\n",
    "df = pd.read_csv(file_path)\n",
    "df[\"일시\"] = pd.to_datetime(df[\"일시\"])\n",
    "df[\"month\"] = df[\"일시\"].dt.month\n",
    "df[\"day\"] = df[\"일시\"].dt.day\n",
    "df[\"dayofyear\"] = df[\"일시\"].dt.dayofyear\n",
    "\n",
    "# 2. 사용할 특성 및 타겟\n",
    "features = [\"month\", \"day\", \"dayofyear\", \"평균기온(°C)\", \"평균 지면온도(°C)\"]\n",
    "target_cols = [\"최고기온(°C)\", \"최저기온(°C)\"]\n",
    "df_model = df[[\"지점명\", \"일시\"] + features + target_cols].dropna()\n",
    "\n",
    "# 3. 예측 대상 날짜 (2026년 가을)\n",
    "future_dates = pd.date_range(start=\"2026-09-01\", end=\"2026-11-30\")\n",
    "future_df = pd.DataFrame({\"일시\": future_dates})\n",
    "future_df[\"month\"] = future_df[\"일시\"].dt.month\n",
    "future_df[\"day\"] = future_df[\"일시\"].dt.day\n",
    "future_df[\"dayofyear\"] = future_df[\"일시\"].dt.dayofyear\n",
    "\n",
    "# 4. 지점별 모델 학습 및 예측\n",
    "results = []\n",
    "\n",
    "for station in df_model[\"지점명\"].unique():\n",
    "    station_df = df_model[df_model[\"지점명\"] == station].copy()\n",
    "    \n",
    "    # 평균 입력값 생성\n",
    "    avg_temp = station_df[\"평균기온(°C)\"].mean()\n",
    "    avg_ground = station_df[\"평균 지면온도(°C)\"].mean()\n",
    "\n",
    "    future_station = future_df.copy()\n",
    "    future_station[\"지점명\"] = station\n",
    "    future_station[\"평균기온(°C)\"] = avg_temp\n",
    "    future_station[\"평균 지면온도(°C)\"] = avg_ground\n",
    "\n",
    "    # 입력값 및 결측치 처리\n",
    "    X = station_df[features]\n",
    "    imputer = SimpleImputer(strategy=\"mean\")\n",
    "    X_imputed = imputer.fit_transform(X)\n",
    "\n",
    "    # 최고기온 예측\n",
    "    model_max = RandomForestRegressor(n_estimators=100, random_state=42)\n",
    "    model_max.fit(X_imputed, station_df[\"최고기온(°C)\"])\n",
    "    X_future = imputer.transform(future_station[features])\n",
    "    future_station[\"예측 최고기온(°C)\"] = model_max.predict(X_future)\n",
    "\n",
    "    # 최저기온 예측\n",
    "    model_min = RandomForestRegressor(n_estimators=100, random_state=42)\n",
    "    model_min.fit(X_imputed, station_df[\"최저기온(°C)\"])\n",
    "    future_station[\"예측 최저기온(°C)\"] = model_min.predict(X_future)\n",
    "\n",
    "    # 일교차 계산\n",
    "    future_station[\"예측 일교차(°C)\"] = (\n",
    "        future_station[\"예측 최고기온(°C)\"] - future_station[\"예측 최저기온(°C)\"]\n",
    "    )\n",
    "    future_station[\"일교차10도이상\"] = (future_station[\"예측 일교차(°C)\"] >= 10).astype(int)\n",
    "\n",
    "    results.append(future_station)\n",
    "\n",
    "# 5. 결과 통합 및 요약\n",
    "forecast_gap_df = pd.concat(results, ignore_index=True)\n",
    "gap_summary = forecast_gap_df.groupby(\"지점명\")[\"일교차10도이상\"].sum().reset_index()\n",
    "gap_summary.columns = [\"지점명\", \"일교차10도 이상 예측일 수\"]\n",
    "\n",
    "# 6. 시각화 및 결과 출력\n",
    "import ace_tools as tools; tools.display_dataframe_to_user(name=\"2026년 가을 일교차 예측 결과 (최고/최저기온 기반)\", dataframe=forecast_gap_df)\n",
    "\n",
    "gap_summary\n"
   ]
  },
  {
   "cell_type": "code",
   "execution_count": null,
   "id": "ebb2822a-9eac-4fc4-a1b0-7a1525718a04",
   "metadata": {},
   "outputs": [],
   "source": []
  }
 ],
 "metadata": {
  "kernelspec": {
   "display_name": "Python 3 (ipykernel)",
   "language": "python",
   "name": "python3"
  },
  "language_info": {
   "codemirror_mode": {
    "name": "ipython",
    "version": 3
   },
   "file_extension": ".py",
   "mimetype": "text/x-python",
   "name": "python",
   "nbconvert_exporter": "python",
   "pygments_lexer": "ipython3",
   "version": "3.11.0"
  }
 },
 "nbformat": 4,
 "nbformat_minor": 5
}
