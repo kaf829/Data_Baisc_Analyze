{
 "cells": [
  {
   "cell_type": "code",
   "execution_count": 1,
   "id": "9364bbae-7110-4ab6-93af-f2d5fd66470f",
   "metadata": {},
   "outputs": [],
   "source": [
    "import pandas as pd\n",
    "import numpy as np\n",
    "import matplotlib.pyplot as plt\n",
    "from sklearn.ensemble import RandomForestRegressor\n",
    "\n",
    "# 📌 데이터 불러오기 및 날짜 분해\n",
    "df = pd.read_csv(\"weather_all_data_cleaned.csv\", encoding='euc-kr')\n",
    "df['일시'] = pd.to_datetime(df['일시'])\n",
    "df['연'] = df['일시'].dt.year\n",
    "df['월'] = df['일시'].dt.month\n",
    "df['일'] = df['일시'].dt.day\n",
    "\n",
    "# 📌 지점 및 예측 연도 지정\n",
    "station_name = '서울'\n",
    "target_year = 2023\n",
    "\n",
    "# 📌 제외 컬럼 정의\n",
    "excluded_cols = ['평균 상대습도(%)', '평균 이슬점온도(°C)', '평균 해면기압(hPa)', '지점', '지점명', '일시', '연', '월', '일']\n",
    "target_cols = [col for col in df.columns if col not in excluded_cols]\n",
    "\n",
    "# 📌 해당 지점 필터링\n",
    "df_station = df[df['지점명'] == station_name]\n",
    "\n",
    "# 📌 학습용, 테스트용 분리\n",
    "train_df = df_station[df_station['연'] != target_year]\n",
    "test_df = df_station[df_station['연'] == target_year]\n",
    "\n",
    "# 📌 반복하여 예측 및 그래프 출력\n",
    "for target_col in target_cols:\n",
    "    train_temp = train_df.dropna(subset=[target_col])\n",
    "    test_temp = test_df.dropna(subset=[target_col])\n",
    "\n",
    "    if len(test_temp) == 0:  # 예측할 데이터가 없으면 스킵\n",
    "        continue\n",
    "\n",
    "    X_train = train_temp[['연', '월', '일']]\n",
    "    y_train = train_temp[target_col]\n",
    "\n",
    "    X_test = test_temp[['연', '월', '일']]\n",
    "    y_test = test_temp[target_col]\n",
    "\n",
    "    model = RandomForestRegressor(n_estimators=100, random_state=42)\n",
    "    model.fit(X_train, y_train)\n",
    "    y_pred = model.predict(X_test)\n",
    "\n",
    "    # 📊 그래프 그리기\n",
    "    plt.figure(figsize=(14, 5))\n",
    "    plt.plot(test_temp['일시'], y_test.values, label='실제값', linewidth=2)\n",
    "    plt.plot(test_temp['일시'], y_pred, label='예측값', linewidth=2, linestyle='--')\n",
    "    plt.title(f\"{station_name} - {target_year}년 [{target_col}] 실제 vs 예측\")\n",
    "    plt.xlabel(\"날짜\")\n",
    "    plt.ylabel(target_col)\n",
    "    plt.legend()\n",
    "    plt.grid(True)\n",
    "    plt.tight_layout()\n",
    "    plt.show()\n"
   ]
  },
  {
   "cell_type": "code",
   "execution_count": null,
   "id": "8faa056c-6a68-473a-8eb4-209a8a720002",
   "metadata": {},
   "outputs": [],
   "source": []
  }
 ],
 "metadata": {
  "kernelspec": {
   "display_name": "Python 3 (ipykernel)",
   "language": "python",
   "name": "python3"
  },
  "language_info": {
   "codemirror_mode": {
    "name": "ipython",
    "version": 3
   },
   "file_extension": ".py",
   "mimetype": "text/x-python",
   "name": "python",
   "nbconvert_exporter": "python",
   "pygments_lexer": "ipython3",
   "version": "3.11.0"
  }
 },
 "nbformat": 4,
 "nbformat_minor": 5
}
