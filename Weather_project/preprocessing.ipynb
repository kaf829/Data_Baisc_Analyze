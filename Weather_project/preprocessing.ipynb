{
 "cells": [
  {
   "cell_type": "code",
   "execution_count": 1,
   "id": "f3f6f127-22e7-4722-8e4e-11630957e48b",
   "metadata": {},
   "outputs": [],
   "source": [
    "import pandas as pd\n",
    "\n",
    "df = pd.read_csv(\"yeobo.csv\")\n",
    "\n",
    "df[\"강수여부\"] = df[\"일강수량(mm)\"].apply(lambda x: 1 if pd.notna(x) and x > 0 else 0)\n",
    "\n",
    "mean_cloud_with_rain = df.loc[df[\"강수여부\"] == 1, \"평균 전운량(1/10)\"].mean()\n",
    "mean_cloud_without_rain = df.loc[df[\"강수여부\"] == 0, \"평균 전운량(1/10)\"].mean()\n",
    "\n",
    "def fill_cloud(row):\n",
    "    if pd.isna(row[\"평균 전운량(1/10)\"]):\n",
    "        return mean_cloud_with_rain if row[\"강수여부\"] == 1 else mean_cloud_without_rain\n",
    "    else:\n",
    "        return row[\"평균 전운량(1/10)\"]\n",
    "\n",
    "df[\"평균 전운량(1/10)\"] = df.apply(fill_cloud, axis=1)\n",
    "\n",
    "df.to_csv(\"yeobo_processed.csv\", index=False)\n"
   ]
  },
  {
   "cell_type": "code",
   "execution_count": 3,
   "id": "86f5b27b-1221-4551-8f99-64e870e6b871",
   "metadata": {},
   "outputs": [
    {
     "name": "stdout",
     "output_type": "stream",
     "text": [
      "0        1\n",
      "1        0\n",
      "2        0\n",
      "3        0\n",
      "4        1\n",
      "        ..\n",
      "14607    0\n",
      "14608    1\n",
      "14609    0\n",
      "14610    0\n",
      "14611    0\n",
      "Name: 강수여부, Length: 14612, dtype: int64\n"
     ]
    }
   ],
   "source": [
    "df = pd.read_csv(\"yeobo_processed.csv\")\n",
    "print(df['강수여부'])"
   ]
  },
  {
   "cell_type": "code",
   "execution_count": 7,
   "id": "4e5c685e-fe72-4714-b66a-bf067bd8e200",
   "metadata": {},
   "outputs": [],
   "source": [
    "import pandas as pd\n",
    "\n",
    "# 1. 파일 불러오기\n",
    "df = pd.read_csv(\"yeobo.csv\")\n",
    "\n",
    "# 2. 날짜 타입으로 변환 및 정렬\n",
    "df[\"일시\"] = pd.to_datetime(df[\"일시\"])\n",
    "df = df.sort_values(\"일시\")\n",
    "df.set_index(\"일시\", inplace=True)\n",
    "\n",
    "# 3. 강수여부 생성\n",
    "df[\"강수여부\"] = df[\"일강수량(mm)\"].apply(lambda x: 1 if pd.notna(x) and x > 0 else 0)\n",
    "\n",
    "# 4. 평균 전운량 결측치 채우기\n",
    "mean_cloud_with_rain = df.loc[df[\"강수여부\"] == 1, \"평균 전운량(1/10)\"].mean()\n",
    "mean_cloud_without_rain = df.loc[df[\"강수여부\"] == 0, \"평균 전운량(1/10)\"].mean()\n",
    "\n",
    "df[\"평균 전운량(1/10)\"] = df.apply(\n",
    "    lambda row: mean_cloud_with_rain if pd.isna(row[\"평균 전운량(1/10)\"]) and row[\"강수여부\"] == 1\n",
    "    else mean_cloud_without_rain if pd.isna(row[\"평균 전운량(1/10)\"]) else row[\"평균 전운량(1/10)\"],\n",
    "    axis=1\n",
    ")\n",
    "\n",
    "# 5. 풍속 및 상대습도 결측 보완\n",
    "# interpolate (시간 기준, limit=1)\n",
    "for col in [\"평균 풍속(m/s)\", \"평균 상대습도(%)\"]:\n",
    "    df[col] = df[col].interpolate(method=\"time\", limit=1)\n",
    "\n",
    "# 평균 풍속 보완 (월/일 기준 과거 평균)\n",
    "df[\"월\"] = df.index.month\n",
    "df[\"일\"] = df.index.day\n",
    "\n",
    "for col in [\"평균 풍속(m/s)\"]:\n",
    "    daily_avg = df.groupby([\"월\", \"일\"])[col].transform(\"mean\")\n",
    "    df[col] = df[col].fillna(daily_avg)\n",
    "\n",
    "# 상대습도 보완 (전체 평균값)\n",
    "for col in [\"평균 상대습도(%)\"]:\n",
    "    df[col] = df[col].fillna(df[col].mean())\n",
    "\n",
    "# 6. 정리 후 저장\n",
    "df.drop(columns=[\"월\", \"일\"], inplace=True)\n",
    "df.reset_index(inplace=True)\n",
    "df.to_csv(\"yeobo_processed.csv\", index=False)\n"
   ]
  },
  {
   "cell_type": "code",
   "execution_count": 26,
   "id": "8060f938-a4f6-4eb6-8fac-902fe814b6f2",
   "metadata": {},
   "outputs": [
    {
     "data": {
      "text/plain": [
       "일시                      0\n",
       "지점                      0\n",
       "지점명                     0\n",
       "평균기온(°C)                7\n",
       "일강수량(mm)             8034\n",
       "평균 풍속(m/s)              0\n",
       "평균 이슬점온도(°C)            7\n",
       "평균 상대습도(%)              0\n",
       "평균 증기압(hPa)             7\n",
       "평균 현지기압(hPa)            8\n",
       "평균 해면기압(hPa)            8\n",
       "합계 일조시간(hr)            29\n",
       "합계 일사량(MJ/m2)        7038\n",
       "일 최심신적설(cm)         14525\n",
       "일 최심적설(cm)          14515\n",
       "합계 3시간 신적설(cm)      14525\n",
       "평균 전운량(1/10)            0\n",
       "평균 중하층운량(1/10)       3855\n",
       "평균 지면온도(°C)            29\n",
       "평균 5cm 지중온도(°C)     10973\n",
       "평균 10cm 지중온도(°C)    10974\n",
       "평균 20cm 지중온도(°C)    10980\n",
       "평균 30cm 지중온도(°C)    10964\n",
       "합계 대형증발량(mm)         7811\n",
       "합계 소형증발량(mm)         7586\n",
       "9-9강수(mm)           11216\n",
       "안개 계속시간(hr)         14385\n",
       "강수여부                    0\n",
       "dtype: int64"
      ]
     },
     "execution_count": 26,
     "metadata": {},
     "output_type": "execute_result"
    }
   ],
   "source": [
    "df = pd.read_csv(\"yeobo_processed.csv\")\n",
    "df.isna().sum()"
   ]
  },
  {
   "cell_type": "code",
   "execution_count": 38,
   "id": "8b183294-83a5-413c-b4c7-53e560237d6d",
   "metadata": {},
   "outputs": [
    {
     "name": "stdout",
     "output_type": "stream",
     "text": [
      "지점                      0\n",
      "지점명                     0\n",
      "일시                      0\n",
      "평균기온(°C)                7\n",
      "일강수량(mm)             8034\n",
      "평균 풍속(m/s)             44\n",
      "평균 이슬점온도(°C)            7\n",
      "평균 상대습도(%)              6\n",
      "평균 증기압(hPa)             7\n",
      "평균 현지기압(hPa)            8\n",
      "평균 해면기압(hPa)            8\n",
      "합계 일조시간(hr)            29\n",
      "합계 일사량(MJ/m2)        7038\n",
      "일 최심신적설(cm)         14525\n",
      "일 최심적설(cm)          14515\n",
      "합계 3시간 신적설(cm)      14525\n",
      "평균 전운량(1/10)         3550\n",
      "평균 중하층운량(1/10)       3855\n",
      "평균 지면온도(°C)            29\n",
      "평균 5cm 지중온도(°C)     10973\n",
      "평균 10cm 지중온도(°C)    10974\n",
      "평균 20cm 지중온도(°C)    10980\n",
      "평균 30cm 지중온도(°C)    10964\n",
      "합계 대형증발량(mm)         7811\n",
      "합계 소형증발량(mm)         7586\n",
      "9-9강수(mm)           11216\n",
      "안개 계속시간(hr)         14385\n",
      "dtype: int64\n"
     ]
    }
   ],
   "source": [
    "df = pd.read_csv(\"yeobo.csv\")\n",
    "print(df.isna().sum())"
   ]
  },
  {
   "cell_type": "code",
   "execution_count": 40,
   "id": "106db89e-c324-47eb-a586-0d2de9bca29a",
   "metadata": {},
   "outputs": [
    {
     "name": "stdout",
     "output_type": "stream",
     "text": [
      "[일강수량(mm)] 결측치 0개를 0으로 채움.\n",
      "[일 최심신적설(cm)] 결측치 0개를 0으로 채움.\n",
      "MICE 방식(RandomForest 기반)으로 결측치 채우기 완료 및 저장됨\n"
     ]
    },
    {
     "name": "stderr",
     "output_type": "stream",
     "text": [
      "C:\\Users\\MINJUN\\Documents\\GitHub\\Data_Baisc_Analyze\\Data_Baisc_Analyze\\.venv\\Lib\\site-packages\\sklearn\\impute\\_iterative.py:895: ConvergenceWarning: [IterativeImputer] Early stopping criterion not reached.\n",
      "  warnings.warn(\n"
     ]
    }
   ],
   "source": [
    "import pandas as pd\n",
    "import numpy as np\n",
    "from sklearn.experimental import enable_iterative_imputer  # MICE 기능 활성화\n",
    "from sklearn.impute import IterativeImputer\n",
    "from sklearn.ensemble import RandomForestRegressor\n",
    "\n",
    "# 결측치 0으로 처리할 열\n",
    "fill_zero_columns = ['일강수량(mm)', '일 최심신적설(cm)']\n",
    "for col in fill_zero_columns:\n",
    "    null_count = df[col].isnull().sum()\n",
    "    df[col] = df[col].fillna(0)\n",
    "    print(f\"[{col}] 결측치 {null_count}개를 0으로 채움.\")\n",
    "\n",
    "\n",
    "target_columns = [\n",
    "    '평균기온(°C)', '평균 풍속(m/s)','평균 상대습도(%)','평균 전운량(1/10)','평균 지면온도(°C)', ']\n",
    "\n",
    "imputer = IterativeImputer(\n",
    "    estimator=RandomForestRegressor(n_estimators=100, random_state=42),\n",
    "    max_iter=10,\n",
    "    random_state=42\n",
    ")\n",
    "\n",
    "# 수치형 데이터만 선택 (특히 대상 열만 사용)\n",
    "imputed_data = imputer.fit_transform(df[target_columns])\n",
    "\n",
    "# 결과를 원래 데이터프레임에 반영\n",
    "df[target_columns] = imputed_data\n",
    "\n",
    "# 저장\n",
    "df.to_csv(\"weather_all_data_filled_mice.csv\", index=False, encoding=\"utf-8-sig\")\n",
    "print(\"MICE 방식(RandomForest 기반)으로 결측치 채우기 완료 및 저장됨\")\n"
   ]
  },
  {
   "cell_type": "code",
   "execution_count": 42,
   "id": "5425d378-0a43-401e-9806-4dcfbf7a8a0e",
   "metadata": {},
   "outputs": [
    {
     "name": "stdout",
     "output_type": "stream",
     "text": [
      "지점                      0\n",
      "지점명                     0\n",
      "일시                      0\n",
      "평균기온(°C)                0\n",
      "일강수량(mm)                0\n",
      "평균 풍속(m/s)              0\n",
      "평균 이슬점온도(°C)            7\n",
      "평균 상대습도(%)              0\n",
      "평균 증기압(hPa)             7\n",
      "평균 현지기압(hPa)            8\n",
      "평균 해면기압(hPa)            8\n",
      "합계 일조시간(hr)            29\n",
      "합계 일사량(MJ/m2)        7038\n",
      "일 최심신적설(cm)             0\n",
      "일 최심적설(cm)          14515\n",
      "합계 3시간 신적설(cm)      14525\n",
      "평균 전운량(1/10)            0\n",
      "평균 중하층운량(1/10)       3855\n",
      "평균 지면온도(°C)             0\n",
      "평균 5cm 지중온도(°C)     10973\n",
      "평균 10cm 지중온도(°C)    10974\n",
      "평균 20cm 지중온도(°C)    10980\n",
      "평균 30cm 지중온도(°C)    10964\n",
      "합계 대형증발량(mm)         7811\n",
      "합계 소형증발량(mm)         7586\n",
      "9-9강수(mm)           11216\n",
      "안개 계속시간(hr)         14385\n",
      "dtype: int64\n"
     ]
    }
   ],
   "source": [
    "df = pd.read_csv(\"weather_all_data_filled.csv\")\n",
    "print(df.isna().sum())"
   ]
  },
  {
   "cell_type": "code",
   "execution_count": null,
   "id": "d677f011-83ce-42f6-8adf-48f1fac994bb",
   "metadata": {},
   "outputs": [],
   "source": []
  }
 ],
 "metadata": {
  "kernelspec": {
   "display_name": "Python 3 (ipykernel)",
   "language": "python",
   "name": "python3"
  },
  "language_info": {
   "codemirror_mode": {
    "name": "ipython",
    "version": 3
   },
   "file_extension": ".py",
   "mimetype": "text/x-python",
   "name": "python",
   "nbconvert_exporter": "python",
   "pygments_lexer": "ipython3",
   "version": "3.11.0"
  }
 },
 "nbformat": 4,
 "nbformat_minor": 5
}
