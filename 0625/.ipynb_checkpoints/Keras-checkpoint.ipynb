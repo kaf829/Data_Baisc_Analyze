{
 "cells": [
  {
   "cell_type": "code",
   "execution_count": 1,
   "id": "d556af38-b6a4-4100-a21e-7af2d268c31d",
   "metadata": {},
   "outputs": [],
   "source": [
    "#native-keras"
   ]
  },
  {
   "cell_type": "code",
   "execution_count": null,
   "id": "488a817a-2a34-42d6-a64e-fa34370fc5a3",
   "metadata": {},
   "outputs": [],
   "source": [
    "from keras.datasets import mnist\n",
    "from keras.models import Sequential\n",
    "from keras.layers import Dense, Dropout, Activation\n",
    "import np_utills\n",
    "from keras.utils import to_categorical\n",
    "import matplotlib.pyplot as plt"
   ]
  },
  {
   "cell_type": "code",
   "execution_count": null,
   "id": "d74f4a12-aa23-4723-92e1-3cb06f63488f",
   "metadata": {},
   "outputs": [],
   "source": []
  },
  {
   "cell_type": "code",
   "execution_count": null,
   "id": "47fc273d-4513-4b2e-8b4f-5a2b76f992e6",
   "metadata": {},
   "outputs": [],
   "source": []
  },
  {
   "cell_type": "code",
   "execution_count": null,
   "id": "e30c07ba-c808-4bf9-b2c8-0f37085dc343",
   "metadata": {},
   "outputs": [],
   "source": []
  }
 ],
 "metadata": {
  "kernelspec": {
   "display_name": "Python 3 (ipykernel)",
   "language": "python",
   "name": "python3"
  },
  "language_info": {
   "codemirror_mode": {
    "name": "ipython",
    "version": 3
   },
   "file_extension": ".py",
   "mimetype": "text/x-python",
   "name": "python",
   "nbconvert_exporter": "python",
   "pygments_lexer": "ipython3",
   "version": "3.11.0"
  }
 },
 "nbformat": 4,
 "nbformat_minor": 5
}
