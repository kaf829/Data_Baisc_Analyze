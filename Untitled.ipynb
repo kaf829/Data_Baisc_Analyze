{
 "cells": [
  {
   "cell_type": "code",
   "execution_count": null,
   "id": "b66f5d9e-5923-4dd3-a894-a175aacbe06d",
   "metadata": {},
   "outputs": [],
   "source": []
  }
 ],
 "metadata": {
  "kernelspec": {
   "display_name": "",
   "name": ""
  },
  "language_info": {
   "name": ""
  }
 },
 "nbformat": 4,
 "nbformat_minor": 5
}
