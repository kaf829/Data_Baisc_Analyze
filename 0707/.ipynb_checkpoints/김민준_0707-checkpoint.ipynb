{
 "cells": [
  {
   "cell_type": "code",
   "execution_count": 6,
   "id": "1cb3d998-f9ce-4ac0-9d1d-0ba964aa6216",
   "metadata": {},
   "outputs": [
    {
     "name": "stderr",
     "output_type": "stream",
     "text": [
      "100%|███████████████████████████████████████████████████████████████████████████████████████████████████████████████████████████████████████████████████████| 199992/199992 [00:00<00:00, 612018.64it/s]\n",
      "100%|██████████████████████████████████████████████████████████████████████████████████████████████████████████████████████████████████████████████████████████| 199992/199992 [05:34<00:00, 597.67it/s]\n"
     ]
    }
   ],
   "source": [
    "import pandas as pd\n",
    "import re\n",
    "from gensim.models import Word2Vec\n",
    "from konlpy.tag import Okt\n",
    "from tqdm import tqdm\n",
    "tqdm.pandas()\n",
    "\n",
    "# 1. 네이버 영화 리뷰 데이터 로딩\n",
    "df = pd.read_csv('ratings.txt', sep='\\t')  # 네이버 영화 리뷰 데이터\n",
    "df = df.dropna(subset=['document'])        # Null 제거\n",
    "df = df[df['document'].str.strip() != '']  # 빈 문자열 제거\n",
    "\n",
    "# 2. 텍스트 전처리 함수\n",
    "def preprocess(text):\n",
    "    text = re.sub(r'[^가-힣\\s]', '', text)  # 한글 + 공백만 남김\n",
    "    return text.strip()\n",
    "\n",
    "# 3. 토큰화\n",
    "okt = Okt()\n",
    "df['clean_doc'] = df['document'].progress_apply(preprocess)\n",
    "tokenized = df['clean_doc'].progress_apply(okt.morphs)\n",
    "\n",
    "# 4. Word2Vec 학습 - CBOW\n",
    "model_cbow = Word2Vec(sentences=tokenized,\n",
    "                      vector_size=100,\n",
    "                      window=5,\n",
    "                      min_count=5,\n",
    "                      sg=0,     # CBOW\n",
    "                      epochs=10)\n",
    "\n",
    "# 5. Word2Vec 학습 - Skip-gram\n",
    "model_skipgram = Word2Vec(sentences=tokenized,\n",
    "                          vector_size=100,\n",
    "                          window=5,\n",
    "                          min_count=5,\n",
    "                          sg=1,   # Skip-gram\n",
    "                          epochs=10)\n",
    "\n",
    "# 6. 비교 단어 리스트\n",
    "target_words = ['최민식', '히어로']\n",
    "\n",
    "# 7. 유사 단어 추출 함수\n",
    "def get_similar_words(model, word):\n",
    "    try:\n",
    "        return model.wv.most_similar(word, topn=5)\n",
    "    except KeyError:\n",
    "        return [('없음', 0.0)]\n",
    "\n",
    "# 8. 결과 비교 DataFrame 생성\n",
    "results = []\n",
    "for word in target_words:\n",
    "    cbow_sim = get_similar_words(model_cbow, word)\n",
    "    skipgram_sim = get_similar_words(model_skipgram, word)\n",
    "    for i in range(5):\n",
    "        cb_word, cb_score = cbow_sim[i]\n",
    "        sg_word, sg_score = skipgram_sim[i]\n",
    "        results.append({\n",
    "            '기준단어': word,\n",
    "            'CBOW_유사단어': cb_word,\n",
    "            'CBOW_유사도': cb_score,\n",
    "            'Skipgram_유사단어': sg_word,\n",
    "            'Skipgram_유사도': sg_score\n",
    "        })\n",
    "\n",
    "df_result = pd.DataFrame(results)\n"
   ]
  },
  {
   "cell_type": "code",
   "execution_count": 3,
   "id": "0f1cda40-f47d-4ef3-94ba-2b823dd2c0a6",
   "metadata": {},
   "outputs": [],
   "source": [
    "import urllib.request"
   ]
  },
  {
   "cell_type": "code",
   "execution_count": 4,
   "id": "e0ccf386-a609-44fe-86f9-f689f4b2a9cd",
   "metadata": {},
   "outputs": [
    {
     "data": {
      "text/plain": [
       "('ratings.txt', <http.client.HTTPMessage at 0x2b6d0efb2d0>)"
      ]
     },
     "execution_count": 4,
     "metadata": {},
     "output_type": "execute_result"
    }
   ],
   "source": [
    "urllib.request.urlretrieve(\"https://raw.githubusercontent.com/e9t/nsmc/master/ratings.txt\", filename=\"ratings.txt\")"
   ]
  },
  {
   "cell_type": "code",
   "execution_count": 8,
   "id": "1379d0f4-eacf-412f-9416-4481ee5818f8",
   "metadata": {},
   "outputs": [
    {
     "name": "stdout",
     "output_type": "stream",
     "text": [
      "  기준단어 CBOW_유사단어  CBOW_유사도 Skipgram_유사단어  Skipgram_유사도\n",
      "0  최민식       박중훈  0.748029           김명민      0.716767\n",
      "1  최민식       한석규  0.738331           한석규      0.712404\n",
      "2  최민식        러셀  0.731168           유다인      0.693105\n",
      "3  최민식       정재영  0.721989           이순신      0.672037\n",
      "4  최민식       송강호  0.720253            말론      0.671973\n",
      "5  히어로        무협  0.749340           슬래셔      0.684549\n",
      "6  히어로       슬래셔  0.742643            마블      0.684073\n",
      "7  히어로        좀비  0.741283            버디      0.640200\n",
      "8  히어로        호러  0.706588           형사물      0.639732\n",
      "9  히어로        타기  0.704006            에픽      0.632774\n"
     ]
    }
   ],
   "source": [
    "print(df_result)"
   ]
  },
  {
   "cell_type": "code",
   "execution_count": 9,
   "id": "bb3f29c7-a2c0-44cc-a264-e5951c706253",
   "metadata": {},
   "outputs": [
    {
     "ename": "NameError",
     "evalue": "name 'df_results' is not defined",
     "output_type": "error",
     "traceback": [
      "\u001b[31m---------------------------------------------------------------------------\u001b[39m",
      "\u001b[31mNameError\u001b[39m                                 Traceback (most recent call last)",
      "\u001b[36mCell\u001b[39m\u001b[36m \u001b[39m\u001b[32mIn[9]\u001b[39m\u001b[32m, line 9\u001b[39m\n\u001b[32m      6\u001b[39m plt.rcParams[\u001b[33m'\u001b[39m\u001b[33maxes.unicode_minus\u001b[39m\u001b[33m'\u001b[39m] = \u001b[38;5;28;01mFalse\u001b[39;00m\n\u001b[32m      8\u001b[39m \u001b[38;5;66;03m# 최민식 그래프\u001b[39;00m\n\u001b[32m----> \u001b[39m\u001b[32m9\u001b[39m df_min = \u001b[43mdf_results\u001b[49m[df_results[\u001b[33m'\u001b[39m\u001b[33m기준단어\u001b[39m\u001b[33m'\u001b[39m] == \u001b[33m'\u001b[39m\u001b[33m최민식\u001b[39m\u001b[33m'\u001b[39m]\n\u001b[32m     11\u001b[39m plt.figure(figsize=(\u001b[32m10\u001b[39m, \u001b[32m5\u001b[39m))\n\u001b[32m     12\u001b[39m x = \u001b[38;5;28mrange\u001b[39m(\u001b[38;5;28mlen\u001b[39m(df_min))\n",
      "\u001b[31mNameError\u001b[39m: name 'df_results' is not defined"
     ]
    }
   ],
   "source": [
    "import matplotlib.pyplot as plt\n",
    "import pandas as pd\n",
    "\n",
    "# 한글 폰트 설정 (윈도우용)\n",
    "plt.rcParams['font.family'] = 'Malgun Gothic'\n",
    "plt.rcParams['axes.unicode_minus'] = False\n",
    "\n",
    "# 최민식 그래프\n",
    "df_min = df_results[df_result['기준단어'] == '최민식']\n",
    "\n",
    "plt.figure(figsize=(10, 5))\n",
    "x = range(len(df_min))\n",
    "plt.bar(x, df_min['CBOW_유사도'], width=0.4, label='CBOW', align='center')\n",
    "plt.bar([i + 0.4 for i in x], df_min['Skipgram_유사도'], width=0.4, label='Skip-gram', align='center')\n",
    "plt.xticks([i + 0.2 for i in x], df_min['CBOW_유사단어'], rotation=45)\n",
    "plt.title('최민식 - CBOW vs Skip-gram 유사도 비교')\n",
    "plt.ylabel('유사도')\n",
    "plt.legend()\n",
    "plt.grid(axis='y')\n",
    "plt.tight_layout()\n",
    "plt.show()"
   ]
  },
  {
   "cell_type": "code",
   "execution_count": null,
   "id": "50482fd6-40c7-4912-9e66-e4fed8e9f0ff",
   "metadata": {},
   "outputs": [],
   "source": []
  }
 ],
 "metadata": {
  "kernelspec": {
   "display_name": "Python 3 (ipykernel)",
   "language": "python",
   "name": "python3"
  },
  "language_info": {
   "codemirror_mode": {
    "name": "ipython",
    "version": 3
   },
   "file_extension": ".py",
   "mimetype": "text/x-python",
   "name": "python",
   "nbconvert_exporter": "python",
   "pygments_lexer": "ipython3",
   "version": "3.11.0"
  }
 },
 "nbformat": 4,
 "nbformat_minor": 5
}
