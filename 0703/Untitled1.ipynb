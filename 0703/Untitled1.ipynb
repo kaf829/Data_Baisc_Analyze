{
 "cells": [
  {
   "cell_type": "code",
   "execution_count": 2,
   "id": "94fed2f1-f6dc-41ec-843d-486ed6e1feae",
   "metadata": {},
   "outputs": [],
   "source": [
    "import pandas as pd\n",
    "import numpy as np\n",
    "import matplotlib.pyplot as plt\n",
    "import seaborn as sns\n",
    "import warnings\n",
    "import os"
   ]
  },
  {
   "cell_type": "code",
   "execution_count": 5,
   "id": "172840b4-0133-4ed5-a886-bf3c1cd5205d",
   "metadata": {},
   "outputs": [],
   "source": [
    "warnings.filterwarnings('ignore')\n",
    "plt.rcParams['font.family'] = \"Malgun Gothic\""
   ]
  },
  {
   "cell_type": "code",
   "execution_count": 6,
   "id": "fb4667f4-77a6-4ab6-9660-b48ac94b8d22",
   "metadata": {},
   "outputs": [
    {
     "name": "stdout",
     "output_type": "stream",
     "text": [
      "{'52WeekChange': -0.061412036,\n",
      " 'SandP52WeekChange': 0.1185931,\n",
      " 'address1': 'One Apple Park Way',\n",
      " 'ask': 223.71,\n",
      " 'askSize': 1,\n",
      " 'auditRisk': 7,\n",
      " 'averageAnalystRating': '2.1 - Buy',\n",
      " 'averageDailyVolume10Day': 65419500,\n",
      " 'averageDailyVolume3Month': 63501154,\n",
      " 'averageVolume': 63501154,\n",
      " 'averageVolume10days': 65419500,\n",
      " 'beta': 1.211,\n",
      " 'bid': 198.41,\n",
      " 'bidSize': 1,\n",
      " 'boardRisk': 1,\n",
      " 'bookValue': 4.471,\n",
      " 'city': 'Cupertino',\n",
      " 'companyOfficers': [{'age': 63,\n",
      "                      'exercisedValue': 0,\n",
      "                      'fiscalYear': 2024,\n",
      "                      'maxAge': 1,\n",
      "                      'name': 'Mr. Timothy D. Cook',\n",
      "                      'title': 'CEO & Director',\n",
      "                      'totalPay': 16520856,\n",
      "                      'unexercisedValue': 0,\n",
      "                      'yearBorn': 1961},\n",
      "                     {'age': 60,\n",
      "                      'exercisedValue': 0,\n",
      "                      'fiscalYear': 2024,\n",
      "                      'maxAge': 1,\n",
      "                      'name': 'Mr. Jeffrey E. Williams',\n",
      "                      'title': 'Chief Operating Officer',\n",
      "                      'totalPay': 5020737,\n",
      "                      'unexercisedValue': 0,\n",
      "                      'yearBorn': 1964},\n",
      "                     {'age': 60,\n",
      "                      'exercisedValue': 0,\n",
      "                      'fiscalYear': 2024,\n",
      "                      'maxAge': 1,\n",
      "                      'name': 'Ms. Katherine L. Adams',\n",
      "                      'title': 'Senior VP, General Counsel & Secretary',\n",
      "                      'totalPay': 5022182,\n",
      "                      'unexercisedValue': 0,\n",
      "                      'yearBorn': 1964},\n",
      "                     {'age': 57,\n",
      "                      'exercisedValue': 0,\n",
      "                      'fiscalYear': 2024,\n",
      "                      'maxAge': 1,\n",
      "                      'name': \"Ms. Deirdre  O'Brien\",\n",
      "                      'title': 'Chief People Officer & Senior VP of Retail',\n",
      "                      'totalPay': 5022182,\n",
      "                      'unexercisedValue': 0,\n",
      "                      'yearBorn': 1967},\n",
      "                     {'age': 52,\n",
      "                      'exercisedValue': 0,\n",
      "                      'fiscalYear': 2024,\n",
      "                      'maxAge': 1,\n",
      "                      'name': 'Mr. Kevan  Parekh',\n",
      "                      'title': 'Senior VP & CFO',\n",
      "                      'unexercisedValue': 0,\n",
      "                      'yearBorn': 1972},\n",
      "                     {'exercisedValue': 0,\n",
      "                      'fiscalYear': 2024,\n",
      "                      'maxAge': 1,\n",
      "                      'name': 'Mr. Chris  Kondo',\n",
      "                      'title': 'Senior Director of Corporate Accounting',\n",
      "                      'unexercisedValue': 0},\n",
      "                     {'exercisedValue': 0,\n",
      "                      'fiscalYear': 2024,\n",
      "                      'maxAge': 1,\n",
      "                      'name': 'Suhasini  Chandramouli',\n",
      "                      'title': 'Director of Investor Relations',\n",
      "                      'unexercisedValue': 0},\n",
      "                     {'exercisedValue': 0,\n",
      "                      'fiscalYear': 2024,\n",
      "                      'maxAge': 1,\n",
      "                      'name': 'Ms. Kristin Huguet Quayle',\n",
      "                      'title': 'Vice President of Worldwide Communications',\n",
      "                      'unexercisedValue': 0},\n",
      "                     {'exercisedValue': 0,\n",
      "                      'fiscalYear': 2024,\n",
      "                      'maxAge': 1,\n",
      "                      'name': 'Mr. Greg  Joswiak',\n",
      "                      'title': 'Senior Vice President of Worldwide Marketing',\n",
      "                      'unexercisedValue': 0},\n",
      "                     {'age': 50,\n",
      "                      'exercisedValue': 0,\n",
      "                      'fiscalYear': 2024,\n",
      "                      'maxAge': 1,\n",
      "                      'name': 'Mr. Adrian  Perica',\n",
      "                      'title': 'Vice President of Corporate Development',\n",
      "                      'unexercisedValue': 0,\n",
      "                      'yearBorn': 1974}],\n",
      " 'compensationAsOfEpochDate': 1735603200,\n",
      " 'compensationRisk': 3,\n",
      " 'corporateActions': [],\n",
      " 'country': 'United States',\n",
      " 'cryptoTradeable': False,\n",
      " 'currency': 'USD',\n",
      " 'currentPrice': 212.44,\n",
      " 'currentRatio': 0.821,\n",
      " 'customPriceAlertConfidence': 'HIGH',\n",
      " 'dateShortInterest': 1749772800,\n",
      " 'dayHigh': 213.34,\n",
      " 'dayLow': 208.14,\n",
      " 'debtToEquity': 146.994,\n",
      " 'displayName': 'Apple',\n",
      " 'dividendDate': 1747267200,\n",
      " 'dividendRate': 1.04,\n",
      " 'dividendYield': 0.51,\n",
      " 'earningsCallTimestampEnd': 1753995600,\n",
      " 'earningsCallTimestampStart': 1753995600,\n",
      " 'earningsGrowth': 0.078,\n",
      " 'earningsQuarterlyGrowth': 0.048,\n",
      " 'earningsTimestamp': 1753992000,\n",
      " 'earningsTimestampEnd': 1753992000,\n",
      " 'earningsTimestampStart': 1753992000,\n",
      " 'ebitda': 138865999872,\n",
      " 'ebitdaMargins': 0.34685,\n",
      " 'enterpriseToEbitda': 22.425,\n",
      " 'enterpriseToRevenue': 7.778,\n",
      " 'enterpriseValue': 3114071490560,\n",
      " 'epsCurrentYear': 7.18592,\n",
      " 'epsForward': 8.31,\n",
      " 'epsTrailingTwelveMonths': 6.42,\n",
      " 'esgPopulated': False,\n",
      " 'exDividendDate': 1747008000,\n",
      " 'exchange': 'NMS',\n",
      " 'exchangeDataDelayedBy': 0,\n",
      " 'exchangeTimezoneName': 'America/New_York',\n",
      " 'exchangeTimezoneShortName': 'EDT',\n",
      " 'executiveTeam': [],\n",
      " 'fiftyDayAverage': 203.4426,\n",
      " 'fiftyDayAverageChange': 8.997406,\n",
      " 'fiftyDayAverageChangePercent': 0.04422577,\n",
      " 'fiftyTwoWeekChangePercent': -6.141204,\n",
      " 'fiftyTwoWeekHigh': 260.1,\n",
      " 'fiftyTwoWeekHighChange': -47.660004,\n",
      " 'fiftyTwoWeekHighChangePercent': -0.18323722,\n",
      " 'fiftyTwoWeekLow': 169.21,\n",
      " 'fiftyTwoWeekLowChange': 43.229996,\n",
      " 'fiftyTwoWeekLowChangePercent': 0.25548133,\n",
      " 'fiftyTwoWeekRange': '169.21 - 260.1',\n",
      " 'financialCurrency': 'USD',\n",
      " 'firstTradeDateMilliseconds': 345479400000,\n",
      " 'fiveYearAvgDividendYield': 0.55,\n",
      " 'floatShares': 14911480604,\n",
      " 'forwardEps': 8.31,\n",
      " 'forwardPE': 25.564379,\n",
      " 'freeCashflow': 97251500032,\n",
      " 'fullExchangeName': 'NasdaqGS',\n",
      " 'fullTimeEmployees': 164000,\n",
      " 'gmtOffSetMilliseconds': -14400000,\n",
      " 'governanceEpochDate': 1748736000,\n",
      " 'grossMargins': 0.46632,\n",
      " 'grossProfits': 186699005952,\n",
      " 'hasPrePostMarketData': True,\n",
      " 'heldPercentInsiders': 0.02085,\n",
      " 'heldPercentInstitutions': 0.62835,\n",
      " 'impliedSharesOutstanding': 14977399808,\n",
      " 'industry': 'Consumer Electronics',\n",
      " 'industryDisp': 'Consumer Electronics',\n",
      " 'industryKey': 'consumer-electronics',\n",
      " 'irWebsite': 'http://investor.apple.com/',\n",
      " 'isEarningsDateEstimate': False,\n",
      " 'language': 'en-US',\n",
      " 'lastDividendDate': 1747008000,\n",
      " 'lastDividendValue': 0.26,\n",
      " 'lastFiscalYearEnd': 1727481600,\n",
      " 'lastSplitDate': 1598832000,\n",
      " 'lastSplitFactor': '4:1',\n",
      " 'longBusinessSummary': 'Apple Inc. designs, manufactures, and markets '\n",
      "                        'smartphones, personal computers, tablets, wearables, '\n",
      "                        'and accessories worldwide. The company offers iPhone, '\n",
      "                        'a line of smartphones; Mac, a line of personal '\n",
      "                        'computers; iPad, a line of multi-purpose tablets; and '\n",
      "                        'wearables, home, and accessories comprising AirPods, '\n",
      "                        'Apple TV, Apple Watch, Beats products, and HomePod. '\n",
      "                        'It also provides AppleCare support and cloud '\n",
      "                        'services; and operates various platforms, including '\n",
      "                        'the App Store that allow customers to discover and '\n",
      "                        'download applications and digital content, such as '\n",
      "                        'books, music, video, games, and podcasts, as well as '\n",
      "                        'advertising services include third-party licensing '\n",
      "                        'arrangements and its own advertising platforms. In '\n",
      "                        'addition, the company offers various '\n",
      "                        'subscription-based services, such as Apple Arcade, a '\n",
      "                        'game subscription service; Apple Fitness+, a '\n",
      "                        'personalized fitness service; Apple Music, which '\n",
      "                        'offers users a curated listening experience with '\n",
      "                        'on-demand radio stations; Apple News+, a subscription '\n",
      "                        'news and magazine service; Apple TV+, which offers '\n",
      "                        'exclusive original content; Apple Card, a co-branded '\n",
      "                        'credit card; and Apple Pay, a cashless payment '\n",
      "                        'service, as well as licenses its intellectual '\n",
      "                        'property. The company serves consumers, and small and '\n",
      "                        'mid-sized businesses; and the education, enterprise, '\n",
      "                        'and government markets. It distributes third-party '\n",
      "                        'applications for its products through the App Store. '\n",
      "                        'The company also sells its products through its '\n",
      "                        'retail and online stores, and direct sales force; and '\n",
      "                        'third-party cellular network carriers, wholesalers, '\n",
      "                        'retailers, and resellers. Apple Inc. was founded in '\n",
      "                        '1976 and is headquartered in Cupertino, California.',\n",
      " 'longName': 'Apple Inc.',\n",
      " 'market': 'us_market',\n",
      " 'marketCap': 3172961353728,\n",
      " 'marketState': 'PREPRE',\n",
      " 'maxAge': 86400,\n",
      " 'messageBoardId': 'finmb_24937',\n",
      " 'mostRecentQuarter': 1743206400,\n",
      " 'netIncomeToCommon': 97294000128,\n",
      " 'nextFiscalYearEnd': 1759017600,\n",
      " 'numberOfAnalystOpinions': 40,\n",
      " 'open': 209.08,\n",
      " 'operatingCashflow': 109555998720,\n",
      " 'operatingMargins': 0.31028998,\n",
      " 'overallRisk': 1,\n",
      " 'payoutRatio': 0.1558,\n",
      " 'phone': '(408) 996-1010',\n",
      " 'postMarketChange': -0.328903,\n",
      " 'postMarketChangePercent': -0.154822,\n",
      " 'postMarketPrice': 212.111,\n",
      " 'postMarketTime': 1751500799,\n",
      " 'previousClose': 207.82,\n",
      " 'priceEpsCurrentYear': 29.56337,\n",
      " 'priceHint': 2,\n",
      " 'priceToBook': 47.515095,\n",
      " 'priceToSalesTrailing12Months': 7.925152,\n",
      " 'profitMargins': 0.24301,\n",
      " 'quickRatio': 0.68,\n",
      " 'quoteSourceName': 'Nasdaq Real Time Price',\n",
      " 'quoteType': 'EQUITY',\n",
      " 'recommendationKey': 'buy',\n",
      " 'recommendationMean': 2.1087,\n",
      " 'region': 'US',\n",
      " 'regularMarketChange': 4.62,\n",
      " 'regularMarketChangePercent': 2.22308,\n",
      " 'regularMarketDayHigh': 213.34,\n",
      " 'regularMarketDayLow': 208.14,\n",
      " 'regularMarketDayRange': '208.14 - 213.34',\n",
      " 'regularMarketOpen': 209.08,\n",
      " 'regularMarketPreviousClose': 207.82,\n",
      " 'regularMarketPrice': 212.44,\n",
      " 'regularMarketTime': 1751486401,\n",
      " 'regularMarketVolume': 67834447,\n",
      " 'returnOnAssets': 0.23809999,\n",
      " 'returnOnEquity': 1.38015,\n",
      " 'revenueGrowth': 0.051,\n",
      " 'revenuePerShare': 26.455,\n",
      " 'sector': 'Technology',\n",
      " 'sectorDisp': 'Technology',\n",
      " 'sectorKey': 'technology',\n",
      " 'shareHolderRightsRisk': 1,\n",
      " 'sharesOutstanding': 14935799808,\n",
      " 'sharesPercentSharesOut': 0.0067000003,\n",
      " 'sharesShort': 100226522,\n",
      " 'sharesShortPreviousMonthDate': 1747267200,\n",
      " 'sharesShortPriorMonth': 105169332,\n",
      " 'shortName': 'Apple Inc.',\n",
      " 'shortPercentOfFloat': 0.0067000003,\n",
      " 'shortRatio': 1.91,\n",
      " 'sourceInterval': 15,\n",
      " 'state': 'CA',\n",
      " 'symbol': 'AAPL',\n",
      " 'targetHighPrice': 300.0,\n",
      " 'targetLowPrice': 170.62,\n",
      " 'targetMeanPrice': 228.60326,\n",
      " 'targetMedianPrice': 230.0,\n",
      " 'totalCash': 48497999872,\n",
      " 'totalCashPerShare': 3.247,\n",
      " 'totalDebt': 98186002432,\n",
      " 'totalRevenue': 400366010368,\n",
      " 'tradeable': False,\n",
      " 'trailingAnnualDividendRate': 1.0,\n",
      " 'trailingAnnualDividendYield': 0.0048118564,\n",
      " 'trailingEps': 6.42,\n",
      " 'trailingPE': 33.090343,\n",
      " 'trailingPegRatio': 1.9373,\n",
      " 'triggerable': True,\n",
      " 'twoHundredDayAverage': 223.1329,\n",
      " 'twoHundredDayAverageChange': -10.692902,\n",
      " 'twoHundredDayAverageChangePercent': -0.047921672,\n",
      " 'typeDisp': 'Equity',\n",
      " 'volume': 67834447,\n",
      " 'website': 'https://www.apple.com',\n",
      " 'zip': '95014'}\n"
     ]
    },
    {
     "ename": "AttributeError",
     "evalue": "'dict' object has no attribute 'lower'",
     "output_type": "error",
     "traceback": [
      "\u001b[31m---------------------------------------------------------------------------\u001b[39m",
      "\u001b[31mAttributeError\u001b[39m                            Traceback (most recent call last)",
      "\u001b[36mCell\u001b[39m\u001b[36m \u001b[39m\u001b[32mIn[6]\u001b[39m\u001b[32m, line 7\u001b[39m\n\u001b[32m      4\u001b[39m ticker = yf.Ticker(\u001b[33m\"\u001b[39m\u001b[33mAAPL\u001b[39m\u001b[33m\"\u001b[39m)\n\u001b[32m      5\u001b[39m pprint.pprint(ticker.info)\n\u001b[32m----> \u001b[39m\u001b[32m7\u001b[39m \u001b[38;5;28mprint\u001b[39m(\u001b[43mticker\u001b[49m\u001b[43m.\u001b[49m\u001b[43mhistory\u001b[49m\u001b[43m(\u001b[49m\u001b[43mticker\u001b[49m\u001b[43m.\u001b[49m\u001b[43minfo\u001b[49m\u001b[43m)\u001b[49m)\n",
      "\u001b[36mFile \u001b[39m\u001b[32m~\\Documents\\GitHub\\Data_Baisc_Analyze\\Data_Baisc_Analyze\\.venv\\Lib\\site-packages\\yfinance\\utils.py:92\u001b[39m, in \u001b[36mlog_indent_decorator.<locals>.wrapper\u001b[39m\u001b[34m(*args, **kwargs)\u001b[39m\n\u001b[32m     89\u001b[39m logger.debug(\u001b[33mf\u001b[39m\u001b[33m'\u001b[39m\u001b[33mEntering \u001b[39m\u001b[38;5;132;01m{\u001b[39;00mfunc.\u001b[34m__name__\u001b[39m\u001b[38;5;132;01m}\u001b[39;00m\u001b[33m()\u001b[39m\u001b[33m'\u001b[39m)\n\u001b[32m     91\u001b[39m \u001b[38;5;28;01mwith\u001b[39;00m IndentationContext():\n\u001b[32m---> \u001b[39m\u001b[32m92\u001b[39m     result = \u001b[43mfunc\u001b[49m\u001b[43m(\u001b[49m\u001b[43m*\u001b[49m\u001b[43margs\u001b[49m\u001b[43m,\u001b[49m\u001b[43m \u001b[49m\u001b[43m*\u001b[49m\u001b[43m*\u001b[49m\u001b[43mkwargs\u001b[49m\u001b[43m)\u001b[49m\n\u001b[32m     94\u001b[39m logger.debug(\u001b[33mf\u001b[39m\u001b[33m'\u001b[39m\u001b[33mExiting \u001b[39m\u001b[38;5;132;01m{\u001b[39;00mfunc.\u001b[34m__name__\u001b[39m\u001b[38;5;132;01m}\u001b[39;00m\u001b[33m()\u001b[39m\u001b[33m'\u001b[39m)\n\u001b[32m     95\u001b[39m \u001b[38;5;28;01mreturn\u001b[39;00m result\n",
      "\u001b[36mFile \u001b[39m\u001b[32m~\\Documents\\GitHub\\Data_Baisc_Analyze\\Data_Baisc_Analyze\\.venv\\Lib\\site-packages\\yfinance\\base.py:101\u001b[39m, in \u001b[36mTickerBase.history\u001b[39m\u001b[34m(self, *args, **kwargs)\u001b[39m\n\u001b[32m     99\u001b[39m \u001b[38;5;129m@utils\u001b[39m.log_indent_decorator\n\u001b[32m    100\u001b[39m \u001b[38;5;28;01mdef\u001b[39;00m\u001b[38;5;250m \u001b[39m\u001b[34mhistory\u001b[39m(\u001b[38;5;28mself\u001b[39m, *args, **kwargs) -> pd.DataFrame:\n\u001b[32m--> \u001b[39m\u001b[32m101\u001b[39m     \u001b[38;5;28;01mreturn\u001b[39;00m \u001b[38;5;28;43mself\u001b[39;49m\u001b[43m.\u001b[49m\u001b[43m_lazy_load_price_history\u001b[49m\u001b[43m(\u001b[49m\u001b[43m)\u001b[49m\u001b[43m.\u001b[49m\u001b[43mhistory\u001b[49m\u001b[43m(\u001b[49m\u001b[43m*\u001b[49m\u001b[43margs\u001b[49m\u001b[43m,\u001b[49m\u001b[43m \u001b[49m\u001b[43m*\u001b[49m\u001b[43m*\u001b[49m\u001b[43mkwargs\u001b[49m\u001b[43m)\u001b[49m\n",
      "\u001b[36mFile \u001b[39m\u001b[32m~\\Documents\\GitHub\\Data_Baisc_Analyze\\Data_Baisc_Analyze\\.venv\\Lib\\site-packages\\yfinance\\utils.py:92\u001b[39m, in \u001b[36mlog_indent_decorator.<locals>.wrapper\u001b[39m\u001b[34m(*args, **kwargs)\u001b[39m\n\u001b[32m     89\u001b[39m logger.debug(\u001b[33mf\u001b[39m\u001b[33m'\u001b[39m\u001b[33mEntering \u001b[39m\u001b[38;5;132;01m{\u001b[39;00mfunc.\u001b[34m__name__\u001b[39m\u001b[38;5;132;01m}\u001b[39;00m\u001b[33m()\u001b[39m\u001b[33m'\u001b[39m)\n\u001b[32m     91\u001b[39m \u001b[38;5;28;01mwith\u001b[39;00m IndentationContext():\n\u001b[32m---> \u001b[39m\u001b[32m92\u001b[39m     result = \u001b[43mfunc\u001b[49m\u001b[43m(\u001b[49m\u001b[43m*\u001b[49m\u001b[43margs\u001b[49m\u001b[43m,\u001b[49m\u001b[43m \u001b[49m\u001b[43m*\u001b[49m\u001b[43m*\u001b[49m\u001b[43mkwargs\u001b[49m\u001b[43m)\u001b[49m\n\u001b[32m     94\u001b[39m logger.debug(\u001b[33mf\u001b[39m\u001b[33m'\u001b[39m\u001b[33mExiting \u001b[39m\u001b[38;5;132;01m{\u001b[39;00mfunc.\u001b[34m__name__\u001b[39m\u001b[38;5;132;01m}\u001b[39;00m\u001b[33m()\u001b[39m\u001b[33m'\u001b[39m)\n\u001b[32m     95\u001b[39m \u001b[38;5;28;01mreturn\u001b[39;00m result\n",
      "\u001b[36mFile \u001b[39m\u001b[32m~\\Documents\\GitHub\\Data_Baisc_Analyze\\Data_Baisc_Analyze\\.venv\\Lib\\site-packages\\yfinance\\scrapers\\history.py:118\u001b[39m, in \u001b[36mPriceHistory.history\u001b[39m\u001b[34m(self, period, interval, start, end, prepost, actions, auto_adjust, back_adjust, repair, keepna, proxy, rounding, timeout, raise_errors)\u001b[39m\n\u001b[32m    116\u001b[39m start_user = start\n\u001b[32m    117\u001b[39m end_user = end\n\u001b[32m--> \u001b[39m\u001b[32m118\u001b[39m \u001b[38;5;28;01mif\u001b[39;00m start \u001b[38;5;129;01mor\u001b[39;00m end \u001b[38;5;129;01mor\u001b[39;00m (period \u001b[38;5;129;01mand\u001b[39;00m \u001b[43mperiod\u001b[49m\u001b[43m.\u001b[49m\u001b[43mlower\u001b[49m() == \u001b[33m\"\u001b[39m\u001b[33mmax\u001b[39m\u001b[33m\"\u001b[39m):\n\u001b[32m    119\u001b[39m     \u001b[38;5;66;03m# Check can get TZ. Fail => probably delisted\u001b[39;00m\n\u001b[32m    120\u001b[39m     tz = \u001b[38;5;28mself\u001b[39m.tz\n\u001b[32m    121\u001b[39m     \u001b[38;5;28;01mif\u001b[39;00m tz \u001b[38;5;129;01mis\u001b[39;00m \u001b[38;5;28;01mNone\u001b[39;00m:\n\u001b[32m    122\u001b[39m         \u001b[38;5;66;03m# Every valid ticker has a timezone. A missing timezone is a problem.\u001b[39;00m\n",
      "\u001b[31mAttributeError\u001b[39m: 'dict' object has no attribute 'lower'"
     ]
    }
   ],
   "source": [
    "import pprint\n",
    "import yfinance as yf\n",
    "\n",
    "ticker = yf.Ticker(\"AAPL\")\n",
    "pprint.pprint(ticker.info)\n",
    "\n",
    "print(ticker.history(ticker.info))"
   ]
  },
  {
   "cell_type": "code",
   "execution_count": 7,
   "id": "34e6568e-31f5-4e12-929c-ffdd4d554a78",
   "metadata": {},
   "outputs": [
    {
     "name": "stdout",
     "output_type": "stream",
     "text": [
      "                                 Open        High         Low       Close  \\\n",
      "Date                                                                        \n",
      "2025-06-26 00:00:00-04:00  201.429993  202.639999  199.460007  201.000000   \n",
      "2025-06-27 00:00:00-04:00  201.889999  203.220001  200.000000  201.080002   \n",
      "2025-06-30 00:00:00-04:00  202.009995  207.389999  199.259995  205.169998   \n",
      "2025-07-01 00:00:00-04:00  206.669998  210.190002  206.139999  207.820007   \n",
      "2025-07-02 00:00:00-04:00  208.910004  213.339996  208.139999  212.440002   \n",
      "\n",
      "                             Volume  Dividends  Stock Splits  \n",
      "Date                                                          \n",
      "2025-06-26 00:00:00-04:00  50799100        0.0           0.0  \n",
      "2025-06-27 00:00:00-04:00  73188600        0.0           0.0  \n",
      "2025-06-30 00:00:00-04:00  91912800        0.0           0.0  \n",
      "2025-07-01 00:00:00-04:00  78788900        0.0           0.0  \n",
      "2025-07-02 00:00:00-04:00  67893400        0.0           0.0  \n"
     ]
    }
   ],
   "source": [
    "print(ticker.history(period = \"5d\"))"
   ]
  },
  {
   "cell_type": "code",
   "execution_count": 10,
   "id": "322ebb0f-121f-4d0b-9aa3-565c5cecb699",
   "metadata": {},
   "outputs": [
    {
     "name": "stderr",
     "output_type": "stream",
     "text": [
      "[*********************100%***********************]  1 of 1 completed\n"
     ]
    },
    {
     "data": {
      "text/html": [
       "<div>\n",
       "<style scoped>\n",
       "    .dataframe tbody tr th:only-of-type {\n",
       "        vertical-align: middle;\n",
       "    }\n",
       "\n",
       "    .dataframe tbody tr th {\n",
       "        vertical-align: top;\n",
       "    }\n",
       "\n",
       "    .dataframe thead tr th {\n",
       "        text-align: left;\n",
       "    }\n",
       "\n",
       "    .dataframe thead tr:last-of-type th {\n",
       "        text-align: right;\n",
       "    }\n",
       "</style>\n",
       "<table border=\"1\" class=\"dataframe\">\n",
       "  <thead>\n",
       "    <tr>\n",
       "      <th>Price</th>\n",
       "      <th>Close</th>\n",
       "      <th>High</th>\n",
       "      <th>Low</th>\n",
       "      <th>Open</th>\n",
       "      <th>Volume</th>\n",
       "    </tr>\n",
       "    <tr>\n",
       "      <th>Ticker</th>\n",
       "      <th>005930.KS</th>\n",
       "      <th>005930.KS</th>\n",
       "      <th>005930.KS</th>\n",
       "      <th>005930.KS</th>\n",
       "      <th>005930.KS</th>\n",
       "    </tr>\n",
       "    <tr>\n",
       "      <th>Date</th>\n",
       "      <th></th>\n",
       "      <th></th>\n",
       "      <th></th>\n",
       "      <th></th>\n",
       "      <th></th>\n",
       "    </tr>\n",
       "  </thead>\n",
       "  <tbody>\n",
       "    <tr>\n",
       "      <th>2000-01-04</th>\n",
       "      <td>4349.560547</td>\n",
       "      <td>4349.560547</td>\n",
       "      <td>4029.216480</td>\n",
       "      <td>4271.254220</td>\n",
       "      <td>74195000</td>\n",
       "    </tr>\n",
       "    <tr>\n",
       "      <th>2000-01-05</th>\n",
       "      <td>3972.263916</td>\n",
       "      <td>4313.964038</td>\n",
       "      <td>3929.551401</td>\n",
       "      <td>4128.876472</td>\n",
       "      <td>74680000</td>\n",
       "    </tr>\n",
       "    <tr>\n",
       "      <th>2000-01-06</th>\n",
       "      <td>4000.739990</td>\n",
       "      <td>4114.640061</td>\n",
       "      <td>3972.264973</td>\n",
       "      <td>4093.283798</td>\n",
       "      <td>54390000</td>\n",
       "    </tr>\n",
       "    <tr>\n",
       "      <th>2000-01-07</th>\n",
       "      <td>3943.790039</td>\n",
       "      <td>4036.333849</td>\n",
       "      <td>3815.652457</td>\n",
       "      <td>3958.027548</td>\n",
       "      <td>40305000</td>\n",
       "    </tr>\n",
       "    <tr>\n",
       "      <th>2000-01-10</th>\n",
       "      <td>4107.520996</td>\n",
       "      <td>4107.520996</td>\n",
       "      <td>3972.264672</td>\n",
       "      <td>3986.502180</td>\n",
       "      <td>46880000</td>\n",
       "    </tr>\n",
       "  </tbody>\n",
       "</table>\n",
       "</div>"
      ],
      "text/plain": [
       "Price             Close         High          Low         Open    Volume\n",
       "Ticker        005930.KS    005930.KS    005930.KS    005930.KS 005930.KS\n",
       "Date                                                                    \n",
       "2000-01-04  4349.560547  4349.560547  4029.216480  4271.254220  74195000\n",
       "2000-01-05  3972.263916  4313.964038  3929.551401  4128.876472  74680000\n",
       "2000-01-06  4000.739990  4114.640061  3972.264973  4093.283798  54390000\n",
       "2000-01-07  3943.790039  4036.333849  3815.652457  3958.027548  40305000\n",
       "2000-01-10  4107.520996  4107.520996  3972.264672  3986.502180  46880000"
      ]
     },
     "execution_count": 10,
     "metadata": {},
     "output_type": "execute_result"
    }
   ],
   "source": [
    "smasung = yf.download('005930.KS', start = '2000-01-01', end = '2023-12-31')\n",
    "smasung.head()"
   ]
  },
  {
   "cell_type": "code",
   "execution_count": 60,
   "id": "1abb27d3-f4ce-4633-93fb-a46927619059",
   "metadata": {
    "scrolled": true
   },
   "outputs": [
    {
     "name": "stderr",
     "output_type": "stream",
     "text": [
      "[*********************100%***********************]  1 of 1 completed\n",
      "08:18:40 - cmdstanpy - INFO - Chain [1] start processing\n",
      "08:18:40 - cmdstanpy - INFO - Chain [1] done processing\n",
      "08:18:40 - cmdstanpy - INFO - Chain [1] start processing\n",
      "08:18:40 - cmdstanpy - INFO - Chain [1] done processing\n"
     ]
    },
    {
     "name": "stdout",
     "output_type": "stream",
     "text": [
      "예측 결과에 없는 테스트 날짜:\n",
      " Series([], Name: ds, dtype: datetime64[ns])\n"
     ]
    },
    {
     "name": "stderr",
     "output_type": "stream",
     "text": [
      "08:18:41 - cmdstanpy - INFO - Chain [1] start processing\n"
     ]
    },
    {
     "name": "stdout",
     "output_type": "stream",
     "text": [
      "예측 결과에 없는 테스트 날짜:\n",
      " Series([], Name: ds, dtype: datetime64[ns])\n"
     ]
    },
    {
     "name": "stderr",
     "output_type": "stream",
     "text": [
      "08:18:41 - cmdstanpy - INFO - Chain [1] done processing\n",
      "08:18:41 - cmdstanpy - INFO - Chain [1] start processing\n",
      "08:18:41 - cmdstanpy - INFO - Chain [1] done processing\n"
     ]
    },
    {
     "name": "stdout",
     "output_type": "stream",
     "text": [
      "예측 결과에 없는 테스트 날짜:\n",
      " Series([], Name: ds, dtype: datetime64[ns])\n"
     ]
    },
    {
     "name": "stderr",
     "output_type": "stream",
     "text": [
      "08:18:42 - cmdstanpy - INFO - Chain [1] start processing\n",
      "08:18:42 - cmdstanpy - INFO - Chain [1] done processing\n"
     ]
    },
    {
     "name": "stdout",
     "output_type": "stream",
     "text": [
      "예측 결과에 없는 테스트 날짜:\n",
      " Series([], Name: ds, dtype: datetime64[ns])\n"
     ]
    },
    {
     "name": "stderr",
     "output_type": "stream",
     "text": [
      "08:18:42 - cmdstanpy - INFO - Chain [1] start processing\n",
      "08:18:42 - cmdstanpy - INFO - Chain [1] done processing\n"
     ]
    },
    {
     "name": "stdout",
     "output_type": "stream",
     "text": [
      "예측 결과에 없는 테스트 날짜:\n",
      " Series([], Name: ds, dtype: datetime64[ns])\n"
     ]
    },
    {
     "name": "stderr",
     "output_type": "stream",
     "text": [
      "08:18:42 - cmdstanpy - INFO - Chain [1] start processing\n",
      "08:18:42 - cmdstanpy - INFO - Chain [1] done processing\n"
     ]
    },
    {
     "name": "stdout",
     "output_type": "stream",
     "text": [
      "예측 결과에 없는 테스트 날짜:\n",
      " Series([], Name: ds, dtype: datetime64[ns])\n"
     ]
    },
    {
     "name": "stderr",
     "output_type": "stream",
     "text": [
      "08:18:43 - cmdstanpy - INFO - Chain [1] start processing\n",
      "08:18:43 - cmdstanpy - INFO - Chain [1] done processing\n"
     ]
    },
    {
     "name": "stdout",
     "output_type": "stream",
     "text": [
      "예측 결과에 없는 테스트 날짜:\n",
      " Series([], Name: ds, dtype: datetime64[ns])\n"
     ]
    },
    {
     "name": "stderr",
     "output_type": "stream",
     "text": [
      "08:18:43 - cmdstanpy - INFO - Chain [1] start processing\n"
     ]
    },
    {
     "name": "stdout",
     "output_type": "stream",
     "text": [
      "예측 결과에 없는 테스트 날짜:\n",
      " Series([], Name: ds, dtype: datetime64[ns])\n"
     ]
    },
    {
     "name": "stderr",
     "output_type": "stream",
     "text": [
      "08:18:43 - cmdstanpy - INFO - Chain [1] done processing\n",
      "08:18:43 - cmdstanpy - INFO - Chain [1] start processing\n",
      "08:18:43 - cmdstanpy - INFO - Chain [1] done processing\n"
     ]
    },
    {
     "name": "stdout",
     "output_type": "stream",
     "text": [
      "예측 결과에 없는 테스트 날짜:\n",
      " Series([], Name: ds, dtype: datetime64[ns])\n"
     ]
    },
    {
     "name": "stderr",
     "output_type": "stream",
     "text": [
      "08:18:44 - cmdstanpy - INFO - Chain [1] start processing\n",
      "08:18:44 - cmdstanpy - INFO - Chain [1] done processing\n"
     ]
    },
    {
     "name": "stdout",
     "output_type": "stream",
     "text": [
      "예측 결과에 없는 테스트 날짜:\n",
      " Series([], Name: ds, dtype: datetime64[ns])\n"
     ]
    },
    {
     "name": "stderr",
     "output_type": "stream",
     "text": [
      "08:18:44 - cmdstanpy - INFO - Chain [1] start processing\n",
      "08:18:44 - cmdstanpy - INFO - Chain [1] done processing\n"
     ]
    },
    {
     "name": "stdout",
     "output_type": "stream",
     "text": [
      "예측 결과에 없는 테스트 날짜:\n",
      " Series([], Name: ds, dtype: datetime64[ns])\n"
     ]
    },
    {
     "name": "stderr",
     "output_type": "stream",
     "text": [
      "08:18:44 - cmdstanpy - INFO - Chain [1] start processing\n",
      "08:18:44 - cmdstanpy - INFO - Chain [1] done processing\n"
     ]
    },
    {
     "name": "stdout",
     "output_type": "stream",
     "text": [
      "예측 결과에 없는 테스트 날짜:\n",
      " Series([], Name: ds, dtype: datetime64[ns])\n"
     ]
    },
    {
     "name": "stderr",
     "output_type": "stream",
     "text": [
      "08:18:45 - cmdstanpy - INFO - Chain [1] start processing\n",
      "08:18:45 - cmdstanpy - INFO - Chain [1] done processing\n"
     ]
    },
    {
     "name": "stdout",
     "output_type": "stream",
     "text": [
      "예측 결과에 없는 테스트 날짜:\n",
      " Series([], Name: ds, dtype: datetime64[ns])\n"
     ]
    },
    {
     "name": "stderr",
     "output_type": "stream",
     "text": [
      "08:18:45 - cmdstanpy - INFO - Chain [1] start processing\n",
      "08:18:45 - cmdstanpy - INFO - Chain [1] done processing\n"
     ]
    },
    {
     "name": "stdout",
     "output_type": "stream",
     "text": [
      "예측 결과에 없는 테스트 날짜:\n",
      " Series([], Name: ds, dtype: datetime64[ns])\n"
     ]
    },
    {
     "name": "stderr",
     "output_type": "stream",
     "text": [
      "08:18:45 - cmdstanpy - INFO - Chain [1] start processing\n",
      "08:18:45 - cmdstanpy - INFO - Chain [1] done processing\n"
     ]
    },
    {
     "name": "stdout",
     "output_type": "stream",
     "text": [
      "예측 결과에 없는 테스트 날짜:\n",
      " Series([], Name: ds, dtype: datetime64[ns])\n"
     ]
    },
    {
     "name": "stderr",
     "output_type": "stream",
     "text": [
      "08:18:46 - cmdstanpy - INFO - Chain [1] start processing\n"
     ]
    },
    {
     "name": "stdout",
     "output_type": "stream",
     "text": [
      "예측 결과에 없는 테스트 날짜:\n",
      " Series([], Name: ds, dtype: datetime64[ns])\n"
     ]
    },
    {
     "name": "stderr",
     "output_type": "stream",
     "text": [
      "08:18:46 - cmdstanpy - INFO - Chain [1] done processing\n",
      "08:18:46 - cmdstanpy - INFO - Chain [1] start processing\n",
      "08:18:46 - cmdstanpy - INFO - Chain [1] done processing\n"
     ]
    },
    {
     "name": "stdout",
     "output_type": "stream",
     "text": [
      "예측 결과에 없는 테스트 날짜:\n",
      " Series([], Name: ds, dtype: datetime64[ns])\n"
     ]
    },
    {
     "name": "stderr",
     "output_type": "stream",
     "text": [
      "08:18:47 - cmdstanpy - INFO - Chain [1] start processing\n",
      "08:18:47 - cmdstanpy - INFO - Chain [1] done processing\n"
     ]
    },
    {
     "name": "stdout",
     "output_type": "stream",
     "text": [
      "예측 결과에 없는 테스트 날짜:\n",
      " Series([], Name: ds, dtype: datetime64[ns])\n"
     ]
    },
    {
     "name": "stderr",
     "output_type": "stream",
     "text": [
      "08:18:47 - cmdstanpy - INFO - Chain [1] start processing\n",
      "08:18:47 - cmdstanpy - INFO - Chain [1] done processing\n"
     ]
    },
    {
     "name": "stdout",
     "output_type": "stream",
     "text": [
      "예측 결과에 없는 테스트 날짜:\n",
      " Series([], Name: ds, dtype: datetime64[ns])\n"
     ]
    },
    {
     "name": "stderr",
     "output_type": "stream",
     "text": [
      "08:18:47 - cmdstanpy - INFO - Chain [1] start processing\n",
      "08:18:47 - cmdstanpy - INFO - Chain [1] done processing\n"
     ]
    },
    {
     "name": "stdout",
     "output_type": "stream",
     "text": [
      "예측 결과에 없는 테스트 날짜:\n",
      " Series([], Name: ds, dtype: datetime64[ns])\n"
     ]
    },
    {
     "name": "stderr",
     "output_type": "stream",
     "text": [
      "08:18:48 - cmdstanpy - INFO - Chain [1] start processing\n",
      "08:18:48 - cmdstanpy - INFO - Chain [1] done processing\n"
     ]
    },
    {
     "name": "stdout",
     "output_type": "stream",
     "text": [
      "예측 결과에 없는 테스트 날짜:\n",
      " Series([], Name: ds, dtype: datetime64[ns])\n"
     ]
    },
    {
     "name": "stderr",
     "output_type": "stream",
     "text": [
      "08:18:48 - cmdstanpy - INFO - Chain [1] start processing\n",
      "08:18:48 - cmdstanpy - INFO - Chain [1] done processing\n"
     ]
    },
    {
     "name": "stdout",
     "output_type": "stream",
     "text": [
      "예측 결과에 없는 테스트 날짜:\n",
      " Series([], Name: ds, dtype: datetime64[ns])\n"
     ]
    },
    {
     "name": "stderr",
     "output_type": "stream",
     "text": [
      "08:18:48 - cmdstanpy - INFO - Chain [1] start processing\n",
      "08:18:48 - cmdstanpy - INFO - Chain [1] done processing\n"
     ]
    },
    {
     "name": "stdout",
     "output_type": "stream",
     "text": [
      "예측 결과에 없는 테스트 날짜:\n",
      " Series([], Name: ds, dtype: datetime64[ns])\n"
     ]
    },
    {
     "name": "stderr",
     "output_type": "stream",
     "text": [
      "08:18:49 - cmdstanpy - INFO - Chain [1] start processing\n",
      "08:18:49 - cmdstanpy - INFO - Chain [1] done processing\n"
     ]
    },
    {
     "name": "stdout",
     "output_type": "stream",
     "text": [
      "예측 결과에 없는 테스트 날짜:\n",
      " Series([], Name: ds, dtype: datetime64[ns])\n"
     ]
    },
    {
     "name": "stderr",
     "output_type": "stream",
     "text": [
      "08:18:49 - cmdstanpy - INFO - Chain [1] start processing\n",
      "08:18:49 - cmdstanpy - INFO - Chain [1] done processing\n"
     ]
    },
    {
     "name": "stdout",
     "output_type": "stream",
     "text": [
      "예측 결과에 없는 테스트 날짜:\n",
      " Series([], Name: ds, dtype: datetime64[ns])\n"
     ]
    },
    {
     "name": "stderr",
     "output_type": "stream",
     "text": [
      "08:18:49 - cmdstanpy - INFO - Chain [1] start processing\n",
      "08:18:50 - cmdstanpy - INFO - Chain [1] done processing\n"
     ]
    },
    {
     "name": "stdout",
     "output_type": "stream",
     "text": [
      "예측 결과에 없는 테스트 날짜:\n",
      " Series([], Name: ds, dtype: datetime64[ns])\n"
     ]
    },
    {
     "name": "stderr",
     "output_type": "stream",
     "text": [
      "08:18:50 - cmdstanpy - INFO - Chain [1] start processing\n",
      "08:18:50 - cmdstanpy - INFO - Chain [1] done processing\n"
     ]
    },
    {
     "name": "stdout",
     "output_type": "stream",
     "text": [
      "예측 결과에 없는 테스트 날짜:\n",
      " Series([], Name: ds, dtype: datetime64[ns])\n"
     ]
    },
    {
     "name": "stderr",
     "output_type": "stream",
     "text": [
      "08:18:50 - cmdstanpy - INFO - Chain [1] start processing\n",
      "08:18:50 - cmdstanpy - INFO - Chain [1] done processing\n"
     ]
    },
    {
     "name": "stdout",
     "output_type": "stream",
     "text": [
      "예측 결과에 없는 테스트 날짜:\n",
      " Series([], Name: ds, dtype: datetime64[ns])\n"
     ]
    },
    {
     "name": "stderr",
     "output_type": "stream",
     "text": [
      "08:18:51 - cmdstanpy - INFO - Chain [1] start processing\n",
      "08:18:51 - cmdstanpy - INFO - Chain [1] done processing\n"
     ]
    },
    {
     "name": "stdout",
     "output_type": "stream",
     "text": [
      "예측 결과에 없는 테스트 날짜:\n",
      " Series([], Name: ds, dtype: datetime64[ns])\n"
     ]
    },
    {
     "name": "stderr",
     "output_type": "stream",
     "text": [
      "08:18:51 - cmdstanpy - INFO - Chain [1] start processing\n",
      "08:18:51 - cmdstanpy - INFO - Chain [1] done processing\n"
     ]
    },
    {
     "name": "stdout",
     "output_type": "stream",
     "text": [
      "예측 결과에 없는 테스트 날짜:\n",
      " Series([], Name: ds, dtype: datetime64[ns])\n"
     ]
    },
    {
     "name": "stderr",
     "output_type": "stream",
     "text": [
      "08:18:51 - cmdstanpy - INFO - Chain [1] start processing\n",
      "08:18:51 - cmdstanpy - INFO - Chain [1] done processing\n"
     ]
    },
    {
     "name": "stdout",
     "output_type": "stream",
     "text": [
      "예측 결과에 없는 테스트 날짜:\n",
      " Series([], Name: ds, dtype: datetime64[ns])\n"
     ]
    },
    {
     "name": "stderr",
     "output_type": "stream",
     "text": [
      "08:18:52 - cmdstanpy - INFO - Chain [1] start processing\n",
      "08:18:52 - cmdstanpy - INFO - Chain [1] done processing\n"
     ]
    },
    {
     "name": "stdout",
     "output_type": "stream",
     "text": [
      "예측 결과에 없는 테스트 날짜:\n",
      " Series([], Name: ds, dtype: datetime64[ns])\n"
     ]
    },
    {
     "name": "stderr",
     "output_type": "stream",
     "text": [
      "08:18:52 - cmdstanpy - INFO - Chain [1] start processing\n",
      "08:18:52 - cmdstanpy - INFO - Chain [1] done processing\n"
     ]
    },
    {
     "name": "stdout",
     "output_type": "stream",
     "text": [
      "예측 결과에 없는 테스트 날짜:\n",
      " Series([], Name: ds, dtype: datetime64[ns])\n"
     ]
    },
    {
     "name": "stderr",
     "output_type": "stream",
     "text": [
      "08:18:52 - cmdstanpy - INFO - Chain [1] start processing\n",
      "08:18:52 - cmdstanpy - INFO - Chain [1] done processing\n"
     ]
    },
    {
     "name": "stdout",
     "output_type": "stream",
     "text": [
      "예측 결과에 없는 테스트 날짜:\n",
      " Series([], Name: ds, dtype: datetime64[ns])\n"
     ]
    },
    {
     "name": "stderr",
     "output_type": "stream",
     "text": [
      "08:18:53 - cmdstanpy - INFO - Chain [1] start processing\n",
      "08:18:53 - cmdstanpy - INFO - Chain [1] done processing\n"
     ]
    },
    {
     "name": "stdout",
     "output_type": "stream",
     "text": [
      "예측 결과에 없는 테스트 날짜:\n",
      " Series([], Name: ds, dtype: datetime64[ns])\n"
     ]
    },
    {
     "name": "stderr",
     "output_type": "stream",
     "text": [
      "08:18:53 - cmdstanpy - INFO - Chain [1] start processing\n",
      "08:18:53 - cmdstanpy - INFO - Chain [1] done processing\n"
     ]
    },
    {
     "name": "stdout",
     "output_type": "stream",
     "text": [
      "예측 결과에 없는 테스트 날짜:\n",
      " Series([], Name: ds, dtype: datetime64[ns])\n"
     ]
    },
    {
     "name": "stderr",
     "output_type": "stream",
     "text": [
      "08:18:53 - cmdstanpy - INFO - Chain [1] start processing\n",
      "08:18:53 - cmdstanpy - INFO - Chain [1] done processing\n"
     ]
    },
    {
     "name": "stdout",
     "output_type": "stream",
     "text": [
      "예측 결과에 없는 테스트 날짜:\n",
      " Series([], Name: ds, dtype: datetime64[ns])\n"
     ]
    },
    {
     "name": "stderr",
     "output_type": "stream",
     "text": [
      "08:18:54 - cmdstanpy - INFO - Chain [1] start processing\n",
      "08:18:54 - cmdstanpy - INFO - Chain [1] done processing\n"
     ]
    },
    {
     "name": "stdout",
     "output_type": "stream",
     "text": [
      "예측 결과에 없는 테스트 날짜:\n",
      " Series([], Name: ds, dtype: datetime64[ns])\n"
     ]
    },
    {
     "name": "stderr",
     "output_type": "stream",
     "text": [
      "08:18:54 - cmdstanpy - INFO - Chain [1] start processing\n",
      "08:18:54 - cmdstanpy - INFO - Chain [1] done processing\n"
     ]
    },
    {
     "name": "stdout",
     "output_type": "stream",
     "text": [
      "예측 결과에 없는 테스트 날짜:\n",
      " Series([], Name: ds, dtype: datetime64[ns])\n"
     ]
    },
    {
     "name": "stderr",
     "output_type": "stream",
     "text": [
      "08:18:54 - cmdstanpy - INFO - Chain [1] start processing\n"
     ]
    },
    {
     "name": "stdout",
     "output_type": "stream",
     "text": [
      "예측 결과에 없는 테스트 날짜:\n",
      " Series([], Name: ds, dtype: datetime64[ns])\n"
     ]
    },
    {
     "name": "stderr",
     "output_type": "stream",
     "text": [
      "08:18:54 - cmdstanpy - INFO - Chain [1] done processing\n",
      "08:18:55 - cmdstanpy - INFO - Chain [1] start processing\n",
      "08:18:55 - cmdstanpy - INFO - Chain [1] done processing\n"
     ]
    },
    {
     "name": "stdout",
     "output_type": "stream",
     "text": [
      "예측 결과에 없는 테스트 날짜:\n",
      " Series([], Name: ds, dtype: datetime64[ns])\n"
     ]
    },
    {
     "name": "stderr",
     "output_type": "stream",
     "text": [
      "08:18:55 - cmdstanpy - INFO - Chain [1] start processing\n"
     ]
    },
    {
     "name": "stdout",
     "output_type": "stream",
     "text": [
      "예측 결과에 없는 테스트 날짜:\n",
      " Series([], Name: ds, dtype: datetime64[ns])\n"
     ]
    },
    {
     "name": "stderr",
     "output_type": "stream",
     "text": [
      "08:18:55 - cmdstanpy - INFO - Chain [1] done processing\n",
      "08:18:55 - cmdstanpy - INFO - Chain [1] start processing\n",
      "08:18:56 - cmdstanpy - INFO - Chain [1] done processing\n"
     ]
    },
    {
     "name": "stdout",
     "output_type": "stream",
     "text": [
      "예측 결과에 없는 테스트 날짜:\n",
      " Series([], Name: ds, dtype: datetime64[ns])\n"
     ]
    },
    {
     "name": "stderr",
     "output_type": "stream",
     "text": [
      "08:18:56 - cmdstanpy - INFO - Chain [1] start processing\n",
      "08:18:56 - cmdstanpy - INFO - Chain [1] done processing\n"
     ]
    },
    {
     "name": "stdout",
     "output_type": "stream",
     "text": [
      "예측 결과에 없는 테스트 날짜:\n",
      " Series([], Name: ds, dtype: datetime64[ns])\n"
     ]
    },
    {
     "name": "stderr",
     "output_type": "stream",
     "text": [
      "08:18:56 - cmdstanpy - INFO - Chain [1] start processing\n",
      "08:18:56 - cmdstanpy - INFO - Chain [1] done processing\n"
     ]
    },
    {
     "name": "stdout",
     "output_type": "stream",
     "text": [
      "예측 결과에 없는 테스트 날짜:\n",
      " Series([], Name: ds, dtype: datetime64[ns])\n"
     ]
    },
    {
     "name": "stderr",
     "output_type": "stream",
     "text": [
      "08:18:57 - cmdstanpy - INFO - Chain [1] start processing\n",
      "08:18:57 - cmdstanpy - INFO - Chain [1] done processing\n"
     ]
    },
    {
     "name": "stdout",
     "output_type": "stream",
     "text": [
      "예측 결과에 없는 테스트 날짜:\n",
      " Series([], Name: ds, dtype: datetime64[ns])\n"
     ]
    },
    {
     "name": "stderr",
     "output_type": "stream",
     "text": [
      "08:18:57 - cmdstanpy - INFO - Chain [1] start processing\n",
      "08:18:57 - cmdstanpy - INFO - Chain [1] done processing\n"
     ]
    },
    {
     "name": "stdout",
     "output_type": "stream",
     "text": [
      "예측 결과에 없는 테스트 날짜:\n",
      " Series([], Name: ds, dtype: datetime64[ns])\n"
     ]
    },
    {
     "name": "stderr",
     "output_type": "stream",
     "text": [
      "08:18:57 - cmdstanpy - INFO - Chain [1] start processing\n"
     ]
    },
    {
     "name": "stdout",
     "output_type": "stream",
     "text": [
      "예측 결과에 없는 테스트 날짜:\n",
      " Series([], Name: ds, dtype: datetime64[ns])\n"
     ]
    },
    {
     "name": "stderr",
     "output_type": "stream",
     "text": [
      "08:18:57 - cmdstanpy - INFO - Chain [1] done processing\n",
      "08:18:58 - cmdstanpy - INFO - Chain [1] start processing\n",
      "08:18:58 - cmdstanpy - INFO - Chain [1] done processing\n"
     ]
    },
    {
     "name": "stdout",
     "output_type": "stream",
     "text": [
      "예측 결과에 없는 테스트 날짜:\n",
      " Series([], Name: ds, dtype: datetime64[ns])\n"
     ]
    },
    {
     "name": "stderr",
     "output_type": "stream",
     "text": [
      "08:18:58 - cmdstanpy - INFO - Chain [1] start processing\n"
     ]
    },
    {
     "name": "stdout",
     "output_type": "stream",
     "text": [
      "예측 결과에 없는 테스트 날짜:\n",
      " Series([], Name: ds, dtype: datetime64[ns])\n"
     ]
    },
    {
     "name": "stderr",
     "output_type": "stream",
     "text": [
      "08:18:58 - cmdstanpy - INFO - Chain [1] done processing\n",
      "08:18:58 - cmdstanpy - INFO - Chain [1] start processing\n",
      "08:18:58 - cmdstanpy - INFO - Chain [1] done processing\n"
     ]
    },
    {
     "name": "stdout",
     "output_type": "stream",
     "text": [
      "예측 결과에 없는 테스트 날짜:\n",
      " Series([], Name: ds, dtype: datetime64[ns])\n"
     ]
    },
    {
     "name": "stderr",
     "output_type": "stream",
     "text": [
      "08:18:59 - cmdstanpy - INFO - Chain [1] start processing\n",
      "08:18:59 - cmdstanpy - INFO - Chain [1] done processing\n"
     ]
    },
    {
     "name": "stdout",
     "output_type": "stream",
     "text": [
      "예측 결과에 없는 테스트 날짜:\n",
      " Series([], Name: ds, dtype: datetime64[ns])\n"
     ]
    },
    {
     "name": "stderr",
     "output_type": "stream",
     "text": [
      "08:18:59 - cmdstanpy - INFO - Chain [1] start processing\n",
      "08:18:59 - cmdstanpy - INFO - Chain [1] done processing\n"
     ]
    },
    {
     "name": "stdout",
     "output_type": "stream",
     "text": [
      "예측 결과에 없는 테스트 날짜:\n",
      " Series([], Name: ds, dtype: datetime64[ns])\n"
     ]
    },
    {
     "name": "stderr",
     "output_type": "stream",
     "text": [
      "08:18:59 - cmdstanpy - INFO - Chain [1] start processing\n",
      "08:18:59 - cmdstanpy - INFO - Chain [1] done processing\n"
     ]
    },
    {
     "name": "stdout",
     "output_type": "stream",
     "text": [
      "예측 결과에 없는 테스트 날짜:\n",
      " Series([], Name: ds, dtype: datetime64[ns])\n"
     ]
    },
    {
     "name": "stderr",
     "output_type": "stream",
     "text": [
      "08:19:00 - cmdstanpy - INFO - Chain [1] start processing\n",
      "08:19:00 - cmdstanpy - INFO - Chain [1] done processing\n"
     ]
    },
    {
     "name": "stdout",
     "output_type": "stream",
     "text": [
      "예측 결과에 없는 테스트 날짜:\n",
      " Series([], Name: ds, dtype: datetime64[ns])\n"
     ]
    },
    {
     "name": "stderr",
     "output_type": "stream",
     "text": [
      "08:19:00 - cmdstanpy - INFO - Chain [1] start processing\n"
     ]
    },
    {
     "name": "stdout",
     "output_type": "stream",
     "text": [
      "예측 결과에 없는 테스트 날짜:\n",
      " Series([], Name: ds, dtype: datetime64[ns])\n"
     ]
    },
    {
     "name": "stderr",
     "output_type": "stream",
     "text": [
      "08:19:00 - cmdstanpy - INFO - Chain [1] done processing\n",
      "08:19:01 - cmdstanpy - INFO - Chain [1] start processing\n",
      "08:19:01 - cmdstanpy - INFO - Chain [1] done processing\n"
     ]
    },
    {
     "name": "stdout",
     "output_type": "stream",
     "text": [
      "예측 결과에 없는 테스트 날짜:\n",
      " Series([], Name: ds, dtype: datetime64[ns])\n"
     ]
    },
    {
     "name": "stderr",
     "output_type": "stream",
     "text": [
      "08:19:01 - cmdstanpy - INFO - Chain [1] start processing\n",
      "08:19:01 - cmdstanpy - INFO - Chain [1] done processing\n"
     ]
    },
    {
     "name": "stdout",
     "output_type": "stream",
     "text": [
      "예측 결과에 없는 테스트 날짜:\n",
      " Series([], Name: ds, dtype: datetime64[ns])\n"
     ]
    },
    {
     "name": "stderr",
     "output_type": "stream",
     "text": [
      "08:19:01 - cmdstanpy - INFO - Chain [1] start processing\n",
      "08:19:01 - cmdstanpy - INFO - Chain [1] done processing\n"
     ]
    },
    {
     "name": "stdout",
     "output_type": "stream",
     "text": [
      "예측 결과에 없는 테스트 날짜:\n",
      " Series([], Name: ds, dtype: datetime64[ns])\n"
     ]
    },
    {
     "name": "stderr",
     "output_type": "stream",
     "text": [
      "08:19:02 - cmdstanpy - INFO - Chain [1] start processing\n",
      "08:19:02 - cmdstanpy - INFO - Chain [1] done processing\n"
     ]
    },
    {
     "name": "stdout",
     "output_type": "stream",
     "text": [
      "예측 결과에 없는 테스트 날짜:\n",
      " Series([], Name: ds, dtype: datetime64[ns])\n"
     ]
    },
    {
     "name": "stderr",
     "output_type": "stream",
     "text": [
      "08:19:02 - cmdstanpy - INFO - Chain [1] start processing\n",
      "08:19:02 - cmdstanpy - INFO - Chain [1] done processing\n"
     ]
    },
    {
     "name": "stdout",
     "output_type": "stream",
     "text": [
      "예측 결과에 없는 테스트 날짜:\n",
      " Series([], Name: ds, dtype: datetime64[ns])\n"
     ]
    },
    {
     "name": "stderr",
     "output_type": "stream",
     "text": [
      "08:19:02 - cmdstanpy - INFO - Chain [1] start processing\n",
      "08:19:02 - cmdstanpy - INFO - Chain [1] done processing\n"
     ]
    },
    {
     "name": "stdout",
     "output_type": "stream",
     "text": [
      "예측 결과에 없는 테스트 날짜:\n",
      " Series([], Name: ds, dtype: datetime64[ns])\n"
     ]
    },
    {
     "name": "stderr",
     "output_type": "stream",
     "text": [
      "08:19:03 - cmdstanpy - INFO - Chain [1] start processing\n",
      "08:19:03 - cmdstanpy - INFO - Chain [1] done processing\n"
     ]
    },
    {
     "name": "stdout",
     "output_type": "stream",
     "text": [
      "예측 결과에 없는 테스트 날짜:\n",
      " Series([], Name: ds, dtype: datetime64[ns])\n"
     ]
    },
    {
     "name": "stderr",
     "output_type": "stream",
     "text": [
      "08:19:03 - cmdstanpy - INFO - Chain [1] start processing\n"
     ]
    },
    {
     "name": "stdout",
     "output_type": "stream",
     "text": [
      "예측 결과에 없는 테스트 날짜:\n",
      " Series([], Name: ds, dtype: datetime64[ns])\n"
     ]
    },
    {
     "name": "stderr",
     "output_type": "stream",
     "text": [
      "08:19:03 - cmdstanpy - INFO - Chain [1] done processing\n",
      "08:19:03 - cmdstanpy - INFO - Chain [1] start processing\n",
      "08:19:03 - cmdstanpy - INFO - Chain [1] done processing\n"
     ]
    },
    {
     "name": "stdout",
     "output_type": "stream",
     "text": [
      "예측 결과에 없는 테스트 날짜:\n",
      " Series([], Name: ds, dtype: datetime64[ns])\n"
     ]
    },
    {
     "name": "stderr",
     "output_type": "stream",
     "text": [
      "08:19:04 - cmdstanpy - INFO - Chain [1] start processing\n",
      "08:19:04 - cmdstanpy - INFO - Chain [1] done processing\n"
     ]
    },
    {
     "name": "stdout",
     "output_type": "stream",
     "text": [
      "예측 결과에 없는 테스트 날짜:\n",
      " Series([], Name: ds, dtype: datetime64[ns])\n"
     ]
    },
    {
     "name": "stderr",
     "output_type": "stream",
     "text": [
      "08:19:04 - cmdstanpy - INFO - Chain [1] start processing\n"
     ]
    },
    {
     "name": "stdout",
     "output_type": "stream",
     "text": [
      "예측 결과에 없는 테스트 날짜:\n",
      " Series([], Name: ds, dtype: datetime64[ns])\n"
     ]
    },
    {
     "name": "stderr",
     "output_type": "stream",
     "text": [
      "08:19:04 - cmdstanpy - INFO - Chain [1] done processing\n",
      "08:19:04 - cmdstanpy - INFO - Chain [1] start processing\n",
      "08:19:05 - cmdstanpy - INFO - Chain [1] done processing\n"
     ]
    },
    {
     "name": "stdout",
     "output_type": "stream",
     "text": [
      "예측 결과에 없는 테스트 날짜:\n",
      " Series([], Name: ds, dtype: datetime64[ns])\n"
     ]
    },
    {
     "name": "stderr",
     "output_type": "stream",
     "text": [
      "08:19:05 - cmdstanpy - INFO - Chain [1] start processing\n",
      "08:19:05 - cmdstanpy - INFO - Chain [1] done processing\n"
     ]
    },
    {
     "name": "stdout",
     "output_type": "stream",
     "text": [
      "예측 결과에 없는 테스트 날짜:\n",
      " Series([], Name: ds, dtype: datetime64[ns])\n"
     ]
    },
    {
     "name": "stderr",
     "output_type": "stream",
     "text": [
      "08:19:05 - cmdstanpy - INFO - Chain [1] start processing\n",
      "08:19:05 - cmdstanpy - INFO - Chain [1] done processing\n"
     ]
    },
    {
     "name": "stdout",
     "output_type": "stream",
     "text": [
      "예측 결과에 없는 테스트 날짜:\n",
      " Series([], Name: ds, dtype: datetime64[ns])\n"
     ]
    },
    {
     "name": "stderr",
     "output_type": "stream",
     "text": [
      "08:19:05 - cmdstanpy - INFO - Chain [1] start processing\n",
      "08:19:06 - cmdstanpy - INFO - Chain [1] done processing\n"
     ]
    },
    {
     "name": "stdout",
     "output_type": "stream",
     "text": [
      "예측 결과에 없는 테스트 날짜:\n",
      " Series([], Name: ds, dtype: datetime64[ns])\n"
     ]
    },
    {
     "name": "stderr",
     "output_type": "stream",
     "text": [
      "08:19:06 - cmdstanpy - INFO - Chain [1] start processing\n",
      "08:19:06 - cmdstanpy - INFO - Chain [1] done processing\n"
     ]
    },
    {
     "name": "stdout",
     "output_type": "stream",
     "text": [
      "예측 결과에 없는 테스트 날짜:\n",
      " Series([], Name: ds, dtype: datetime64[ns])\n"
     ]
    },
    {
     "name": "stderr",
     "output_type": "stream",
     "text": [
      "08:19:06 - cmdstanpy - INFO - Chain [1] start processing\n",
      "08:19:06 - cmdstanpy - INFO - Chain [1] done processing\n"
     ]
    },
    {
     "name": "stdout",
     "output_type": "stream",
     "text": [
      "예측 결과에 없는 테스트 날짜:\n",
      " Series([], Name: ds, dtype: datetime64[ns])\n"
     ]
    },
    {
     "name": "stderr",
     "output_type": "stream",
     "text": [
      "08:19:07 - cmdstanpy - INFO - Chain [1] start processing\n",
      "08:19:07 - cmdstanpy - INFO - Chain [1] done processing\n"
     ]
    },
    {
     "name": "stdout",
     "output_type": "stream",
     "text": [
      "예측 결과에 없는 테스트 날짜:\n",
      " Series([], Name: ds, dtype: datetime64[ns])\n"
     ]
    },
    {
     "name": "stderr",
     "output_type": "stream",
     "text": [
      "08:19:07 - cmdstanpy - INFO - Chain [1] start processing\n",
      "08:19:07 - cmdstanpy - INFO - Chain [1] done processing\n"
     ]
    },
    {
     "name": "stdout",
     "output_type": "stream",
     "text": [
      "예측 결과에 없는 테스트 날짜:\n",
      " Series([], Name: ds, dtype: datetime64[ns])\n"
     ]
    },
    {
     "name": "stderr",
     "output_type": "stream",
     "text": [
      "08:19:07 - cmdstanpy - INFO - Chain [1] start processing\n",
      "08:19:07 - cmdstanpy - INFO - Chain [1] done processing\n"
     ]
    },
    {
     "name": "stdout",
     "output_type": "stream",
     "text": [
      "예측 결과에 없는 테스트 날짜:\n",
      " Series([], Name: ds, dtype: datetime64[ns])\n"
     ]
    },
    {
     "name": "stderr",
     "output_type": "stream",
     "text": [
      "08:19:08 - cmdstanpy - INFO - Chain [1] start processing\n",
      "08:19:08 - cmdstanpy - INFO - Chain [1] done processing\n"
     ]
    },
    {
     "name": "stdout",
     "output_type": "stream",
     "text": [
      "예측 결과에 없는 테스트 날짜:\n",
      " Series([], Name: ds, dtype: datetime64[ns])\n"
     ]
    },
    {
     "name": "stderr",
     "output_type": "stream",
     "text": [
      "08:19:08 - cmdstanpy - INFO - Chain [1] start processing\n",
      "08:19:08 - cmdstanpy - INFO - Chain [1] done processing\n"
     ]
    },
    {
     "name": "stdout",
     "output_type": "stream",
     "text": [
      "예측 결과에 없는 테스트 날짜:\n",
      " Series([], Name: ds, dtype: datetime64[ns])\n"
     ]
    },
    {
     "name": "stderr",
     "output_type": "stream",
     "text": [
      "08:19:08 - cmdstanpy - INFO - Chain [1] start processing\n",
      "08:19:08 - cmdstanpy - INFO - Chain [1] done processing\n"
     ]
    },
    {
     "name": "stdout",
     "output_type": "stream",
     "text": [
      "예측 결과에 없는 테스트 날짜:\n",
      " Series([], Name: ds, dtype: datetime64[ns])\n"
     ]
    },
    {
     "name": "stderr",
     "output_type": "stream",
     "text": [
      "08:19:09 - cmdstanpy - INFO - Chain [1] start processing\n"
     ]
    },
    {
     "name": "stdout",
     "output_type": "stream",
     "text": [
      "예측 결과에 없는 테스트 날짜:\n",
      " Series([], Name: ds, dtype: datetime64[ns])\n"
     ]
    },
    {
     "name": "stderr",
     "output_type": "stream",
     "text": [
      "08:19:09 - cmdstanpy - INFO - Chain [1] done processing\n",
      "08:19:09 - cmdstanpy - INFO - Chain [1] start processing\n",
      "08:19:09 - cmdstanpy - INFO - Chain [1] done processing\n"
     ]
    },
    {
     "name": "stdout",
     "output_type": "stream",
     "text": [
      "예측 결과에 없는 테스트 날짜:\n",
      " Series([], Name: ds, dtype: datetime64[ns])\n"
     ]
    },
    {
     "name": "stderr",
     "output_type": "stream",
     "text": [
      "08:19:10 - cmdstanpy - INFO - Chain [1] start processing\n",
      "08:19:10 - cmdstanpy - INFO - Chain [1] done processing\n"
     ]
    },
    {
     "name": "stdout",
     "output_type": "stream",
     "text": [
      "예측 결과에 없는 테스트 날짜:\n",
      " Series([], Name: ds, dtype: datetime64[ns])\n"
     ]
    },
    {
     "name": "stderr",
     "output_type": "stream",
     "text": [
      "08:19:10 - cmdstanpy - INFO - Chain [1] start processing\n",
      "08:19:10 - cmdstanpy - INFO - Chain [1] done processing\n"
     ]
    },
    {
     "name": "stdout",
     "output_type": "stream",
     "text": [
      "예측 결과에 없는 테스트 날짜:\n",
      " Series([], Name: ds, dtype: datetime64[ns])\n"
     ]
    },
    {
     "name": "stderr",
     "output_type": "stream",
     "text": [
      "08:19:10 - cmdstanpy - INFO - Chain [1] start processing\n",
      "08:19:10 - cmdstanpy - INFO - Chain [1] done processing\n"
     ]
    },
    {
     "name": "stdout",
     "output_type": "stream",
     "text": [
      "예측 결과에 없는 테스트 날짜:\n",
      " Series([], Name: ds, dtype: datetime64[ns])\n"
     ]
    },
    {
     "name": "stderr",
     "output_type": "stream",
     "text": [
      "08:19:11 - cmdstanpy - INFO - Chain [1] start processing\n",
      "08:19:11 - cmdstanpy - INFO - Chain [1] done processing\n"
     ]
    },
    {
     "name": "stdout",
     "output_type": "stream",
     "text": [
      "예측 결과에 없는 테스트 날짜:\n",
      " Series([], Name: ds, dtype: datetime64[ns])\n"
     ]
    },
    {
     "name": "stderr",
     "output_type": "stream",
     "text": [
      "08:19:11 - cmdstanpy - INFO - Chain [1] start processing\n",
      "08:19:11 - cmdstanpy - INFO - Chain [1] done processing\n"
     ]
    },
    {
     "name": "stdout",
     "output_type": "stream",
     "text": [
      "예측 결과에 없는 테스트 날짜:\n",
      " Series([], Name: ds, dtype: datetime64[ns])\n"
     ]
    },
    {
     "name": "stderr",
     "output_type": "stream",
     "text": [
      "08:19:11 - cmdstanpy - INFO - Chain [1] start processing\n",
      "08:19:11 - cmdstanpy - INFO - Chain [1] done processing\n"
     ]
    },
    {
     "name": "stdout",
     "output_type": "stream",
     "text": [
      "예측 결과에 없는 테스트 날짜:\n",
      " Series([], Name: ds, dtype: datetime64[ns])\n"
     ]
    },
    {
     "name": "stderr",
     "output_type": "stream",
     "text": [
      "08:19:12 - cmdstanpy - INFO - Chain [1] start processing\n",
      "08:19:12 - cmdstanpy - INFO - Chain [1] done processing\n"
     ]
    },
    {
     "name": "stdout",
     "output_type": "stream",
     "text": [
      "예측 결과에 없는 테스트 날짜:\n",
      " Series([], Name: ds, dtype: datetime64[ns])\n"
     ]
    },
    {
     "name": "stderr",
     "output_type": "stream",
     "text": [
      "08:19:12 - cmdstanpy - INFO - Chain [1] start processing\n",
      "08:19:12 - cmdstanpy - INFO - Chain [1] done processing\n"
     ]
    },
    {
     "name": "stdout",
     "output_type": "stream",
     "text": [
      "예측 결과에 없는 테스트 날짜:\n",
      " Series([], Name: ds, dtype: datetime64[ns])\n"
     ]
    },
    {
     "name": "stderr",
     "output_type": "stream",
     "text": [
      "08:19:12 - cmdstanpy - INFO - Chain [1] start processing\n"
     ]
    },
    {
     "name": "stdout",
     "output_type": "stream",
     "text": [
      "예측 결과에 없는 테스트 날짜:\n",
      " Series([], Name: ds, dtype: datetime64[ns])\n"
     ]
    },
    {
     "name": "stderr",
     "output_type": "stream",
     "text": [
      "08:19:12 - cmdstanpy - INFO - Chain [1] done processing\n",
      "08:19:13 - cmdstanpy - INFO - Chain [1] start processing\n",
      "08:19:13 - cmdstanpy - INFO - Chain [1] done processing\n"
     ]
    },
    {
     "name": "stdout",
     "output_type": "stream",
     "text": [
      "예측 결과에 없는 테스트 날짜:\n",
      " Series([], Name: ds, dtype: datetime64[ns])\n"
     ]
    },
    {
     "name": "stderr",
     "output_type": "stream",
     "text": [
      "08:19:13 - cmdstanpy - INFO - Chain [1] start processing\n",
      "08:19:13 - cmdstanpy - INFO - Chain [1] done processing\n"
     ]
    },
    {
     "name": "stdout",
     "output_type": "stream",
     "text": [
      "예측 결과에 없는 테스트 날짜:\n",
      " Series([], Name: ds, dtype: datetime64[ns])\n"
     ]
    },
    {
     "name": "stderr",
     "output_type": "stream",
     "text": [
      "08:19:14 - cmdstanpy - INFO - Chain [1] start processing\n",
      "08:19:14 - cmdstanpy - INFO - Chain [1] done processing\n"
     ]
    },
    {
     "name": "stdout",
     "output_type": "stream",
     "text": [
      "예측 결과에 없는 테스트 날짜:\n",
      " Series([], Name: ds, dtype: datetime64[ns])\n"
     ]
    },
    {
     "name": "stderr",
     "output_type": "stream",
     "text": [
      "08:19:14 - cmdstanpy - INFO - Chain [1] start processing\n",
      "08:19:14 - cmdstanpy - INFO - Chain [1] done processing\n"
     ]
    },
    {
     "name": "stdout",
     "output_type": "stream",
     "text": [
      "예측 결과에 없는 테스트 날짜:\n",
      " Series([], Name: ds, dtype: datetime64[ns])\n"
     ]
    },
    {
     "name": "stderr",
     "output_type": "stream",
     "text": [
      "08:19:14 - cmdstanpy - INFO - Chain [1] start processing\n",
      "08:19:14 - cmdstanpy - INFO - Chain [1] done processing\n"
     ]
    },
    {
     "name": "stdout",
     "output_type": "stream",
     "text": [
      "예측 결과에 없는 테스트 날짜:\n",
      " Series([], Name: ds, dtype: datetime64[ns])\n"
     ]
    },
    {
     "name": "stderr",
     "output_type": "stream",
     "text": [
      "08:19:15 - cmdstanpy - INFO - Chain [1] start processing\n"
     ]
    },
    {
     "name": "stdout",
     "output_type": "stream",
     "text": [
      "예측 결과에 없는 테스트 날짜:\n",
      " Series([], Name: ds, dtype: datetime64[ns])\n"
     ]
    },
    {
     "name": "stderr",
     "output_type": "stream",
     "text": [
      "08:19:15 - cmdstanpy - INFO - Chain [1] done processing\n",
      "08:19:15 - cmdstanpy - INFO - Chain [1] start processing\n",
      "08:19:15 - cmdstanpy - INFO - Chain [1] done processing\n"
     ]
    },
    {
     "name": "stdout",
     "output_type": "stream",
     "text": [
      "예측 결과에 없는 테스트 날짜:\n",
      " Series([], Name: ds, dtype: datetime64[ns])\n"
     ]
    },
    {
     "name": "stderr",
     "output_type": "stream",
     "text": [
      "08:19:15 - cmdstanpy - INFO - Chain [1] start processing\n"
     ]
    },
    {
     "name": "stdout",
     "output_type": "stream",
     "text": [
      "예측 결과에 없는 테스트 날짜:\n",
      " Series([], Name: ds, dtype: datetime64[ns])\n"
     ]
    },
    {
     "name": "stderr",
     "output_type": "stream",
     "text": [
      "08:19:15 - cmdstanpy - INFO - Chain [1] done processing\n",
      "08:19:16 - cmdstanpy - INFO - Chain [1] start processing\n",
      "08:19:16 - cmdstanpy - INFO - Chain [1] done processing\n"
     ]
    },
    {
     "name": "stdout",
     "output_type": "stream",
     "text": [
      "예측 결과에 없는 테스트 날짜:\n",
      " Series([], Name: ds, dtype: datetime64[ns])\n"
     ]
    },
    {
     "name": "stderr",
     "output_type": "stream",
     "text": [
      "08:19:16 - cmdstanpy - INFO - Chain [1] start processing\n",
      "08:19:16 - cmdstanpy - INFO - Chain [1] done processing\n"
     ]
    },
    {
     "name": "stdout",
     "output_type": "stream",
     "text": [
      "예측 결과에 없는 테스트 날짜:\n",
      " Series([], Name: ds, dtype: datetime64[ns])\n"
     ]
    },
    {
     "name": "stderr",
     "output_type": "stream",
     "text": [
      "08:19:16 - cmdstanpy - INFO - Chain [1] start processing\n",
      "08:19:16 - cmdstanpy - INFO - Chain [1] done processing\n"
     ]
    },
    {
     "name": "stdout",
     "output_type": "stream",
     "text": [
      "예측 결과에 없는 테스트 날짜:\n",
      " Series([], Name: ds, dtype: datetime64[ns])\n"
     ]
    },
    {
     "name": "stderr",
     "output_type": "stream",
     "text": [
      "08:19:17 - cmdstanpy - INFO - Chain [1] start processing\n",
      "08:19:17 - cmdstanpy - INFO - Chain [1] done processing\n"
     ]
    },
    {
     "name": "stdout",
     "output_type": "stream",
     "text": [
      "예측 결과에 없는 테스트 날짜:\n",
      " Series([], Name: ds, dtype: datetime64[ns])\n"
     ]
    },
    {
     "name": "stderr",
     "output_type": "stream",
     "text": [
      "08:19:17 - cmdstanpy - INFO - Chain [1] start processing\n",
      "08:19:17 - cmdstanpy - INFO - Chain [1] done processing\n"
     ]
    },
    {
     "name": "stdout",
     "output_type": "stream",
     "text": [
      "예측 결과에 없는 테스트 날짜:\n",
      " Series([], Name: ds, dtype: datetime64[ns])\n"
     ]
    },
    {
     "name": "stderr",
     "output_type": "stream",
     "text": [
      "08:19:17 - cmdstanpy - INFO - Chain [1] start processing\n"
     ]
    },
    {
     "name": "stdout",
     "output_type": "stream",
     "text": [
      "예측 결과에 없는 테스트 날짜:\n",
      " Series([], Name: ds, dtype: datetime64[ns])\n"
     ]
    },
    {
     "name": "stderr",
     "output_type": "stream",
     "text": [
      "08:19:17 - cmdstanpy - INFO - Chain [1] done processing\n",
      "08:19:18 - cmdstanpy - INFO - Chain [1] start processing\n",
      "08:19:18 - cmdstanpy - INFO - Chain [1] done processing\n"
     ]
    },
    {
     "name": "stdout",
     "output_type": "stream",
     "text": [
      "예측 결과에 없는 테스트 날짜:\n",
      " Series([], Name: ds, dtype: datetime64[ns])\n"
     ]
    },
    {
     "name": "stderr",
     "output_type": "stream",
     "text": [
      "08:19:18 - cmdstanpy - INFO - Chain [1] start processing\n",
      "08:19:18 - cmdstanpy - INFO - Chain [1] done processing\n"
     ]
    },
    {
     "name": "stdout",
     "output_type": "stream",
     "text": [
      "예측 결과에 없는 테스트 날짜:\n",
      " Series([], Name: ds, dtype: datetime64[ns])\n"
     ]
    },
    {
     "name": "stderr",
     "output_type": "stream",
     "text": [
      "08:19:19 - cmdstanpy - INFO - Chain [1] start processing\n",
      "08:19:19 - cmdstanpy - INFO - Chain [1] done processing\n"
     ]
    },
    {
     "name": "stdout",
     "output_type": "stream",
     "text": [
      "예측 결과에 없는 테스트 날짜:\n",
      " Series([], Name: ds, dtype: datetime64[ns])\n"
     ]
    },
    {
     "name": "stderr",
     "output_type": "stream",
     "text": [
      "08:19:19 - cmdstanpy - INFO - Chain [1] start processing\n",
      "08:19:19 - cmdstanpy - INFO - Chain [1] done processing\n"
     ]
    },
    {
     "name": "stdout",
     "output_type": "stream",
     "text": [
      "예측 결과에 없는 테스트 날짜:\n",
      " Series([], Name: ds, dtype: datetime64[ns])\n"
     ]
    },
    {
     "name": "stderr",
     "output_type": "stream",
     "text": [
      "08:19:19 - cmdstanpy - INFO - Chain [1] start processing\n",
      "08:19:19 - cmdstanpy - INFO - Chain [1] done processing\n"
     ]
    },
    {
     "name": "stdout",
     "output_type": "stream",
     "text": [
      "예측 결과에 없는 테스트 날짜:\n",
      " Series([], Name: ds, dtype: datetime64[ns])\n"
     ]
    },
    {
     "name": "stderr",
     "output_type": "stream",
     "text": [
      "08:19:20 - cmdstanpy - INFO - Chain [1] start processing\n",
      "08:19:20 - cmdstanpy - INFO - Chain [1] done processing\n"
     ]
    },
    {
     "name": "stdout",
     "output_type": "stream",
     "text": [
      "예측 결과에 없는 테스트 날짜:\n",
      " Series([], Name: ds, dtype: datetime64[ns])\n"
     ]
    },
    {
     "name": "stderr",
     "output_type": "stream",
     "text": [
      "08:19:20 - cmdstanpy - INFO - Chain [1] start processing\n",
      "08:19:20 - cmdstanpy - INFO - Chain [1] done processing\n"
     ]
    },
    {
     "name": "stdout",
     "output_type": "stream",
     "text": [
      "예측 결과에 없는 테스트 날짜:\n",
      " Series([], Name: ds, dtype: datetime64[ns])\n"
     ]
    },
    {
     "name": "stderr",
     "output_type": "stream",
     "text": [
      "08:19:20 - cmdstanpy - INFO - Chain [1] start processing\n",
      "08:19:20 - cmdstanpy - INFO - Chain [1] done processing\n"
     ]
    },
    {
     "name": "stdout",
     "output_type": "stream",
     "text": [
      "예측 결과에 없는 테스트 날짜:\n",
      " Series([], Name: ds, dtype: datetime64[ns])\n"
     ]
    },
    {
     "name": "stderr",
     "output_type": "stream",
     "text": [
      "08:19:21 - cmdstanpy - INFO - Chain [1] start processing\n"
     ]
    },
    {
     "name": "stdout",
     "output_type": "stream",
     "text": [
      "예측 결과에 없는 테스트 날짜:\n",
      " Series([], Name: ds, dtype: datetime64[ns])\n"
     ]
    },
    {
     "name": "stderr",
     "output_type": "stream",
     "text": [
      "08:19:21 - cmdstanpy - INFO - Chain [1] done processing\n",
      "08:19:21 - cmdstanpy - INFO - Chain [1] start processing\n",
      "08:19:21 - cmdstanpy - INFO - Chain [1] done processing\n"
     ]
    },
    {
     "name": "stdout",
     "output_type": "stream",
     "text": [
      "예측 결과에 없는 테스트 날짜:\n",
      " Series([], Name: ds, dtype: datetime64[ns])\n"
     ]
    },
    {
     "name": "stderr",
     "output_type": "stream",
     "text": [
      "08:19:21 - cmdstanpy - INFO - Chain [1] start processing\n",
      "08:19:22 - cmdstanpy - INFO - Chain [1] done processing\n"
     ]
    },
    {
     "name": "stdout",
     "output_type": "stream",
     "text": [
      "예측 결과에 없는 테스트 날짜:\n",
      " Series([], Name: ds, dtype: datetime64[ns])\n"
     ]
    },
    {
     "name": "stderr",
     "output_type": "stream",
     "text": [
      "08:19:22 - cmdstanpy - INFO - Chain [1] start processing\n",
      "08:19:22 - cmdstanpy - INFO - Chain [1] done processing\n"
     ]
    },
    {
     "name": "stdout",
     "output_type": "stream",
     "text": [
      "예측 결과에 없는 테스트 날짜:\n",
      " Series([], Name: ds, dtype: datetime64[ns])\n"
     ]
    },
    {
     "name": "stderr",
     "output_type": "stream",
     "text": [
      "08:19:22 - cmdstanpy - INFO - Chain [1] start processing\n",
      "08:19:22 - cmdstanpy - INFO - Chain [1] done processing\n"
     ]
    },
    {
     "name": "stdout",
     "output_type": "stream",
     "text": [
      "예측 결과에 없는 테스트 날짜:\n",
      " Series([], Name: ds, dtype: datetime64[ns])\n"
     ]
    },
    {
     "name": "stderr",
     "output_type": "stream",
     "text": [
      "08:19:22 - cmdstanpy - INFO - Chain [1] start processing\n",
      "08:19:23 - cmdstanpy - INFO - Chain [1] done processing\n"
     ]
    },
    {
     "name": "stdout",
     "output_type": "stream",
     "text": [
      "예측 결과에 없는 테스트 날짜:\n",
      " Series([], Name: ds, dtype: datetime64[ns])\n"
     ]
    },
    {
     "name": "stderr",
     "output_type": "stream",
     "text": [
      "08:19:23 - cmdstanpy - INFO - Chain [1] start processing\n",
      "08:19:23 - cmdstanpy - INFO - Chain [1] done processing\n"
     ]
    },
    {
     "name": "stdout",
     "output_type": "stream",
     "text": [
      "예측 결과에 없는 테스트 날짜:\n",
      " Series([], Name: ds, dtype: datetime64[ns])\n"
     ]
    },
    {
     "name": "stderr",
     "output_type": "stream",
     "text": [
      "08:19:23 - cmdstanpy - INFO - Chain [1] start processing\n"
     ]
    },
    {
     "name": "stdout",
     "output_type": "stream",
     "text": [
      "예측 결과에 없는 테스트 날짜:\n",
      " Series([], Name: ds, dtype: datetime64[ns])\n"
     ]
    },
    {
     "name": "stderr",
     "output_type": "stream",
     "text": [
      "08:19:23 - cmdstanpy - INFO - Chain [1] done processing\n",
      "08:19:24 - cmdstanpy - INFO - Chain [1] start processing\n"
     ]
    },
    {
     "name": "stdout",
     "output_type": "stream",
     "text": [
      "예측 결과에 없는 테스트 날짜:\n",
      " Series([], Name: ds, dtype: datetime64[ns])\n"
     ]
    },
    {
     "name": "stderr",
     "output_type": "stream",
     "text": [
      "08:19:24 - cmdstanpy - INFO - Chain [1] done processing\n",
      "08:19:24 - cmdstanpy - INFO - Chain [1] start processing\n"
     ]
    },
    {
     "name": "stdout",
     "output_type": "stream",
     "text": [
      "예측 결과에 없는 테스트 날짜:\n",
      " Series([], Name: ds, dtype: datetime64[ns])\n"
     ]
    },
    {
     "name": "stderr",
     "output_type": "stream",
     "text": [
      "08:19:24 - cmdstanpy - INFO - Chain [1] done processing\n",
      "08:19:24 - cmdstanpy - INFO - Chain [1] start processing\n",
      "08:19:24 - cmdstanpy - INFO - Chain [1] done processing\n"
     ]
    },
    {
     "name": "stdout",
     "output_type": "stream",
     "text": [
      "예측 결과에 없는 테스트 날짜:\n",
      " Series([], Name: ds, dtype: datetime64[ns])\n"
     ]
    },
    {
     "name": "stderr",
     "output_type": "stream",
     "text": [
      "08:19:25 - cmdstanpy - INFO - Chain [1] start processing\n",
      "08:19:25 - cmdstanpy - INFO - Chain [1] done processing\n"
     ]
    },
    {
     "name": "stdout",
     "output_type": "stream",
     "text": [
      "예측 결과에 없는 테스트 날짜:\n",
      " Series([], Name: ds, dtype: datetime64[ns])\n"
     ]
    },
    {
     "name": "stderr",
     "output_type": "stream",
     "text": [
      "08:19:25 - cmdstanpy - INFO - Chain [1] start processing\n",
      "08:19:25 - cmdstanpy - INFO - Chain [1] done processing\n"
     ]
    },
    {
     "name": "stdout",
     "output_type": "stream",
     "text": [
      "예측 결과에 없는 테스트 날짜:\n",
      " Series([], Name: ds, dtype: datetime64[ns])\n"
     ]
    },
    {
     "name": "stderr",
     "output_type": "stream",
     "text": [
      "08:19:25 - cmdstanpy - INFO - Chain [1] start processing\n",
      "08:19:26 - cmdstanpy - INFO - Chain [1] done processing\n"
     ]
    },
    {
     "name": "stdout",
     "output_type": "stream",
     "text": [
      "예측 결과에 없는 테스트 날짜:\n",
      " Series([], Name: ds, dtype: datetime64[ns])\n"
     ]
    },
    {
     "name": "stderr",
     "output_type": "stream",
     "text": [
      "08:19:26 - cmdstanpy - INFO - Chain [1] start processing\n",
      "08:19:26 - cmdstanpy - INFO - Chain [1] done processing\n"
     ]
    },
    {
     "name": "stdout",
     "output_type": "stream",
     "text": [
      "예측 결과에 없는 테스트 날짜:\n",
      " Series([], Name: ds, dtype: datetime64[ns])\n"
     ]
    },
    {
     "name": "stderr",
     "output_type": "stream",
     "text": [
      "08:19:26 - cmdstanpy - INFO - Chain [1] start processing\n"
     ]
    },
    {
     "name": "stdout",
     "output_type": "stream",
     "text": [
      "예측 결과에 없는 테스트 날짜:\n",
      " Series([], Name: ds, dtype: datetime64[ns])\n"
     ]
    },
    {
     "name": "stderr",
     "output_type": "stream",
     "text": [
      "08:19:26 - cmdstanpy - INFO - Chain [1] done processing\n",
      "08:19:27 - cmdstanpy - INFO - Chain [1] start processing\n"
     ]
    },
    {
     "name": "stdout",
     "output_type": "stream",
     "text": [
      "예측 결과에 없는 테스트 날짜:\n",
      " Series([], Name: ds, dtype: datetime64[ns])\n"
     ]
    },
    {
     "name": "stderr",
     "output_type": "stream",
     "text": [
      "08:19:27 - cmdstanpy - INFO - Chain [1] done processing\n",
      "08:19:27 - cmdstanpy - INFO - Chain [1] start processing\n",
      "08:19:27 - cmdstanpy - INFO - Chain [1] done processing\n"
     ]
    },
    {
     "name": "stdout",
     "output_type": "stream",
     "text": [
      "예측 결과에 없는 테스트 날짜:\n",
      " Series([], Name: ds, dtype: datetime64[ns])\n"
     ]
    },
    {
     "name": "stderr",
     "output_type": "stream",
     "text": [
      "08:19:28 - cmdstanpy - INFO - Chain [1] start processing\n",
      "08:19:28 - cmdstanpy - INFO - Chain [1] done processing\n"
     ]
    },
    {
     "name": "stdout",
     "output_type": "stream",
     "text": [
      "예측 결과에 없는 테스트 날짜:\n",
      " Series([], Name: ds, dtype: datetime64[ns])\n"
     ]
    },
    {
     "name": "stderr",
     "output_type": "stream",
     "text": [
      "08:19:28 - cmdstanpy - INFO - Chain [1] start processing\n",
      "08:19:28 - cmdstanpy - INFO - Chain [1] done processing\n"
     ]
    },
    {
     "name": "stdout",
     "output_type": "stream",
     "text": [
      "예측 결과에 없는 테스트 날짜:\n",
      " Series([], Name: ds, dtype: datetime64[ns])\n"
     ]
    },
    {
     "name": "stderr",
     "output_type": "stream",
     "text": [
      "08:19:28 - cmdstanpy - INFO - Chain [1] start processing\n",
      "08:19:28 - cmdstanpy - INFO - Chain [1] done processing\n"
     ]
    },
    {
     "name": "stdout",
     "output_type": "stream",
     "text": [
      "예측 결과에 없는 테스트 날짜:\n",
      " Series([], Name: ds, dtype: datetime64[ns])\n"
     ]
    },
    {
     "name": "stderr",
     "output_type": "stream",
     "text": [
      "08:19:29 - cmdstanpy - INFO - Chain [1] start processing\n",
      "08:19:29 - cmdstanpy - INFO - Chain [1] done processing\n"
     ]
    },
    {
     "name": "stdout",
     "output_type": "stream",
     "text": [
      "예측 결과에 없는 테스트 날짜:\n",
      " Series([], Name: ds, dtype: datetime64[ns])\n"
     ]
    },
    {
     "name": "stderr",
     "output_type": "stream",
     "text": [
      "08:19:29 - cmdstanpy - INFO - Chain [1] start processing\n",
      "08:19:29 - cmdstanpy - INFO - Chain [1] done processing\n"
     ]
    },
    {
     "name": "stdout",
     "output_type": "stream",
     "text": [
      "예측 결과에 없는 테스트 날짜:\n",
      " Series([], Name: ds, dtype: datetime64[ns])\n"
     ]
    },
    {
     "name": "stderr",
     "output_type": "stream",
     "text": [
      "08:19:29 - cmdstanpy - INFO - Chain [1] start processing\n"
     ]
    },
    {
     "name": "stdout",
     "output_type": "stream",
     "text": [
      "예측 결과에 없는 테스트 날짜:\n",
      " Series([], Name: ds, dtype: datetime64[ns])\n"
     ]
    },
    {
     "name": "stderr",
     "output_type": "stream",
     "text": [
      "08:19:29 - cmdstanpy - INFO - Chain [1] done processing\n",
      "08:19:30 - cmdstanpy - INFO - Chain [1] start processing\n"
     ]
    },
    {
     "name": "stdout",
     "output_type": "stream",
     "text": [
      "예측 결과에 없는 테스트 날짜:\n",
      " Series([], Name: ds, dtype: datetime64[ns])\n"
     ]
    },
    {
     "name": "stderr",
     "output_type": "stream",
     "text": [
      "08:19:30 - cmdstanpy - INFO - Chain [1] done processing\n",
      "08:19:30 - cmdstanpy - INFO - Chain [1] start processing\n"
     ]
    },
    {
     "name": "stdout",
     "output_type": "stream",
     "text": [
      "예측 결과에 없는 테스트 날짜:\n",
      " Series([], Name: ds, dtype: datetime64[ns])\n"
     ]
    },
    {
     "name": "stderr",
     "output_type": "stream",
     "text": [
      "08:19:30 - cmdstanpy - INFO - Chain [1] done processing\n",
      "08:19:30 - cmdstanpy - INFO - Chain [1] start processing\n",
      "08:19:30 - cmdstanpy - INFO - Chain [1] done processing\n"
     ]
    },
    {
     "name": "stdout",
     "output_type": "stream",
     "text": [
      "예측 결과에 없는 테스트 날짜:\n",
      " Series([], Name: ds, dtype: datetime64[ns])\n"
     ]
    },
    {
     "name": "stderr",
     "output_type": "stream",
     "text": [
      "08:19:31 - cmdstanpy - INFO - Chain [1] start processing\n",
      "08:19:31 - cmdstanpy - INFO - Chain [1] done processing\n"
     ]
    },
    {
     "name": "stdout",
     "output_type": "stream",
     "text": [
      "예측 결과에 없는 테스트 날짜:\n",
      " Series([], Name: ds, dtype: datetime64[ns])\n"
     ]
    },
    {
     "name": "stderr",
     "output_type": "stream",
     "text": [
      "08:19:31 - cmdstanpy - INFO - Chain [1] start processing\n",
      "08:19:31 - cmdstanpy - INFO - Chain [1] done processing\n"
     ]
    },
    {
     "name": "stdout",
     "output_type": "stream",
     "text": [
      "예측 결과에 없는 테스트 날짜:\n",
      " Series([], Name: ds, dtype: datetime64[ns])\n"
     ]
    },
    {
     "name": "stderr",
     "output_type": "stream",
     "text": [
      "08:19:32 - cmdstanpy - INFO - Chain [1] start processing\n",
      "08:19:32 - cmdstanpy - INFO - Chain [1] done processing\n"
     ]
    },
    {
     "name": "stdout",
     "output_type": "stream",
     "text": [
      "예측 결과에 없는 테스트 날짜:\n",
      " Series([], Name: ds, dtype: datetime64[ns])\n"
     ]
    },
    {
     "name": "stderr",
     "output_type": "stream",
     "text": [
      "08:19:32 - cmdstanpy - INFO - Chain [1] start processing\n",
      "08:19:32 - cmdstanpy - INFO - Chain [1] done processing\n"
     ]
    },
    {
     "name": "stdout",
     "output_type": "stream",
     "text": [
      "예측 결과에 없는 테스트 날짜:\n",
      " Series([], Name: ds, dtype: datetime64[ns])\n"
     ]
    },
    {
     "name": "stderr",
     "output_type": "stream",
     "text": [
      "08:19:32 - cmdstanpy - INFO - Chain [1] start processing\n",
      "08:19:32 - cmdstanpy - INFO - Chain [1] done processing\n"
     ]
    },
    {
     "name": "stdout",
     "output_type": "stream",
     "text": [
      "예측 결과에 없는 테스트 날짜:\n",
      " Series([], Name: ds, dtype: datetime64[ns])\n"
     ]
    },
    {
     "name": "stderr",
     "output_type": "stream",
     "text": [
      "08:19:33 - cmdstanpy - INFO - Chain [1] start processing\n",
      "08:19:33 - cmdstanpy - INFO - Chain [1] done processing\n"
     ]
    },
    {
     "name": "stdout",
     "output_type": "stream",
     "text": [
      "예측 결과에 없는 테스트 날짜:\n",
      " Series([], Name: ds, dtype: datetime64[ns])\n"
     ]
    },
    {
     "name": "stderr",
     "output_type": "stream",
     "text": [
      "08:19:33 - cmdstanpy - INFO - Chain [1] start processing\n",
      "08:19:33 - cmdstanpy - INFO - Chain [1] done processing\n"
     ]
    },
    {
     "name": "stdout",
     "output_type": "stream",
     "text": [
      "예측 결과에 없는 테스트 날짜:\n",
      " Series([], Name: ds, dtype: datetime64[ns])\n"
     ]
    },
    {
     "name": "stderr",
     "output_type": "stream",
     "text": [
      "08:19:33 - cmdstanpy - INFO - Chain [1] start processing\n",
      "08:19:33 - cmdstanpy - INFO - Chain [1] done processing\n"
     ]
    },
    {
     "name": "stdout",
     "output_type": "stream",
     "text": [
      "예측 결과에 없는 테스트 날짜:\n",
      " Series([], Name: ds, dtype: datetime64[ns])\n"
     ]
    },
    {
     "name": "stderr",
     "output_type": "stream",
     "text": [
      "08:19:34 - cmdstanpy - INFO - Chain [1] start processing\n",
      "08:19:34 - cmdstanpy - INFO - Chain [1] done processing\n"
     ]
    },
    {
     "name": "stdout",
     "output_type": "stream",
     "text": [
      "예측 결과에 없는 테스트 날짜:\n",
      " Series([], Name: ds, dtype: datetime64[ns])\n"
     ]
    },
    {
     "name": "stderr",
     "output_type": "stream",
     "text": [
      "08:19:34 - cmdstanpy - INFO - Chain [1] start processing\n",
      "08:19:34 - cmdstanpy - INFO - Chain [1] done processing\n"
     ]
    },
    {
     "name": "stdout",
     "output_type": "stream",
     "text": [
      "예측 결과에 없는 테스트 날짜:\n",
      " Series([], Name: ds, dtype: datetime64[ns])\n"
     ]
    },
    {
     "name": "stderr",
     "output_type": "stream",
     "text": [
      "08:19:34 - cmdstanpy - INFO - Chain [1] start processing\n",
      "08:19:34 - cmdstanpy - INFO - Chain [1] done processing\n"
     ]
    },
    {
     "name": "stdout",
     "output_type": "stream",
     "text": [
      "예측 결과에 없는 테스트 날짜:\n",
      " Series([], Name: ds, dtype: datetime64[ns])\n"
     ]
    },
    {
     "name": "stderr",
     "output_type": "stream",
     "text": [
      "08:19:35 - cmdstanpy - INFO - Chain [1] start processing\n",
      "08:19:35 - cmdstanpy - INFO - Chain [1] done processing\n"
     ]
    },
    {
     "name": "stdout",
     "output_type": "stream",
     "text": [
      "예측 결과에 없는 테스트 날짜:\n",
      " Series([], Name: ds, dtype: datetime64[ns])\n"
     ]
    },
    {
     "name": "stderr",
     "output_type": "stream",
     "text": [
      "08:19:35 - cmdstanpy - INFO - Chain [1] start processing\n"
     ]
    },
    {
     "name": "stdout",
     "output_type": "stream",
     "text": [
      "예측 결과에 없는 테스트 날짜:\n",
      " Series([], Name: ds, dtype: datetime64[ns])\n"
     ]
    },
    {
     "name": "stderr",
     "output_type": "stream",
     "text": [
      "08:19:35 - cmdstanpy - INFO - Chain [1] done processing\n",
      "08:19:35 - cmdstanpy - INFO - Chain [1] start processing\n"
     ]
    },
    {
     "name": "stdout",
     "output_type": "stream",
     "text": [
      "예측 결과에 없는 테스트 날짜:\n",
      " Series([], Name: ds, dtype: datetime64[ns])\n"
     ]
    },
    {
     "name": "stderr",
     "output_type": "stream",
     "text": [
      "08:19:35 - cmdstanpy - INFO - Chain [1] done processing\n",
      "08:19:36 - cmdstanpy - INFO - Chain [1] start processing\n"
     ]
    },
    {
     "name": "stdout",
     "output_type": "stream",
     "text": [
      "예측 결과에 없는 테스트 날짜:\n",
      " Series([], Name: ds, dtype: datetime64[ns])\n"
     ]
    },
    {
     "name": "stderr",
     "output_type": "stream",
     "text": [
      "08:19:36 - cmdstanpy - INFO - Chain [1] done processing\n",
      "08:19:36 - cmdstanpy - INFO - Chain [1] start processing\n",
      "08:19:36 - cmdstanpy - INFO - Chain [1] done processing\n"
     ]
    },
    {
     "name": "stdout",
     "output_type": "stream",
     "text": [
      "예측 결과에 없는 테스트 날짜:\n",
      " Series([], Name: ds, dtype: datetime64[ns])\n"
     ]
    },
    {
     "name": "stderr",
     "output_type": "stream",
     "text": [
      "08:19:36 - cmdstanpy - INFO - Chain [1] start processing\n",
      "08:19:36 - cmdstanpy - INFO - Chain [1] done processing\n"
     ]
    },
    {
     "name": "stdout",
     "output_type": "stream",
     "text": [
      "예측 결과에 없는 테스트 날짜:\n",
      " Series([], Name: ds, dtype: datetime64[ns])\n"
     ]
    },
    {
     "name": "stderr",
     "output_type": "stream",
     "text": [
      "08:19:37 - cmdstanpy - INFO - Chain [1] start processing\n",
      "08:19:37 - cmdstanpy - INFO - Chain [1] done processing\n"
     ]
    },
    {
     "name": "stdout",
     "output_type": "stream",
     "text": [
      "예측 결과에 없는 테스트 날짜:\n",
      " Series([], Name: ds, dtype: datetime64[ns])\n"
     ]
    },
    {
     "name": "stderr",
     "output_type": "stream",
     "text": [
      "08:19:37 - cmdstanpy - INFO - Chain [1] start processing\n",
      "08:19:37 - cmdstanpy - INFO - Chain [1] done processing\n"
     ]
    },
    {
     "name": "stdout",
     "output_type": "stream",
     "text": [
      "예측 결과에 없는 테스트 날짜:\n",
      " Series([], Name: ds, dtype: datetime64[ns])\n"
     ]
    },
    {
     "name": "stderr",
     "output_type": "stream",
     "text": [
      "08:19:37 - cmdstanpy - INFO - Chain [1] start processing\n",
      "08:19:37 - cmdstanpy - INFO - Chain [1] done processing\n"
     ]
    },
    {
     "name": "stdout",
     "output_type": "stream",
     "text": [
      "예측 결과에 없는 테스트 날짜:\n",
      " Series([], Name: ds, dtype: datetime64[ns])\n"
     ]
    },
    {
     "name": "stderr",
     "output_type": "stream",
     "text": [
      "08:19:38 - cmdstanpy - INFO - Chain [1] start processing\n"
     ]
    },
    {
     "name": "stdout",
     "output_type": "stream",
     "text": [
      "예측 결과에 없는 테스트 날짜:\n",
      " Series([], Name: ds, dtype: datetime64[ns])\n"
     ]
    },
    {
     "name": "stderr",
     "output_type": "stream",
     "text": [
      "08:19:38 - cmdstanpy - INFO - Chain [1] done processing\n",
      "08:19:38 - cmdstanpy - INFO - Chain [1] start processing\n"
     ]
    },
    {
     "name": "stdout",
     "output_type": "stream",
     "text": [
      "예측 결과에 없는 테스트 날짜:\n",
      " Series([], Name: ds, dtype: datetime64[ns])\n"
     ]
    },
    {
     "name": "stderr",
     "output_type": "stream",
     "text": [
      "08:19:38 - cmdstanpy - INFO - Chain [1] done processing\n",
      "08:19:39 - cmdstanpy - INFO - Chain [1] start processing\n"
     ]
    },
    {
     "name": "stdout",
     "output_type": "stream",
     "text": [
      "예측 결과에 없는 테스트 날짜:\n",
      " Series([], Name: ds, dtype: datetime64[ns])\n"
     ]
    },
    {
     "name": "stderr",
     "output_type": "stream",
     "text": [
      "08:19:39 - cmdstanpy - INFO - Chain [1] done processing\n",
      "08:19:39 - cmdstanpy - INFO - Chain [1] start processing\n",
      "08:19:39 - cmdstanpy - INFO - Chain [1] done processing\n"
     ]
    },
    {
     "name": "stdout",
     "output_type": "stream",
     "text": [
      "예측 결과에 없는 테스트 날짜:\n",
      " Series([], Name: ds, dtype: datetime64[ns])\n"
     ]
    },
    {
     "name": "stderr",
     "output_type": "stream",
     "text": [
      "08:19:39 - cmdstanpy - INFO - Chain [1] start processing\n",
      "08:19:39 - cmdstanpy - INFO - Chain [1] done processing\n"
     ]
    },
    {
     "name": "stdout",
     "output_type": "stream",
     "text": [
      "예측 결과에 없는 테스트 날짜:\n",
      " Series([], Name: ds, dtype: datetime64[ns])\n"
     ]
    },
    {
     "name": "stderr",
     "output_type": "stream",
     "text": [
      "08:19:40 - cmdstanpy - INFO - Chain [1] start processing\n",
      "08:19:40 - cmdstanpy - INFO - Chain [1] done processing\n"
     ]
    },
    {
     "name": "stdout",
     "output_type": "stream",
     "text": [
      "예측 결과에 없는 테스트 날짜:\n",
      " Series([], Name: ds, dtype: datetime64[ns])\n"
     ]
    },
    {
     "name": "stderr",
     "output_type": "stream",
     "text": [
      "08:19:40 - cmdstanpy - INFO - Chain [1] start processing\n",
      "08:19:40 - cmdstanpy - INFO - Chain [1] done processing\n"
     ]
    },
    {
     "name": "stdout",
     "output_type": "stream",
     "text": [
      "예측 결과에 없는 테스트 날짜:\n",
      " Series([], Name: ds, dtype: datetime64[ns])\n"
     ]
    },
    {
     "name": "stderr",
     "output_type": "stream",
     "text": [
      "08:19:40 - cmdstanpy - INFO - Chain [1] start processing\n",
      "08:19:40 - cmdstanpy - INFO - Chain [1] done processing\n"
     ]
    },
    {
     "name": "stdout",
     "output_type": "stream",
     "text": [
      "예측 결과에 없는 테스트 날짜:\n",
      " Series([], Name: ds, dtype: datetime64[ns])\n"
     ]
    },
    {
     "name": "stderr",
     "output_type": "stream",
     "text": [
      "08:19:41 - cmdstanpy - INFO - Chain [1] start processing\n",
      "08:19:41 - cmdstanpy - INFO - Chain [1] done processing\n"
     ]
    },
    {
     "name": "stdout",
     "output_type": "stream",
     "text": [
      "예측 결과에 없는 테스트 날짜:\n",
      " Series([], Name: ds, dtype: datetime64[ns])\n"
     ]
    },
    {
     "name": "stderr",
     "output_type": "stream",
     "text": [
      "08:19:41 - cmdstanpy - INFO - Chain [1] start processing\n"
     ]
    },
    {
     "name": "stdout",
     "output_type": "stream",
     "text": [
      "예측 결과에 없는 테스트 날짜:\n",
      " Series([], Name: ds, dtype: datetime64[ns])\n"
     ]
    },
    {
     "name": "stderr",
     "output_type": "stream",
     "text": [
      "08:19:41 - cmdstanpy - INFO - Chain [1] done processing\n",
      "08:19:42 - cmdstanpy - INFO - Chain [1] start processing\n",
      "08:19:42 - cmdstanpy - INFO - Chain [1] done processing\n"
     ]
    },
    {
     "name": "stdout",
     "output_type": "stream",
     "text": [
      "예측 결과에 없는 테스트 날짜:\n",
      " Series([], Name: ds, dtype: datetime64[ns])\n"
     ]
    },
    {
     "name": "stderr",
     "output_type": "stream",
     "text": [
      "08:19:42 - cmdstanpy - INFO - Chain [1] start processing\n"
     ]
    },
    {
     "name": "stdout",
     "output_type": "stream",
     "text": [
      "예측 결과에 없는 테스트 날짜:\n",
      " Series([], Name: ds, dtype: datetime64[ns])\n"
     ]
    },
    {
     "name": "stderr",
     "output_type": "stream",
     "text": [
      "08:19:42 - cmdstanpy - INFO - Chain [1] done processing\n",
      "08:19:42 - cmdstanpy - INFO - Chain [1] start processing\n",
      "08:19:42 - cmdstanpy - INFO - Chain [1] done processing\n"
     ]
    },
    {
     "name": "stdout",
     "output_type": "stream",
     "text": [
      "예측 결과에 없는 테스트 날짜:\n",
      " Series([], Name: ds, dtype: datetime64[ns])\n"
     ]
    },
    {
     "name": "stderr",
     "output_type": "stream",
     "text": [
      "08:19:43 - cmdstanpy - INFO - Chain [1] start processing\n",
      "08:19:43 - cmdstanpy - INFO - Chain [1] done processing\n"
     ]
    },
    {
     "name": "stdout",
     "output_type": "stream",
     "text": [
      "예측 결과에 없는 테스트 날짜:\n",
      " Series([], Name: ds, dtype: datetime64[ns])\n"
     ]
    },
    {
     "name": "stderr",
     "output_type": "stream",
     "text": [
      "08:19:43 - cmdstanpy - INFO - Chain [1] start processing\n",
      "08:19:43 - cmdstanpy - INFO - Chain [1] done processing\n"
     ]
    },
    {
     "name": "stdout",
     "output_type": "stream",
     "text": [
      "예측 결과에 없는 테스트 날짜:\n",
      " Series([], Name: ds, dtype: datetime64[ns])\n"
     ]
    },
    {
     "name": "stderr",
     "output_type": "stream",
     "text": [
      "08:19:43 - cmdstanpy - INFO - Chain [1] start processing\n",
      "08:19:43 - cmdstanpy - INFO - Chain [1] done processing\n"
     ]
    },
    {
     "name": "stdout",
     "output_type": "stream",
     "text": [
      "예측 결과에 없는 테스트 날짜:\n",
      " Series([], Name: ds, dtype: datetime64[ns])\n"
     ]
    },
    {
     "name": "stderr",
     "output_type": "stream",
     "text": [
      "08:19:44 - cmdstanpy - INFO - Chain [1] start processing\n"
     ]
    },
    {
     "name": "stdout",
     "output_type": "stream",
     "text": [
      "예측 결과에 없는 테스트 날짜:\n",
      " Series([], Name: ds, dtype: datetime64[ns])\n"
     ]
    },
    {
     "name": "stderr",
     "output_type": "stream",
     "text": [
      "08:19:44 - cmdstanpy - INFO - Chain [1] done processing\n",
      "08:19:44 - cmdstanpy - INFO - Chain [1] start processing\n"
     ]
    },
    {
     "name": "stdout",
     "output_type": "stream",
     "text": [
      "예측 결과에 없는 테스트 날짜:\n",
      " Series([], Name: ds, dtype: datetime64[ns])\n"
     ]
    },
    {
     "name": "stderr",
     "output_type": "stream",
     "text": [
      "08:19:44 - cmdstanpy - INFO - Chain [1] done processing\n",
      "08:19:44 - cmdstanpy - INFO - Chain [1] start processing\n"
     ]
    },
    {
     "name": "stdout",
     "output_type": "stream",
     "text": [
      "예측 결과에 없는 테스트 날짜:\n",
      " Series([], Name: ds, dtype: datetime64[ns])\n"
     ]
    },
    {
     "name": "stderr",
     "output_type": "stream",
     "text": [
      "08:19:45 - cmdstanpy - INFO - Chain [1] done processing\n",
      "08:19:45 - cmdstanpy - INFO - Chain [1] start processing\n",
      "08:19:45 - cmdstanpy - INFO - Chain [1] done processing\n"
     ]
    },
    {
     "name": "stdout",
     "output_type": "stream",
     "text": [
      "예측 결과에 없는 테스트 날짜:\n",
      " Series([], Name: ds, dtype: datetime64[ns])\n"
     ]
    },
    {
     "name": "stderr",
     "output_type": "stream",
     "text": [
      "08:19:45 - cmdstanpy - INFO - Chain [1] start processing\n",
      "08:19:45 - cmdstanpy - INFO - Chain [1] done processing\n"
     ]
    },
    {
     "name": "stdout",
     "output_type": "stream",
     "text": [
      "예측 결과에 없는 테스트 날짜:\n",
      " Series([], Name: ds, dtype: datetime64[ns])\n"
     ]
    },
    {
     "name": "stderr",
     "output_type": "stream",
     "text": [
      "08:19:46 - cmdstanpy - INFO - Chain [1] start processing\n",
      "08:19:46 - cmdstanpy - INFO - Chain [1] done processing\n"
     ]
    },
    {
     "name": "stdout",
     "output_type": "stream",
     "text": [
      "예측 결과에 없는 테스트 날짜:\n",
      " Series([], Name: ds, dtype: datetime64[ns])\n"
     ]
    },
    {
     "name": "stderr",
     "output_type": "stream",
     "text": [
      "08:19:46 - cmdstanpy - INFO - Chain [1] start processing\n",
      "08:19:46 - cmdstanpy - INFO - Chain [1] done processing\n"
     ]
    },
    {
     "name": "stdout",
     "output_type": "stream",
     "text": [
      "예측 결과에 없는 테스트 날짜:\n",
      " Series([], Name: ds, dtype: datetime64[ns])\n"
     ]
    },
    {
     "name": "stderr",
     "output_type": "stream",
     "text": [
      "08:19:46 - cmdstanpy - INFO - Chain [1] start processing\n",
      "08:19:46 - cmdstanpy - INFO - Chain [1] done processing\n"
     ]
    },
    {
     "name": "stdout",
     "output_type": "stream",
     "text": [
      "예측 결과에 없는 테스트 날짜:\n",
      " Series([], Name: ds, dtype: datetime64[ns])\n"
     ]
    },
    {
     "name": "stderr",
     "output_type": "stream",
     "text": [
      "08:19:47 - cmdstanpy - INFO - Chain [1] start processing\n",
      "08:19:47 - cmdstanpy - INFO - Chain [1] done processing\n"
     ]
    },
    {
     "name": "stdout",
     "output_type": "stream",
     "text": [
      "예측 결과에 없는 테스트 날짜:\n",
      " Series([], Name: ds, dtype: datetime64[ns])\n"
     ]
    },
    {
     "name": "stderr",
     "output_type": "stream",
     "text": [
      "08:19:47 - cmdstanpy - INFO - Chain [1] start processing\n",
      "08:19:47 - cmdstanpy - INFO - Chain [1] done processing\n"
     ]
    },
    {
     "name": "stdout",
     "output_type": "stream",
     "text": [
      "예측 결과에 없는 테스트 날짜:\n",
      " Series([], Name: ds, dtype: datetime64[ns])\n"
     ]
    },
    {
     "name": "stderr",
     "output_type": "stream",
     "text": [
      "08:19:47 - cmdstanpy - INFO - Chain [1] start processing\n",
      "08:19:47 - cmdstanpy - INFO - Chain [1] done processing\n"
     ]
    },
    {
     "name": "stdout",
     "output_type": "stream",
     "text": [
      "예측 결과에 없는 테스트 날짜:\n",
      " Series([], Name: ds, dtype: datetime64[ns])\n"
     ]
    },
    {
     "name": "stderr",
     "output_type": "stream",
     "text": [
      "08:19:48 - cmdstanpy - INFO - Chain [1] start processing\n",
      "08:19:48 - cmdstanpy - INFO - Chain [1] done processing\n"
     ]
    },
    {
     "name": "stdout",
     "output_type": "stream",
     "text": [
      "예측 결과에 없는 테스트 날짜:\n",
      " Series([], Name: ds, dtype: datetime64[ns])\n"
     ]
    },
    {
     "name": "stderr",
     "output_type": "stream",
     "text": [
      "08:19:48 - cmdstanpy - INFO - Chain [1] start processing\n",
      "08:19:48 - cmdstanpy - INFO - Chain [1] done processing\n"
     ]
    },
    {
     "name": "stdout",
     "output_type": "stream",
     "text": [
      "예측 결과에 없는 테스트 날짜:\n",
      " Series([], Name: ds, dtype: datetime64[ns])\n"
     ]
    },
    {
     "name": "stderr",
     "output_type": "stream",
     "text": [
      "08:19:48 - cmdstanpy - INFO - Chain [1] start processing\n",
      "08:19:48 - cmdstanpy - INFO - Chain [1] done processing\n"
     ]
    },
    {
     "name": "stdout",
     "output_type": "stream",
     "text": [
      "예측 결과에 없는 테스트 날짜:\n",
      " Series([], Name: ds, dtype: datetime64[ns])\n"
     ]
    },
    {
     "name": "stderr",
     "output_type": "stream",
     "text": [
      "08:19:49 - cmdstanpy - INFO - Chain [1] start processing\n",
      "08:19:49 - cmdstanpy - INFO - Chain [1] done processing\n"
     ]
    },
    {
     "name": "stdout",
     "output_type": "stream",
     "text": [
      "예측 결과에 없는 테스트 날짜:\n",
      " Series([], Name: ds, dtype: datetime64[ns])\n"
     ]
    },
    {
     "name": "stderr",
     "output_type": "stream",
     "text": [
      "08:19:49 - cmdstanpy - INFO - Chain [1] start processing\n",
      "08:19:49 - cmdstanpy - INFO - Chain [1] done processing\n"
     ]
    },
    {
     "name": "stdout",
     "output_type": "stream",
     "text": [
      "예측 결과에 없는 테스트 날짜:\n",
      " Series([], Name: ds, dtype: datetime64[ns])\n"
     ]
    },
    {
     "name": "stderr",
     "output_type": "stream",
     "text": [
      "08:19:49 - cmdstanpy - INFO - Chain [1] start processing\n"
     ]
    },
    {
     "name": "stdout",
     "output_type": "stream",
     "text": [
      "예측 결과에 없는 테스트 날짜:\n",
      " Series([], Name: ds, dtype: datetime64[ns])\n"
     ]
    },
    {
     "name": "stderr",
     "output_type": "stream",
     "text": [
      "08:19:50 - cmdstanpy - INFO - Chain [1] done processing\n",
      "08:19:50 - cmdstanpy - INFO - Chain [1] start processing\n"
     ]
    },
    {
     "name": "stdout",
     "output_type": "stream",
     "text": [
      "예측 결과에 없는 테스트 날짜:\n",
      " Series([], Name: ds, dtype: datetime64[ns])\n"
     ]
    },
    {
     "name": "stderr",
     "output_type": "stream",
     "text": [
      "08:19:50 - cmdstanpy - INFO - Chain [1] done processing\n",
      "08:19:50 - cmdstanpy - INFO - Chain [1] start processing\n"
     ]
    },
    {
     "name": "stdout",
     "output_type": "stream",
     "text": [
      "예측 결과에 없는 테스트 날짜:\n",
      " Series([], Name: ds, dtype: datetime64[ns])\n"
     ]
    },
    {
     "name": "stderr",
     "output_type": "stream",
     "text": [
      "08:19:50 - cmdstanpy - INFO - Chain [1] done processing\n",
      "08:19:51 - cmdstanpy - INFO - Chain [1] start processing\n"
     ]
    },
    {
     "name": "stdout",
     "output_type": "stream",
     "text": [
      "예측 결과에 없는 테스트 날짜:\n",
      " Series([], Name: ds, dtype: datetime64[ns])\n"
     ]
    },
    {
     "name": "stderr",
     "output_type": "stream",
     "text": [
      "08:19:51 - cmdstanpy - INFO - Chain [1] done processing\n",
      "08:19:51 - cmdstanpy - INFO - Chain [1] start processing\n",
      "08:19:51 - cmdstanpy - INFO - Chain [1] done processing\n"
     ]
    },
    {
     "name": "stdout",
     "output_type": "stream",
     "text": [
      "예측 결과에 없는 테스트 날짜:\n",
      " Series([], Name: ds, dtype: datetime64[ns])\n"
     ]
    },
    {
     "name": "stderr",
     "output_type": "stream",
     "text": [
      "08:19:51 - cmdstanpy - INFO - Chain [1] start processing\n",
      "08:19:52 - cmdstanpy - INFO - Chain [1] done processing\n"
     ]
    },
    {
     "name": "stdout",
     "output_type": "stream",
     "text": [
      "예측 결과에 없는 테스트 날짜:\n",
      " Series([], Name: ds, dtype: datetime64[ns])\n"
     ]
    },
    {
     "name": "stderr",
     "output_type": "stream",
     "text": [
      "08:19:52 - cmdstanpy - INFO - Chain [1] start processing\n",
      "08:19:52 - cmdstanpy - INFO - Chain [1] done processing\n"
     ]
    },
    {
     "name": "stdout",
     "output_type": "stream",
     "text": [
      "예측 결과에 없는 테스트 날짜:\n",
      " Series([], Name: ds, dtype: datetime64[ns])\n"
     ]
    },
    {
     "name": "stderr",
     "output_type": "stream",
     "text": [
      "08:19:52 - cmdstanpy - INFO - Chain [1] start processing\n",
      "08:19:52 - cmdstanpy - INFO - Chain [1] done processing\n"
     ]
    },
    {
     "name": "stdout",
     "output_type": "stream",
     "text": [
      "예측 결과에 없는 테스트 날짜:\n",
      " Series([], Name: ds, dtype: datetime64[ns])\n"
     ]
    },
    {
     "name": "stderr",
     "output_type": "stream",
     "text": [
      "08:19:53 - cmdstanpy - INFO - Chain [1] start processing\n"
     ]
    },
    {
     "name": "stdout",
     "output_type": "stream",
     "text": [
      "예측 결과에 없는 테스트 날짜:\n",
      " Series([], Name: ds, dtype: datetime64[ns])\n"
     ]
    },
    {
     "name": "stderr",
     "output_type": "stream",
     "text": [
      "08:19:53 - cmdstanpy - INFO - Chain [1] done processing\n",
      "08:19:53 - cmdstanpy - INFO - Chain [1] start processing\n",
      "08:19:53 - cmdstanpy - INFO - Chain [1] done processing\n"
     ]
    },
    {
     "name": "stdout",
     "output_type": "stream",
     "text": [
      "예측 결과에 없는 테스트 날짜:\n",
      " Series([], Name: ds, dtype: datetime64[ns])\n"
     ]
    },
    {
     "name": "stderr",
     "output_type": "stream",
     "text": [
      "08:19:53 - cmdstanpy - INFO - Chain [1] start processing\n"
     ]
    },
    {
     "name": "stdout",
     "output_type": "stream",
     "text": [
      "예측 결과에 없는 테스트 날짜:\n",
      " Series([], Name: ds, dtype: datetime64[ns])\n"
     ]
    },
    {
     "name": "stderr",
     "output_type": "stream",
     "text": [
      "08:19:54 - cmdstanpy - INFO - Chain [1] done processing\n",
      "08:19:54 - cmdstanpy - INFO - Chain [1] start processing\n"
     ]
    },
    {
     "name": "stdout",
     "output_type": "stream",
     "text": [
      "예측 결과에 없는 테스트 날짜:\n",
      " Series([], Name: ds, dtype: datetime64[ns])\n"
     ]
    },
    {
     "name": "stderr",
     "output_type": "stream",
     "text": [
      "08:19:54 - cmdstanpy - INFO - Chain [1] done processing\n",
      "08:19:54 - cmdstanpy - INFO - Chain [1] start processing\n"
     ]
    },
    {
     "name": "stdout",
     "output_type": "stream",
     "text": [
      "예측 결과에 없는 테스트 날짜:\n",
      " Series([], Name: ds, dtype: datetime64[ns])\n"
     ]
    },
    {
     "name": "stderr",
     "output_type": "stream",
     "text": [
      "08:19:54 - cmdstanpy - INFO - Chain [1] done processing\n",
      "08:19:55 - cmdstanpy - INFO - Chain [1] start processing\n",
      "08:19:55 - cmdstanpy - INFO - Chain [1] done processing\n"
     ]
    },
    {
     "name": "stdout",
     "output_type": "stream",
     "text": [
      "예측 결과에 없는 테스트 날짜:\n",
      " Series([], Name: ds, dtype: datetime64[ns])\n"
     ]
    },
    {
     "name": "stderr",
     "output_type": "stream",
     "text": [
      "08:19:55 - cmdstanpy - INFO - Chain [1] start processing\n",
      "08:19:55 - cmdstanpy - INFO - Chain [1] done processing\n"
     ]
    },
    {
     "name": "stdout",
     "output_type": "stream",
     "text": [
      "예측 결과에 없는 테스트 날짜:\n",
      " Series([], Name: ds, dtype: datetime64[ns])\n"
     ]
    },
    {
     "name": "stderr",
     "output_type": "stream",
     "text": [
      "08:19:55 - cmdstanpy - INFO - Chain [1] start processing\n",
      "08:19:55 - cmdstanpy - INFO - Chain [1] done processing\n"
     ]
    },
    {
     "name": "stdout",
     "output_type": "stream",
     "text": [
      "예측 결과에 없는 테스트 날짜:\n",
      " Series([], Name: ds, dtype: datetime64[ns])\n"
     ]
    },
    {
     "name": "stderr",
     "output_type": "stream",
     "text": [
      "08:19:56 - cmdstanpy - INFO - Chain [1] start processing\n"
     ]
    },
    {
     "name": "stdout",
     "output_type": "stream",
     "text": [
      "예측 결과에 없는 테스트 날짜:\n",
      " Series([], Name: ds, dtype: datetime64[ns])\n"
     ]
    },
    {
     "name": "stderr",
     "output_type": "stream",
     "text": [
      "08:19:56 - cmdstanpy - INFO - Chain [1] done processing\n",
      "08:19:56 - cmdstanpy - INFO - Chain [1] start processing\n"
     ]
    },
    {
     "name": "stdout",
     "output_type": "stream",
     "text": [
      "예측 결과에 없는 테스트 날짜:\n",
      " Series([], Name: ds, dtype: datetime64[ns])\n"
     ]
    },
    {
     "name": "stderr",
     "output_type": "stream",
     "text": [
      "08:19:56 - cmdstanpy - INFO - Chain [1] done processing\n",
      "08:19:57 - cmdstanpy - INFO - Chain [1] start processing\n"
     ]
    },
    {
     "name": "stdout",
     "output_type": "stream",
     "text": [
      "예측 결과에 없는 테스트 날짜:\n",
      " Series([], Name: ds, dtype: datetime64[ns])\n"
     ]
    },
    {
     "name": "stderr",
     "output_type": "stream",
     "text": [
      "08:19:57 - cmdstanpy - INFO - Chain [1] done processing\n",
      "08:19:57 - cmdstanpy - INFO - Chain [1] start processing\n",
      "08:19:57 - cmdstanpy - INFO - Chain [1] done processing\n"
     ]
    },
    {
     "name": "stdout",
     "output_type": "stream",
     "text": [
      "예측 결과에 없는 테스트 날짜:\n",
      " Series([], Name: ds, dtype: datetime64[ns])\n"
     ]
    },
    {
     "name": "stderr",
     "output_type": "stream",
     "text": [
      "08:19:57 - cmdstanpy - INFO - Chain [1] start processing\n"
     ]
    },
    {
     "name": "stdout",
     "output_type": "stream",
     "text": [
      "예측 결과에 없는 테스트 날짜:\n",
      " Series([], Name: ds, dtype: datetime64[ns])\n"
     ]
    },
    {
     "name": "stderr",
     "output_type": "stream",
     "text": [
      "08:19:57 - cmdstanpy - INFO - Chain [1] done processing\n",
      "08:19:58 - cmdstanpy - INFO - Chain [1] start processing\n",
      "08:19:58 - cmdstanpy - INFO - Chain [1] done processing\n"
     ]
    },
    {
     "name": "stdout",
     "output_type": "stream",
     "text": [
      "예측 결과에 없는 테스트 날짜:\n",
      " Series([], Name: ds, dtype: datetime64[ns])\n"
     ]
    },
    {
     "name": "stderr",
     "output_type": "stream",
     "text": [
      "08:19:58 - cmdstanpy - INFO - Chain [1] start processing\n",
      "08:19:58 - cmdstanpy - INFO - Chain [1] done processing\n"
     ]
    },
    {
     "name": "stdout",
     "output_type": "stream",
     "text": [
      "예측 결과에 없는 테스트 날짜:\n",
      " Series([], Name: ds, dtype: datetime64[ns])\n"
     ]
    },
    {
     "name": "stderr",
     "output_type": "stream",
     "text": [
      "08:19:58 - cmdstanpy - INFO - Chain [1] start processing\n",
      "08:19:58 - cmdstanpy - INFO - Chain [1] done processing\n"
     ]
    },
    {
     "name": "stdout",
     "output_type": "stream",
     "text": [
      "예측 결과에 없는 테스트 날짜:\n",
      " Series([], Name: ds, dtype: datetime64[ns])\n"
     ]
    },
    {
     "name": "stderr",
     "output_type": "stream",
     "text": [
      "08:19:59 - cmdstanpy - INFO - Chain [1] start processing\n"
     ]
    },
    {
     "name": "stdout",
     "output_type": "stream",
     "text": [
      "예측 결과에 없는 테스트 날짜:\n",
      " Series([], Name: ds, dtype: datetime64[ns])\n"
     ]
    },
    {
     "name": "stderr",
     "output_type": "stream",
     "text": [
      "08:19:59 - cmdstanpy - INFO - Chain [1] done processing\n",
      "08:19:59 - cmdstanpy - INFO - Chain [1] start processing\n"
     ]
    },
    {
     "name": "stdout",
     "output_type": "stream",
     "text": [
      "예측 결과에 없는 테스트 날짜:\n",
      " Series([], Name: ds, dtype: datetime64[ns])\n"
     ]
    },
    {
     "name": "stderr",
     "output_type": "stream",
     "text": [
      "08:19:59 - cmdstanpy - INFO - Chain [1] done processing\n",
      "08:20:00 - cmdstanpy - INFO - Chain [1] start processing\n"
     ]
    },
    {
     "name": "stdout",
     "output_type": "stream",
     "text": [
      "예측 결과에 없는 테스트 날짜:\n",
      " Series([], Name: ds, dtype: datetime64[ns])\n"
     ]
    },
    {
     "name": "stderr",
     "output_type": "stream",
     "text": [
      "08:20:00 - cmdstanpy - INFO - Chain [1] done processing\n",
      "08:20:00 - cmdstanpy - INFO - Chain [1] start processing\n",
      "08:20:00 - cmdstanpy - INFO - Chain [1] done processing\n"
     ]
    },
    {
     "name": "stdout",
     "output_type": "stream",
     "text": [
      "예측 결과에 없는 테스트 날짜:\n",
      " Series([], Name: ds, dtype: datetime64[ns])\n"
     ]
    },
    {
     "name": "stderr",
     "output_type": "stream",
     "text": [
      "08:20:00 - cmdstanpy - INFO - Chain [1] start processing\n",
      "08:20:01 - cmdstanpy - INFO - Chain [1] done processing\n"
     ]
    },
    {
     "name": "stdout",
     "output_type": "stream",
     "text": [
      "예측 결과에 없는 테스트 날짜:\n",
      " Series([], Name: ds, dtype: datetime64[ns])\n"
     ]
    },
    {
     "name": "stderr",
     "output_type": "stream",
     "text": [
      "08:20:01 - cmdstanpy - INFO - Chain [1] start processing\n",
      "08:20:01 - cmdstanpy - INFO - Chain [1] done processing\n"
     ]
    },
    {
     "name": "stdout",
     "output_type": "stream",
     "text": [
      "예측 결과에 없는 테스트 날짜:\n",
      " Series([], Name: ds, dtype: datetime64[ns])\n"
     ]
    },
    {
     "name": "stderr",
     "output_type": "stream",
     "text": [
      "08:20:01 - cmdstanpy - INFO - Chain [1] start processing\n"
     ]
    },
    {
     "name": "stdout",
     "output_type": "stream",
     "text": [
      "예측 결과에 없는 테스트 날짜:\n",
      " Series([], Name: ds, dtype: datetime64[ns])\n"
     ]
    },
    {
     "name": "stderr",
     "output_type": "stream",
     "text": [
      "08:20:01 - cmdstanpy - INFO - Chain [1] done processing\n",
      "08:20:02 - cmdstanpy - INFO - Chain [1] start processing\n",
      "08:20:02 - cmdstanpy - INFO - Chain [1] done processing\n"
     ]
    },
    {
     "name": "stdout",
     "output_type": "stream",
     "text": [
      "예측 결과에 없는 테스트 날짜:\n",
      " Series([], Name: ds, dtype: datetime64[ns])\n"
     ]
    },
    {
     "name": "stderr",
     "output_type": "stream",
     "text": [
      "08:20:02 - cmdstanpy - INFO - Chain [1] start processing\n"
     ]
    },
    {
     "name": "stdout",
     "output_type": "stream",
     "text": [
      "예측 결과에 없는 테스트 날짜:\n",
      " Series([], Name: ds, dtype: datetime64[ns])\n"
     ]
    },
    {
     "name": "stderr",
     "output_type": "stream",
     "text": [
      "08:20:02 - cmdstanpy - INFO - Chain [1] done processing\n",
      "08:20:02 - cmdstanpy - INFO - Chain [1] start processing\n",
      "08:20:02 - cmdstanpy - INFO - Chain [1] done processing\n"
     ]
    },
    {
     "name": "stdout",
     "output_type": "stream",
     "text": [
      "예측 결과에 없는 테스트 날짜:\n",
      " Series([], Name: ds, dtype: datetime64[ns])\n"
     ]
    },
    {
     "name": "stderr",
     "output_type": "stream",
     "text": [
      "08:20:03 - cmdstanpy - INFO - Chain [1] start processing\n"
     ]
    },
    {
     "name": "stdout",
     "output_type": "stream",
     "text": [
      "예측 결과에 없는 테스트 날짜:\n",
      " Series([], Name: ds, dtype: datetime64[ns])\n"
     ]
    },
    {
     "name": "stderr",
     "output_type": "stream",
     "text": [
      "08:20:03 - cmdstanpy - INFO - Chain [1] done processing\n",
      "08:20:03 - cmdstanpy - INFO - Chain [1] start processing\n"
     ]
    },
    {
     "name": "stdout",
     "output_type": "stream",
     "text": [
      "예측 결과에 없는 테스트 날짜:\n",
      " Series([], Name: ds, dtype: datetime64[ns])\n"
     ]
    },
    {
     "name": "stderr",
     "output_type": "stream",
     "text": [
      "08:20:03 - cmdstanpy - INFO - Chain [1] done processing\n",
      "08:20:04 - cmdstanpy - INFO - Chain [1] start processing\n",
      "08:20:04 - cmdstanpy - INFO - Chain [1] done processing\n"
     ]
    },
    {
     "name": "stdout",
     "output_type": "stream",
     "text": [
      "예측 결과에 없는 테스트 날짜:\n",
      " Series([], Name: ds, dtype: datetime64[ns])\n"
     ]
    },
    {
     "name": "stderr",
     "output_type": "stream",
     "text": [
      "08:20:04 - cmdstanpy - INFO - Chain [1] start processing\n",
      "08:20:04 - cmdstanpy - INFO - Chain [1] done processing\n"
     ]
    },
    {
     "name": "stdout",
     "output_type": "stream",
     "text": [
      "예측 결과에 없는 테스트 날짜:\n",
      " Series([], Name: ds, dtype: datetime64[ns])\n"
     ]
    },
    {
     "name": "stderr",
     "output_type": "stream",
     "text": [
      "08:20:04 - cmdstanpy - INFO - Chain [1] start processing\n",
      "08:20:04 - cmdstanpy - INFO - Chain [1] done processing\n"
     ]
    },
    {
     "name": "stdout",
     "output_type": "stream",
     "text": [
      "예측 결과에 없는 테스트 날짜:\n",
      " Series([], Name: ds, dtype: datetime64[ns])\n"
     ]
    },
    {
     "name": "stderr",
     "output_type": "stream",
     "text": [
      "08:20:05 - cmdstanpy - INFO - Chain [1] start processing\n",
      "08:20:05 - cmdstanpy - INFO - Chain [1] done processing\n"
     ]
    },
    {
     "name": "stdout",
     "output_type": "stream",
     "text": [
      "예측 결과에 없는 테스트 날짜:\n",
      " Series([], Name: ds, dtype: datetime64[ns])\n"
     ]
    },
    {
     "name": "stderr",
     "output_type": "stream",
     "text": [
      "08:20:05 - cmdstanpy - INFO - Chain [1] start processing\n"
     ]
    },
    {
     "name": "stdout",
     "output_type": "stream",
     "text": [
      "예측 결과에 없는 테스트 날짜:\n",
      " Series([], Name: ds, dtype: datetime64[ns])\n"
     ]
    },
    {
     "name": "stderr",
     "output_type": "stream",
     "text": [
      "08:20:05 - cmdstanpy - INFO - Chain [1] done processing\n",
      "08:20:05 - cmdstanpy - INFO - Chain [1] start processing\n"
     ]
    },
    {
     "name": "stdout",
     "output_type": "stream",
     "text": [
      "예측 결과에 없는 테스트 날짜:\n",
      " Series([], Name: ds, dtype: datetime64[ns])\n"
     ]
    },
    {
     "name": "stderr",
     "output_type": "stream",
     "text": [
      "08:20:06 - cmdstanpy - INFO - Chain [1] done processing\n",
      "08:20:06 - cmdstanpy - INFO - Chain [1] start processing\n"
     ]
    },
    {
     "name": "stdout",
     "output_type": "stream",
     "text": [
      "예측 결과에 없는 테스트 날짜:\n",
      " Series([], Name: ds, dtype: datetime64[ns])\n"
     ]
    },
    {
     "name": "stderr",
     "output_type": "stream",
     "text": [
      "08:20:06 - cmdstanpy - INFO - Chain [1] done processing\n",
      "08:20:06 - cmdstanpy - INFO - Chain [1] start processing\n"
     ]
    },
    {
     "name": "stdout",
     "output_type": "stream",
     "text": [
      "예측 결과에 없는 테스트 날짜:\n",
      " Series([], Name: ds, dtype: datetime64[ns])\n"
     ]
    },
    {
     "name": "stderr",
     "output_type": "stream",
     "text": [
      "08:20:06 - cmdstanpy - INFO - Chain [1] done processing\n",
      "08:20:07 - cmdstanpy - INFO - Chain [1] start processing\n",
      "08:20:07 - cmdstanpy - INFO - Chain [1] done processing\n"
     ]
    },
    {
     "name": "stdout",
     "output_type": "stream",
     "text": [
      "예측 결과에 없는 테스트 날짜:\n",
      " Series([], Name: ds, dtype: datetime64[ns])\n"
     ]
    },
    {
     "name": "stderr",
     "output_type": "stream",
     "text": [
      "08:20:07 - cmdstanpy - INFO - Chain [1] start processing\n",
      "08:20:07 - cmdstanpy - INFO - Chain [1] done processing\n"
     ]
    },
    {
     "name": "stdout",
     "output_type": "stream",
     "text": [
      "예측 결과에 없는 테스트 날짜:\n",
      " Series([], Name: ds, dtype: datetime64[ns])\n"
     ]
    },
    {
     "name": "stderr",
     "output_type": "stream",
     "text": [
      "08:20:07 - cmdstanpy - INFO - Chain [1] start processing\n",
      "08:20:08 - cmdstanpy - INFO - Chain [1] done processing\n"
     ]
    },
    {
     "name": "stdout",
     "output_type": "stream",
     "text": [
      "예측 결과에 없는 테스트 날짜:\n",
      " Series([], Name: ds, dtype: datetime64[ns])\n"
     ]
    },
    {
     "name": "stderr",
     "output_type": "stream",
     "text": [
      "08:20:08 - cmdstanpy - INFO - Chain [1] start processing\n",
      "08:20:08 - cmdstanpy - INFO - Chain [1] done processing\n"
     ]
    },
    {
     "name": "stdout",
     "output_type": "stream",
     "text": [
      "예측 결과에 없는 테스트 날짜:\n",
      " Series([], Name: ds, dtype: datetime64[ns])\n"
     ]
    },
    {
     "name": "stderr",
     "output_type": "stream",
     "text": [
      "08:20:08 - cmdstanpy - INFO - Chain [1] start processing\n"
     ]
    },
    {
     "name": "stdout",
     "output_type": "stream",
     "text": [
      "예측 결과에 없는 테스트 날짜:\n",
      " Series([], Name: ds, dtype: datetime64[ns])\n"
     ]
    },
    {
     "name": "stderr",
     "output_type": "stream",
     "text": [
      "08:20:09 - cmdstanpy - INFO - Chain [1] done processing\n",
      "08:20:09 - cmdstanpy - INFO - Chain [1] start processing\n"
     ]
    },
    {
     "name": "stdout",
     "output_type": "stream",
     "text": [
      "예측 결과에 없는 테스트 날짜:\n",
      " Series([], Name: ds, dtype: datetime64[ns])\n"
     ]
    },
    {
     "name": "stderr",
     "output_type": "stream",
     "text": [
      "08:20:09 - cmdstanpy - INFO - Chain [1] done processing\n",
      "08:20:10 - cmdstanpy - INFO - Chain [1] start processing\n"
     ]
    },
    {
     "name": "stdout",
     "output_type": "stream",
     "text": [
      "예측 결과에 없는 테스트 날짜:\n",
      " Series([], Name: ds, dtype: datetime64[ns])\n"
     ]
    },
    {
     "name": "stderr",
     "output_type": "stream",
     "text": [
      "08:20:10 - cmdstanpy - INFO - Chain [1] done processing\n",
      "08:20:10 - cmdstanpy - INFO - Chain [1] start processing\n"
     ]
    },
    {
     "name": "stdout",
     "output_type": "stream",
     "text": [
      "예측 결과에 없는 테스트 날짜:\n",
      " Series([], Name: ds, dtype: datetime64[ns])\n"
     ]
    },
    {
     "name": "stderr",
     "output_type": "stream",
     "text": [
      "08:20:11 - cmdstanpy - INFO - Chain [1] done processing\n",
      "08:20:11 - cmdstanpy - INFO - Chain [1] start processing\n"
     ]
    },
    {
     "name": "stdout",
     "output_type": "stream",
     "text": [
      "예측 결과에 없는 테스트 날짜:\n",
      " Series([], Name: ds, dtype: datetime64[ns])\n"
     ]
    },
    {
     "name": "stderr",
     "output_type": "stream",
     "text": [
      "08:20:11 - cmdstanpy - INFO - Chain [1] done processing\n",
      "08:20:12 - cmdstanpy - INFO - Chain [1] start processing\n"
     ]
    },
    {
     "name": "stdout",
     "output_type": "stream",
     "text": [
      "예측 결과에 없는 테스트 날짜:\n",
      " Series([], Name: ds, dtype: datetime64[ns])\n"
     ]
    },
    {
     "name": "stderr",
     "output_type": "stream",
     "text": [
      "08:20:12 - cmdstanpy - INFO - Chain [1] done processing\n",
      "08:20:12 - cmdstanpy - INFO - Chain [1] start processing\n"
     ]
    },
    {
     "name": "stdout",
     "output_type": "stream",
     "text": [
      "예측 결과에 없는 테스트 날짜:\n",
      " Series([], Name: ds, dtype: datetime64[ns])\n"
     ]
    },
    {
     "name": "stderr",
     "output_type": "stream",
     "text": [
      "08:20:12 - cmdstanpy - INFO - Chain [1] done processing\n",
      "08:20:12 - cmdstanpy - INFO - Chain [1] start processing\n",
      "08:20:12 - cmdstanpy - INFO - Chain [1] done processing\n"
     ]
    },
    {
     "name": "stdout",
     "output_type": "stream",
     "text": [
      "예측 결과에 없는 테스트 날짜:\n",
      " Series([], Name: ds, dtype: datetime64[ns])\n"
     ]
    },
    {
     "name": "stderr",
     "output_type": "stream",
     "text": [
      "08:20:13 - cmdstanpy - INFO - Chain [1] start processing\n"
     ]
    },
    {
     "name": "stdout",
     "output_type": "stream",
     "text": [
      "예측 결과에 없는 테스트 날짜:\n",
      " Series([], Name: ds, dtype: datetime64[ns])\n"
     ]
    },
    {
     "name": "stderr",
     "output_type": "stream",
     "text": [
      "08:20:14 - cmdstanpy - INFO - Chain [1] done processing\n",
      "08:20:14 - cmdstanpy - INFO - Chain [1] start processing\n"
     ]
    },
    {
     "name": "stdout",
     "output_type": "stream",
     "text": [
      "예측 결과에 없는 테스트 날짜:\n",
      " Series([], Name: ds, dtype: datetime64[ns])\n"
     ]
    },
    {
     "name": "stderr",
     "output_type": "stream",
     "text": [
      "08:20:14 - cmdstanpy - INFO - Chain [1] done processing\n",
      "08:20:14 - cmdstanpy - INFO - Chain [1] start processing\n"
     ]
    },
    {
     "name": "stdout",
     "output_type": "stream",
     "text": [
      "예측 결과에 없는 테스트 날짜:\n",
      " Series([], Name: ds, dtype: datetime64[ns])\n"
     ]
    },
    {
     "name": "stderr",
     "output_type": "stream",
     "text": [
      "08:20:15 - cmdstanpy - INFO - Chain [1] done processing\n",
      "08:20:16 - cmdstanpy - INFO - Chain [1] start processing\n"
     ]
    },
    {
     "name": "stdout",
     "output_type": "stream",
     "text": [
      "예측 결과에 없는 테스트 날짜:\n",
      " Series([], Name: ds, dtype: datetime64[ns])\n"
     ]
    },
    {
     "name": "stderr",
     "output_type": "stream",
     "text": [
      "08:20:16 - cmdstanpy - INFO - Chain [1] done processing\n",
      "08:20:16 - cmdstanpy - INFO - Chain [1] start processing\n"
     ]
    },
    {
     "name": "stdout",
     "output_type": "stream",
     "text": [
      "예측 결과에 없는 테스트 날짜:\n",
      " Series([], Name: ds, dtype: datetime64[ns])\n"
     ]
    },
    {
     "name": "stderr",
     "output_type": "stream",
     "text": [
      "08:20:16 - cmdstanpy - INFO - Chain [1] done processing\n",
      "08:20:17 - cmdstanpy - INFO - Chain [1] start processing\n"
     ]
    },
    {
     "name": "stdout",
     "output_type": "stream",
     "text": [
      "예측 결과에 없는 테스트 날짜:\n",
      " Series([], Name: ds, dtype: datetime64[ns])\n"
     ]
    },
    {
     "name": "stderr",
     "output_type": "stream",
     "text": [
      "08:20:17 - cmdstanpy - INFO - Chain [1] done processing\n",
      "08:20:17 - cmdstanpy - INFO - Chain [1] start processing\n"
     ]
    },
    {
     "name": "stdout",
     "output_type": "stream",
     "text": [
      "예측 결과에 없는 테스트 날짜:\n",
      " Series([], Name: ds, dtype: datetime64[ns])\n"
     ]
    },
    {
     "name": "stderr",
     "output_type": "stream",
     "text": [
      "08:20:17 - cmdstanpy - INFO - Chain [1] done processing\n",
      "08:20:18 - cmdstanpy - INFO - Chain [1] start processing\n",
      "08:20:18 - cmdstanpy - INFO - Chain [1] done processing\n"
     ]
    },
    {
     "name": "stdout",
     "output_type": "stream",
     "text": [
      "예측 결과에 없는 테스트 날짜:\n",
      " Series([], Name: ds, dtype: datetime64[ns])\n"
     ]
    },
    {
     "name": "stderr",
     "output_type": "stream",
     "text": [
      "08:20:18 - cmdstanpy - INFO - Chain [1] start processing\n"
     ]
    },
    {
     "name": "stdout",
     "output_type": "stream",
     "text": [
      "예측 결과에 없는 테스트 날짜:\n",
      " Series([], Name: ds, dtype: datetime64[ns])\n"
     ]
    },
    {
     "name": "stderr",
     "output_type": "stream",
     "text": [
      "08:20:20 - cmdstanpy - INFO - Chain [1] done processing\n",
      "08:20:20 - cmdstanpy - INFO - Chain [1] start processing\n"
     ]
    },
    {
     "name": "stdout",
     "output_type": "stream",
     "text": [
      "예측 결과에 없는 테스트 날짜:\n",
      " Series([], Name: ds, dtype: datetime64[ns])\n"
     ]
    },
    {
     "name": "stderr",
     "output_type": "stream",
     "text": [
      "08:20:20 - cmdstanpy - INFO - Chain [1] done processing\n",
      "08:20:20 - cmdstanpy - INFO - Chain [1] start processing\n"
     ]
    },
    {
     "name": "stdout",
     "output_type": "stream",
     "text": [
      "예측 결과에 없는 테스트 날짜:\n",
      " Series([], Name: ds, dtype: datetime64[ns])\n"
     ]
    },
    {
     "name": "stderr",
     "output_type": "stream",
     "text": [
      "08:20:22 - cmdstanpy - INFO - Chain [1] done processing\n",
      "08:20:22 - cmdstanpy - INFO - Chain [1] start processing\n"
     ]
    },
    {
     "name": "stdout",
     "output_type": "stream",
     "text": [
      "예측 결과에 없는 테스트 날짜:\n",
      " Series([], Name: ds, dtype: datetime64[ns])\n"
     ]
    },
    {
     "name": "stderr",
     "output_type": "stream",
     "text": [
      "08:20:22 - cmdstanpy - INFO - Chain [1] done processing\n",
      "08:20:23 - cmdstanpy - INFO - Chain [1] start processing\n"
     ]
    },
    {
     "name": "stdout",
     "output_type": "stream",
     "text": [
      "예측 결과에 없는 테스트 날짜:\n",
      " Series([], Name: ds, dtype: datetime64[ns])\n"
     ]
    },
    {
     "name": "stderr",
     "output_type": "stream",
     "text": [
      "08:20:23 - cmdstanpy - INFO - Chain [1] done processing\n",
      "08:20:23 - cmdstanpy - INFO - Chain [1] start processing\n",
      "08:20:23 - cmdstanpy - INFO - Chain [1] done processing\n"
     ]
    },
    {
     "name": "stdout",
     "output_type": "stream",
     "text": [
      "예측 결과에 없는 테스트 날짜:\n",
      " Series([], Name: ds, dtype: datetime64[ns])\n"
     ]
    },
    {
     "name": "stderr",
     "output_type": "stream",
     "text": [
      "08:20:24 - cmdstanpy - INFO - Chain [1] start processing\n"
     ]
    },
    {
     "name": "stdout",
     "output_type": "stream",
     "text": [
      "예측 결과에 없는 테스트 날짜:\n",
      " Series([], Name: ds, dtype: datetime64[ns])\n"
     ]
    },
    {
     "name": "stderr",
     "output_type": "stream",
     "text": [
      "08:20:24 - cmdstanpy - INFO - Chain [1] done processing\n",
      "08:20:24 - cmdstanpy - INFO - Chain [1] start processing\n",
      "08:20:24 - cmdstanpy - INFO - Chain [1] done processing\n"
     ]
    },
    {
     "name": "stdout",
     "output_type": "stream",
     "text": [
      "예측 결과에 없는 테스트 날짜:\n",
      " Series([], Name: ds, dtype: datetime64[ns])\n"
     ]
    },
    {
     "name": "stderr",
     "output_type": "stream",
     "text": [
      "08:20:25 - cmdstanpy - INFO - Chain [1] start processing\n"
     ]
    },
    {
     "name": "stdout",
     "output_type": "stream",
     "text": [
      "예측 결과에 없는 테스트 날짜:\n",
      " Series([], Name: ds, dtype: datetime64[ns])\n"
     ]
    },
    {
     "name": "stderr",
     "output_type": "stream",
     "text": [
      "08:20:25 - cmdstanpy - INFO - Chain [1] done processing\n",
      "08:20:26 - cmdstanpy - INFO - Chain [1] start processing\n"
     ]
    },
    {
     "name": "stdout",
     "output_type": "stream",
     "text": [
      "예측 결과에 없는 테스트 날짜:\n",
      " Series([], Name: ds, dtype: datetime64[ns])\n"
     ]
    },
    {
     "name": "stderr",
     "output_type": "stream",
     "text": [
      "08:20:26 - cmdstanpy - INFO - Chain [1] done processing\n",
      "08:20:26 - cmdstanpy - ERROR - Chain [1] error: error during processing Operation not permitted\n",
      "Optimization terminated abnormally. Falling back to Newton.\n",
      "08:20:26 - cmdstanpy - INFO - Chain [1] start processing\n",
      "08:20:28 - cmdstanpy - INFO - Chain [1] done processing\n",
      "08:20:29 - cmdstanpy - INFO - Chain [1] start processing\n"
     ]
    },
    {
     "name": "stdout",
     "output_type": "stream",
     "text": [
      "예측 결과에 없는 테스트 날짜:\n",
      " Series([], Name: ds, dtype: datetime64[ns])\n"
     ]
    },
    {
     "name": "stderr",
     "output_type": "stream",
     "text": [
      "08:20:29 - cmdstanpy - INFO - Chain [1] done processing\n",
      "08:20:30 - cmdstanpy - INFO - Chain [1] start processing\n"
     ]
    },
    {
     "name": "stdout",
     "output_type": "stream",
     "text": [
      "예측 결과에 없는 테스트 날짜:\n",
      " Series([], Name: ds, dtype: datetime64[ns])\n"
     ]
    },
    {
     "name": "stderr",
     "output_type": "stream",
     "text": [
      "08:20:30 - cmdstanpy - INFO - Chain [1] done processing\n",
      "08:20:30 - cmdstanpy - INFO - Chain [1] start processing\n"
     ]
    },
    {
     "name": "stdout",
     "output_type": "stream",
     "text": [
      "예측 결과에 없는 테스트 날짜:\n",
      " Series([], Name: ds, dtype: datetime64[ns])\n"
     ]
    },
    {
     "name": "stderr",
     "output_type": "stream",
     "text": [
      "08:20:31 - cmdstanpy - INFO - Chain [1] done processing\n",
      "08:20:31 - cmdstanpy - INFO - Chain [1] start processing\n"
     ]
    },
    {
     "name": "stdout",
     "output_type": "stream",
     "text": [
      "예측 결과에 없는 테스트 날짜:\n",
      " Series([], Name: ds, dtype: datetime64[ns])\n"
     ]
    },
    {
     "name": "stderr",
     "output_type": "stream",
     "text": [
      "08:20:31 - cmdstanpy - INFO - Chain [1] done processing\n",
      "08:20:31 - cmdstanpy - INFO - Chain [1] start processing\n"
     ]
    },
    {
     "name": "stdout",
     "output_type": "stream",
     "text": [
      "예측 결과에 없는 테스트 날짜:\n",
      " Series([], Name: ds, dtype: datetime64[ns])\n"
     ]
    },
    {
     "name": "stderr",
     "output_type": "stream",
     "text": [
      "08:20:32 - cmdstanpy - INFO - Chain [1] done processing\n",
      "08:20:32 - cmdstanpy - INFO - Chain [1] start processing\n",
      "08:20:32 - cmdstanpy - INFO - Chain [1] done processing\n"
     ]
    },
    {
     "name": "stdout",
     "output_type": "stream",
     "text": [
      "예측 결과에 없는 테스트 날짜:\n",
      " Series([], Name: ds, dtype: datetime64[ns])\n"
     ]
    },
    {
     "name": "stderr",
     "output_type": "stream",
     "text": [
      "08:20:32 - cmdstanpy - INFO - Chain [1] start processing\n"
     ]
    },
    {
     "name": "stdout",
     "output_type": "stream",
     "text": [
      "예측 결과에 없는 테스트 날짜:\n",
      " Series([], Name: ds, dtype: datetime64[ns])\n"
     ]
    },
    {
     "name": "stderr",
     "output_type": "stream",
     "text": [
      "08:20:33 - cmdstanpy - INFO - Chain [1] done processing\n",
      "08:20:34 - cmdstanpy - INFO - Chain [1] start processing\n"
     ]
    },
    {
     "name": "stdout",
     "output_type": "stream",
     "text": [
      "예측 결과에 없는 테스트 날짜:\n",
      " Series([], Name: ds, dtype: datetime64[ns])\n"
     ]
    },
    {
     "name": "stderr",
     "output_type": "stream",
     "text": [
      "08:20:34 - cmdstanpy - INFO - Chain [1] done processing\n",
      "08:20:34 - cmdstanpy - INFO - Chain [1] start processing\n"
     ]
    },
    {
     "name": "stdout",
     "output_type": "stream",
     "text": [
      "예측 결과에 없는 테스트 날짜:\n",
      " Series([], Name: ds, dtype: datetime64[ns])\n"
     ]
    },
    {
     "name": "stderr",
     "output_type": "stream",
     "text": [
      "08:20:35 - cmdstanpy - INFO - Chain [1] done processing\n",
      "08:20:35 - cmdstanpy - INFO - Chain [1] start processing\n",
      "08:20:35 - cmdstanpy - INFO - Chain [1] done processing\n"
     ]
    },
    {
     "name": "stdout",
     "output_type": "stream",
     "text": [
      "예측 결과에 없는 테스트 날짜:\n",
      " Series([], Name: ds, dtype: datetime64[ns])\n"
     ]
    },
    {
     "name": "stderr",
     "output_type": "stream",
     "text": [
      "08:20:36 - cmdstanpy - INFO - Chain [1] start processing\n"
     ]
    },
    {
     "name": "stdout",
     "output_type": "stream",
     "text": [
      "예측 결과에 없는 테스트 날짜:\n",
      " Series([], Name: ds, dtype: datetime64[ns])\n"
     ]
    },
    {
     "name": "stderr",
     "output_type": "stream",
     "text": [
      "08:20:37 - cmdstanpy - INFO - Chain [1] done processing\n",
      "08:20:37 - cmdstanpy - INFO - Chain [1] start processing\n"
     ]
    },
    {
     "name": "stdout",
     "output_type": "stream",
     "text": [
      "예측 결과에 없는 테스트 날짜:\n",
      " Series([], Name: ds, dtype: datetime64[ns])\n"
     ]
    },
    {
     "name": "stderr",
     "output_type": "stream",
     "text": [
      "08:20:37 - cmdstanpy - INFO - Chain [1] done processing\n",
      "08:20:37 - cmdstanpy - INFO - Chain [1] start processing\n"
     ]
    },
    {
     "name": "stdout",
     "output_type": "stream",
     "text": [
      "예측 결과에 없는 테스트 날짜:\n",
      " Series([], Name: ds, dtype: datetime64[ns])\n"
     ]
    },
    {
     "name": "stderr",
     "output_type": "stream",
     "text": [
      "08:20:38 - cmdstanpy - INFO - Chain [1] done processing\n",
      "08:20:38 - cmdstanpy - INFO - Chain [1] start processing\n",
      "08:20:38 - cmdstanpy - INFO - Chain [1] done processing\n"
     ]
    },
    {
     "name": "stdout",
     "output_type": "stream",
     "text": [
      "예측 결과에 없는 테스트 날짜:\n",
      " Series([], Name: ds, dtype: datetime64[ns])\n"
     ]
    },
    {
     "name": "stderr",
     "output_type": "stream",
     "text": [
      "08:20:38 - cmdstanpy - INFO - Chain [1] start processing\n"
     ]
    },
    {
     "name": "stdout",
     "output_type": "stream",
     "text": [
      "예측 결과에 없는 테스트 날짜:\n",
      " Series([], Name: ds, dtype: datetime64[ns])\n"
     ]
    },
    {
     "name": "stderr",
     "output_type": "stream",
     "text": [
      "08:20:39 - cmdstanpy - INFO - Chain [1] done processing\n",
      "08:20:39 - cmdstanpy - INFO - Chain [1] start processing\n"
     ]
    },
    {
     "name": "stdout",
     "output_type": "stream",
     "text": [
      "예측 결과에 없는 테스트 날짜:\n",
      " Series([], Name: ds, dtype: datetime64[ns])\n"
     ]
    },
    {
     "name": "stderr",
     "output_type": "stream",
     "text": [
      "08:20:40 - cmdstanpy - INFO - Chain [1] done processing\n",
      "08:20:40 - cmdstanpy - INFO - Chain [1] start processing\n"
     ]
    },
    {
     "name": "stdout",
     "output_type": "stream",
     "text": [
      "예측 결과에 없는 테스트 날짜:\n",
      " Series([], Name: ds, dtype: datetime64[ns])\n"
     ]
    },
    {
     "name": "stderr",
     "output_type": "stream",
     "text": [
      "08:20:41 - cmdstanpy - INFO - Chain [1] done processing\n",
      "08:20:41 - cmdstanpy - INFO - Chain [1] start processing\n"
     ]
    },
    {
     "name": "stdout",
     "output_type": "stream",
     "text": [
      "예측 결과에 없는 테스트 날짜:\n",
      " Series([], Name: ds, dtype: datetime64[ns])\n"
     ]
    },
    {
     "name": "stderr",
     "output_type": "stream",
     "text": [
      "08:20:42 - cmdstanpy - INFO - Chain [1] done processing\n",
      "08:20:42 - cmdstanpy - INFO - Chain [1] start processing\n"
     ]
    },
    {
     "name": "stdout",
     "output_type": "stream",
     "text": [
      "예측 결과에 없는 테스트 날짜:\n",
      " Series([], Name: ds, dtype: datetime64[ns])\n"
     ]
    },
    {
     "name": "stderr",
     "output_type": "stream",
     "text": [
      "08:20:43 - cmdstanpy - INFO - Chain [1] done processing\n",
      "08:20:43 - cmdstanpy - INFO - Chain [1] start processing\n"
     ]
    },
    {
     "name": "stdout",
     "output_type": "stream",
     "text": [
      "예측 결과에 없는 테스트 날짜:\n",
      " Series([], Name: ds, dtype: datetime64[ns])\n"
     ]
    },
    {
     "name": "stderr",
     "output_type": "stream",
     "text": [
      "08:20:44 - cmdstanpy - INFO - Chain [1] done processing\n",
      "08:20:44 - cmdstanpy - INFO - Chain [1] start processing\n"
     ]
    },
    {
     "name": "stdout",
     "output_type": "stream",
     "text": [
      "예측 결과에 없는 테스트 날짜:\n",
      " Series([], Name: ds, dtype: datetime64[ns])\n"
     ]
    },
    {
     "name": "stderr",
     "output_type": "stream",
     "text": [
      "08:20:44 - cmdstanpy - INFO - Chain [1] done processing\n",
      "08:20:45 - cmdstanpy - INFO - Chain [1] start processing\n",
      "08:20:45 - cmdstanpy - INFO - Chain [1] done processing\n"
     ]
    },
    {
     "name": "stdout",
     "output_type": "stream",
     "text": [
      "예측 결과에 없는 테스트 날짜:\n",
      " Series([], Name: ds, dtype: datetime64[ns])\n"
     ]
    },
    {
     "name": "stderr",
     "output_type": "stream",
     "text": [
      "08:20:45 - cmdstanpy - INFO - Chain [1] start processing\n"
     ]
    },
    {
     "name": "stdout",
     "output_type": "stream",
     "text": [
      "예측 결과에 없는 테스트 날짜:\n",
      " Series([], Name: ds, dtype: datetime64[ns])\n"
     ]
    },
    {
     "name": "stderr",
     "output_type": "stream",
     "text": [
      "08:20:45 - cmdstanpy - INFO - Chain [1] done processing\n",
      "08:20:45 - cmdstanpy - INFO - Chain [1] start processing\n",
      "08:20:45 - cmdstanpy - INFO - Chain [1] done processing\n"
     ]
    },
    {
     "name": "stdout",
     "output_type": "stream",
     "text": [
      "예측 결과에 없는 테스트 날짜:\n",
      " Series([], Name: ds, dtype: datetime64[ns])\n"
     ]
    },
    {
     "name": "stderr",
     "output_type": "stream",
     "text": [
      "08:20:46 - cmdstanpy - INFO - Chain [1] start processing\n"
     ]
    },
    {
     "name": "stdout",
     "output_type": "stream",
     "text": [
      "예측 결과에 없는 테스트 날짜:\n",
      " Series([], Name: ds, dtype: datetime64[ns])\n"
     ]
    },
    {
     "name": "stderr",
     "output_type": "stream",
     "text": [
      "08:20:46 - cmdstanpy - INFO - Chain [1] done processing\n",
      "08:20:46 - cmdstanpy - INFO - Chain [1] start processing\n"
     ]
    },
    {
     "name": "stdout",
     "output_type": "stream",
     "text": [
      "예측 결과에 없는 테스트 날짜:\n",
      " Series([], Name: ds, dtype: datetime64[ns])\n"
     ]
    },
    {
     "name": "stderr",
     "output_type": "stream",
     "text": [
      "08:20:46 - cmdstanpy - INFO - Chain [1] done processing\n",
      "08:20:47 - cmdstanpy - INFO - Chain [1] start processing\n"
     ]
    },
    {
     "name": "stdout",
     "output_type": "stream",
     "text": [
      "예측 결과에 없는 테스트 날짜:\n",
      " Series([], Name: ds, dtype: datetime64[ns])\n"
     ]
    },
    {
     "name": "stderr",
     "output_type": "stream",
     "text": [
      "08:20:47 - cmdstanpy - INFO - Chain [1] done processing\n",
      "08:20:47 - cmdstanpy - INFO - Chain [1] start processing\n"
     ]
    },
    {
     "name": "stdout",
     "output_type": "stream",
     "text": [
      "예측 결과에 없는 테스트 날짜:\n",
      " Series([], Name: ds, dtype: datetime64[ns])\n"
     ]
    },
    {
     "name": "stderr",
     "output_type": "stream",
     "text": [
      "08:20:47 - cmdstanpy - INFO - Chain [1] done processing\n",
      "08:20:48 - cmdstanpy - INFO - Chain [1] start processing\n",
      "08:20:48 - cmdstanpy - INFO - Chain [1] done processing\n"
     ]
    },
    {
     "name": "stdout",
     "output_type": "stream",
     "text": [
      "예측 결과에 없는 테스트 날짜:\n",
      " Series([], Name: ds, dtype: datetime64[ns])\n"
     ]
    },
    {
     "name": "stderr",
     "output_type": "stream",
     "text": [
      "08:20:48 - cmdstanpy - INFO - Chain [1] start processing\n",
      "08:20:48 - cmdstanpy - INFO - Chain [1] done processing\n"
     ]
    },
    {
     "name": "stdout",
     "output_type": "stream",
     "text": [
      "예측 결과에 없는 테스트 날짜:\n",
      " Series([], Name: ds, dtype: datetime64[ns])\n"
     ]
    },
    {
     "name": "stderr",
     "output_type": "stream",
     "text": [
      "08:20:48 - cmdstanpy - INFO - Chain [1] start processing\n"
     ]
    },
    {
     "name": "stdout",
     "output_type": "stream",
     "text": [
      "예측 결과에 없는 테스트 날짜:\n",
      " Series([], Name: ds, dtype: datetime64[ns])\n"
     ]
    },
    {
     "name": "stderr",
     "output_type": "stream",
     "text": [
      "08:20:48 - cmdstanpy - INFO - Chain [1] done processing\n",
      "08:20:49 - cmdstanpy - INFO - Chain [1] start processing\n"
     ]
    },
    {
     "name": "stdout",
     "output_type": "stream",
     "text": [
      "예측 결과에 없는 테스트 날짜:\n",
      " Series([], Name: ds, dtype: datetime64[ns])\n"
     ]
    },
    {
     "name": "stderr",
     "output_type": "stream",
     "text": [
      "08:20:49 - cmdstanpy - INFO - Chain [1] done processing\n",
      "08:20:49 - cmdstanpy - INFO - Chain [1] start processing\n"
     ]
    },
    {
     "name": "stdout",
     "output_type": "stream",
     "text": [
      "예측 결과에 없는 테스트 날짜:\n",
      " Series([], Name: ds, dtype: datetime64[ns])\n"
     ]
    },
    {
     "name": "stderr",
     "output_type": "stream",
     "text": [
      "08:20:49 - cmdstanpy - INFO - Chain [1] done processing\n",
      "08:20:50 - cmdstanpy - INFO - Chain [1] start processing\n",
      "08:20:50 - cmdstanpy - INFO - Chain [1] done processing\n"
     ]
    },
    {
     "name": "stdout",
     "output_type": "stream",
     "text": [
      "예측 결과에 없는 테스트 날짜:\n",
      " Series([], Name: ds, dtype: datetime64[ns])\n"
     ]
    },
    {
     "name": "stderr",
     "output_type": "stream",
     "text": [
      "08:20:50 - cmdstanpy - INFO - Chain [1] start processing\n",
      "08:20:50 - cmdstanpy - INFO - Chain [1] done processing\n"
     ]
    },
    {
     "name": "stdout",
     "output_type": "stream",
     "text": [
      "예측 결과에 없는 테스트 날짜:\n",
      " Series([], Name: ds, dtype: datetime64[ns])\n"
     ]
    },
    {
     "name": "stderr",
     "output_type": "stream",
     "text": [
      "08:20:50 - cmdstanpy - INFO - Chain [1] start processing\n"
     ]
    },
    {
     "name": "stdout",
     "output_type": "stream",
     "text": [
      "예측 결과에 없는 테스트 날짜:\n",
      " Series([], Name: ds, dtype: datetime64[ns])\n"
     ]
    },
    {
     "name": "stderr",
     "output_type": "stream",
     "text": [
      "08:20:50 - cmdstanpy - INFO - Chain [1] done processing\n",
      "08:20:51 - cmdstanpy - INFO - Chain [1] start processing\n",
      "08:20:51 - cmdstanpy - INFO - Chain [1] done processing\n"
     ]
    },
    {
     "name": "stdout",
     "output_type": "stream",
     "text": [
      "예측 결과에 없는 테스트 날짜:\n",
      " Series([], Name: ds, dtype: datetime64[ns])\n"
     ]
    },
    {
     "name": "stderr",
     "output_type": "stream",
     "text": [
      "08:20:51 - cmdstanpy - INFO - Chain [1] start processing\n",
      "08:20:51 - cmdstanpy - INFO - Chain [1] done processing\n"
     ]
    },
    {
     "name": "stdout",
     "output_type": "stream",
     "text": [
      "예측 결과에 없는 테스트 날짜:\n",
      " Series([], Name: ds, dtype: datetime64[ns])\n"
     ]
    },
    {
     "name": "stderr",
     "output_type": "stream",
     "text": [
      "08:20:51 - cmdstanpy - INFO - Chain [1] start processing\n",
      "08:20:51 - cmdstanpy - INFO - Chain [1] done processing\n"
     ]
    },
    {
     "name": "stdout",
     "output_type": "stream",
     "text": [
      "예측 결과에 없는 테스트 날짜:\n",
      " Series([], Name: ds, dtype: datetime64[ns])\n"
     ]
    },
    {
     "name": "stderr",
     "output_type": "stream",
     "text": [
      "08:20:52 - cmdstanpy - INFO - Chain [1] start processing\n"
     ]
    },
    {
     "name": "stdout",
     "output_type": "stream",
     "text": [
      "예측 결과에 없는 테스트 날짜:\n",
      " Series([], Name: ds, dtype: datetime64[ns])\n"
     ]
    },
    {
     "name": "stderr",
     "output_type": "stream",
     "text": [
      "08:20:52 - cmdstanpy - INFO - Chain [1] done processing\n",
      "08:20:52 - cmdstanpy - INFO - Chain [1] start processing\n"
     ]
    },
    {
     "name": "stdout",
     "output_type": "stream",
     "text": [
      "예측 결과에 없는 테스트 날짜:\n",
      " Series([], Name: ds, dtype: datetime64[ns])\n"
     ]
    },
    {
     "name": "stderr",
     "output_type": "stream",
     "text": [
      "08:20:52 - cmdstanpy - INFO - Chain [1] done processing\n",
      "08:20:53 - cmdstanpy - INFO - Chain [1] start processing\n",
      "08:20:53 - cmdstanpy - INFO - Chain [1] done processing\n"
     ]
    },
    {
     "name": "stdout",
     "output_type": "stream",
     "text": [
      "예측 결과에 없는 테스트 날짜:\n",
      " Series([], Name: ds, dtype: datetime64[ns])\n"
     ]
    },
    {
     "name": "stderr",
     "output_type": "stream",
     "text": [
      "08:20:53 - cmdstanpy - INFO - Chain [1] start processing\n"
     ]
    },
    {
     "name": "stdout",
     "output_type": "stream",
     "text": [
      "예측 결과에 없는 테스트 날짜:\n",
      " Series([], Name: ds, dtype: datetime64[ns])\n"
     ]
    },
    {
     "name": "stderr",
     "output_type": "stream",
     "text": [
      "08:20:53 - cmdstanpy - INFO - Chain [1] done processing\n",
      "08:20:54 - cmdstanpy - INFO - Chain [1] start processing\n",
      "08:20:54 - cmdstanpy - INFO - Chain [1] done processing\n"
     ]
    },
    {
     "name": "stdout",
     "output_type": "stream",
     "text": [
      "예측 결과에 없는 테스트 날짜:\n",
      " Series([], Name: ds, dtype: datetime64[ns])\n"
     ]
    },
    {
     "name": "stderr",
     "output_type": "stream",
     "text": [
      "08:20:54 - cmdstanpy - INFO - Chain [1] start processing\n",
      "08:20:54 - cmdstanpy - INFO - Chain [1] done processing\n"
     ]
    },
    {
     "name": "stdout",
     "output_type": "stream",
     "text": [
      "예측 결과에 없는 테스트 날짜:\n",
      " Series([], Name: ds, dtype: datetime64[ns])\n"
     ]
    },
    {
     "name": "stderr",
     "output_type": "stream",
     "text": [
      "08:20:54 - cmdstanpy - INFO - Chain [1] start processing\n",
      "08:20:54 - cmdstanpy - INFO - Chain [1] done processing\n"
     ]
    },
    {
     "name": "stdout",
     "output_type": "stream",
     "text": [
      "예측 결과에 없는 테스트 날짜:\n",
      " Series([], Name: ds, dtype: datetime64[ns])\n"
     ]
    },
    {
     "name": "stderr",
     "output_type": "stream",
     "text": [
      "08:20:55 - cmdstanpy - INFO - Chain [1] start processing\n"
     ]
    },
    {
     "name": "stdout",
     "output_type": "stream",
     "text": [
      "예측 결과에 없는 테스트 날짜:\n",
      " Series([], Name: ds, dtype: datetime64[ns])\n"
     ]
    },
    {
     "name": "stderr",
     "output_type": "stream",
     "text": [
      "08:20:55 - cmdstanpy - INFO - Chain [1] done processing\n",
      "08:20:55 - cmdstanpy - INFO - Chain [1] start processing\n"
     ]
    },
    {
     "name": "stdout",
     "output_type": "stream",
     "text": [
      "예측 결과에 없는 테스트 날짜:\n",
      " Series([], Name: ds, dtype: datetime64[ns])\n"
     ]
    },
    {
     "name": "stderr",
     "output_type": "stream",
     "text": [
      "08:20:55 - cmdstanpy - INFO - Chain [1] done processing\n",
      "08:20:56 - cmdstanpy - INFO - Chain [1] start processing\n"
     ]
    },
    {
     "name": "stdout",
     "output_type": "stream",
     "text": [
      "예측 결과에 없는 테스트 날짜:\n",
      " Series([], Name: ds, dtype: datetime64[ns])\n"
     ]
    },
    {
     "name": "stderr",
     "output_type": "stream",
     "text": [
      "08:20:56 - cmdstanpy - INFO - Chain [1] done processing\n",
      "08:20:56 - cmdstanpy - INFO - Chain [1] start processing\n"
     ]
    },
    {
     "name": "stdout",
     "output_type": "stream",
     "text": [
      "예측 결과에 없는 테스트 날짜:\n",
      " Series([], Name: ds, dtype: datetime64[ns])\n"
     ]
    },
    {
     "name": "stderr",
     "output_type": "stream",
     "text": [
      "08:20:56 - cmdstanpy - INFO - Chain [1] done processing\n",
      "08:20:56 - cmdstanpy - INFO - Chain [1] start processing\n"
     ]
    },
    {
     "name": "stdout",
     "output_type": "stream",
     "text": [
      "예측 결과에 없는 테스트 날짜:\n",
      " Series([], Name: ds, dtype: datetime64[ns])\n"
     ]
    },
    {
     "name": "stderr",
     "output_type": "stream",
     "text": [
      "08:20:57 - cmdstanpy - INFO - Chain [1] done processing\n",
      "08:20:57 - cmdstanpy - INFO - Chain [1] start processing\n",
      "08:20:57 - cmdstanpy - INFO - Chain [1] done processing\n"
     ]
    },
    {
     "name": "stdout",
     "output_type": "stream",
     "text": [
      "예측 결과에 없는 테스트 날짜:\n",
      " Series([], Name: ds, dtype: datetime64[ns])\n"
     ]
    },
    {
     "name": "stderr",
     "output_type": "stream",
     "text": [
      "08:20:57 - cmdstanpy - INFO - Chain [1] start processing\n",
      "08:20:57 - cmdstanpy - INFO - Chain [1] done processing\n"
     ]
    },
    {
     "name": "stdout",
     "output_type": "stream",
     "text": [
      "예측 결과에 없는 테스트 날짜:\n",
      " Series([], Name: ds, dtype: datetime64[ns])\n"
     ]
    },
    {
     "name": "stderr",
     "output_type": "stream",
     "text": [
      "08:20:58 - cmdstanpy - INFO - Chain [1] start processing\n",
      "08:20:58 - cmdstanpy - INFO - Chain [1] done processing\n"
     ]
    },
    {
     "name": "stdout",
     "output_type": "stream",
     "text": [
      "예측 결과에 없는 테스트 날짜:\n",
      " Series([], Name: ds, dtype: datetime64[ns])\n"
     ]
    },
    {
     "name": "stderr",
     "output_type": "stream",
     "text": [
      "08:20:58 - cmdstanpy - INFO - Chain [1] start processing\n"
     ]
    },
    {
     "name": "stdout",
     "output_type": "stream",
     "text": [
      "예측 결과에 없는 테스트 날짜:\n",
      " Series([], Name: ds, dtype: datetime64[ns])\n"
     ]
    },
    {
     "name": "stderr",
     "output_type": "stream",
     "text": [
      "08:20:58 - cmdstanpy - INFO - Chain [1] done processing\n",
      "08:20:58 - cmdstanpy - INFO - Chain [1] start processing\n"
     ]
    },
    {
     "name": "stdout",
     "output_type": "stream",
     "text": [
      "예측 결과에 없는 테스트 날짜:\n",
      " Series([], Name: ds, dtype: datetime64[ns])\n"
     ]
    },
    {
     "name": "stderr",
     "output_type": "stream",
     "text": [
      "08:20:58 - cmdstanpy - INFO - Chain [1] done processing\n",
      "08:20:59 - cmdstanpy - INFO - Chain [1] start processing\n",
      "08:20:59 - cmdstanpy - INFO - Chain [1] done processing\n"
     ]
    },
    {
     "name": "stdout",
     "output_type": "stream",
     "text": [
      "예측 결과에 없는 테스트 날짜:\n",
      " Series([], Name: ds, dtype: datetime64[ns])\n"
     ]
    },
    {
     "name": "stderr",
     "output_type": "stream",
     "text": [
      "08:20:59 - cmdstanpy - INFO - Chain [1] start processing\n"
     ]
    },
    {
     "name": "stdout",
     "output_type": "stream",
     "text": [
      "예측 결과에 없는 테스트 날짜:\n",
      " Series([], Name: ds, dtype: datetime64[ns])\n"
     ]
    },
    {
     "name": "stderr",
     "output_type": "stream",
     "text": [
      "08:20:59 - cmdstanpy - INFO - Chain [1] done processing\n",
      "08:21:00 - cmdstanpy - INFO - Chain [1] start processing\n"
     ]
    },
    {
     "name": "stdout",
     "output_type": "stream",
     "text": [
      "예측 결과에 없는 테스트 날짜:\n",
      " Series([], Name: ds, dtype: datetime64[ns])\n"
     ]
    },
    {
     "name": "stderr",
     "output_type": "stream",
     "text": [
      "08:21:00 - cmdstanpy - INFO - Chain [1] done processing\n",
      "08:21:00 - cmdstanpy - INFO - Chain [1] start processing\n",
      "08:21:00 - cmdstanpy - INFO - Chain [1] done processing\n"
     ]
    },
    {
     "name": "stdout",
     "output_type": "stream",
     "text": [
      "예측 결과에 없는 테스트 날짜:\n",
      " Series([], Name: ds, dtype: datetime64[ns])\n"
     ]
    },
    {
     "name": "stderr",
     "output_type": "stream",
     "text": [
      "08:21:00 - cmdstanpy - INFO - Chain [1] start processing\n",
      "08:21:00 - cmdstanpy - INFO - Chain [1] done processing\n"
     ]
    },
    {
     "name": "stdout",
     "output_type": "stream",
     "text": [
      "예측 결과에 없는 테스트 날짜:\n",
      " Series([], Name: ds, dtype: datetime64[ns])\n"
     ]
    },
    {
     "name": "stderr",
     "output_type": "stream",
     "text": [
      "08:21:01 - cmdstanpy - INFO - Chain [1] start processing\n",
      "08:21:01 - cmdstanpy - INFO - Chain [1] done processing\n"
     ]
    },
    {
     "name": "stdout",
     "output_type": "stream",
     "text": [
      "예측 결과에 없는 테스트 날짜:\n",
      " Series([], Name: ds, dtype: datetime64[ns])\n"
     ]
    },
    {
     "name": "stderr",
     "output_type": "stream",
     "text": [
      "08:21:01 - cmdstanpy - INFO - Chain [1] start processing\n"
     ]
    },
    {
     "name": "stdout",
     "output_type": "stream",
     "text": [
      "예측 결과에 없는 테스트 날짜:\n",
      " Series([], Name: ds, dtype: datetime64[ns])\n"
     ]
    },
    {
     "name": "stderr",
     "output_type": "stream",
     "text": [
      "08:21:01 - cmdstanpy - INFO - Chain [1] done processing\n",
      "08:21:01 - cmdstanpy - INFO - Chain [1] start processing\n"
     ]
    },
    {
     "name": "stdout",
     "output_type": "stream",
     "text": [
      "예측 결과에 없는 테스트 날짜:\n",
      " Series([], Name: ds, dtype: datetime64[ns])\n"
     ]
    },
    {
     "name": "stderr",
     "output_type": "stream",
     "text": [
      "08:21:01 - cmdstanpy - INFO - Chain [1] done processing\n",
      "08:21:02 - cmdstanpy - INFO - Chain [1] start processing\n"
     ]
    },
    {
     "name": "stdout",
     "output_type": "stream",
     "text": [
      "예측 결과에 없는 테스트 날짜:\n",
      " Series([], Name: ds, dtype: datetime64[ns])\n"
     ]
    },
    {
     "name": "stderr",
     "output_type": "stream",
     "text": [
      "08:21:02 - cmdstanpy - INFO - Chain [1] done processing\n",
      "08:21:02 - cmdstanpy - INFO - Chain [1] start processing\n",
      "08:21:02 - cmdstanpy - INFO - Chain [1] done processing\n"
     ]
    },
    {
     "name": "stdout",
     "output_type": "stream",
     "text": [
      "예측 결과에 없는 테스트 날짜:\n",
      " Series([], Name: ds, dtype: datetime64[ns])\n"
     ]
    },
    {
     "name": "stderr",
     "output_type": "stream",
     "text": [
      "08:21:03 - cmdstanpy - INFO - Chain [1] start processing\n"
     ]
    },
    {
     "name": "stdout",
     "output_type": "stream",
     "text": [
      "예측 결과에 없는 테스트 날짜:\n",
      " Series([], Name: ds, dtype: datetime64[ns])\n"
     ]
    },
    {
     "name": "stderr",
     "output_type": "stream",
     "text": [
      "08:21:03 - cmdstanpy - INFO - Chain [1] done processing\n",
      "08:21:03 - cmdstanpy - INFO - Chain [1] start processing\n",
      "08:21:03 - cmdstanpy - INFO - Chain [1] done processing\n"
     ]
    },
    {
     "name": "stdout",
     "output_type": "stream",
     "text": [
      "예측 결과에 없는 테스트 날짜:\n",
      " Series([], Name: ds, dtype: datetime64[ns])\n"
     ]
    },
    {
     "name": "stderr",
     "output_type": "stream",
     "text": [
      "08:21:03 - cmdstanpy - INFO - Chain [1] start processing\n"
     ]
    },
    {
     "name": "stdout",
     "output_type": "stream",
     "text": [
      "예측 결과에 없는 테스트 날짜:\n",
      " Series([], Name: ds, dtype: datetime64[ns])\n"
     ]
    },
    {
     "name": "stderr",
     "output_type": "stream",
     "text": [
      "08:21:03 - cmdstanpy - INFO - Chain [1] done processing\n",
      "08:21:04 - cmdstanpy - INFO - Chain [1] start processing\n",
      "08:21:04 - cmdstanpy - INFO - Chain [1] done processing\n"
     ]
    },
    {
     "name": "stdout",
     "output_type": "stream",
     "text": [
      "예측 결과에 없는 테스트 날짜:\n",
      " Series([], Name: ds, dtype: datetime64[ns])\n"
     ]
    },
    {
     "name": "stderr",
     "output_type": "stream",
     "text": [
      "08:21:04 - cmdstanpy - INFO - Chain [1] start processing\n"
     ]
    },
    {
     "name": "stdout",
     "output_type": "stream",
     "text": [
      "예측 결과에 없는 테스트 날짜:\n",
      " Series([], Name: ds, dtype: datetime64[ns])\n"
     ]
    },
    {
     "name": "stderr",
     "output_type": "stream",
     "text": [
      "08:21:05 - cmdstanpy - INFO - Chain [1] done processing\n",
      "08:21:05 - cmdstanpy - INFO - Chain [1] start processing\n"
     ]
    },
    {
     "name": "stdout",
     "output_type": "stream",
     "text": [
      "예측 결과에 없는 테스트 날짜:\n",
      " Series([], Name: ds, dtype: datetime64[ns])\n"
     ]
    },
    {
     "name": "stderr",
     "output_type": "stream",
     "text": [
      "08:21:06 - cmdstanpy - INFO - Chain [1] done processing\n",
      "08:21:06 - cmdstanpy - INFO - Chain [1] start processing\n"
     ]
    },
    {
     "name": "stdout",
     "output_type": "stream",
     "text": [
      "예측 결과에 없는 테스트 날짜:\n",
      " Series([], Name: ds, dtype: datetime64[ns])\n"
     ]
    },
    {
     "name": "stderr",
     "output_type": "stream",
     "text": [
      "08:21:06 - cmdstanpy - INFO - Chain [1] done processing\n",
      "08:21:07 - cmdstanpy - INFO - Chain [1] start processing\n",
      "08:21:07 - cmdstanpy - INFO - Chain [1] done processing\n"
     ]
    },
    {
     "name": "stdout",
     "output_type": "stream",
     "text": [
      "예측 결과에 없는 테스트 날짜:\n",
      " Series([], Name: ds, dtype: datetime64[ns])\n"
     ]
    },
    {
     "name": "stderr",
     "output_type": "stream",
     "text": [
      "08:21:07 - cmdstanpy - INFO - Chain [1] start processing\n"
     ]
    },
    {
     "name": "stdout",
     "output_type": "stream",
     "text": [
      "예측 결과에 없는 테스트 날짜:\n",
      " Series([], Name: ds, dtype: datetime64[ns])\n"
     ]
    },
    {
     "name": "stderr",
     "output_type": "stream",
     "text": [
      "08:21:07 - cmdstanpy - INFO - Chain [1] done processing\n",
      "08:21:08 - cmdstanpy - INFO - Chain [1] start processing\n",
      "08:21:08 - cmdstanpy - INFO - Chain [1] done processing\n"
     ]
    },
    {
     "name": "stdout",
     "output_type": "stream",
     "text": [
      "예측 결과에 없는 테스트 날짜:\n",
      " Series([], Name: ds, dtype: datetime64[ns])\n"
     ]
    },
    {
     "name": "stderr",
     "output_type": "stream",
     "text": [
      "08:21:08 - cmdstanpy - INFO - Chain [1] start processing\n"
     ]
    },
    {
     "name": "stdout",
     "output_type": "stream",
     "text": [
      "예측 결과에 없는 테스트 날짜:\n",
      " Series([], Name: ds, dtype: datetime64[ns])\n"
     ]
    },
    {
     "name": "stderr",
     "output_type": "stream",
     "text": [
      "08:21:08 - cmdstanpy - INFO - Chain [1] done processing\n",
      "08:21:09 - cmdstanpy - INFO - Chain [1] start processing\n",
      "08:21:09 - cmdstanpy - INFO - Chain [1] done processing\n"
     ]
    },
    {
     "name": "stdout",
     "output_type": "stream",
     "text": [
      "예측 결과에 없는 테스트 날짜:\n",
      " Series([], Name: ds, dtype: datetime64[ns])\n"
     ]
    },
    {
     "name": "stderr",
     "output_type": "stream",
     "text": [
      "08:21:09 - cmdstanpy - INFO - Chain [1] start processing\n"
     ]
    },
    {
     "name": "stdout",
     "output_type": "stream",
     "text": [
      "예측 결과에 없는 테스트 날짜:\n",
      " Series([], Name: ds, dtype: datetime64[ns])\n"
     ]
    },
    {
     "name": "stderr",
     "output_type": "stream",
     "text": [
      "08:21:10 - cmdstanpy - INFO - Chain [1] done processing\n",
      "08:21:10 - cmdstanpy - INFO - Chain [1] start processing\n"
     ]
    },
    {
     "name": "stdout",
     "output_type": "stream",
     "text": [
      "예측 결과에 없는 테스트 날짜:\n",
      " Series([], Name: ds, dtype: datetime64[ns])\n"
     ]
    },
    {
     "name": "stderr",
     "output_type": "stream",
     "text": [
      "08:21:11 - cmdstanpy - INFO - Chain [1] done processing\n",
      "08:21:11 - cmdstanpy - INFO - Chain [1] start processing\n"
     ]
    },
    {
     "name": "stdout",
     "output_type": "stream",
     "text": [
      "예측 결과에 없는 테스트 날짜:\n",
      " Series([], Name: ds, dtype: datetime64[ns])\n"
     ]
    },
    {
     "name": "stderr",
     "output_type": "stream",
     "text": [
      "08:21:12 - cmdstanpy - INFO - Chain [1] done processing\n",
      "08:21:12 - cmdstanpy - INFO - Chain [1] start processing\n"
     ]
    },
    {
     "name": "stdout",
     "output_type": "stream",
     "text": [
      "예측 결과에 없는 테스트 날짜:\n",
      " Series([], Name: ds, dtype: datetime64[ns])\n"
     ]
    },
    {
     "name": "stderr",
     "output_type": "stream",
     "text": [
      "08:21:12 - cmdstanpy - INFO - Chain [1] done processing\n",
      "08:21:13 - cmdstanpy - INFO - Chain [1] start processing\n"
     ]
    },
    {
     "name": "stdout",
     "output_type": "stream",
     "text": [
      "예측 결과에 없는 테스트 날짜:\n",
      " Series([], Name: ds, dtype: datetime64[ns])\n"
     ]
    },
    {
     "name": "stderr",
     "output_type": "stream",
     "text": [
      "08:21:13 - cmdstanpy - INFO - Chain [1] done processing\n",
      "08:21:13 - cmdstanpy - INFO - Chain [1] start processing\n"
     ]
    },
    {
     "name": "stdout",
     "output_type": "stream",
     "text": [
      "예측 결과에 없는 테스트 날짜:\n",
      " Series([], Name: ds, dtype: datetime64[ns])\n"
     ]
    },
    {
     "name": "stderr",
     "output_type": "stream",
     "text": [
      "08:21:13 - cmdstanpy - INFO - Chain [1] done processing\n",
      "08:21:14 - cmdstanpy - INFO - Chain [1] start processing\n"
     ]
    },
    {
     "name": "stdout",
     "output_type": "stream",
     "text": [
      "예측 결과에 없는 테스트 날짜:\n",
      " Series([], Name: ds, dtype: datetime64[ns])\n"
     ]
    },
    {
     "name": "stderr",
     "output_type": "stream",
     "text": [
      "08:21:14 - cmdstanpy - INFO - Chain [1] done processing\n",
      "08:21:14 - cmdstanpy - INFO - Chain [1] start processing\n",
      "08:21:14 - cmdstanpy - INFO - Chain [1] done processing\n"
     ]
    },
    {
     "name": "stdout",
     "output_type": "stream",
     "text": [
      "예측 결과에 없는 테스트 날짜:\n",
      " Series([], Name: ds, dtype: datetime64[ns])\n"
     ]
    },
    {
     "name": "stderr",
     "output_type": "stream",
     "text": [
      "08:21:14 - cmdstanpy - INFO - Chain [1] start processing\n"
     ]
    },
    {
     "name": "stdout",
     "output_type": "stream",
     "text": [
      "예측 결과에 없는 테스트 날짜:\n",
      " Series([], Name: ds, dtype: datetime64[ns])\n"
     ]
    },
    {
     "name": "stderr",
     "output_type": "stream",
     "text": [
      "08:21:16 - cmdstanpy - INFO - Chain [1] done processing\n",
      "08:21:16 - cmdstanpy - INFO - Chain [1] start processing\n"
     ]
    },
    {
     "name": "stdout",
     "output_type": "stream",
     "text": [
      "예측 결과에 없는 테스트 날짜:\n",
      " Series([], Name: ds, dtype: datetime64[ns])\n"
     ]
    },
    {
     "name": "stderr",
     "output_type": "stream",
     "text": [
      "08:21:16 - cmdstanpy - INFO - Chain [1] done processing\n",
      "08:21:17 - cmdstanpy - INFO - Chain [1] start processing\n"
     ]
    },
    {
     "name": "stdout",
     "output_type": "stream",
     "text": [
      "예측 결과에 없는 테스트 날짜:\n",
      " Series([], Name: ds, dtype: datetime64[ns])\n"
     ]
    },
    {
     "name": "stderr",
     "output_type": "stream",
     "text": [
      "08:21:18 - cmdstanpy - INFO - Chain [1] done processing\n",
      "08:21:18 - cmdstanpy - INFO - Chain [1] start processing\n",
      "08:21:18 - cmdstanpy - INFO - Chain [1] done processing\n"
     ]
    },
    {
     "name": "stdout",
     "output_type": "stream",
     "text": [
      "예측 결과에 없는 테스트 날짜:\n",
      " Series([], Name: ds, dtype: datetime64[ns])\n"
     ]
    },
    {
     "name": "stderr",
     "output_type": "stream",
     "text": [
      "08:21:19 - cmdstanpy - INFO - Chain [1] start processing\n"
     ]
    },
    {
     "name": "stdout",
     "output_type": "stream",
     "text": [
      "예측 결과에 없는 테스트 날짜:\n",
      " Series([], Name: ds, dtype: datetime64[ns])\n"
     ]
    },
    {
     "name": "stderr",
     "output_type": "stream",
     "text": [
      "08:21:19 - cmdstanpy - INFO - Chain [1] done processing\n",
      "08:21:19 - cmdstanpy - INFO - Chain [1] start processing\n",
      "08:21:19 - cmdstanpy - INFO - Chain [1] done processing\n"
     ]
    },
    {
     "name": "stdout",
     "output_type": "stream",
     "text": [
      "예측 결과에 없는 테스트 날짜:\n",
      " Series([], Name: ds, dtype: datetime64[ns])\n"
     ]
    },
    {
     "name": "stderr",
     "output_type": "stream",
     "text": [
      "08:21:20 - cmdstanpy - INFO - Chain [1] start processing\n"
     ]
    },
    {
     "name": "stdout",
     "output_type": "stream",
     "text": [
      "예측 결과에 없는 테스트 날짜:\n",
      " Series([], Name: ds, dtype: datetime64[ns])\n"
     ]
    },
    {
     "name": "stderr",
     "output_type": "stream",
     "text": [
      "08:21:20 - cmdstanpy - INFO - Chain [1] done processing\n",
      "08:21:20 - cmdstanpy - INFO - Chain [1] start processing\n",
      "08:21:20 - cmdstanpy - INFO - Chain [1] done processing\n"
     ]
    },
    {
     "name": "stdout",
     "output_type": "stream",
     "text": [
      "예측 결과에 없는 테스트 날짜:\n",
      " Series([], Name: ds, dtype: datetime64[ns])\n"
     ]
    },
    {
     "name": "stderr",
     "output_type": "stream",
     "text": [
      "08:21:21 - cmdstanpy - INFO - Chain [1] start processing\n"
     ]
    },
    {
     "name": "stdout",
     "output_type": "stream",
     "text": [
      "예측 결과에 없는 테스트 날짜:\n",
      " Series([], Name: ds, dtype: datetime64[ns])\n"
     ]
    },
    {
     "name": "stderr",
     "output_type": "stream",
     "text": [
      "08:21:21 - cmdstanpy - INFO - Chain [1] done processing\n",
      "08:21:22 - cmdstanpy - INFO - Chain [1] start processing\n"
     ]
    },
    {
     "name": "stdout",
     "output_type": "stream",
     "text": [
      "예측 결과에 없는 테스트 날짜:\n",
      " Series([], Name: ds, dtype: datetime64[ns])\n"
     ]
    },
    {
     "name": "stderr",
     "output_type": "stream",
     "text": [
      "08:21:22 - cmdstanpy - INFO - Chain [1] done processing\n",
      "08:21:22 - cmdstanpy - INFO - Chain [1] start processing\n"
     ]
    },
    {
     "name": "stdout",
     "output_type": "stream",
     "text": [
      "예측 결과에 없는 테스트 날짜:\n",
      " Series([], Name: ds, dtype: datetime64[ns])\n"
     ]
    },
    {
     "name": "stderr",
     "output_type": "stream",
     "text": [
      "08:21:23 - cmdstanpy - INFO - Chain [1] done processing\n",
      "08:21:23 - cmdstanpy - INFO - Chain [1] start processing\n"
     ]
    },
    {
     "name": "stdout",
     "output_type": "stream",
     "text": [
      "예측 결과에 없는 테스트 날짜:\n",
      " Series([], Name: ds, dtype: datetime64[ns])\n"
     ]
    },
    {
     "name": "stderr",
     "output_type": "stream",
     "text": [
      "08:21:23 - cmdstanpy - INFO - Chain [1] done processing\n",
      "08:21:24 - cmdstanpy - INFO - Chain [1] start processing\n"
     ]
    },
    {
     "name": "stdout",
     "output_type": "stream",
     "text": [
      "예측 결과에 없는 테스트 날짜:\n",
      " Series([], Name: ds, dtype: datetime64[ns])\n"
     ]
    },
    {
     "name": "stderr",
     "output_type": "stream",
     "text": [
      "08:21:24 - cmdstanpy - INFO - Chain [1] done processing\n",
      "08:21:24 - cmdstanpy - INFO - Chain [1] start processing\n"
     ]
    },
    {
     "name": "stdout",
     "output_type": "stream",
     "text": [
      "예측 결과에 없는 테스트 날짜:\n",
      " Series([], Name: ds, dtype: datetime64[ns])\n"
     ]
    },
    {
     "name": "stderr",
     "output_type": "stream",
     "text": [
      "08:21:25 - cmdstanpy - INFO - Chain [1] done processing\n",
      "08:21:25 - cmdstanpy - ERROR - Chain [1] error: error during processing Operation not permitted\n",
      "Optimization terminated abnormally. Falling back to Newton.\n",
      "08:21:25 - cmdstanpy - INFO - Chain [1] start processing\n",
      "08:21:26 - cmdstanpy - INFO - Chain [1] done processing\n",
      "08:21:26 - cmdstanpy - INFO - Chain [1] start processing\n"
     ]
    },
    {
     "name": "stdout",
     "output_type": "stream",
     "text": [
      "예측 결과에 없는 테스트 날짜:\n",
      " Series([], Name: ds, dtype: datetime64[ns])\n"
     ]
    },
    {
     "name": "stderr",
     "output_type": "stream",
     "text": [
      "08:21:26 - cmdstanpy - INFO - Chain [1] done processing\n",
      "08:21:26 - cmdstanpy - INFO - Chain [1] start processing\n",
      "08:21:27 - cmdstanpy - INFO - Chain [1] done processing\n"
     ]
    },
    {
     "name": "stdout",
     "output_type": "stream",
     "text": [
      "예측 결과에 없는 테스트 날짜:\n",
      " Series([], Name: ds, dtype: datetime64[ns])\n"
     ]
    },
    {
     "name": "stderr",
     "output_type": "stream",
     "text": [
      "08:21:27 - cmdstanpy - INFO - Chain [1] start processing\n"
     ]
    },
    {
     "name": "stdout",
     "output_type": "stream",
     "text": [
      "예측 결과에 없는 테스트 날짜:\n",
      " Series([], Name: ds, dtype: datetime64[ns])\n"
     ]
    },
    {
     "name": "stderr",
     "output_type": "stream",
     "text": [
      "08:21:27 - cmdstanpy - INFO - Chain [1] done processing\n",
      "08:21:28 - cmdstanpy - INFO - Chain [1] start processing\n"
     ]
    },
    {
     "name": "stdout",
     "output_type": "stream",
     "text": [
      "예측 결과에 없는 테스트 날짜:\n",
      " Series([], Name: ds, dtype: datetime64[ns])\n"
     ]
    },
    {
     "name": "stderr",
     "output_type": "stream",
     "text": [
      "08:21:28 - cmdstanpy - INFO - Chain [1] done processing\n",
      "08:21:28 - cmdstanpy - INFO - Chain [1] start processing\n"
     ]
    },
    {
     "name": "stdout",
     "output_type": "stream",
     "text": [
      "예측 결과에 없는 테스트 날짜:\n",
      " Series([], Name: ds, dtype: datetime64[ns])\n"
     ]
    },
    {
     "name": "stderr",
     "output_type": "stream",
     "text": [
      "08:21:29 - cmdstanpy - INFO - Chain [1] done processing\n",
      "08:21:30 - cmdstanpy - INFO - Chain [1] start processing\n"
     ]
    },
    {
     "name": "stdout",
     "output_type": "stream",
     "text": [
      "예측 결과에 없는 테스트 날짜:\n",
      " Series([], Name: ds, dtype: datetime64[ns])\n"
     ]
    },
    {
     "name": "stderr",
     "output_type": "stream",
     "text": [
      "08:21:30 - cmdstanpy - INFO - Chain [1] done processing\n",
      "08:21:30 - cmdstanpy - INFO - Chain [1] start processing\n"
     ]
    },
    {
     "name": "stdout",
     "output_type": "stream",
     "text": [
      "예측 결과에 없는 테스트 날짜:\n",
      " Series([], Name: ds, dtype: datetime64[ns])\n"
     ]
    },
    {
     "name": "stderr",
     "output_type": "stream",
     "text": [
      "08:21:31 - cmdstanpy - INFO - Chain [1] done processing\n",
      "08:21:31 - cmdstanpy - INFO - Chain [1] start processing\n"
     ]
    },
    {
     "name": "stdout",
     "output_type": "stream",
     "text": [
      "예측 결과에 없는 테스트 날짜:\n",
      " Series([], Name: ds, dtype: datetime64[ns])\n"
     ]
    },
    {
     "name": "stderr",
     "output_type": "stream",
     "text": [
      "08:21:31 - cmdstanpy - INFO - Chain [1] done processing\n",
      "08:21:32 - cmdstanpy - INFO - Chain [1] start processing\n"
     ]
    },
    {
     "name": "stdout",
     "output_type": "stream",
     "text": [
      "예측 결과에 없는 테스트 날짜:\n",
      " Series([], Name: ds, dtype: datetime64[ns])\n"
     ]
    },
    {
     "name": "stderr",
     "output_type": "stream",
     "text": [
      "08:21:32 - cmdstanpy - INFO - Chain [1] done processing\n",
      "08:21:32 - cmdstanpy - INFO - Chain [1] start processing\n",
      "08:21:32 - cmdstanpy - INFO - Chain [1] done processing\n"
     ]
    },
    {
     "name": "stdout",
     "output_type": "stream",
     "text": [
      "예측 결과에 없는 테스트 날짜:\n",
      " Series([], Name: ds, dtype: datetime64[ns])\n"
     ]
    },
    {
     "name": "stderr",
     "output_type": "stream",
     "text": [
      "08:21:33 - cmdstanpy - INFO - Chain [1] start processing\n"
     ]
    },
    {
     "name": "stdout",
     "output_type": "stream",
     "text": [
      "예측 결과에 없는 테스트 날짜:\n",
      " Series([], Name: ds, dtype: datetime64[ns])\n"
     ]
    },
    {
     "name": "stderr",
     "output_type": "stream",
     "text": [
      "08:21:34 - cmdstanpy - INFO - Chain [1] done processing\n",
      "08:21:34 - cmdstanpy - INFO - Chain [1] start processing\n"
     ]
    },
    {
     "name": "stdout",
     "output_type": "stream",
     "text": [
      "예측 결과에 없는 테스트 날짜:\n",
      " Series([], Name: ds, dtype: datetime64[ns])\n"
     ]
    },
    {
     "name": "stderr",
     "output_type": "stream",
     "text": [
      "08:21:35 - cmdstanpy - INFO - Chain [1] done processing\n",
      "08:21:35 - cmdstanpy - INFO - Chain [1] start processing\n"
     ]
    },
    {
     "name": "stdout",
     "output_type": "stream",
     "text": [
      "예측 결과에 없는 테스트 날짜:\n",
      " Series([], Name: ds, dtype: datetime64[ns])\n"
     ]
    },
    {
     "name": "stderr",
     "output_type": "stream",
     "text": [
      "08:21:36 - cmdstanpy - INFO - Chain [1] done processing\n",
      "08:21:37 - cmdstanpy - INFO - Chain [1] start processing\n"
     ]
    },
    {
     "name": "stdout",
     "output_type": "stream",
     "text": [
      "예측 결과에 없는 테스트 날짜:\n",
      " Series([], Name: ds, dtype: datetime64[ns])\n"
     ]
    },
    {
     "name": "stderr",
     "output_type": "stream",
     "text": [
      "08:21:37 - cmdstanpy - INFO - Chain [1] done processing\n",
      "08:21:37 - cmdstanpy - INFO - Chain [1] start processing\n"
     ]
    },
    {
     "name": "stdout",
     "output_type": "stream",
     "text": [
      "예측 결과에 없는 테스트 날짜:\n",
      " Series([], Name: ds, dtype: datetime64[ns])\n"
     ]
    },
    {
     "name": "stderr",
     "output_type": "stream",
     "text": [
      "08:21:38 - cmdstanpy - INFO - Chain [1] done processing\n",
      "08:21:38 - cmdstanpy - INFO - Chain [1] start processing\n"
     ]
    },
    {
     "name": "stdout",
     "output_type": "stream",
     "text": [
      "예측 결과에 없는 테스트 날짜:\n",
      " Series([], Name: ds, dtype: datetime64[ns])\n"
     ]
    },
    {
     "name": "stderr",
     "output_type": "stream",
     "text": [
      "08:21:39 - cmdstanpy - INFO - Chain [1] done processing\n",
      "08:21:39 - cmdstanpy - INFO - Chain [1] start processing\n"
     ]
    },
    {
     "name": "stdout",
     "output_type": "stream",
     "text": [
      "예측 결과에 없는 테스트 날짜:\n",
      " Series([], Name: ds, dtype: datetime64[ns])\n"
     ]
    },
    {
     "name": "stderr",
     "output_type": "stream",
     "text": [
      "08:21:40 - cmdstanpy - INFO - Chain [1] done processing\n",
      "08:21:40 - cmdstanpy - INFO - Chain [1] start processing\n",
      "08:21:40 - cmdstanpy - INFO - Chain [1] done processing\n"
     ]
    },
    {
     "name": "stdout",
     "output_type": "stream",
     "text": [
      "예측 결과에 없는 테스트 날짜:\n",
      " Series([], Name: ds, dtype: datetime64[ns])\n"
     ]
    },
    {
     "name": "stderr",
     "output_type": "stream",
     "text": [
      "08:21:40 - cmdstanpy - INFO - Chain [1] start processing\n"
     ]
    },
    {
     "name": "stdout",
     "output_type": "stream",
     "text": [
      "예측 결과에 없는 테스트 날짜:\n",
      " Series([], Name: ds, dtype: datetime64[ns])\n"
     ]
    },
    {
     "name": "stderr",
     "output_type": "stream",
     "text": [
      "08:21:41 - cmdstanpy - INFO - Chain [1] done processing\n",
      "08:21:41 - cmdstanpy - INFO - Chain [1] start processing\n"
     ]
    },
    {
     "name": "stdout",
     "output_type": "stream",
     "text": [
      "예측 결과에 없는 테스트 날짜:\n",
      " Series([], Name: ds, dtype: datetime64[ns])\n"
     ]
    },
    {
     "name": "stderr",
     "output_type": "stream",
     "text": [
      "08:21:41 - cmdstanpy - INFO - Chain [1] done processing\n",
      "08:21:41 - cmdstanpy - ERROR - Chain [1] error: error during processing Operation not permitted\n",
      "Optimization terminated abnormally. Falling back to Newton.\n",
      "08:21:41 - cmdstanpy - INFO - Chain [1] start processing\n",
      "08:21:42 - cmdstanpy - INFO - Chain [1] done processing\n",
      "08:21:42 - cmdstanpy - INFO - Chain [1] start processing\n"
     ]
    },
    {
     "name": "stdout",
     "output_type": "stream",
     "text": [
      "예측 결과에 없는 테스트 날짜:\n",
      " Series([], Name: ds, dtype: datetime64[ns])\n"
     ]
    },
    {
     "name": "stderr",
     "output_type": "stream",
     "text": [
      "08:21:42 - cmdstanpy - INFO - Chain [1] done processing\n",
      "08:21:42 - cmdstanpy - INFO - Chain [1] start processing\n"
     ]
    },
    {
     "name": "stdout",
     "output_type": "stream",
     "text": [
      "예측 결과에 없는 테스트 날짜:\n",
      " Series([], Name: ds, dtype: datetime64[ns])\n"
     ]
    },
    {
     "name": "stderr",
     "output_type": "stream",
     "text": [
      "08:21:42 - cmdstanpy - INFO - Chain [1] done processing\n",
      "08:21:42 - cmdstanpy - ERROR - Chain [1] error: error during processing Operation not permitted\n",
      "Optimization terminated abnormally. Falling back to Newton.\n",
      "08:21:42 - cmdstanpy - INFO - Chain [1] start processing\n",
      "08:21:43 - cmdstanpy - INFO - Chain [1] done processing\n",
      "08:21:43 - cmdstanpy - INFO - Chain [1] start processing\n",
      "08:21:43 - cmdstanpy - INFO - Chain [1] done processing\n"
     ]
    },
    {
     "name": "stdout",
     "output_type": "stream",
     "text": [
      "예측 결과에 없는 테스트 날짜:\n",
      " Series([], Name: ds, dtype: datetime64[ns])\n"
     ]
    },
    {
     "name": "stderr",
     "output_type": "stream",
     "text": [
      "08:21:44 - cmdstanpy - INFO - Chain [1] start processing\n",
      "08:21:44 - cmdstanpy - INFO - Chain [1] done processing\n"
     ]
    },
    {
     "name": "stdout",
     "output_type": "stream",
     "text": [
      "예측 결과에 없는 테스트 날짜:\n",
      " Series([], Name: ds, dtype: datetime64[ns])\n"
     ]
    },
    {
     "name": "stderr",
     "output_type": "stream",
     "text": [
      "08:21:44 - cmdstanpy - INFO - Chain [1] start processing\n",
      "08:21:44 - cmdstanpy - INFO - Chain [1] done processing\n"
     ]
    },
    {
     "name": "stdout",
     "output_type": "stream",
     "text": [
      "예측 결과에 없는 테스트 날짜:\n",
      " Series([], Name: ds, dtype: datetime64[ns])\n"
     ]
    },
    {
     "name": "stderr",
     "output_type": "stream",
     "text": [
      "08:21:44 - cmdstanpy - INFO - Chain [1] start processing\n",
      "08:21:44 - cmdstanpy - INFO - Chain [1] done processing\n"
     ]
    },
    {
     "name": "stdout",
     "output_type": "stream",
     "text": [
      "예측 결과에 없는 테스트 날짜:\n",
      " Series([], Name: ds, dtype: datetime64[ns])\n"
     ]
    },
    {
     "name": "stderr",
     "output_type": "stream",
     "text": [
      "08:21:45 - cmdstanpy - INFO - Chain [1] start processing\n"
     ]
    },
    {
     "name": "stdout",
     "output_type": "stream",
     "text": [
      "예측 결과에 없는 테스트 날짜:\n",
      " Series([], Name: ds, dtype: datetime64[ns])\n"
     ]
    },
    {
     "name": "stderr",
     "output_type": "stream",
     "text": [
      "08:21:45 - cmdstanpy - INFO - Chain [1] done processing\n",
      "08:21:45 - cmdstanpy - INFO - Chain [1] start processing\n"
     ]
    },
    {
     "name": "stdout",
     "output_type": "stream",
     "text": [
      "예측 결과에 없는 테스트 날짜:\n",
      " Series([], Name: ds, dtype: datetime64[ns])\n"
     ]
    },
    {
     "name": "stderr",
     "output_type": "stream",
     "text": [
      "08:21:46 - cmdstanpy - INFO - Chain [1] done processing\n",
      "08:21:46 - cmdstanpy - INFO - Chain [1] start processing\n"
     ]
    },
    {
     "name": "stdout",
     "output_type": "stream",
     "text": [
      "예측 결과에 없는 테스트 날짜:\n",
      " Series([], Name: ds, dtype: datetime64[ns])\n"
     ]
    },
    {
     "name": "stderr",
     "output_type": "stream",
     "text": [
      "08:21:46 - cmdstanpy - INFO - Chain [1] done processing\n",
      "08:21:47 - cmdstanpy - INFO - Chain [1] start processing\n"
     ]
    },
    {
     "name": "stdout",
     "output_type": "stream",
     "text": [
      "예측 결과에 없는 테스트 날짜:\n",
      " Series([], Name: ds, dtype: datetime64[ns])\n"
     ]
    },
    {
     "name": "stderr",
     "output_type": "stream",
     "text": [
      "08:21:47 - cmdstanpy - INFO - Chain [1] done processing\n",
      "08:21:47 - cmdstanpy - INFO - Chain [1] start processing\n"
     ]
    },
    {
     "name": "stdout",
     "output_type": "stream",
     "text": [
      "예측 결과에 없는 테스트 날짜:\n",
      " Series([], Name: ds, dtype: datetime64[ns])\n"
     ]
    },
    {
     "name": "stderr",
     "output_type": "stream",
     "text": [
      "08:21:48 - cmdstanpy - INFO - Chain [1] done processing\n",
      "08:21:48 - cmdstanpy - INFO - Chain [1] start processing\n"
     ]
    },
    {
     "name": "stdout",
     "output_type": "stream",
     "text": [
      "예측 결과에 없는 테스트 날짜:\n",
      " Series([], Name: ds, dtype: datetime64[ns])\n"
     ]
    },
    {
     "name": "stderr",
     "output_type": "stream",
     "text": [
      "08:21:48 - cmdstanpy - INFO - Chain [1] done processing\n",
      "08:21:48 - cmdstanpy - INFO - Chain [1] start processing\n"
     ]
    },
    {
     "name": "stdout",
     "output_type": "stream",
     "text": [
      "예측 결과에 없는 테스트 날짜:\n",
      " Series([], Name: ds, dtype: datetime64[ns])\n"
     ]
    },
    {
     "name": "stderr",
     "output_type": "stream",
     "text": [
      "08:21:48 - cmdstanpy - INFO - Chain [1] done processing\n",
      "08:21:49 - cmdstanpy - INFO - Chain [1] start processing\n"
     ]
    },
    {
     "name": "stdout",
     "output_type": "stream",
     "text": [
      "예측 결과에 없는 테스트 날짜:\n",
      " Series([], Name: ds, dtype: datetime64[ns])\n"
     ]
    },
    {
     "name": "stderr",
     "output_type": "stream",
     "text": [
      "08:21:49 - cmdstanpy - INFO - Chain [1] done processing\n",
      "08:21:49 - cmdstanpy - INFO - Chain [1] start processing\n"
     ]
    },
    {
     "name": "stdout",
     "output_type": "stream",
     "text": [
      "예측 결과에 없는 테스트 날짜:\n",
      " Series([], Name: ds, dtype: datetime64[ns])\n"
     ]
    },
    {
     "name": "stderr",
     "output_type": "stream",
     "text": [
      "08:21:50 - cmdstanpy - INFO - Chain [1] done processing\n",
      "08:21:50 - cmdstanpy - INFO - Chain [1] start processing\n"
     ]
    },
    {
     "name": "stdout",
     "output_type": "stream",
     "text": [
      "예측 결과에 없는 테스트 날짜:\n",
      " Series([], Name: ds, dtype: datetime64[ns])\n"
     ]
    },
    {
     "name": "stderr",
     "output_type": "stream",
     "text": [
      "08:21:51 - cmdstanpy - INFO - Chain [1] done processing\n",
      "08:21:51 - cmdstanpy - INFO - Chain [1] start processing\n"
     ]
    },
    {
     "name": "stdout",
     "output_type": "stream",
     "text": [
      "예측 결과에 없는 테스트 날짜:\n",
      " Series([], Name: ds, dtype: datetime64[ns])\n"
     ]
    },
    {
     "name": "stderr",
     "output_type": "stream",
     "text": [
      "08:21:52 - cmdstanpy - INFO - Chain [1] done processing\n",
      "08:21:52 - cmdstanpy - INFO - Chain [1] start processing\n"
     ]
    },
    {
     "name": "stdout",
     "output_type": "stream",
     "text": [
      "예측 결과에 없는 테스트 날짜:\n",
      " Series([], Name: ds, dtype: datetime64[ns])\n"
     ]
    },
    {
     "name": "stderr",
     "output_type": "stream",
     "text": [
      "08:21:53 - cmdstanpy - INFO - Chain [1] done processing\n",
      "08:21:53 - cmdstanpy - INFO - Chain [1] start processing\n"
     ]
    },
    {
     "name": "stdout",
     "output_type": "stream",
     "text": [
      "예측 결과에 없는 테스트 날짜:\n",
      " Series([], Name: ds, dtype: datetime64[ns])\n"
     ]
    },
    {
     "name": "stderr",
     "output_type": "stream",
     "text": [
      "08:21:53 - cmdstanpy - INFO - Chain [1] done processing\n",
      "08:21:53 - cmdstanpy - INFO - Chain [1] start processing\n"
     ]
    },
    {
     "name": "stdout",
     "output_type": "stream",
     "text": [
      "예측 결과에 없는 테스트 날짜:\n",
      " Series([], Name: ds, dtype: datetime64[ns])\n"
     ]
    },
    {
     "name": "stderr",
     "output_type": "stream",
     "text": [
      "08:21:54 - cmdstanpy - INFO - Chain [1] done processing\n",
      "08:21:54 - cmdstanpy - INFO - Chain [1] start processing\n"
     ]
    },
    {
     "name": "stdout",
     "output_type": "stream",
     "text": [
      "예측 결과에 없는 테스트 날짜:\n",
      " Series([], Name: ds, dtype: datetime64[ns])\n"
     ]
    },
    {
     "name": "stderr",
     "output_type": "stream",
     "text": [
      "08:21:54 - cmdstanpy - INFO - Chain [1] done processing\n",
      "08:21:54 - cmdstanpy - INFO - Chain [1] start processing\n"
     ]
    },
    {
     "name": "stdout",
     "output_type": "stream",
     "text": [
      "예측 결과에 없는 테스트 날짜:\n",
      " Series([], Name: ds, dtype: datetime64[ns])\n"
     ]
    },
    {
     "name": "stderr",
     "output_type": "stream",
     "text": [
      "08:21:55 - cmdstanpy - INFO - Chain [1] done processing\n",
      "08:21:55 - cmdstanpy - INFO - Chain [1] start processing\n"
     ]
    },
    {
     "name": "stdout",
     "output_type": "stream",
     "text": [
      "예측 결과에 없는 테스트 날짜:\n",
      " Series([], Name: ds, dtype: datetime64[ns])\n"
     ]
    },
    {
     "name": "stderr",
     "output_type": "stream",
     "text": [
      "08:21:55 - cmdstanpy - INFO - Chain [1] done processing\n",
      "08:21:55 - cmdstanpy - INFO - Chain [1] start processing\n"
     ]
    },
    {
     "name": "stdout",
     "output_type": "stream",
     "text": [
      "예측 결과에 없는 테스트 날짜:\n",
      " Series([], Name: ds, dtype: datetime64[ns])\n"
     ]
    },
    {
     "name": "stderr",
     "output_type": "stream",
     "text": [
      "08:21:56 - cmdstanpy - INFO - Chain [1] done processing\n",
      "08:21:56 - cmdstanpy - INFO - Chain [1] start processing\n"
     ]
    },
    {
     "name": "stdout",
     "output_type": "stream",
     "text": [
      "예측 결과에 없는 테스트 날짜:\n",
      " Series([], Name: ds, dtype: datetime64[ns])\n"
     ]
    },
    {
     "name": "stderr",
     "output_type": "stream",
     "text": [
      "08:21:56 - cmdstanpy - INFO - Chain [1] done processing\n",
      "08:21:56 - cmdstanpy - INFO - Chain [1] start processing\n"
     ]
    },
    {
     "name": "stdout",
     "output_type": "stream",
     "text": [
      "예측 결과에 없는 테스트 날짜:\n",
      " Series([], Name: ds, dtype: datetime64[ns])\n"
     ]
    },
    {
     "name": "stderr",
     "output_type": "stream",
     "text": [
      "08:21:57 - cmdstanpy - INFO - Chain [1] done processing\n",
      "08:21:57 - cmdstanpy - INFO - Chain [1] start processing\n",
      "08:21:57 - cmdstanpy - INFO - Chain [1] done processing\n"
     ]
    },
    {
     "name": "stdout",
     "output_type": "stream",
     "text": [
      "예측 결과에 없는 테스트 날짜:\n",
      " Series([], Name: ds, dtype: datetime64[ns])\n"
     ]
    },
    {
     "name": "stderr",
     "output_type": "stream",
     "text": [
      "08:21:57 - cmdstanpy - INFO - Chain [1] start processing\n",
      "08:21:57 - cmdstanpy - INFO - Chain [1] done processing\n"
     ]
    },
    {
     "name": "stdout",
     "output_type": "stream",
     "text": [
      "예측 결과에 없는 테스트 날짜:\n",
      " Series([], Name: ds, dtype: datetime64[ns])\n"
     ]
    },
    {
     "name": "stderr",
     "output_type": "stream",
     "text": [
      "08:21:58 - cmdstanpy - INFO - Chain [1] start processing\n",
      "08:21:58 - cmdstanpy - INFO - Chain [1] done processing\n"
     ]
    },
    {
     "name": "stdout",
     "output_type": "stream",
     "text": [
      "예측 결과에 없는 테스트 날짜:\n",
      " Series([], Name: ds, dtype: datetime64[ns])\n"
     ]
    },
    {
     "name": "stderr",
     "output_type": "stream",
     "text": [
      "08:21:58 - cmdstanpy - INFO - Chain [1] start processing\n",
      "08:21:58 - cmdstanpy - INFO - Chain [1] done processing\n"
     ]
    },
    {
     "name": "stdout",
     "output_type": "stream",
     "text": [
      "예측 결과에 없는 테스트 날짜:\n",
      " Series([], Name: ds, dtype: datetime64[ns])\n"
     ]
    },
    {
     "name": "stderr",
     "output_type": "stream",
     "text": [
      "08:21:58 - cmdstanpy - INFO - Chain [1] start processing\n"
     ]
    },
    {
     "name": "stdout",
     "output_type": "stream",
     "text": [
      "예측 결과에 없는 테스트 날짜:\n",
      " Series([], Name: ds, dtype: datetime64[ns])\n"
     ]
    },
    {
     "name": "stderr",
     "output_type": "stream",
     "text": [
      "08:21:59 - cmdstanpy - INFO - Chain [1] done processing\n",
      "08:21:59 - cmdstanpy - INFO - Chain [1] start processing\n"
     ]
    },
    {
     "name": "stdout",
     "output_type": "stream",
     "text": [
      "예측 결과에 없는 테스트 날짜:\n",
      " Series([], Name: ds, dtype: datetime64[ns])\n"
     ]
    },
    {
     "name": "stderr",
     "output_type": "stream",
     "text": [
      "08:22:00 - cmdstanpy - INFO - Chain [1] done processing\n",
      "08:22:00 - cmdstanpy - INFO - Chain [1] start processing\n"
     ]
    },
    {
     "name": "stdout",
     "output_type": "stream",
     "text": [
      "예측 결과에 없는 테스트 날짜:\n",
      " Series([], Name: ds, dtype: datetime64[ns])\n"
     ]
    },
    {
     "name": "stderr",
     "output_type": "stream",
     "text": [
      "08:22:00 - cmdstanpy - INFO - Chain [1] done processing\n",
      "08:22:01 - cmdstanpy - INFO - Chain [1] start processing\n"
     ]
    },
    {
     "name": "stdout",
     "output_type": "stream",
     "text": [
      "예측 결과에 없는 테스트 날짜:\n",
      " Series([], Name: ds, dtype: datetime64[ns])\n"
     ]
    },
    {
     "name": "stderr",
     "output_type": "stream",
     "text": [
      "08:22:01 - cmdstanpy - INFO - Chain [1] done processing\n",
      "08:22:01 - cmdstanpy - INFO - Chain [1] start processing\n"
     ]
    },
    {
     "name": "stdout",
     "output_type": "stream",
     "text": [
      "예측 결과에 없는 테스트 날짜:\n",
      " Series([], Name: ds, dtype: datetime64[ns])\n"
     ]
    },
    {
     "name": "stderr",
     "output_type": "stream",
     "text": [
      "08:22:01 - cmdstanpy - INFO - Chain [1] done processing\n",
      "08:22:02 - cmdstanpy - INFO - Chain [1] start processing\n"
     ]
    },
    {
     "name": "stdout",
     "output_type": "stream",
     "text": [
      "예측 결과에 없는 테스트 날짜:\n",
      " Series([], Name: ds, dtype: datetime64[ns])\n"
     ]
    },
    {
     "name": "stderr",
     "output_type": "stream",
     "text": [
      "08:22:02 - cmdstanpy - INFO - Chain [1] done processing\n",
      "08:22:02 - cmdstanpy - INFO - Chain [1] start processing\n"
     ]
    },
    {
     "name": "stdout",
     "output_type": "stream",
     "text": [
      "예측 결과에 없는 테스트 날짜:\n",
      " Series([], Name: ds, dtype: datetime64[ns])\n"
     ]
    },
    {
     "name": "stderr",
     "output_type": "stream",
     "text": [
      "08:22:02 - cmdstanpy - INFO - Chain [1] done processing\n",
      "08:22:03 - cmdstanpy - INFO - Chain [1] start processing\n"
     ]
    },
    {
     "name": "stdout",
     "output_type": "stream",
     "text": [
      "예측 결과에 없는 테스트 날짜:\n",
      " Series([], Name: ds, dtype: datetime64[ns])\n"
     ]
    },
    {
     "name": "stderr",
     "output_type": "stream",
     "text": [
      "08:22:03 - cmdstanpy - INFO - Chain [1] done processing\n",
      "08:22:03 - cmdstanpy - INFO - Chain [1] start processing\n"
     ]
    },
    {
     "name": "stdout",
     "output_type": "stream",
     "text": [
      "예측 결과에 없는 테스트 날짜:\n",
      " Series([], Name: ds, dtype: datetime64[ns])\n"
     ]
    },
    {
     "name": "stderr",
     "output_type": "stream",
     "text": [
      "08:22:04 - cmdstanpy - INFO - Chain [1] done processing\n",
      "08:22:04 - cmdstanpy - INFO - Chain [1] start processing\n"
     ]
    },
    {
     "name": "stdout",
     "output_type": "stream",
     "text": [
      "예측 결과에 없는 테스트 날짜:\n",
      " Series([], Name: ds, dtype: datetime64[ns])\n"
     ]
    },
    {
     "name": "stderr",
     "output_type": "stream",
     "text": [
      "08:22:05 - cmdstanpy - INFO - Chain [1] done processing\n",
      "08:22:05 - cmdstanpy - INFO - Chain [1] start processing\n"
     ]
    },
    {
     "name": "stdout",
     "output_type": "stream",
     "text": [
      "예측 결과에 없는 테스트 날짜:\n",
      " Series([], Name: ds, dtype: datetime64[ns])\n"
     ]
    },
    {
     "name": "stderr",
     "output_type": "stream",
     "text": [
      "08:22:06 - cmdstanpy - INFO - Chain [1] done processing\n",
      "08:22:06 - cmdstanpy - INFO - Chain [1] start processing\n"
     ]
    },
    {
     "name": "stdout",
     "output_type": "stream",
     "text": [
      "예측 결과에 없는 테스트 날짜:\n",
      " Series([], Name: ds, dtype: datetime64[ns])\n"
     ]
    },
    {
     "name": "stderr",
     "output_type": "stream",
     "text": [
      "08:22:07 - cmdstanpy - INFO - Chain [1] done processing\n",
      "08:22:07 - cmdstanpy - INFO - Chain [1] start processing\n"
     ]
    },
    {
     "name": "stdout",
     "output_type": "stream",
     "text": [
      "예측 결과에 없는 테스트 날짜:\n",
      " Series([], Name: ds, dtype: datetime64[ns])\n"
     ]
    },
    {
     "name": "stderr",
     "output_type": "stream",
     "text": [
      "08:22:07 - cmdstanpy - INFO - Chain [1] done processing\n",
      "08:22:08 - cmdstanpy - INFO - Chain [1] start processing\n"
     ]
    },
    {
     "name": "stdout",
     "output_type": "stream",
     "text": [
      "예측 결과에 없는 테스트 날짜:\n",
      " Series([], Name: ds, dtype: datetime64[ns])\n"
     ]
    },
    {
     "name": "stderr",
     "output_type": "stream",
     "text": [
      "08:22:08 - cmdstanpy - INFO - Chain [1] done processing\n",
      "08:22:08 - cmdstanpy - INFO - Chain [1] start processing\n"
     ]
    },
    {
     "name": "stdout",
     "output_type": "stream",
     "text": [
      "예측 결과에 없는 테스트 날짜:\n",
      " Series([], Name: ds, dtype: datetime64[ns])\n"
     ]
    },
    {
     "name": "stderr",
     "output_type": "stream",
     "text": [
      "08:22:09 - cmdstanpy - INFO - Chain [1] done processing\n",
      "08:22:09 - cmdstanpy - INFO - Chain [1] start processing\n"
     ]
    },
    {
     "name": "stdout",
     "output_type": "stream",
     "text": [
      "예측 결과에 없는 테스트 날짜:\n",
      " Series([], Name: ds, dtype: datetime64[ns])\n"
     ]
    },
    {
     "name": "stderr",
     "output_type": "stream",
     "text": [
      "08:22:10 - cmdstanpy - INFO - Chain [1] done processing\n",
      "08:22:10 - cmdstanpy - INFO - Chain [1] start processing\n"
     ]
    },
    {
     "name": "stdout",
     "output_type": "stream",
     "text": [
      "예측 결과에 없는 테스트 날짜:\n",
      " Series([], Name: ds, dtype: datetime64[ns])\n"
     ]
    },
    {
     "name": "stderr",
     "output_type": "stream",
     "text": [
      "08:22:10 - cmdstanpy - INFO - Chain [1] done processing\n",
      "08:22:11 - cmdstanpy - INFO - Chain [1] start processing\n"
     ]
    },
    {
     "name": "stdout",
     "output_type": "stream",
     "text": [
      "예측 결과에 없는 테스트 날짜:\n",
      " Series([], Name: ds, dtype: datetime64[ns])\n"
     ]
    },
    {
     "name": "stderr",
     "output_type": "stream",
     "text": [
      "08:22:11 - cmdstanpy - INFO - Chain [1] done processing\n",
      "08:22:11 - cmdstanpy - INFO - Chain [1] start processing\n"
     ]
    },
    {
     "name": "stdout",
     "output_type": "stream",
     "text": [
      "예측 결과에 없는 테스트 날짜:\n",
      " Series([], Name: ds, dtype: datetime64[ns])\n"
     ]
    },
    {
     "name": "stderr",
     "output_type": "stream",
     "text": [
      "08:22:12 - cmdstanpy - INFO - Chain [1] done processing\n",
      "08:22:12 - cmdstanpy - INFO - Chain [1] start processing\n"
     ]
    },
    {
     "name": "stdout",
     "output_type": "stream",
     "text": [
      "예측 결과에 없는 테스트 날짜:\n",
      " Series([], Name: ds, dtype: datetime64[ns])\n"
     ]
    },
    {
     "name": "stderr",
     "output_type": "stream",
     "text": [
      "08:22:12 - cmdstanpy - INFO - Chain [1] done processing\n",
      "08:22:12 - cmdstanpy - INFO - Chain [1] start processing\n"
     ]
    },
    {
     "name": "stdout",
     "output_type": "stream",
     "text": [
      "예측 결과에 없는 테스트 날짜:\n",
      " Series([], Name: ds, dtype: datetime64[ns])\n"
     ]
    },
    {
     "name": "stderr",
     "output_type": "stream",
     "text": [
      "08:22:13 - cmdstanpy - INFO - Chain [1] done processing\n",
      "08:22:13 - cmdstanpy - INFO - Chain [1] start processing\n"
     ]
    },
    {
     "name": "stdout",
     "output_type": "stream",
     "text": [
      "예측 결과에 없는 테스트 날짜:\n",
      " Series([], Name: ds, dtype: datetime64[ns])\n"
     ]
    },
    {
     "name": "stderr",
     "output_type": "stream",
     "text": [
      "08:22:13 - cmdstanpy - INFO - Chain [1] done processing\n",
      "08:22:13 - cmdstanpy - INFO - Chain [1] start processing\n"
     ]
    },
    {
     "name": "stdout",
     "output_type": "stream",
     "text": [
      "예측 결과에 없는 테스트 날짜:\n",
      " Series([], Name: ds, dtype: datetime64[ns])\n"
     ]
    },
    {
     "name": "stderr",
     "output_type": "stream",
     "text": [
      "08:22:14 - cmdstanpy - INFO - Chain [1] done processing\n",
      "08:22:14 - cmdstanpy - INFO - Chain [1] start processing\n",
      "08:22:14 - cmdstanpy - INFO - Chain [1] done processing\n"
     ]
    },
    {
     "name": "stdout",
     "output_type": "stream",
     "text": [
      "예측 결과에 없는 테스트 날짜:\n",
      " Series([], Name: ds, dtype: datetime64[ns])\n"
     ]
    },
    {
     "name": "stderr",
     "output_type": "stream",
     "text": [
      "08:22:14 - cmdstanpy - INFO - Chain [1] start processing\n"
     ]
    },
    {
     "name": "stdout",
     "output_type": "stream",
     "text": [
      "예측 결과에 없는 테스트 날짜:\n",
      " Series([], Name: ds, dtype: datetime64[ns])\n"
     ]
    },
    {
     "name": "stderr",
     "output_type": "stream",
     "text": [
      "08:22:15 - cmdstanpy - INFO - Chain [1] done processing\n",
      "08:22:15 - cmdstanpy - INFO - Chain [1] start processing\n"
     ]
    },
    {
     "name": "stdout",
     "output_type": "stream",
     "text": [
      "예측 결과에 없는 테스트 날짜:\n",
      " Series([], Name: ds, dtype: datetime64[ns])\n"
     ]
    },
    {
     "name": "stderr",
     "output_type": "stream",
     "text": [
      "08:22:16 - cmdstanpy - INFO - Chain [1] done processing\n",
      "08:22:16 - cmdstanpy - INFO - Chain [1] start processing\n"
     ]
    },
    {
     "name": "stdout",
     "output_type": "stream",
     "text": [
      "예측 결과에 없는 테스트 날짜:\n",
      " Series([], Name: ds, dtype: datetime64[ns])\n"
     ]
    },
    {
     "name": "stderr",
     "output_type": "stream",
     "text": [
      "08:22:17 - cmdstanpy - INFO - Chain [1] done processing\n",
      "08:22:17 - cmdstanpy - INFO - Chain [1] start processing\n"
     ]
    },
    {
     "name": "stdout",
     "output_type": "stream",
     "text": [
      "예측 결과에 없는 테스트 날짜:\n",
      " Series([], Name: ds, dtype: datetime64[ns])\n"
     ]
    },
    {
     "name": "stderr",
     "output_type": "stream",
     "text": [
      "08:22:18 - cmdstanpy - INFO - Chain [1] done processing\n",
      "08:22:18 - cmdstanpy - INFO - Chain [1] start processing\n"
     ]
    },
    {
     "name": "stdout",
     "output_type": "stream",
     "text": [
      "예측 결과에 없는 테스트 날짜:\n",
      " Series([], Name: ds, dtype: datetime64[ns])\n"
     ]
    },
    {
     "name": "stderr",
     "output_type": "stream",
     "text": [
      "08:22:18 - cmdstanpy - INFO - Chain [1] done processing\n",
      "08:22:19 - cmdstanpy - INFO - Chain [1] start processing\n"
     ]
    },
    {
     "name": "stdout",
     "output_type": "stream",
     "text": [
      "예측 결과에 없는 테스트 날짜:\n",
      " Series([], Name: ds, dtype: datetime64[ns])\n"
     ]
    },
    {
     "name": "stderr",
     "output_type": "stream",
     "text": [
      "08:22:19 - cmdstanpy - INFO - Chain [1] done processing\n",
      "08:22:19 - cmdstanpy - INFO - Chain [1] start processing\n"
     ]
    },
    {
     "name": "stdout",
     "output_type": "stream",
     "text": [
      "예측 결과에 없는 테스트 날짜:\n",
      " Series([], Name: ds, dtype: datetime64[ns])\n"
     ]
    },
    {
     "name": "stderr",
     "output_type": "stream",
     "text": [
      "08:22:20 - cmdstanpy - INFO - Chain [1] done processing\n",
      "08:22:20 - cmdstanpy - INFO - Chain [1] start processing\n",
      "08:22:20 - cmdstanpy - INFO - Chain [1] done processing\n"
     ]
    },
    {
     "name": "stdout",
     "output_type": "stream",
     "text": [
      "예측 결과에 없는 테스트 날짜:\n",
      " Series([], Name: ds, dtype: datetime64[ns])\n"
     ]
    },
    {
     "name": "stderr",
     "output_type": "stream",
     "text": [
      "08:22:20 - cmdstanpy - INFO - Chain [1] start processing\n"
     ]
    },
    {
     "name": "stdout",
     "output_type": "stream",
     "text": [
      "예측 결과에 없는 테스트 날짜:\n",
      " Series([], Name: ds, dtype: datetime64[ns])\n"
     ]
    },
    {
     "name": "stderr",
     "output_type": "stream",
     "text": [
      "08:22:22 - cmdstanpy - INFO - Chain [1] done processing\n",
      "08:22:22 - cmdstanpy - INFO - Chain [1] start processing\n"
     ]
    },
    {
     "name": "stdout",
     "output_type": "stream",
     "text": [
      "예측 결과에 없는 테스트 날짜:\n",
      " Series([], Name: ds, dtype: datetime64[ns])\n"
     ]
    },
    {
     "name": "stderr",
     "output_type": "stream",
     "text": [
      "08:22:23 - cmdstanpy - INFO - Chain [1] done processing\n",
      "08:22:24 - cmdstanpy - INFO - Chain [1] start processing\n"
     ]
    },
    {
     "name": "stdout",
     "output_type": "stream",
     "text": [
      "예측 결과에 없는 테스트 날짜:\n",
      " Series([], Name: ds, dtype: datetime64[ns])\n"
     ]
    },
    {
     "name": "stderr",
     "output_type": "stream",
     "text": [
      "08:22:25 - cmdstanpy - INFO - Chain [1] done processing\n",
      "08:22:25 - cmdstanpy - INFO - Chain [1] start processing\n"
     ]
    },
    {
     "name": "stdout",
     "output_type": "stream",
     "text": [
      "예측 결과에 없는 테스트 날짜:\n",
      " Series([], Name: ds, dtype: datetime64[ns])\n"
     ]
    },
    {
     "name": "stderr",
     "output_type": "stream",
     "text": [
      "08:22:26 - cmdstanpy - INFO - Chain [1] done processing\n",
      "08:22:26 - cmdstanpy - INFO - Chain [1] start processing\n"
     ]
    },
    {
     "name": "stdout",
     "output_type": "stream",
     "text": [
      "예측 결과에 없는 테스트 날짜:\n",
      " Series([], Name: ds, dtype: datetime64[ns])\n"
     ]
    },
    {
     "name": "stderr",
     "output_type": "stream",
     "text": [
      "08:22:27 - cmdstanpy - INFO - Chain [1] done processing\n",
      "08:22:28 - cmdstanpy - INFO - Chain [1] start processing\n"
     ]
    },
    {
     "name": "stdout",
     "output_type": "stream",
     "text": [
      "예측 결과에 없는 테스트 날짜:\n",
      " Series([], Name: ds, dtype: datetime64[ns])\n"
     ]
    },
    {
     "name": "stderr",
     "output_type": "stream",
     "text": [
      "08:22:28 - cmdstanpy - INFO - Chain [1] done processing\n",
      "08:22:28 - cmdstanpy - INFO - Chain [1] start processing\n"
     ]
    },
    {
     "name": "stdout",
     "output_type": "stream",
     "text": [
      "예측 결과에 없는 테스트 날짜:\n",
      " Series([], Name: ds, dtype: datetime64[ns])\n"
     ]
    },
    {
     "name": "stderr",
     "output_type": "stream",
     "text": [
      "08:22:29 - cmdstanpy - INFO - Chain [1] done processing\n",
      "08:22:29 - cmdstanpy - INFO - Chain [1] start processing\n"
     ]
    },
    {
     "name": "stdout",
     "output_type": "stream",
     "text": [
      "예측 결과에 없는 테스트 날짜:\n",
      " Series([], Name: ds, dtype: datetime64[ns])\n"
     ]
    },
    {
     "name": "stderr",
     "output_type": "stream",
     "text": [
      "08:22:30 - cmdstanpy - INFO - Chain [1] done processing\n",
      "08:22:30 - cmdstanpy - INFO - Chain [1] start processing\n"
     ]
    },
    {
     "name": "stdout",
     "output_type": "stream",
     "text": [
      "예측 결과에 없는 테스트 날짜:\n",
      " Series([], Name: ds, dtype: datetime64[ns])\n"
     ]
    },
    {
     "name": "stderr",
     "output_type": "stream",
     "text": [
      "08:22:30 - cmdstanpy - INFO - Chain [1] done processing\n",
      "08:22:31 - cmdstanpy - INFO - Chain [1] start processing\n"
     ]
    },
    {
     "name": "stdout",
     "output_type": "stream",
     "text": [
      "예측 결과에 없는 테스트 날짜:\n",
      " Series([], Name: ds, dtype: datetime64[ns])\n"
     ]
    },
    {
     "name": "stderr",
     "output_type": "stream",
     "text": [
      "08:22:31 - cmdstanpy - INFO - Chain [1] done processing\n",
      "08:22:31 - cmdstanpy - INFO - Chain [1] start processing\n"
     ]
    },
    {
     "name": "stdout",
     "output_type": "stream",
     "text": [
      "예측 결과에 없는 테스트 날짜:\n",
      " Series([], Name: ds, dtype: datetime64[ns])\n"
     ]
    },
    {
     "name": "stderr",
     "output_type": "stream",
     "text": [
      "08:22:32 - cmdstanpy - INFO - Chain [1] done processing\n",
      "08:22:32 - cmdstanpy - INFO - Chain [1] start processing\n"
     ]
    },
    {
     "name": "stdout",
     "output_type": "stream",
     "text": [
      "예측 결과에 없는 테스트 날짜:\n",
      " Series([], Name: ds, dtype: datetime64[ns])\n"
     ]
    },
    {
     "name": "stderr",
     "output_type": "stream",
     "text": [
      "08:22:32 - cmdstanpy - INFO - Chain [1] done processing\n",
      "08:22:33 - cmdstanpy - INFO - Chain [1] start processing\n"
     ]
    },
    {
     "name": "stdout",
     "output_type": "stream",
     "text": [
      "예측 결과에 없는 테스트 날짜:\n",
      " Series([], Name: ds, dtype: datetime64[ns])\n"
     ]
    },
    {
     "name": "stderr",
     "output_type": "stream",
     "text": [
      "08:22:33 - cmdstanpy - INFO - Chain [1] done processing\n",
      "08:22:33 - cmdstanpy - INFO - Chain [1] start processing\n"
     ]
    },
    {
     "name": "stdout",
     "output_type": "stream",
     "text": [
      "예측 결과에 없는 테스트 날짜:\n",
      " Series([], Name: ds, dtype: datetime64[ns])\n"
     ]
    },
    {
     "name": "stderr",
     "output_type": "stream",
     "text": [
      "08:22:33 - cmdstanpy - INFO - Chain [1] done processing\n",
      "08:22:33 - cmdstanpy - INFO - Chain [1] start processing\n"
     ]
    },
    {
     "name": "stdout",
     "output_type": "stream",
     "text": [
      "예측 결과에 없는 테스트 날짜:\n",
      " Series([], Name: ds, dtype: datetime64[ns])\n"
     ]
    },
    {
     "name": "stderr",
     "output_type": "stream",
     "text": [
      "08:22:34 - cmdstanpy - INFO - Chain [1] done processing\n",
      "08:22:34 - cmdstanpy - INFO - Chain [1] start processing\n",
      "08:22:34 - cmdstanpy - INFO - Chain [1] done processing\n"
     ]
    },
    {
     "name": "stdout",
     "output_type": "stream",
     "text": [
      "예측 결과에 없는 테스트 날짜:\n",
      " Series([], Name: ds, dtype: datetime64[ns])\n"
     ]
    },
    {
     "name": "stderr",
     "output_type": "stream",
     "text": [
      "08:22:34 - cmdstanpy - INFO - Chain [1] start processing\n"
     ]
    },
    {
     "name": "stdout",
     "output_type": "stream",
     "text": [
      "예측 결과에 없는 테스트 날짜:\n",
      " Series([], Name: ds, dtype: datetime64[ns])\n"
     ]
    },
    {
     "name": "stderr",
     "output_type": "stream",
     "text": [
      "08:22:35 - cmdstanpy - INFO - Chain [1] done processing\n"
     ]
    },
    {
     "name": "stdout",
     "output_type": "stream",
     "text": [
      "예측 결과에 없는 테스트 날짜:\n",
      " Series([], Name: ds, dtype: datetime64[ns])\n"
     ]
    },
    {
     "name": "stderr",
     "output_type": "stream",
     "text": [
      "08:22:36 - cmdstanpy - INFO - Chain [1] start processing\n",
      "08:22:36 - cmdstanpy - INFO - Chain [1] done processing\n",
      "08:22:37 - cmdstanpy - INFO - Chain [1] start processing\n"
     ]
    },
    {
     "name": "stdout",
     "output_type": "stream",
     "text": [
      "예측 결과에 없는 테스트 날짜:\n",
      " Series([], Name: ds, dtype: datetime64[ns])\n"
     ]
    },
    {
     "name": "stderr",
     "output_type": "stream",
     "text": [
      "08:22:37 - cmdstanpy - INFO - Chain [1] done processing\n",
      "08:22:37 - cmdstanpy - INFO - Chain [1] start processing\n"
     ]
    },
    {
     "name": "stdout",
     "output_type": "stream",
     "text": [
      "예측 결과에 없는 테스트 날짜:\n",
      " Series([], Name: ds, dtype: datetime64[ns])\n"
     ]
    },
    {
     "name": "stderr",
     "output_type": "stream",
     "text": [
      "08:22:38 - cmdstanpy - INFO - Chain [1] done processing\n",
      "08:22:38 - cmdstanpy - INFO - Chain [1] start processing\n"
     ]
    },
    {
     "name": "stdout",
     "output_type": "stream",
     "text": [
      "예측 결과에 없는 테스트 날짜:\n",
      " Series([], Name: ds, dtype: datetime64[ns])\n"
     ]
    },
    {
     "name": "stderr",
     "output_type": "stream",
     "text": [
      "08:22:39 - cmdstanpy - INFO - Chain [1] done processing\n",
      "08:22:39 - cmdstanpy - INFO - Chain [1] start processing\n"
     ]
    },
    {
     "name": "stdout",
     "output_type": "stream",
     "text": [
      "예측 결과에 없는 테스트 날짜:\n",
      " Series([], Name: ds, dtype: datetime64[ns])\n"
     ]
    },
    {
     "name": "stderr",
     "output_type": "stream",
     "text": [
      "08:22:39 - cmdstanpy - INFO - Chain [1] done processing\n",
      "08:22:40 - cmdstanpy - INFO - Chain [1] start processing\n"
     ]
    },
    {
     "name": "stdout",
     "output_type": "stream",
     "text": [
      "예측 결과에 없는 테스트 날짜:\n",
      " Series([], Name: ds, dtype: datetime64[ns])\n"
     ]
    },
    {
     "name": "stderr",
     "output_type": "stream",
     "text": [
      "08:22:40 - cmdstanpy - INFO - Chain [1] done processing\n",
      "08:22:40 - cmdstanpy - INFO - Chain [1] start processing\n"
     ]
    },
    {
     "name": "stdout",
     "output_type": "stream",
     "text": [
      "예측 결과에 없는 테스트 날짜:\n",
      " Series([], Name: ds, dtype: datetime64[ns])\n"
     ]
    },
    {
     "name": "stderr",
     "output_type": "stream",
     "text": [
      "08:22:40 - cmdstanpy - INFO - Chain [1] done processing\n"
     ]
    },
    {
     "name": "stdout",
     "output_type": "stream",
     "text": [
      "예측 결과에 없는 테스트 날짜:\n",
      " Series([], Name: ds, dtype: datetime64[ns])\n"
     ]
    },
    {
     "name": "stderr",
     "output_type": "stream",
     "text": [
      "08:22:41 - cmdstanpy - INFO - Chain [1] start processing\n",
      "08:22:42 - cmdstanpy - INFO - Chain [1] done processing\n",
      "08:22:42 - cmdstanpy - INFO - Chain [1] start processing\n"
     ]
    },
    {
     "name": "stdout",
     "output_type": "stream",
     "text": [
      "예측 결과에 없는 테스트 날짜:\n",
      " Series([], Name: ds, dtype: datetime64[ns])\n"
     ]
    },
    {
     "name": "stderr",
     "output_type": "stream",
     "text": [
      "08:22:43 - cmdstanpy - INFO - Chain [1] done processing\n",
      "08:22:43 - cmdstanpy - INFO - Chain [1] start processing\n"
     ]
    },
    {
     "name": "stdout",
     "output_type": "stream",
     "text": [
      "예측 결과에 없는 테스트 날짜:\n",
      " Series([], Name: ds, dtype: datetime64[ns])\n"
     ]
    },
    {
     "name": "stderr",
     "output_type": "stream",
     "text": [
      "08:22:45 - cmdstanpy - INFO - Chain [1] done processing\n",
      "08:22:45 - cmdstanpy - INFO - Chain [1] start processing\n"
     ]
    },
    {
     "name": "stdout",
     "output_type": "stream",
     "text": [
      "예측 결과에 없는 테스트 날짜:\n",
      " Series([], Name: ds, dtype: datetime64[ns])\n"
     ]
    },
    {
     "name": "stderr",
     "output_type": "stream",
     "text": [
      "08:22:46 - cmdstanpy - INFO - Chain [1] done processing\n",
      "08:22:46 - cmdstanpy - INFO - Chain [1] start processing\n"
     ]
    },
    {
     "name": "stdout",
     "output_type": "stream",
     "text": [
      "예측 결과에 없는 테스트 날짜:\n",
      " Series([], Name: ds, dtype: datetime64[ns])\n"
     ]
    },
    {
     "name": "stderr",
     "output_type": "stream",
     "text": [
      "08:22:46 - cmdstanpy - INFO - Chain [1] done processing\n",
      "08:22:47 - cmdstanpy - INFO - Chain [1] start processing\n"
     ]
    },
    {
     "name": "stdout",
     "output_type": "stream",
     "text": [
      "예측 결과에 없는 테스트 날짜:\n",
      " Series([], Name: ds, dtype: datetime64[ns])\n"
     ]
    },
    {
     "name": "stderr",
     "output_type": "stream",
     "text": [
      "08:22:47 - cmdstanpy - INFO - Chain [1] done processing\n",
      "08:22:48 - cmdstanpy - INFO - Chain [1] start processing\n"
     ]
    },
    {
     "name": "stdout",
     "output_type": "stream",
     "text": [
      "예측 결과에 없는 테스트 날짜:\n",
      " Series([], Name: ds, dtype: datetime64[ns])\n"
     ]
    },
    {
     "name": "stderr",
     "output_type": "stream",
     "text": [
      "08:22:48 - cmdstanpy - INFO - Chain [1] done processing\n",
      "08:22:48 - cmdstanpy - INFO - Chain [1] start processing\n"
     ]
    },
    {
     "name": "stdout",
     "output_type": "stream",
     "text": [
      "예측 결과에 없는 테스트 날짜:\n",
      " Series([], Name: ds, dtype: datetime64[ns])\n"
     ]
    },
    {
     "name": "stderr",
     "output_type": "stream",
     "text": [
      "08:22:49 - cmdstanpy - INFO - Chain [1] done processing\n",
      "08:22:49 - cmdstanpy - INFO - Chain [1] start processing\n"
     ]
    },
    {
     "name": "stdout",
     "output_type": "stream",
     "text": [
      "예측 결과에 없는 테스트 날짜:\n",
      " Series([], Name: ds, dtype: datetime64[ns])\n"
     ]
    },
    {
     "name": "stderr",
     "output_type": "stream",
     "text": [
      "08:22:49 - cmdstanpy - INFO - Chain [1] done processing\n",
      "08:22:50 - cmdstanpy - INFO - Chain [1] start processing\n"
     ]
    },
    {
     "name": "stdout",
     "output_type": "stream",
     "text": [
      "예측 결과에 없는 테스트 날짜:\n",
      " Series([], Name: ds, dtype: datetime64[ns])\n"
     ]
    },
    {
     "name": "stderr",
     "output_type": "stream",
     "text": [
      "08:22:50 - cmdstanpy - INFO - Chain [1] done processing\n",
      "08:22:50 - cmdstanpy - ERROR - Chain [1] error: error during processing Operation not permitted\n",
      "Optimization terminated abnormally. Falling back to Newton.\n",
      "08:22:50 - cmdstanpy - INFO - Chain [1] start processing\n",
      "08:22:50 - cmdstanpy - INFO - Chain [1] done processing\n",
      "08:22:51 - cmdstanpy - INFO - Chain [1] start processing\n"
     ]
    },
    {
     "name": "stdout",
     "output_type": "stream",
     "text": [
      "예측 결과에 없는 테스트 날짜:\n",
      " Series([], Name: ds, dtype: datetime64[ns])\n"
     ]
    },
    {
     "name": "stderr",
     "output_type": "stream",
     "text": [
      "08:22:51 - cmdstanpy - INFO - Chain [1] done processing\n",
      "08:22:51 - cmdstanpy - ERROR - Chain [1] error: error during processing Operation not permitted\n",
      "Optimization terminated abnormally. Falling back to Newton.\n",
      "08:22:51 - cmdstanpy - INFO - Chain [1] start processing\n",
      "08:22:51 - cmdstanpy - INFO - Chain [1] done processing\n",
      "08:22:52 - cmdstanpy - INFO - Chain [1] start processing\n"
     ]
    },
    {
     "name": "stdout",
     "output_type": "stream",
     "text": [
      "예측 결과에 없는 테스트 날짜:\n",
      " Series([], Name: ds, dtype: datetime64[ns])\n"
     ]
    },
    {
     "name": "stderr",
     "output_type": "stream",
     "text": [
      "08:22:52 - cmdstanpy - INFO - Chain [1] done processing\n",
      "08:22:52 - cmdstanpy - ERROR - Chain [1] error: error during processing Operation not permitted\n",
      "Optimization terminated abnormally. Falling back to Newton.\n",
      "08:22:52 - cmdstanpy - INFO - Chain [1] start processing\n",
      "08:22:52 - cmdstanpy - INFO - Chain [1] done processing\n",
      "08:22:52 - cmdstanpy - INFO - Chain [1] start processing\n"
     ]
    },
    {
     "name": "stdout",
     "output_type": "stream",
     "text": [
      "예측 결과에 없는 테스트 날짜:\n",
      " Series([], Name: ds, dtype: datetime64[ns])\n"
     ]
    },
    {
     "name": "stderr",
     "output_type": "stream",
     "text": [
      "08:22:52 - cmdstanpy - INFO - Chain [1] done processing\n",
      "08:22:53 - cmdstanpy - INFO - Chain [1] start processing\n",
      "08:22:53 - cmdstanpy - INFO - Chain [1] done processing\n"
     ]
    },
    {
     "name": "stdout",
     "output_type": "stream",
     "text": [
      "예측 결과에 없는 테스트 날짜:\n",
      " Series([], Name: ds, dtype: datetime64[ns])\n"
     ]
    },
    {
     "name": "stderr",
     "output_type": "stream",
     "text": [
      "08:22:53 - cmdstanpy - INFO - Chain [1] start processing\n",
      "08:22:53 - cmdstanpy - INFO - Chain [1] done processing\n"
     ]
    },
    {
     "name": "stdout",
     "output_type": "stream",
     "text": [
      "예측 결과에 없는 테스트 날짜:\n",
      " Series([], Name: ds, dtype: datetime64[ns])\n"
     ]
    },
    {
     "name": "stderr",
     "output_type": "stream",
     "text": [
      "08:22:53 - cmdstanpy - INFO - Chain [1] start processing\n",
      "08:22:54 - cmdstanpy - INFO - Chain [1] done processing\n"
     ]
    },
    {
     "name": "stdout",
     "output_type": "stream",
     "text": [
      "예측 결과에 없는 테스트 날짜:\n",
      " Series([], Name: ds, dtype: datetime64[ns])\n"
     ]
    },
    {
     "name": "stderr",
     "output_type": "stream",
     "text": [
      "08:22:54 - cmdstanpy - INFO - Chain [1] start processing\n"
     ]
    },
    {
     "name": "stdout",
     "output_type": "stream",
     "text": [
      "예측 결과에 없는 테스트 날짜:\n",
      " Series([], Name: ds, dtype: datetime64[ns])\n"
     ]
    },
    {
     "name": "stderr",
     "output_type": "stream",
     "text": [
      "08:22:54 - cmdstanpy - INFO - Chain [1] done processing\n",
      "08:22:55 - cmdstanpy - INFO - Chain [1] start processing\n"
     ]
    },
    {
     "name": "stdout",
     "output_type": "stream",
     "text": [
      "예측 결과에 없는 테스트 날짜:\n",
      " Series([], Name: ds, dtype: datetime64[ns])\n"
     ]
    },
    {
     "name": "stderr",
     "output_type": "stream",
     "text": [
      "08:22:55 - cmdstanpy - INFO - Chain [1] done processing\n",
      "08:22:55 - cmdstanpy - INFO - Chain [1] start processing\n"
     ]
    },
    {
     "name": "stdout",
     "output_type": "stream",
     "text": [
      "예측 결과에 없는 테스트 날짜:\n",
      " Series([], Name: ds, dtype: datetime64[ns])\n"
     ]
    },
    {
     "name": "stderr",
     "output_type": "stream",
     "text": [
      "08:22:56 - cmdstanpy - INFO - Chain [1] done processing\n",
      "08:22:56 - cmdstanpy - INFO - Chain [1] start processing\n"
     ]
    },
    {
     "name": "stdout",
     "output_type": "stream",
     "text": [
      "예측 결과에 없는 테스트 날짜:\n",
      " Series([], Name: ds, dtype: datetime64[ns])\n"
     ]
    },
    {
     "name": "stderr",
     "output_type": "stream",
     "text": [
      "08:22:56 - cmdstanpy - INFO - Chain [1] done processing\n",
      "08:22:56 - cmdstanpy - INFO - Chain [1] start processing\n"
     ]
    },
    {
     "name": "stdout",
     "output_type": "stream",
     "text": [
      "예측 결과에 없는 테스트 날짜:\n",
      " Series([], Name: ds, dtype: datetime64[ns])\n"
     ]
    },
    {
     "name": "stderr",
     "output_type": "stream",
     "text": [
      "08:22:57 - cmdstanpy - INFO - Chain [1] done processing\n",
      "08:22:57 - cmdstanpy - INFO - Chain [1] start processing\n"
     ]
    },
    {
     "name": "stdout",
     "output_type": "stream",
     "text": [
      "예측 결과에 없는 테스트 날짜:\n",
      " Series([], Name: ds, dtype: datetime64[ns])\n"
     ]
    },
    {
     "name": "stderr",
     "output_type": "stream",
     "text": [
      "08:22:57 - cmdstanpy - INFO - Chain [1] done processing\n",
      "08:22:57 - cmdstanpy - INFO - Chain [1] start processing\n"
     ]
    },
    {
     "name": "stdout",
     "output_type": "stream",
     "text": [
      "예측 결과에 없는 테스트 날짜:\n",
      " Series([], Name: ds, dtype: datetime64[ns])\n"
     ]
    },
    {
     "name": "stderr",
     "output_type": "stream",
     "text": [
      "08:22:58 - cmdstanpy - INFO - Chain [1] done processing\n",
      "08:22:58 - cmdstanpy - INFO - Chain [1] start processing\n"
     ]
    },
    {
     "name": "stdout",
     "output_type": "stream",
     "text": [
      "예측 결과에 없는 테스트 날짜:\n",
      " Series([], Name: ds, dtype: datetime64[ns])\n"
     ]
    },
    {
     "name": "stderr",
     "output_type": "stream",
     "text": [
      "08:22:58 - cmdstanpy - INFO - Chain [1] done processing\n",
      "08:22:58 - cmdstanpy - INFO - Chain [1] start processing\n"
     ]
    },
    {
     "name": "stdout",
     "output_type": "stream",
     "text": [
      "예측 결과에 없는 테스트 날짜:\n",
      " Series([], Name: ds, dtype: datetime64[ns])\n"
     ]
    },
    {
     "name": "stderr",
     "output_type": "stream",
     "text": [
      "08:22:59 - cmdstanpy - INFO - Chain [1] done processing\n",
      "08:22:59 - cmdstanpy - INFO - Chain [1] start processing\n"
     ]
    },
    {
     "name": "stdout",
     "output_type": "stream",
     "text": [
      "예측 결과에 없는 테스트 날짜:\n",
      " Series([], Name: ds, dtype: datetime64[ns])\n"
     ]
    },
    {
     "name": "stderr",
     "output_type": "stream",
     "text": [
      "08:23:00 - cmdstanpy - INFO - Chain [1] done processing\n",
      "08:23:00 - cmdstanpy - INFO - Chain [1] start processing\n"
     ]
    },
    {
     "name": "stdout",
     "output_type": "stream",
     "text": [
      "예측 결과에 없는 테스트 날짜:\n",
      " Series([], Name: ds, dtype: datetime64[ns])\n"
     ]
    },
    {
     "name": "stderr",
     "output_type": "stream",
     "text": [
      "08:23:01 - cmdstanpy - INFO - Chain [1] done processing\n",
      "08:23:01 - cmdstanpy - INFO - Chain [1] start processing\n"
     ]
    },
    {
     "name": "stdout",
     "output_type": "stream",
     "text": [
      "예측 결과에 없는 테스트 날짜:\n",
      " Series([], Name: ds, dtype: datetime64[ns])\n"
     ]
    },
    {
     "name": "stderr",
     "output_type": "stream",
     "text": [
      "08:23:02 - cmdstanpy - INFO - Chain [1] done processing\n",
      "08:23:02 - cmdstanpy - INFO - Chain [1] start processing\n"
     ]
    },
    {
     "name": "stdout",
     "output_type": "stream",
     "text": [
      "예측 결과에 없는 테스트 날짜:\n",
      " Series([], Name: ds, dtype: datetime64[ns])\n"
     ]
    },
    {
     "name": "stderr",
     "output_type": "stream",
     "text": [
      "08:23:02 - cmdstanpy - INFO - Chain [1] done processing\n",
      "08:23:03 - cmdstanpy - INFO - Chain [1] start processing\n"
     ]
    },
    {
     "name": "stdout",
     "output_type": "stream",
     "text": [
      "예측 결과에 없는 테스트 날짜:\n",
      " Series([], Name: ds, dtype: datetime64[ns])\n"
     ]
    },
    {
     "name": "stderr",
     "output_type": "stream",
     "text": [
      "08:23:03 - cmdstanpy - INFO - Chain [1] done processing\n",
      "08:23:03 - cmdstanpy - INFO - Chain [1] start processing\n"
     ]
    },
    {
     "name": "stdout",
     "output_type": "stream",
     "text": [
      "예측 결과에 없는 테스트 날짜:\n",
      " Series([], Name: ds, dtype: datetime64[ns])\n"
     ]
    },
    {
     "name": "stderr",
     "output_type": "stream",
     "text": [
      "08:23:03 - cmdstanpy - INFO - Chain [1] done processing\n",
      "08:23:04 - cmdstanpy - INFO - Chain [1] start processing\n"
     ]
    },
    {
     "name": "stdout",
     "output_type": "stream",
     "text": [
      "예측 결과에 없는 테스트 날짜:\n",
      " Series([], Name: ds, dtype: datetime64[ns])\n"
     ]
    },
    {
     "name": "stderr",
     "output_type": "stream",
     "text": [
      "08:23:04 - cmdstanpy - INFO - Chain [1] done processing\n",
      "08:23:04 - cmdstanpy - INFO - Chain [1] start processing\n"
     ]
    },
    {
     "name": "stdout",
     "output_type": "stream",
     "text": [
      "예측 결과에 없는 테스트 날짜:\n",
      " Series([], Name: ds, dtype: datetime64[ns])\n"
     ]
    },
    {
     "name": "stderr",
     "output_type": "stream",
     "text": [
      "08:23:04 - cmdstanpy - INFO - Chain [1] done processing\n",
      "08:23:05 - cmdstanpy - INFO - Chain [1] start processing\n"
     ]
    },
    {
     "name": "stdout",
     "output_type": "stream",
     "text": [
      "예측 결과에 없는 테스트 날짜:\n",
      " Series([], Name: ds, dtype: datetime64[ns])\n"
     ]
    },
    {
     "name": "stderr",
     "output_type": "stream",
     "text": [
      "08:23:05 - cmdstanpy - INFO - Chain [1] done processing\n",
      "08:23:05 - cmdstanpy - INFO - Chain [1] start processing\n"
     ]
    },
    {
     "name": "stdout",
     "output_type": "stream",
     "text": [
      "예측 결과에 없는 테스트 날짜:\n",
      " Series([], Name: ds, dtype: datetime64[ns])\n"
     ]
    },
    {
     "name": "stderr",
     "output_type": "stream",
     "text": [
      "08:23:05 - cmdstanpy - INFO - Chain [1] done processing\n",
      "08:23:06 - cmdstanpy - INFO - Chain [1] start processing\n"
     ]
    },
    {
     "name": "stdout",
     "output_type": "stream",
     "text": [
      "예측 결과에 없는 테스트 날짜:\n",
      " Series([], Name: ds, dtype: datetime64[ns])\n"
     ]
    },
    {
     "name": "stderr",
     "output_type": "stream",
     "text": [
      "08:23:06 - cmdstanpy - INFO - Chain [1] done processing\n",
      "08:23:06 - cmdstanpy - INFO - Chain [1] start processing\n",
      "08:23:06 - cmdstanpy - INFO - Chain [1] done processing\n"
     ]
    },
    {
     "name": "stdout",
     "output_type": "stream",
     "text": [
      "예측 결과에 없는 테스트 날짜:\n",
      " Series([], Name: ds, dtype: datetime64[ns])\n"
     ]
    },
    {
     "name": "stderr",
     "output_type": "stream",
     "text": [
      "08:23:06 - cmdstanpy - INFO - Chain [1] start processing\n",
      "08:23:06 - cmdstanpy - INFO - Chain [1] done processing\n"
     ]
    },
    {
     "name": "stdout",
     "output_type": "stream",
     "text": [
      "예측 결과에 없는 테스트 날짜:\n",
      " Series([], Name: ds, dtype: datetime64[ns])\n"
     ]
    },
    {
     "name": "stderr",
     "output_type": "stream",
     "text": [
      "08:23:07 - cmdstanpy - INFO - Chain [1] start processing\n"
     ]
    },
    {
     "name": "stdout",
     "output_type": "stream",
     "text": [
      "예측 결과에 없는 테스트 날짜:\n",
      " Series([], Name: ds, dtype: datetime64[ns])\n"
     ]
    },
    {
     "name": "stderr",
     "output_type": "stream",
     "text": [
      "08:23:07 - cmdstanpy - INFO - Chain [1] done processing\n",
      "08:23:07 - cmdstanpy - INFO - Chain [1] start processing\n",
      "08:23:07 - cmdstanpy - INFO - Chain [1] done processing\n"
     ]
    },
    {
     "name": "stdout",
     "output_type": "stream",
     "text": [
      "예측 결과에 없는 테스트 날짜:\n",
      " Series([], Name: ds, dtype: datetime64[ns])\n"
     ]
    },
    {
     "name": "stderr",
     "output_type": "stream",
     "text": [
      "08:23:08 - cmdstanpy - INFO - Chain [1] start processing\n"
     ]
    },
    {
     "name": "stdout",
     "output_type": "stream",
     "text": [
      "예측 결과에 없는 테스트 날짜:\n",
      " Series([], Name: ds, dtype: datetime64[ns])\n"
     ]
    },
    {
     "name": "stderr",
     "output_type": "stream",
     "text": [
      "08:23:08 - cmdstanpy - INFO - Chain [1] done processing\n",
      "08:23:08 - cmdstanpy - INFO - Chain [1] start processing\n"
     ]
    },
    {
     "name": "stdout",
     "output_type": "stream",
     "text": [
      "예측 결과에 없는 테스트 날짜:\n",
      " Series([], Name: ds, dtype: datetime64[ns])\n"
     ]
    },
    {
     "name": "stderr",
     "output_type": "stream",
     "text": [
      "08:23:09 - cmdstanpy - INFO - Chain [1] done processing\n",
      "08:23:09 - cmdstanpy - INFO - Chain [1] start processing\n"
     ]
    },
    {
     "name": "stdout",
     "output_type": "stream",
     "text": [
      "예측 결과에 없는 테스트 날짜:\n",
      " Series([], Name: ds, dtype: datetime64[ns])\n"
     ]
    },
    {
     "name": "stderr",
     "output_type": "stream",
     "text": [
      "08:23:09 - cmdstanpy - INFO - Chain [1] done processing\n",
      "08:23:10 - cmdstanpy - INFO - Chain [1] start processing\n"
     ]
    },
    {
     "name": "stdout",
     "output_type": "stream",
     "text": [
      "예측 결과에 없는 테스트 날짜:\n",
      " Series([], Name: ds, dtype: datetime64[ns])\n"
     ]
    },
    {
     "name": "stderr",
     "output_type": "stream",
     "text": [
      "08:23:10 - cmdstanpy - INFO - Chain [1] done processing\n",
      "08:23:10 - cmdstanpy - INFO - Chain [1] start processing\n"
     ]
    },
    {
     "name": "stdout",
     "output_type": "stream",
     "text": [
      "예측 결과에 없는 테스트 날짜:\n",
      " Series([], Name: ds, dtype: datetime64[ns])\n"
     ]
    },
    {
     "name": "stderr",
     "output_type": "stream",
     "text": [
      "08:23:11 - cmdstanpy - INFO - Chain [1] done processing\n",
      "08:23:11 - cmdstanpy - INFO - Chain [1] start processing\n"
     ]
    },
    {
     "name": "stdout",
     "output_type": "stream",
     "text": [
      "예측 결과에 없는 테스트 날짜:\n",
      " Series([], Name: ds, dtype: datetime64[ns])\n"
     ]
    },
    {
     "name": "stderr",
     "output_type": "stream",
     "text": [
      "08:23:11 - cmdstanpy - INFO - Chain [1] done processing\n",
      "08:23:11 - cmdstanpy - INFO - Chain [1] start processing\n"
     ]
    },
    {
     "name": "stdout",
     "output_type": "stream",
     "text": [
      "예측 결과에 없는 테스트 날짜:\n",
      " Series([], Name: ds, dtype: datetime64[ns])\n"
     ]
    },
    {
     "name": "stderr",
     "output_type": "stream",
     "text": [
      "08:23:12 - cmdstanpy - INFO - Chain [1] done processing\n",
      "08:23:12 - cmdstanpy - INFO - Chain [1] start processing\n"
     ]
    },
    {
     "name": "stdout",
     "output_type": "stream",
     "text": [
      "예측 결과에 없는 테스트 날짜:\n",
      " Series([], Name: ds, dtype: datetime64[ns])\n"
     ]
    },
    {
     "name": "stderr",
     "output_type": "stream",
     "text": [
      "08:23:12 - cmdstanpy - INFO - Chain [1] done processing\n",
      "08:23:12 - cmdstanpy - INFO - Chain [1] start processing\n"
     ]
    },
    {
     "name": "stdout",
     "output_type": "stream",
     "text": [
      "예측 결과에 없는 테스트 날짜:\n",
      " Series([], Name: ds, dtype: datetime64[ns])\n"
     ]
    },
    {
     "name": "stderr",
     "output_type": "stream",
     "text": [
      "08:23:13 - cmdstanpy - INFO - Chain [1] done processing\n",
      "08:23:13 - cmdstanpy - INFO - Chain [1] start processing\n"
     ]
    },
    {
     "name": "stdout",
     "output_type": "stream",
     "text": [
      "예측 결과에 없는 테스트 날짜:\n",
      " Series([], Name: ds, dtype: datetime64[ns])\n"
     ]
    },
    {
     "name": "stderr",
     "output_type": "stream",
     "text": [
      "08:23:14 - cmdstanpy - INFO - Chain [1] done processing\n",
      "08:23:14 - cmdstanpy - INFO - Chain [1] start processing\n"
     ]
    },
    {
     "name": "stdout",
     "output_type": "stream",
     "text": [
      "예측 결과에 없는 테스트 날짜:\n",
      " Series([], Name: ds, dtype: datetime64[ns])\n"
     ]
    },
    {
     "name": "stderr",
     "output_type": "stream",
     "text": [
      "08:23:15 - cmdstanpy - INFO - Chain [1] done processing\n",
      "08:23:15 - cmdstanpy - INFO - Chain [1] start processing\n"
     ]
    },
    {
     "name": "stdout",
     "output_type": "stream",
     "text": [
      "예측 결과에 없는 테스트 날짜:\n",
      " Series([], Name: ds, dtype: datetime64[ns])\n"
     ]
    },
    {
     "name": "stderr",
     "output_type": "stream",
     "text": [
      "08:23:16 - cmdstanpy - INFO - Chain [1] done processing\n",
      "08:23:16 - cmdstanpy - INFO - Chain [1] start processing\n"
     ]
    },
    {
     "name": "stdout",
     "output_type": "stream",
     "text": [
      "예측 결과에 없는 테스트 날짜:\n",
      " Series([], Name: ds, dtype: datetime64[ns])\n"
     ]
    },
    {
     "name": "stderr",
     "output_type": "stream",
     "text": [
      "08:23:16 - cmdstanpy - INFO - Chain [1] done processing\n",
      "08:23:17 - cmdstanpy - INFO - Chain [1] start processing\n"
     ]
    },
    {
     "name": "stdout",
     "output_type": "stream",
     "text": [
      "예측 결과에 없는 테스트 날짜:\n",
      " Series([], Name: ds, dtype: datetime64[ns])\n"
     ]
    },
    {
     "name": "stderr",
     "output_type": "stream",
     "text": [
      "08:23:17 - cmdstanpy - INFO - Chain [1] done processing\n",
      "08:23:17 - cmdstanpy - INFO - Chain [1] start processing\n"
     ]
    },
    {
     "name": "stdout",
     "output_type": "stream",
     "text": [
      "예측 결과에 없는 테스트 날짜:\n",
      " Series([], Name: ds, dtype: datetime64[ns])\n"
     ]
    },
    {
     "name": "stderr",
     "output_type": "stream",
     "text": [
      "08:23:18 - cmdstanpy - INFO - Chain [1] done processing\n",
      "08:23:18 - cmdstanpy - INFO - Chain [1] start processing\n"
     ]
    },
    {
     "name": "stdout",
     "output_type": "stream",
     "text": [
      "예측 결과에 없는 테스트 날짜:\n",
      " Series([], Name: ds, dtype: datetime64[ns])\n"
     ]
    },
    {
     "name": "stderr",
     "output_type": "stream",
     "text": [
      "08:23:19 - cmdstanpy - INFO - Chain [1] done processing\n",
      "08:23:19 - cmdstanpy - INFO - Chain [1] start processing\n"
     ]
    },
    {
     "name": "stdout",
     "output_type": "stream",
     "text": [
      "예측 결과에 없는 테스트 날짜:\n",
      " Series([], Name: ds, dtype: datetime64[ns])\n"
     ]
    },
    {
     "name": "stderr",
     "output_type": "stream",
     "text": [
      "08:23:19 - cmdstanpy - INFO - Chain [1] done processing\n",
      "08:23:20 - cmdstanpy - INFO - Chain [1] start processing\n"
     ]
    },
    {
     "name": "stdout",
     "output_type": "stream",
     "text": [
      "예측 결과에 없는 테스트 날짜:\n",
      " Series([], Name: ds, dtype: datetime64[ns])\n"
     ]
    },
    {
     "name": "stderr",
     "output_type": "stream",
     "text": [
      "08:23:20 - cmdstanpy - INFO - Chain [1] done processing\n",
      "08:23:20 - cmdstanpy - INFO - Chain [1] start processing\n"
     ]
    },
    {
     "name": "stdout",
     "output_type": "stream",
     "text": [
      "예측 결과에 없는 테스트 날짜:\n",
      " Series([], Name: ds, dtype: datetime64[ns])\n"
     ]
    },
    {
     "name": "stderr",
     "output_type": "stream",
     "text": [
      "08:23:21 - cmdstanpy - INFO - Chain [1] done processing\n",
      "08:23:21 - cmdstanpy - INFO - Chain [1] start processing\n"
     ]
    },
    {
     "name": "stdout",
     "output_type": "stream",
     "text": [
      "예측 결과에 없는 테스트 날짜:\n",
      " Series([], Name: ds, dtype: datetime64[ns])\n"
     ]
    },
    {
     "name": "stderr",
     "output_type": "stream",
     "text": [
      "08:23:21 - cmdstanpy - INFO - Chain [1] done processing\n",
      "08:23:21 - cmdstanpy - INFO - Chain [1] start processing\n"
     ]
    },
    {
     "name": "stdout",
     "output_type": "stream",
     "text": [
      "예측 결과에 없는 테스트 날짜:\n",
      " Series([], Name: ds, dtype: datetime64[ns])\n"
     ]
    },
    {
     "name": "stderr",
     "output_type": "stream",
     "text": [
      "08:23:22 - cmdstanpy - INFO - Chain [1] done processing\n",
      "08:23:22 - cmdstanpy - INFO - Chain [1] start processing\n"
     ]
    },
    {
     "name": "stdout",
     "output_type": "stream",
     "text": [
      "예측 결과에 없는 테스트 날짜:\n",
      " Series([], Name: ds, dtype: datetime64[ns])\n"
     ]
    },
    {
     "name": "stderr",
     "output_type": "stream",
     "text": [
      "08:23:22 - cmdstanpy - INFO - Chain [1] done processing\n",
      "08:23:23 - cmdstanpy - INFO - Chain [1] start processing\n"
     ]
    },
    {
     "name": "stdout",
     "output_type": "stream",
     "text": [
      "예측 결과에 없는 테스트 날짜:\n",
      " Series([], Name: ds, dtype: datetime64[ns])\n"
     ]
    },
    {
     "name": "stderr",
     "output_type": "stream",
     "text": [
      "08:23:23 - cmdstanpy - INFO - Chain [1] done processing\n",
      "08:23:23 - cmdstanpy - INFO - Chain [1] start processing\n",
      "08:23:23 - cmdstanpy - INFO - Chain [1] done processing\n"
     ]
    },
    {
     "name": "stdout",
     "output_type": "stream",
     "text": [
      "예측 결과에 없는 테스트 날짜:\n",
      " Series([], Name: ds, dtype: datetime64[ns])\n"
     ]
    },
    {
     "name": "stderr",
     "output_type": "stream",
     "text": [
      "08:23:23 - cmdstanpy - INFO - Chain [1] start processing\n"
     ]
    },
    {
     "name": "stdout",
     "output_type": "stream",
     "text": [
      "예측 결과에 없는 테스트 날짜:\n",
      " Series([], Name: ds, dtype: datetime64[ns])\n"
     ]
    },
    {
     "name": "stderr",
     "output_type": "stream",
     "text": [
      "08:23:24 - cmdstanpy - INFO - Chain [1] done processing\n",
      "08:23:25 - cmdstanpy - INFO - Chain [1] start processing\n"
     ]
    },
    {
     "name": "stdout",
     "output_type": "stream",
     "text": [
      "예측 결과에 없는 테스트 날짜:\n",
      " Series([], Name: ds, dtype: datetime64[ns])\n"
     ]
    },
    {
     "name": "stderr",
     "output_type": "stream",
     "text": [
      "08:23:26 - cmdstanpy - INFO - Chain [1] done processing\n",
      "08:23:26 - cmdstanpy - INFO - Chain [1] start processing\n"
     ]
    },
    {
     "name": "stdout",
     "output_type": "stream",
     "text": [
      "예측 결과에 없는 테스트 날짜:\n",
      " Series([], Name: ds, dtype: datetime64[ns])\n"
     ]
    },
    {
     "name": "stderr",
     "output_type": "stream",
     "text": [
      "08:23:27 - cmdstanpy - INFO - Chain [1] done processing\n",
      "08:23:27 - cmdstanpy - INFO - Chain [1] start processing\n"
     ]
    },
    {
     "name": "stdout",
     "output_type": "stream",
     "text": [
      "예측 결과에 없는 테스트 날짜:\n",
      " Series([], Name: ds, dtype: datetime64[ns])\n"
     ]
    },
    {
     "name": "stderr",
     "output_type": "stream",
     "text": [
      "08:23:27 - cmdstanpy - INFO - Chain [1] done processing\n",
      "08:23:28 - cmdstanpy - INFO - Chain [1] start processing\n"
     ]
    },
    {
     "name": "stdout",
     "output_type": "stream",
     "text": [
      "예측 결과에 없는 테스트 날짜:\n",
      " Series([], Name: ds, dtype: datetime64[ns])\n"
     ]
    },
    {
     "name": "stderr",
     "output_type": "stream",
     "text": [
      "08:23:28 - cmdstanpy - INFO - Chain [1] done processing\n",
      "08:23:28 - cmdstanpy - INFO - Chain [1] start processing\n"
     ]
    },
    {
     "name": "stdout",
     "output_type": "stream",
     "text": [
      "예측 결과에 없는 테스트 날짜:\n",
      " Series([], Name: ds, dtype: datetime64[ns])\n"
     ]
    },
    {
     "name": "stderr",
     "output_type": "stream",
     "text": [
      "08:23:29 - cmdstanpy - INFO - Chain [1] done processing\n",
      "08:23:29 - cmdstanpy - INFO - Chain [1] start processing\n"
     ]
    },
    {
     "name": "stdout",
     "output_type": "stream",
     "text": [
      "예측 결과에 없는 테스트 날짜:\n",
      " Series([], Name: ds, dtype: datetime64[ns])\n"
     ]
    },
    {
     "name": "stderr",
     "output_type": "stream",
     "text": [
      "08:23:30 - cmdstanpy - INFO - Chain [1] done processing\n",
      "08:23:30 - cmdstanpy - INFO - Chain [1] start processing\n"
     ]
    },
    {
     "name": "stdout",
     "output_type": "stream",
     "text": [
      "예측 결과에 없는 테스트 날짜:\n",
      " Series([], Name: ds, dtype: datetime64[ns])\n"
     ]
    },
    {
     "name": "stderr",
     "output_type": "stream",
     "text": [
      "08:23:30 - cmdstanpy - INFO - Chain [1] done processing\n",
      "08:23:30 - cmdstanpy - INFO - Chain [1] start processing\n"
     ]
    },
    {
     "name": "stdout",
     "output_type": "stream",
     "text": [
      "예측 결과에 없는 테스트 날짜:\n",
      " Series([], Name: ds, dtype: datetime64[ns])\n"
     ]
    },
    {
     "name": "stderr",
     "output_type": "stream",
     "text": [
      "08:23:32 - cmdstanpy - INFO - Chain [1] done processing\n",
      "08:23:32 - cmdstanpy - INFO - Chain [1] start processing\n"
     ]
    },
    {
     "name": "stdout",
     "output_type": "stream",
     "text": [
      "예측 결과에 없는 테스트 날짜:\n",
      " Series([], Name: ds, dtype: datetime64[ns])\n"
     ]
    },
    {
     "name": "stderr",
     "output_type": "stream",
     "text": [
      "08:23:33 - cmdstanpy - INFO - Chain [1] done processing\n",
      "08:23:33 - cmdstanpy - INFO - Chain [1] start processing\n"
     ]
    },
    {
     "name": "stdout",
     "output_type": "stream",
     "text": [
      "예측 결과에 없는 테스트 날짜:\n",
      " Series([], Name: ds, dtype: datetime64[ns])\n"
     ]
    },
    {
     "name": "stderr",
     "output_type": "stream",
     "text": [
      "08:23:35 - cmdstanpy - INFO - Chain [1] done processing\n",
      "08:23:35 - cmdstanpy - INFO - Chain [1] start processing\n"
     ]
    },
    {
     "name": "stdout",
     "output_type": "stream",
     "text": [
      "예측 결과에 없는 테스트 날짜:\n",
      " Series([], Name: ds, dtype: datetime64[ns])\n"
     ]
    },
    {
     "name": "stderr",
     "output_type": "stream",
     "text": [
      "08:23:35 - cmdstanpy - INFO - Chain [1] done processing\n",
      "08:23:36 - cmdstanpy - INFO - Chain [1] start processing\n"
     ]
    },
    {
     "name": "stdout",
     "output_type": "stream",
     "text": [
      "예측 결과에 없는 테스트 날짜:\n",
      " Series([], Name: ds, dtype: datetime64[ns])\n"
     ]
    },
    {
     "name": "stderr",
     "output_type": "stream",
     "text": [
      "08:23:37 - cmdstanpy - INFO - Chain [1] done processing\n",
      "08:23:37 - cmdstanpy - INFO - Chain [1] start processing\n"
     ]
    },
    {
     "name": "stdout",
     "output_type": "stream",
     "text": [
      "예측 결과에 없는 테스트 날짜:\n",
      " Series([], Name: ds, dtype: datetime64[ns])\n"
     ]
    },
    {
     "name": "stderr",
     "output_type": "stream",
     "text": [
      "08:23:38 - cmdstanpy - INFO - Chain [1] done processing\n",
      "08:23:38 - cmdstanpy - INFO - Chain [1] start processing\n"
     ]
    },
    {
     "name": "stdout",
     "output_type": "stream",
     "text": [
      "예측 결과에 없는 테스트 날짜:\n",
      " Series([], Name: ds, dtype: datetime64[ns])\n"
     ]
    },
    {
     "name": "stderr",
     "output_type": "stream",
     "text": [
      "08:23:40 - cmdstanpy - INFO - Chain [1] done processing\n",
      "08:23:40 - cmdstanpy - INFO - Chain [1] start processing\n"
     ]
    },
    {
     "name": "stdout",
     "output_type": "stream",
     "text": [
      "예측 결과에 없는 테스트 날짜:\n",
      " Series([], Name: ds, dtype: datetime64[ns])\n"
     ]
    },
    {
     "name": "stderr",
     "output_type": "stream",
     "text": [
      "08:23:40 - cmdstanpy - INFO - Chain [1] done processing\n",
      "08:23:40 - cmdstanpy - INFO - Chain [1] start processing\n"
     ]
    },
    {
     "name": "stdout",
     "output_type": "stream",
     "text": [
      "예측 결과에 없는 테스트 날짜:\n",
      " Series([], Name: ds, dtype: datetime64[ns])\n"
     ]
    },
    {
     "name": "stderr",
     "output_type": "stream",
     "text": [
      "08:23:41 - cmdstanpy - INFO - Chain [1] done processing\n",
      "08:23:41 - cmdstanpy - INFO - Chain [1] start processing\n"
     ]
    },
    {
     "name": "stdout",
     "output_type": "stream",
     "text": [
      "예측 결과에 없는 테스트 날짜:\n",
      " Series([], Name: ds, dtype: datetime64[ns])\n"
     ]
    },
    {
     "name": "stderr",
     "output_type": "stream",
     "text": [
      "08:23:42 - cmdstanpy - INFO - Chain [1] done processing\n",
      "08:23:42 - cmdstanpy - INFO - Chain [1] start processing\n"
     ]
    },
    {
     "name": "stdout",
     "output_type": "stream",
     "text": [
      "예측 결과에 없는 테스트 날짜:\n",
      " Series([], Name: ds, dtype: datetime64[ns])\n"
     ]
    },
    {
     "name": "stderr",
     "output_type": "stream",
     "text": [
      "08:23:42 - cmdstanpy - INFO - Chain [1] done processing\n",
      "08:23:43 - cmdstanpy - INFO - Chain [1] start processing\n"
     ]
    },
    {
     "name": "stdout",
     "output_type": "stream",
     "text": [
      "예측 결과에 없는 테스트 날짜:\n",
      " Series([], Name: ds, dtype: datetime64[ns])\n"
     ]
    },
    {
     "name": "stderr",
     "output_type": "stream",
     "text": [
      "08:23:43 - cmdstanpy - INFO - Chain [1] done processing\n",
      "08:23:43 - cmdstanpy - INFO - Chain [1] start processing\n"
     ]
    },
    {
     "name": "stdout",
     "output_type": "stream",
     "text": [
      "예측 결과에 없는 테스트 날짜:\n",
      " Series([], Name: ds, dtype: datetime64[ns])\n"
     ]
    },
    {
     "name": "stderr",
     "output_type": "stream",
     "text": [
      "08:23:43 - cmdstanpy - INFO - Chain [1] done processing\n",
      "08:23:44 - cmdstanpy - INFO - Chain [1] start processing\n"
     ]
    },
    {
     "name": "stdout",
     "output_type": "stream",
     "text": [
      "예측 결과에 없는 테스트 날짜:\n",
      " Series([], Name: ds, dtype: datetime64[ns])\n"
     ]
    },
    {
     "name": "stderr",
     "output_type": "stream",
     "text": [
      "08:23:44 - cmdstanpy - INFO - Chain [1] done processing\n",
      "08:23:44 - cmdstanpy - INFO - Chain [1] start processing\n"
     ]
    },
    {
     "name": "stdout",
     "output_type": "stream",
     "text": [
      "예측 결과에 없는 테스트 날짜:\n",
      " Series([], Name: ds, dtype: datetime64[ns])\n"
     ]
    },
    {
     "name": "stderr",
     "output_type": "stream",
     "text": [
      "08:23:44 - cmdstanpy - INFO - Chain [1] done processing\n",
      "08:23:45 - cmdstanpy - INFO - Chain [1] start processing\n",
      "08:23:45 - cmdstanpy - INFO - Chain [1] done processing\n"
     ]
    },
    {
     "name": "stdout",
     "output_type": "stream",
     "text": [
      "예측 결과에 없는 테스트 날짜:\n",
      " Series([], Name: ds, dtype: datetime64[ns])\n"
     ]
    },
    {
     "name": "stderr",
     "output_type": "stream",
     "text": [
      "08:23:45 - cmdstanpy - INFO - Chain [1] start processing\n"
     ]
    },
    {
     "name": "stdout",
     "output_type": "stream",
     "text": [
      "예측 결과에 없는 테스트 날짜:\n",
      " Series([], Name: ds, dtype: datetime64[ns])\n"
     ]
    },
    {
     "name": "stderr",
     "output_type": "stream",
     "text": [
      "08:23:46 - cmdstanpy - INFO - Chain [1] done processing\n",
      "08:23:46 - cmdstanpy - INFO - Chain [1] start processing\n"
     ]
    },
    {
     "name": "stdout",
     "output_type": "stream",
     "text": [
      "예측 결과에 없는 테스트 날짜:\n",
      " Series([], Name: ds, dtype: datetime64[ns])\n"
     ]
    },
    {
     "name": "stderr",
     "output_type": "stream",
     "text": [
      "08:23:47 - cmdstanpy - INFO - Chain [1] done processing\n",
      "08:23:47 - cmdstanpy - INFO - Chain [1] start processing\n"
     ]
    },
    {
     "name": "stdout",
     "output_type": "stream",
     "text": [
      "예측 결과에 없는 테스트 날짜:\n",
      " Series([], Name: ds, dtype: datetime64[ns])\n"
     ]
    },
    {
     "name": "stderr",
     "output_type": "stream",
     "text": [
      "08:23:48 - cmdstanpy - INFO - Chain [1] done processing\n",
      "08:23:48 - cmdstanpy - INFO - Chain [1] start processing\n"
     ]
    },
    {
     "name": "stdout",
     "output_type": "stream",
     "text": [
      "예측 결과에 없는 테스트 날짜:\n",
      " Series([], Name: ds, dtype: datetime64[ns])\n"
     ]
    },
    {
     "name": "stderr",
     "output_type": "stream",
     "text": [
      "08:23:49 - cmdstanpy - INFO - Chain [1] done processing\n",
      "08:23:49 - cmdstanpy - INFO - Chain [1] start processing\n"
     ]
    },
    {
     "name": "stdout",
     "output_type": "stream",
     "text": [
      "예측 결과에 없는 테스트 날짜:\n",
      " Series([], Name: ds, dtype: datetime64[ns])\n"
     ]
    },
    {
     "name": "stderr",
     "output_type": "stream",
     "text": [
      "08:23:50 - cmdstanpy - INFO - Chain [1] done processing\n",
      "08:23:50 - cmdstanpy - INFO - Chain [1] start processing\n"
     ]
    },
    {
     "name": "stdout",
     "output_type": "stream",
     "text": [
      "예측 결과에 없는 테스트 날짜:\n",
      " Series([], Name: ds, dtype: datetime64[ns])\n"
     ]
    },
    {
     "name": "stderr",
     "output_type": "stream",
     "text": [
      "08:23:50 - cmdstanpy - INFO - Chain [1] done processing\n",
      "08:23:51 - cmdstanpy - INFO - Chain [1] start processing\n"
     ]
    },
    {
     "name": "stdout",
     "output_type": "stream",
     "text": [
      "예측 결과에 없는 테스트 날짜:\n",
      " Series([], Name: ds, dtype: datetime64[ns])\n"
     ]
    },
    {
     "name": "stderr",
     "output_type": "stream",
     "text": [
      "08:23:51 - cmdstanpy - INFO - Chain [1] done processing\n",
      "08:23:51 - cmdstanpy - INFO - Chain [1] start processing\n"
     ]
    },
    {
     "name": "stdout",
     "output_type": "stream",
     "text": [
      "예측 결과에 없는 테스트 날짜:\n",
      " Series([], Name: ds, dtype: datetime64[ns])\n"
     ]
    },
    {
     "name": "stderr",
     "output_type": "stream",
     "text": [
      "08:23:52 - cmdstanpy - INFO - Chain [1] done processing\n",
      "08:23:52 - cmdstanpy - INFO - Chain [1] start processing\n"
     ]
    },
    {
     "name": "stdout",
     "output_type": "stream",
     "text": [
      "예측 결과에 없는 테스트 날짜:\n",
      " Series([], Name: ds, dtype: datetime64[ns])\n"
     ]
    },
    {
     "name": "stderr",
     "output_type": "stream",
     "text": [
      "08:23:53 - cmdstanpy - INFO - Chain [1] done processing\n",
      "08:23:54 - cmdstanpy - INFO - Chain [1] start processing\n"
     ]
    },
    {
     "name": "stdout",
     "output_type": "stream",
     "text": [
      "예측 결과에 없는 테스트 날짜:\n",
      " Series([], Name: ds, dtype: datetime64[ns])\n"
     ]
    },
    {
     "name": "stderr",
     "output_type": "stream",
     "text": [
      "08:23:55 - cmdstanpy - INFO - Chain [1] done processing\n",
      "08:23:55 - cmdstanpy - INFO - Chain [1] start processing\n"
     ]
    },
    {
     "name": "stdout",
     "output_type": "stream",
     "text": [
      "예측 결과에 없는 테스트 날짜:\n",
      " Series([], Name: ds, dtype: datetime64[ns])\n"
     ]
    },
    {
     "name": "stderr",
     "output_type": "stream",
     "text": [
      "08:23:56 - cmdstanpy - INFO - Chain [1] done processing\n",
      "08:23:57 - cmdstanpy - INFO - Chain [1] start processing\n"
     ]
    },
    {
     "name": "stdout",
     "output_type": "stream",
     "text": [
      "예측 결과에 없는 테스트 날짜:\n",
      " Series([], Name: ds, dtype: datetime64[ns])\n"
     ]
    },
    {
     "name": "stderr",
     "output_type": "stream",
     "text": [
      "08:23:57 - cmdstanpy - INFO - Chain [1] done processing\n",
      "08:23:58 - cmdstanpy - INFO - Chain [1] start processing\n"
     ]
    },
    {
     "name": "stdout",
     "output_type": "stream",
     "text": [
      "예측 결과에 없는 테스트 날짜:\n",
      " Series([], Name: ds, dtype: datetime64[ns])\n"
     ]
    },
    {
     "name": "stderr",
     "output_type": "stream",
     "text": [
      "08:23:58 - cmdstanpy - INFO - Chain [1] done processing\n",
      "08:23:59 - cmdstanpy - INFO - Chain [1] start processing\n"
     ]
    },
    {
     "name": "stdout",
     "output_type": "stream",
     "text": [
      "예측 결과에 없는 테스트 날짜:\n",
      " Series([], Name: ds, dtype: datetime64[ns])\n"
     ]
    },
    {
     "name": "stderr",
     "output_type": "stream",
     "text": [
      "08:24:00 - cmdstanpy - INFO - Chain [1] done processing\n",
      "08:24:00 - cmdstanpy - INFO - Chain [1] start processing\n"
     ]
    },
    {
     "name": "stdout",
     "output_type": "stream",
     "text": [
      "예측 결과에 없는 테스트 날짜:\n",
      " Series([], Name: ds, dtype: datetime64[ns])\n"
     ]
    },
    {
     "name": "stderr",
     "output_type": "stream",
     "text": [
      "08:24:01 - cmdstanpy - INFO - Chain [1] done processing\n",
      "08:24:01 - cmdstanpy - INFO - Chain [1] start processing\n"
     ]
    },
    {
     "name": "stdout",
     "output_type": "stream",
     "text": [
      "예측 결과에 없는 테스트 날짜:\n",
      " Series([], Name: ds, dtype: datetime64[ns])\n"
     ]
    },
    {
     "name": "stderr",
     "output_type": "stream",
     "text": [
      "08:24:01 - cmdstanpy - INFO - Chain [1] done processing\n"
     ]
    },
    {
     "name": "stdout",
     "output_type": "stream",
     "text": [
      "예측 결과에 없는 테스트 날짜:\n",
      " Series([], Name: ds, dtype: datetime64[ns])\n"
     ]
    }
   ],
   "source": [
    "import yfinance as yf\n",
    "import pandas as pd\n",
    "from prophet import Prophet\n",
    "from sklearn.metrics import mean_absolute_error\n",
    "import matplotlib.pyplot as plt\n",
    "import itertools\n",
    "import warnings\n",
    "warnings.filterwarnings('ignore')\n",
    "\n",
    "# 1. 데이터 다운로드\n",
    "df = yf.download('000660.KS', start='2020-01-01', end='2025-06-30')[['Close']].reset_index()\n",
    "df.columns = ['ds', 'y']\n",
    "df['ds'] = pd.to_datetime(df['ds'])\n",
    "\n",
    "\n",
    "train = df[df['ds'] <= '2024-12-31'].copy()\n",
    "test = df[df['ds'] >= '2025-01-01'].copy()\n",
    "\n",
    "# 추세 변화 민감도: 클수록 추세 변화를 더 민감하게 감지 (과적합 위험 증가)\n",
    "changepoint_prior_scales = [0.001, 0.01, 0.1]\n",
    "\n",
    "# 계절성 민감도: 클수록 더 복잡한 계절성 패턴을 허용\n",
    "seasonality_prior_scales = [1.0, 10.0]\n",
    "\n",
    "# 계절성 모드:\n",
    "# 'additive' → y에 일정량 더해지는 형태 (ex. 매년 비슷한 금액의 변화)\n",
    "# 'multiplicative' → y의 크기에 비례해 변화 (ex. 매출이 커질수록 더 큰 계절성 진폭)\n",
    "seasonality_modes = ['additive', 'multiplicative']\n",
    "\n",
    "# 추세 변화점이 전체 학습 구간 중 앞쪽 몇 %에 포함될지 결정\n",
    "# 0.8 → 처음 80%에만 변화점 배치\n",
    "changepoint_ranges = [0.8, 0.9]\n",
    "\n",
    "# 모델이 허용하는 추세 변화점 개수\n",
    "n_changepoints_list = [10, 25, 50]\n",
    "\n",
    "# 연간 계절성 반영 여부\n",
    "yearly_opts = [True, False]\n",
    "\n",
    "# 주간 계절성 반영 여부\n",
    "weekly_opts = [True, False]\n",
    "\n",
    "# 일간 계절성 반영 여부\n",
    "daily_opts = [True, False]\n",
    "\n",
    "\n",
    "\n",
    "param_combinations = itertools.product(\n",
    "    changepoint_prior_scales,\n",
    "    seasonality_prior_scales,\n",
    "    seasonality_modes,\n",
    "    changepoint_ranges,\n",
    "    n_changepoints_list,\n",
    "    yearly_opts,\n",
    "    weekly_opts,\n",
    "    daily_opts\n",
    ")\n",
    "\n",
    "\n",
    "results = []\n",
    "\n",
    "for cps, sps, mode, cpr, n_cp, yearly, weekly, daily in param_combinations:\n",
    "    try:\n",
    "        model = Prophet(\n",
    "            changepoint_prior_scale=cps,\n",
    "            seasonality_prior_scale=sps,\n",
    "            seasonality_mode=mode,\n",
    "            changepoint_range=cpr,\n",
    "            n_changepoints=n_cp,\n",
    "            yearly_seasonality=yearly,\n",
    "            weekly_seasonality=weekly,\n",
    "            daily_seasonality=daily)\n",
    "        \n",
    "        model.fit(train)\n",
    "        future = pd.DataFrame({'ds': pd.date_range(start=df['ds'].min(), end= test['ds'].max())})\n",
    "        forecast = model.predict(future)\n",
    "\n",
    "        pred = forecast[['ds', 'yhat']].set_index('ds')\n",
    "        merged = test.set_index('ds').join(pred, how='left')\n",
    "        \n",
    "        results.append({\n",
    "                        'changepoint_prior_scale': cps,\n",
    "                        'seasonality_prior_scale': sps,\n",
    "                        'seasonality_mode': mode,\n",
    "                        'changepoint_range': cpr,\n",
    "                        'n_changepoints': n_cp,\n",
    "                        'yearly': yearly,\n",
    "                        'weekly': weekly,\n",
    "                        'daily': daily,\n",
    "                        'MAE': mae\n",
    "                    })\n",
    "    except Exception as e:\n",
    "        print(e)\n",
    "\n"
   ]
  },
  {
   "cell_type": "code",
   "execution_count": 62,
   "id": "7bb21558-9b2a-4631-9255-f59dc1b23e14",
   "metadata": {},
   "outputs": [
    {
     "name": "stderr",
     "output_type": "stream",
     "text": [
      "08:28:30 - cmdstanpy - INFO - Chain [1] start processing\n",
      "08:28:30 - cmdstanpy - INFO - Chain [1] done processing\n"
     ]
    },
    {
     "name": "stdout",
     "output_type": "stream",
     "text": [
      "     changepoint_prior_scale  seasonality_prior_scale seasonality_mode  \\\n",
      "0                      0.001                      1.0         additive   \n",
      "1                      0.001                      1.0         additive   \n",
      "2                      0.001                      1.0         additive   \n",
      "3                      0.001                      1.0         additive   \n",
      "4                      0.001                      1.0         additive   \n",
      "..                       ...                      ...              ...   \n",
      "571                    0.100                     10.0   multiplicative   \n",
      "572                    0.100                     10.0   multiplicative   \n",
      "573                    0.100                     10.0   multiplicative   \n",
      "574                    0.100                     10.0   multiplicative   \n",
      "575                    0.100                     10.0   multiplicative   \n",
      "\n",
      "     changepoint_range  n_changepoints  yearly  weekly  daily           MAE  \n",
      "0                  0.8              10    True    True   True  62034.524683  \n",
      "1                  0.8              10    True    True  False  62034.524683  \n",
      "2                  0.8              10    True   False   True  62034.524683  \n",
      "3                  0.8              10    True   False  False  62034.524683  \n",
      "4                  0.8              10   False    True   True  62034.524683  \n",
      "..                 ...             ...     ...     ...    ...           ...  \n",
      "571                0.9              50    True   False  False  62034.524683  \n",
      "572                0.9              50   False    True   True  62034.524683  \n",
      "573                0.9              50   False    True  False  62034.524683  \n",
      "574                0.9              50   False   False   True  62034.524683  \n",
      "575                0.9              50   False   False  False  62034.524683  \n",
      "\n",
      "[576 rows x 9 columns]\n",
      "   changepoint_prior_scale  seasonality_prior_scale seasonality_mode  \\\n",
      "0                    0.001                      1.0         additive   \n",
      "\n",
      "   changepoint_range  n_changepoints  yearly  weekly  daily           MAE  \n",
      "0                0.8              10    True    True   True  62034.524683  \n"
     ]
    },
    {
     "data": {
      "image/png": "[encoded data removed]",
      "text/plain": [
       "<Figure size 1200x600 with 1 Axes>"
      ]
     },
     "metadata": {},
     "output_type": "display_data"
    }
   ],
   "source": [
    "result_df = pd.DataFrame(results)\n",
    "print(result_df)\n",
    "best = result_df.sort_values(by='MAE').reset_index(drop=True)\n",
    "print(best.head(1))\n",
    "\n",
    "best_params = best.iloc[0]\n",
    "final_model = Prophet(\n",
    "    changepoint_prior_scale=best_params['changepoint_prior_scale'],\n",
    "    seasonality_prior_scale=best_params['seasonality_prior_scale'],\n",
    "    seasonality_mode=best_params['seasonality_mode'],\n",
    "    changepoint_range=best_params['changepoint_range'],\n",
    "    n_changepoints=best_params['n_changepoints'],\n",
    "    yearly_seasonality=best_params['yearly'],\n",
    "    weekly_seasonality=best_params['weekly'],\n",
    "    daily_seasonality=best_params['daily']\n",
    ")\n",
    "final_model.fit(train)\n",
    "\n",
    "future = final_model.make_future_dataframe(periods=len(test), freq='B')\n",
    "forecast = final_model.predict(future)\n",
    "\n",
    "plt.figure(figsize=(12, 6))\n",
    "plt.plot(train['ds'], train['y'], label='Train')\n",
    "plt.plot(test['ds'], test['y'], label='Test', color='black')\n",
    "plt.plot(forecast['ds'], forecast['yhat'], label='Forecast', color='orange')\n",
    "plt.title(\"SK하이닉스 Prophet 예측 결과\")\n",
    "plt.xlabel(\"Date\")\n",
    "plt.ylabel(\"주가)\")\n",
    "plt.legend()\n",
    "plt.grid(True)\n",
    "plt.tight_layout()\n",
    "plt.show()"
   ]
  },
  {
   "cell_type": "code",
   "execution_count": null,
   "id": "d09c16d9-fced-4f2d-ad62-185bb56fdfd7",
   "metadata": {},
   "outputs": [],
   "source": []
  }
 ],
 "metadata": {
  "kernelspec": {
   "display_name": "Python 3 (ipykernel)",
   "language": "python",
   "name": "python3"
  },
  "language_info": {
   "codemirror_mode": {
    "name": "ipython",
    "version": 3
   },
   "file_extension": ".py",
   "mimetype": "text/x-python",
   "name": "python",
   "nbconvert_exporter": "python",
   "pygments_lexer": "ipython3",
   "version": "3.11.0"
  }
 },
 "nbformat": 4,
 "nbformat_minor": 5
}
