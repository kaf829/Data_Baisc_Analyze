{
 "cells": [
  {
   "cell_type": "code",
   "execution_count": 5,
   "id": "a1dc4669-5232-4b83-aba4-d9c18c098302",
   "metadata": {
    "scrolled": true
   },
   "outputs": [
    {
     "name": "stdout",
     "output_type": "stream",
     "text": [
      "<class 'pandas.core.frame.DataFrame'>\n",
      "RangeIndex: 54879 entries, 0 to 54878\n",
      "Data columns (total 3 columns):\n",
      " #   Column  Non-Null Count  Dtype \n",
      "---  ------  --------------  ----- \n",
      " 0   index   54879 non-null  int64 \n",
      " 1   text    54879 non-null  object\n",
      " 2   author  54879 non-null  int64 \n",
      "dtypes: int64(2), object(1)\n",
      "memory usage: 1.3+ MB\n",
      "<class 'pandas.core.frame.DataFrame'>\n",
      "RangeIndex: 19617 entries, 0 to 19616\n",
      "Data columns (total 2 columns):\n",
      " #   Column  Non-Null Count  Dtype \n",
      "---  ------  --------------  ----- \n",
      " 0   index   19617 non-null  int64 \n",
      " 1   text    19617 non-null  object\n",
      "dtypes: int64(1), object(1)\n",
      "memory usage: 306.6+ KB\n",
      "<class 'pandas.core.frame.DataFrame'>\n",
      "RangeIndex: 19617 entries, 0 to 19616\n",
      "Data columns (total 6 columns):\n",
      " #   Column  Non-Null Count  Dtype\n",
      "---  ------  --------------  -----\n",
      " 0   index   19617 non-null  int64\n",
      " 1   0       19617 non-null  int64\n",
      " 2   1       19617 non-null  int64\n",
      " 3   2       19617 non-null  int64\n",
      " 4   3       19617 non-null  int64\n",
      " 5   4       19617 non-null  int64\n",
      "dtypes: int64(6)\n",
      "memory usage: 919.7 KB\n"
     ]
    },
    {
     "data": {
      "text/plain": [
       "(None,\n",
       " None,\n",
       " None,\n",
       "    index                                               text  author\n",
       " 0      0  He was almost choking. There was so much, so m...       3\n",
       " 1      1             “Your sister asked for it, I suppose?”       2\n",
       " 2      2   She was engaged one day as she walked, in per...       1\n",
       " 3      3  The captain was in the porch, keeping himself ...       4\n",
       " 4      4  “Have mercy, gentlemen!” odin flung up his han...       3,\n",
       "    index                                               text\n",
       " 0      0  “Not at all. I think she is one of the most ch...\n",
       " 1      1  \"No,\" replied he, with sudden consciousness, \"...\n",
       " 2      2  As the lady had stated her intention of scream...\n",
       " 3      3  “And then suddenly in the silence I heard a so...\n",
       " 4      4  His conviction remained unchanged. So far as I...,\n",
       "    index  0  1  2  3  4\n",
       " 0      0  0  0  0  0  0\n",
       " 1      1  0  0  0  0  0\n",
       " 2      2  0  0  0  0  0\n",
       " 3      3  0  0  0  0  0\n",
       " 4      4  0  0  0  0  0)"
      ]
     },
     "execution_count": 5,
     "metadata": {},
     "output_type": "execute_result"
    }
   ],
   "source": [
    "import pandas as pd\n",
    "\n",
    "# 파일 경로\n",
    "train_path = \"./train.csv\"\n",
    "test_path = \"./test_x.csv\"\n",
    "sample_submission_path = \"./sample_submission.csv\"\n",
    "\n",
    "# 데이터 로드\n",
    "train_df = pd.read_csv(train_path)\n",
    "test_df = pd.read_csv(test_path)\n",
    "submission_df = pd.read_csv(sample_submission_path)\n",
    "\n",
    "# 데이터셋 구조 확인\n",
    "train_info = train_df.info()\n",
    "test_info = test_df.info()\n",
    "submission_info = submission_df.info()\n",
    "\n",
    "train_head = train_df.head()\n",
    "test_head = test_df.head()\n",
    "submission_head = submission_df.head()\n",
    "\n",
    "(train_info, test_info, submission_info, train_head, test_head, submission_head)"
   ]
  },
  {
   "cell_type": "code",
   "execution_count": null,
   "id": "173f2349-8956-429d-b8a3-4ee4746d9c57",
   "metadata": {},
   "outputs": [],
   "source": []
  }
 ],
 "metadata": {
  "kernelspec": {
   "display_name": "Python 3 (ipykernel)",
   "language": "python",
   "name": "python3"
  },
  "language_info": {
   "codemirror_mode": {
    "name": "ipython",
    "version": 3
   },
   "file_extension": ".py",
   "mimetype": "text/x-python",
   "name": "python",
   "nbconvert_exporter": "python",
   "pygments_lexer": "ipython3",
   "version": "3.11.0"
  }
 },
 "nbformat": 4,
 "nbformat_minor": 5
}
