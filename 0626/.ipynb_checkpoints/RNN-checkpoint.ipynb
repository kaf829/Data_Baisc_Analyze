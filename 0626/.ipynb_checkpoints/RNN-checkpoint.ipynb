{
 "cells": [
  {
   "cell_type": "code",
   "execution_count": 73,
   "id": "d43e22a0-17c1-493f-adcc-e08a6dded80a",
   "metadata": {},
   "outputs": [
    {
     "name": "stdout",
     "output_type": "stream",
     "text": [
      "Model: \"sequential_10\"\n",
      "_________________________________________________________________\n",
      " Layer (type)                Output Shape              Param #   \n",
      "=================================================================\n",
      " simple_rnn_9 (SimpleRNN)    (None, 3)                 42        \n",
      "                                                                 \n",
      "=================================================================\n",
      "Total params: 42 (168.00 Byte)\n",
      "Trainable params: 42 (168.00 Byte)\n",
      "Non-trainable params: 0 (0.00 Byte)\n",
      "_________________________________________________________________\n"
     ]
    }
   ],
   "source": [
    "from keras.models import Sequential\n",
    "from keras.layers import SimpleRNN\n",
    "\n",
    "model = Sequential()\n",
    "model.add(SimpleRNN(3, input_shape = (2, 10)))\n",
    "model.summary()"
   ]
  },
  {
   "cell_type": "code",
   "execution_count": 74,
   "id": "067b2c10-7df2-4a77-9b04-62a28cc600db",
   "metadata": {},
   "outputs": [
    {
     "name": "stdout",
     "output_type": "stream",
     "text": [
      "Model: \"sequential_11\"\n",
      "_________________________________________________________________\n",
      " Layer (type)                Output Shape              Param #   \n",
      "=================================================================\n",
      " simple_rnn_10 (SimpleRNN)   (8, 3)                    42        \n",
      "                                                                 \n",
      "=================================================================\n",
      "Total params: 42 (168.00 Byte)\n",
      "Trainable params: 42 (168.00 Byte)\n",
      "Non-trainable params: 0 (0.00 Byte)\n",
      "_________________________________________________________________\n"
     ]
    }
   ],
   "source": [
    "from keras.models import Sequential\n",
    "from keras.layers import SimpleRNN\n",
    "import numpy as np\n",
    "\n",
    "imputs = np.random.random((8,2,10)) #batch size, time-stemp , input\n",
    "\n",
    "model = Sequential()\n",
    "model.add(SimpleRNN(3))\n",
    "model(imputs)\n",
    "model.summary()"
   ]
  },
  {
   "cell_type": "code",
   "execution_count": 75,
   "id": "7f21ee1f-28ea-4f32-8fe6-ee7c4b6905d8",
   "metadata": {},
   "outputs": [
    {
     "name": "stdout",
     "output_type": "stream",
     "text": [
      "Model: \"sequential_12\"\n",
      "_________________________________________________________________\n",
      " Layer (type)                Output Shape              Param #   \n",
      "=================================================================\n",
      " simple_rnn_11 (SimpleRNN)   (8, 2, 3)                 42        \n",
      "                                                                 \n",
      "=================================================================\n",
      "Total params: 42 (168.00 Byte)\n",
      "Trainable params: 42 (168.00 Byte)\n",
      "Non-trainable params: 0 (0.00 Byte)\n",
      "_________________________________________________________________\n"
     ]
    }
   ],
   "source": [
    "from keras.models import Sequential\n",
    "from keras.layers import SimpleRNN\n",
    "import numpy as np\n",
    "\n",
    "imputs = np.random.random((8,2,10)) #batch size, time-stemp , input\n",
    "\n",
    "model = Sequential()\n",
    "model.add(SimpleRNN(3, return_sequences = True))\n",
    "model(imputs)\n",
    "model.summary()"
   ]
  },
  {
   "cell_type": "code",
   "execution_count": 76,
   "id": "a80194c9-5de0-4d33-a34a-881f3364ab1a",
   "metadata": {},
   "outputs": [],
   "source": [
    "### RNN을 이용하여 텍스트 생성하기"
   ]
  },
  {
   "cell_type": "code",
   "execution_count": 77,
   "id": "8c2d1c1d-1f85-4f7b-adb0-0b001904ff3b",
   "metadata": {},
   "outputs": [],
   "source": [
    "from tensorflow.keras.preprocessing.text import Tokenizer\n",
    "from tensorflow.keras.preprocessing.sequence import pad_sequences\n",
    "import numpy as np\n",
    "from tensorflow.keras.utils import to_categorical"
   ]
  },
  {
   "cell_type": "code",
   "execution_count": 78,
   "id": "e8bb3a7f-35e3-4646-bfcd-8e283b389250",
   "metadata": {},
   "outputs": [],
   "source": [
    "text = \"\"\"경마장에 있는 말이 뛰고 있다\\n그의 말이 법이다\\n가는 말이 고아야 오는 말이 곱다\"\"\""
   ]
  },
  {
   "cell_type": "code",
   "execution_count": 79,
   "id": "9b0bc466-866c-4de4-9169-9c98d0ec94ba",
   "metadata": {},
   "outputs": [
    {
     "name": "stdout",
     "output_type": "stream",
     "text": [
      "단어 집합의 크기: 12\n"
     ]
    }
   ],
   "source": [
    "t = Tokenizer()\n",
    "t.fit_on_texts([text])\n",
    "vocab_size = len(t.word_index) + 1\n",
    "print(\"단어 집합의 크기: %d\" % vocab_size)"
   ]
  },
  {
   "cell_type": "code",
   "execution_count": 80,
   "id": "865f82c4-e94b-4f6c-8bee-420c347742e9",
   "metadata": {},
   "outputs": [
    {
     "data": {
      "text/plain": [
       "{'말이': 1,\n",
       " '경마장에': 2,\n",
       " '있는': 3,\n",
       " '뛰고': 4,\n",
       " '있다': 5,\n",
       " '그의': 6,\n",
       " '법이다': 7,\n",
       " '가는': 8,\n",
       " '고아야': 9,\n",
       " '오는': 10,\n",
       " '곱다': 11}"
      ]
     },
     "execution_count": 80,
     "metadata": {},
     "output_type": "execute_result"
    }
   ],
   "source": [
    "t.word_index"
   ]
  },
  {
   "cell_type": "code",
   "execution_count": 81,
   "id": "039cc461-93f3-477e-a900-f6b8941640c6",
   "metadata": {},
   "outputs": [
    {
     "name": "stdout",
     "output_type": "stream",
     "text": [
      "[[2, 3], [2, 3, 1], [2, 3, 1, 4], [2, 3, 1, 4, 5], [6, 1], [6, 1, 7], [8, 1], [8, 1, 9], [8, 1, 9, 10], [8, 1, 9, 10, 1], [8, 1, 9, 10, 1, 11]]\n",
      "학습에 사용할 샘플의 개수: 6\n"
     ]
    }
   ],
   "source": [
    "sequences = list()\n",
    "for line in text.split(\"\\n\"):\n",
    "    encoded = t.texts_to_sequences([line])[0]\n",
    "    for i in range(1, len(encoded)):\n",
    "        sequence = encoded[:i+1]\n",
    "        sequences.append(sequence)\n",
    "\n",
    "print(sequences)\n",
    "print(\"학습에 사용할 샘플의 개수: %d\" % len(sequence))"
   ]
  },
  {
   "cell_type": "code",
   "execution_count": 82,
   "id": "6b25c8fa-e5ca-4d1c-92c1-51d71e616183",
   "metadata": {},
   "outputs": [
    {
     "name": "stdout",
     "output_type": "stream",
     "text": [
      "샘플의 최대 길이: 6\n"
     ]
    }
   ],
   "source": [
    "max_len = max(len(l) for l in sequences)\n",
    "print(\"샘플의 최대 길이: {}\".format(max_len))"
   ]
  },
  {
   "cell_type": "code",
   "execution_count": 83,
   "id": "7d8c2fac-a61f-4541-80ff-2a7b5c03bada",
   "metadata": {},
   "outputs": [
    {
     "data": {
      "text/plain": [
       "array([[ 0,  0,  0,  0,  2,  3],\n",
       "       [ 0,  0,  0,  2,  3,  1],\n",
       "       [ 0,  0,  2,  3,  1,  4],\n",
       "       [ 0,  2,  3,  1,  4,  5],\n",
       "       [ 0,  0,  0,  0,  6,  1],\n",
       "       [ 0,  0,  0,  6,  1,  7],\n",
       "       [ 0,  0,  0,  0,  8,  1],\n",
       "       [ 0,  0,  0,  8,  1,  9],\n",
       "       [ 0,  0,  8,  1,  9, 10],\n",
       "       [ 0,  8,  1,  9, 10,  1],\n",
       "       [ 8,  1,  9, 10,  1, 11]])"
      ]
     },
     "execution_count": 83,
     "metadata": {},
     "output_type": "execute_result"
    }
   ],
   "source": [
    "sequences = pad_sequences(sequences, maxlen =max_len, padding= 'pre')\n",
    "sequences"
   ]
  },
  {
   "cell_type": "markdown",
   "id": "25e74d6e-22ef-4692-b8a0-17562f3180e8",
   "metadata": {},
   "source": [
    "| 파라미터         | 설명                                                   | 예시                                                    |\n",
    "| ------------ | ---------------------------------------------------- | ----------------------------------------------------- |\n",
    "| `sequences`  | 패딩할 대상 시퀀스 (리스트의 리스트)                                | `[[1, 2, 3], [4, 5], [6]]`                            |\n",
    "| `maxlen`     | 최종적으로 맞출 시퀀스 길이<br>지정 안 하면 가장 긴 시퀀스 기준               | `maxlen=4` → `[0, 1, 2, 3]`                           |\n",
    "| `dtype`      | 데이터 타입 (기본 `'int32'`)                                | 보통 그대로 둠                                              |\n",
    "| `padding`    | 짧은 시퀀스를 어디에 0으로 채울지 <br> `'pre'` (앞에), `'post'` (뒤에) | `'pre'` → `[0, 0, 1, 2]`<br>`'post'` → `[1, 2, 0, 0]` |\n",
    "| `truncating` | 길이를 자를 때 앞/뒤 중 어디를 자를지                               | `'pre'` → 앞에서 자름<br>`'post'` → 뒤에서 자름                 |\n",
    "| `value`      | 패딩할 때 넣을 값 (기본: `0`)                                 | `value=-1` → `[-1, -1, 1, 2]`                         |\n"
   ]
  },
  {
   "cell_type": "code",
   "execution_count": 84,
   "id": "3ea6b8b8-c6fb-4667-b77c-75dfbbd99ff6",
   "metadata": {},
   "outputs": [],
   "source": [
    "sequences = [[3, 4, 5], [1, 2], [6]]\n",
    "max_len = 4\n",
    "sequences = pad_sequences(sequences, maxlen=max_len, padding='pre')"
   ]
  },
  {
   "cell_type": "code",
   "execution_count": 85,
   "id": "a3aedf19-8256-4574-b797-a324c75e7995",
   "metadata": {},
   "outputs": [],
   "source": [
    "sequences = np.array(sequences)\n",
    "X = sequences[:, : -1]\n",
    "y = sequences[:, -1]"
   ]
  },
  {
   "cell_type": "code",
   "execution_count": null,
   "id": "d71becc3-c192-449b-a005-9aa7917128e1",
   "metadata": {},
   "outputs": [],
   "source": [
    "model = Sequential()\n",
    "model.add(Embedding(vocab_size ,6))\n",
    "model.add(SimpleRNN(32))\n",
    "model.add(Dense(vocab_size, actication = 'softmax')\n",
    "model.build(input_shape=(None,))"
   ]
  },
  {
   "cell_type": "code",
   "execution_count": 86,
   "id": "803ea6e4-427e-49de-91e8-951d41156584",
   "metadata": {},
   "outputs": [
    {
     "name": "stdout",
     "output_type": "stream",
     "text": [
      "샘플의 최대 길이 : 4\n"
     ]
    }
   ],
   "source": [
    "max_len=max(len(l) for l in sequences)\n",
    "print('샘플의 최대 길이 : {}'.format(max_len))"
   ]
  },
  {
   "cell_type": "code",
   "execution_count": 87,
   "id": "c2e2438b-00b2-43d8-aae6-e9249dd0f840",
   "metadata": {},
   "outputs": [],
   "source": [
    "sequences = np.array(sequences)\n",
    "X = sequences[:, :-1]\n",
    "y = sequences[:, -1]"
   ]
  },
  {
   "cell_type": "code",
   "execution_count": 88,
   "id": "2683a7b6-7566-47a0-9c0c-ba423af12cf2",
   "metadata": {},
   "outputs": [
    {
     "name": "stdout",
     "output_type": "stream",
     "text": [
      "[[0. 0. 0. 0. 0. 1. 0. 0. 0. 0. 0. 0.]\n",
      " [0. 0. 1. 0. 0. 0. 0. 0. 0. 0. 0. 0.]\n",
      " [0. 0. 0. 0. 0. 0. 1. 0. 0. 0. 0. 0.]]\n"
     ]
    }
   ],
   "source": [
    "y = to_categorical(y, num_classes=vocab_size)\n",
    "print(y)"
   ]
  },
  {
   "cell_type": "code",
   "execution_count": 89,
   "id": "03f50446-dcd5-42aa-9e58-2f0d3b22caf6",
   "metadata": {},
   "outputs": [],
   "source": [
    "from tensorflow.keras.models import Sequential\n",
    "from tensorflow.keras.layers import Embedding, Dense, SimpleRNN"
   ]
  },
  {
   "cell_type": "code",
   "execution_count": 90,
   "id": "4d30a84a-634e-4892-ae1c-012dec0d20dd",
   "metadata": {},
   "outputs": [
    {
     "name": "stdout",
     "output_type": "stream",
     "text": [
      "Model: \"sequential_13\"\n",
      "_________________________________________________________________\n",
      " Layer (type)                Output Shape              Param #   \n",
      "=================================================================\n",
      " embedding_3 (Embedding)     (None, None, 6)           72        \n",
      "                                                                 \n",
      " simple_rnn_12 (SimpleRNN)   (None, 32)                1248      \n",
      "                                                                 \n",
      " dense_3 (Dense)             (None, 12)                396       \n",
      "                                                                 \n",
      "=================================================================\n",
      "Total params: 1716 (6.70 KB)\n",
      "Trainable params: 1716 (6.70 KB)\n",
      "Non-trainable params: 0 (0.00 Byte)\n",
      "_________________________________________________________________\n"
     ]
    }
   ],
   "source": [
    "model = Sequential()\n",
    "model.add(Embedding(vocab_size, 6)) # 밀집벡터\n",
    "model.add(SimpleRNN(32))\n",
    "model.add(Dense(vocab_size, activation='softmax'))\n",
    "model.build(input_shape=(None, max_len-1))\n",
    "model.summary()"
   ]
  },
  {
   "cell_type": "code",
   "execution_count": 94,
   "id": "02e95ff0-d009-4605-9bb3-5514b113b3b6",
   "metadata": {},
   "outputs": [
    {
     "name": "stdout",
     "output_type": "stream",
     "text": [
      "Epoch 1/200\n",
      "1/1 - 1s - loss: 0.2001 - accuracy: 1.0000 - 728ms/epoch - 728ms/step\n",
      "Epoch 2/200\n",
      "1/1 - 0s - loss: 0.1961 - accuracy: 1.0000 - 4ms/epoch - 4ms/step\n",
      "Epoch 3/200\n",
      "1/1 - 0s - loss: 0.1923 - accuracy: 1.0000 - 4ms/epoch - 4ms/step\n",
      "Epoch 4/200\n",
      "1/1 - 0s - loss: 0.1884 - accuracy: 1.0000 - 5ms/epoch - 5ms/step\n",
      "Epoch 5/200\n",
      "1/1 - 0s - loss: 0.1847 - accuracy: 1.0000 - 4ms/epoch - 4ms/step\n",
      "Epoch 6/200\n",
      "1/1 - 0s - loss: 0.1810 - accuracy: 1.0000 - 5ms/epoch - 5ms/step\n",
      "Epoch 7/200\n",
      "1/1 - 0s - loss: 0.1773 - accuracy: 1.0000 - 3ms/epoch - 3ms/step\n",
      "Epoch 8/200\n",
      "1/1 - 0s - loss: 0.1737 - accuracy: 1.0000 - 3ms/epoch - 3ms/step\n",
      "Epoch 9/200\n",
      "1/1 - 0s - loss: 0.1702 - accuracy: 1.0000 - 5ms/epoch - 5ms/step\n",
      "Epoch 10/200\n",
      "1/1 - 0s - loss: 0.1667 - accuracy: 1.0000 - 3ms/epoch - 3ms/step\n",
      "Epoch 11/200\n",
      "1/1 - 0s - loss: 0.1632 - accuracy: 1.0000 - 5ms/epoch - 5ms/step\n",
      "Epoch 12/200\n",
      "1/1 - 0s - loss: 0.1598 - accuracy: 1.0000 - 4ms/epoch - 4ms/step\n",
      "Epoch 13/200\n",
      "1/1 - 0s - loss: 0.1565 - accuracy: 1.0000 - 6ms/epoch - 6ms/step\n",
      "Epoch 14/200\n",
      "1/1 - 0s - loss: 0.1532 - accuracy: 1.0000 - 6ms/epoch - 6ms/step\n",
      "Epoch 15/200\n",
      "1/1 - 0s - loss: 0.1499 - accuracy: 1.0000 - 5ms/epoch - 5ms/step\n",
      "Epoch 16/200\n",
      "1/1 - 0s - loss: 0.1467 - accuracy: 1.0000 - 4ms/epoch - 4ms/step\n",
      "Epoch 17/200\n",
      "1/1 - 0s - loss: 0.1436 - accuracy: 1.0000 - 4ms/epoch - 4ms/step\n",
      "Epoch 18/200\n",
      "1/1 - 0s - loss: 0.1405 - accuracy: 1.0000 - 5ms/epoch - 5ms/step\n",
      "Epoch 19/200\n",
      "1/1 - 0s - loss: 0.1374 - accuracy: 1.0000 - 4ms/epoch - 4ms/step\n",
      "Epoch 20/200\n",
      "1/1 - 0s - loss: 0.1344 - accuracy: 1.0000 - 4ms/epoch - 4ms/step\n",
      "Epoch 21/200\n",
      "1/1 - 0s - loss: 0.1314 - accuracy: 1.0000 - 5ms/epoch - 5ms/step\n",
      "Epoch 22/200\n",
      "1/1 - 0s - loss: 0.1285 - accuracy: 1.0000 - 5ms/epoch - 5ms/step\n",
      "Epoch 23/200\n",
      "1/1 - 0s - loss: 0.1256 - accuracy: 1.0000 - 4ms/epoch - 4ms/step\n",
      "Epoch 24/200\n",
      "1/1 - 0s - loss: 0.1227 - accuracy: 1.0000 - 6ms/epoch - 6ms/step\n",
      "Epoch 25/200\n",
      "1/1 - 0s - loss: 0.1199 - accuracy: 1.0000 - 5ms/epoch - 5ms/step\n",
      "Epoch 26/200\n",
      "1/1 - 0s - loss: 0.1171 - accuracy: 1.0000 - 6ms/epoch - 6ms/step\n",
      "Epoch 27/200\n",
      "1/1 - 0s - loss: 0.1144 - accuracy: 1.0000 - 6ms/epoch - 6ms/step\n",
      "Epoch 28/200\n",
      "1/1 - 0s - loss: 0.1117 - accuracy: 1.0000 - 5ms/epoch - 5ms/step\n",
      "Epoch 29/200\n",
      "1/1 - 0s - loss: 0.1090 - accuracy: 1.0000 - 5ms/epoch - 5ms/step\n",
      "Epoch 30/200\n",
      "1/1 - 0s - loss: 0.1064 - accuracy: 1.0000 - 6ms/epoch - 6ms/step\n",
      "Epoch 31/200\n",
      "1/1 - 0s - loss: 0.1039 - accuracy: 1.0000 - 5ms/epoch - 5ms/step\n",
      "Epoch 32/200\n",
      "1/1 - 0s - loss: 0.1014 - accuracy: 1.0000 - 5ms/epoch - 5ms/step\n",
      "Epoch 33/200\n",
      "1/1 - 0s - loss: 0.0989 - accuracy: 1.0000 - 5ms/epoch - 5ms/step\n",
      "Epoch 34/200\n",
      "1/1 - 0s - loss: 0.0964 - accuracy: 1.0000 - 5ms/epoch - 5ms/step\n",
      "Epoch 35/200\n",
      "1/1 - 0s - loss: 0.0941 - accuracy: 1.0000 - 5ms/epoch - 5ms/step\n",
      "Epoch 36/200\n",
      "1/1 - 0s - loss: 0.0917 - accuracy: 1.0000 - 5ms/epoch - 5ms/step\n",
      "Epoch 37/200\n",
      "1/1 - 0s - loss: 0.0895 - accuracy: 1.0000 - 5ms/epoch - 5ms/step\n",
      "Epoch 38/200\n",
      "1/1 - 0s - loss: 0.0872 - accuracy: 1.0000 - 5ms/epoch - 5ms/step\n",
      "Epoch 39/200\n",
      "1/1 - 0s - loss: 0.0850 - accuracy: 1.0000 - 5ms/epoch - 5ms/step\n",
      "Epoch 40/200\n",
      "1/1 - 0s - loss: 0.0829 - accuracy: 1.0000 - 5ms/epoch - 5ms/step\n",
      "Epoch 41/200\n",
      "1/1 - 0s - loss: 0.0808 - accuracy: 1.0000 - 5ms/epoch - 5ms/step\n",
      "Epoch 42/200\n",
      "1/1 - 0s - loss: 0.0788 - accuracy: 1.0000 - 6ms/epoch - 6ms/step\n",
      "Epoch 43/200\n",
      "1/1 - 0s - loss: 0.0769 - accuracy: 1.0000 - 6ms/epoch - 6ms/step\n",
      "Epoch 44/200\n",
      "1/1 - 0s - loss: 0.0749 - accuracy: 1.0000 - 4ms/epoch - 4ms/step\n",
      "Epoch 45/200\n",
      "1/1 - 0s - loss: 0.0731 - accuracy: 1.0000 - 6ms/epoch - 6ms/step\n",
      "Epoch 46/200\n",
      "1/1 - 0s - loss: 0.0713 - accuracy: 1.0000 - 5ms/epoch - 5ms/step\n",
      "Epoch 47/200\n",
      "1/1 - 0s - loss: 0.0695 - accuracy: 1.0000 - 6ms/epoch - 6ms/step\n",
      "Epoch 48/200\n",
      "1/1 - 0s - loss: 0.0678 - accuracy: 1.0000 - 6ms/epoch - 6ms/step\n",
      "Epoch 49/200\n",
      "1/1 - 0s - loss: 0.0662 - accuracy: 1.0000 - 6ms/epoch - 6ms/step\n",
      "Epoch 50/200\n",
      "1/1 - 0s - loss: 0.0645 - accuracy: 1.0000 - 5ms/epoch - 5ms/step\n",
      "Epoch 51/200\n",
      "1/1 - 0s - loss: 0.0630 - accuracy: 1.0000 - 5ms/epoch - 5ms/step\n",
      "Epoch 52/200\n",
      "1/1 - 0s - loss: 0.0614 - accuracy: 1.0000 - 4ms/epoch - 4ms/step\n",
      "Epoch 53/200\n",
      "1/1 - 0s - loss: 0.0600 - accuracy: 1.0000 - 5ms/epoch - 5ms/step\n",
      "Epoch 54/200\n",
      "1/1 - 0s - loss: 0.0585 - accuracy: 1.0000 - 4ms/epoch - 4ms/step\n",
      "Epoch 55/200\n",
      "1/1 - 0s - loss: 0.0571 - accuracy: 1.0000 - 5ms/epoch - 5ms/step\n",
      "Epoch 56/200\n",
      "1/1 - 0s - loss: 0.0557 - accuracy: 1.0000 - 5ms/epoch - 5ms/step\n",
      "Epoch 57/200\n",
      "1/1 - 0s - loss: 0.0544 - accuracy: 1.0000 - 5ms/epoch - 5ms/step\n",
      "Epoch 58/200\n",
      "1/1 - 0s - loss: 0.0531 - accuracy: 1.0000 - 4ms/epoch - 4ms/step\n",
      "Epoch 59/200\n",
      "1/1 - 0s - loss: 0.0519 - accuracy: 1.0000 - 5ms/epoch - 5ms/step\n",
      "Epoch 60/200\n",
      "1/1 - 0s - loss: 0.0506 - accuracy: 1.0000 - 5ms/epoch - 5ms/step\n",
      "Epoch 61/200\n",
      "1/1 - 0s - loss: 0.0494 - accuracy: 1.0000 - 5ms/epoch - 5ms/step\n",
      "Epoch 62/200\n",
      "1/1 - 0s - loss: 0.0483 - accuracy: 1.0000 - 4ms/epoch - 4ms/step\n",
      "Epoch 63/200\n",
      "1/1 - 0s - loss: 0.0471 - accuracy: 1.0000 - 5ms/epoch - 5ms/step\n",
      "Epoch 64/200\n",
      "1/1 - 0s - loss: 0.0460 - accuracy: 1.0000 - 4ms/epoch - 4ms/step\n",
      "Epoch 65/200\n",
      "1/1 - 0s - loss: 0.0450 - accuracy: 1.0000 - 5ms/epoch - 5ms/step\n",
      "Epoch 66/200\n",
      "1/1 - 0s - loss: 0.0439 - accuracy: 1.0000 - 5ms/epoch - 5ms/step\n",
      "Epoch 67/200\n",
      "1/1 - 0s - loss: 0.0429 - accuracy: 1.0000 - 5ms/epoch - 5ms/step\n",
      "Epoch 68/200\n",
      "1/1 - 0s - loss: 0.0419 - accuracy: 1.0000 - 5ms/epoch - 5ms/step\n",
      "Epoch 69/200\n",
      "1/1 - 0s - loss: 0.0409 - accuracy: 1.0000 - 6ms/epoch - 6ms/step\n",
      "Epoch 70/200\n",
      "1/1 - 0s - loss: 0.0400 - accuracy: 1.0000 - 5ms/epoch - 5ms/step\n",
      "Epoch 71/200\n",
      "1/1 - 0s - loss: 0.0391 - accuracy: 1.0000 - 5ms/epoch - 5ms/step\n",
      "Epoch 72/200\n",
      "1/1 - 0s - loss: 0.0382 - accuracy: 1.0000 - 5ms/epoch - 5ms/step\n",
      "Epoch 73/200\n",
      "1/1 - 0s - loss: 0.0373 - accuracy: 1.0000 - 5ms/epoch - 5ms/step\n",
      "Epoch 74/200\n",
      "1/1 - 0s - loss: 0.0365 - accuracy: 1.0000 - 4ms/epoch - 4ms/step\n",
      "Epoch 75/200\n",
      "1/1 - 0s - loss: 0.0357 - accuracy: 1.0000 - 6ms/epoch - 6ms/step\n",
      "Epoch 76/200\n",
      "1/1 - 0s - loss: 0.0349 - accuracy: 1.0000 - 5ms/epoch - 5ms/step\n",
      "Epoch 77/200\n",
      "1/1 - 0s - loss: 0.0341 - accuracy: 1.0000 - 4ms/epoch - 4ms/step\n",
      "Epoch 78/200\n",
      "1/1 - 0s - loss: 0.0333 - accuracy: 1.0000 - 4ms/epoch - 4ms/step\n",
      "Epoch 79/200\n",
      "1/1 - 0s - loss: 0.0326 - accuracy: 1.0000 - 4ms/epoch - 4ms/step\n",
      "Epoch 80/200\n",
      "1/1 - 0s - loss: 0.0319 - accuracy: 1.0000 - 5ms/epoch - 5ms/step\n",
      "Epoch 81/200\n",
      "1/1 - 0s - loss: 0.0312 - accuracy: 1.0000 - 5ms/epoch - 5ms/step\n",
      "Epoch 82/200\n",
      "1/1 - 0s - loss: 0.0305 - accuracy: 1.0000 - 5ms/epoch - 5ms/step\n",
      "Epoch 83/200\n",
      "1/1 - 0s - loss: 0.0299 - accuracy: 1.0000 - 4ms/epoch - 4ms/step\n",
      "Epoch 84/200\n",
      "1/1 - 0s - loss: 0.0292 - accuracy: 1.0000 - 4ms/epoch - 4ms/step\n",
      "Epoch 85/200\n",
      "1/1 - 0s - loss: 0.0286 - accuracy: 1.0000 - 5ms/epoch - 5ms/step\n",
      "Epoch 86/200\n",
      "1/1 - 0s - loss: 0.0280 - accuracy: 1.0000 - 5ms/epoch - 5ms/step\n",
      "Epoch 87/200\n",
      "1/1 - 0s - loss: 0.0274 - accuracy: 1.0000 - 4ms/epoch - 4ms/step\n",
      "Epoch 88/200\n",
      "1/1 - 0s - loss: 0.0268 - accuracy: 1.0000 - 5ms/epoch - 5ms/step\n",
      "Epoch 89/200\n",
      "1/1 - 0s - loss: 0.0263 - accuracy: 1.0000 - 4ms/epoch - 4ms/step\n",
      "Epoch 90/200\n",
      "1/1 - 0s - loss: 0.0257 - accuracy: 1.0000 - 5ms/epoch - 5ms/step\n",
      "Epoch 91/200\n",
      "1/1 - 0s - loss: 0.0252 - accuracy: 1.0000 - 4ms/epoch - 4ms/step\n",
      "Epoch 92/200\n",
      "1/1 - 0s - loss: 0.0247 - accuracy: 1.0000 - 5ms/epoch - 5ms/step\n",
      "Epoch 93/200\n",
      "1/1 - 0s - loss: 0.0242 - accuracy: 1.0000 - 5ms/epoch - 5ms/step\n",
      "Epoch 94/200\n",
      "1/1 - 0s - loss: 0.0237 - accuracy: 1.0000 - 4ms/epoch - 4ms/step\n",
      "Epoch 95/200\n",
      "1/1 - 0s - loss: 0.0232 - accuracy: 1.0000 - 5ms/epoch - 5ms/step\n",
      "Epoch 96/200\n",
      "1/1 - 0s - loss: 0.0228 - accuracy: 1.0000 - 5ms/epoch - 5ms/step\n",
      "Epoch 97/200\n",
      "1/1 - 0s - loss: 0.0223 - accuracy: 1.0000 - 5ms/epoch - 5ms/step\n",
      "Epoch 98/200\n",
      "1/1 - 0s - loss: 0.0219 - accuracy: 1.0000 - 3ms/epoch - 3ms/step\n",
      "Epoch 99/200\n",
      "1/1 - 0s - loss: 0.0214 - accuracy: 1.0000 - 5ms/epoch - 5ms/step\n",
      "Epoch 100/200\n",
      "1/1 - 0s - loss: 0.0210 - accuracy: 1.0000 - 3ms/epoch - 3ms/step\n",
      "Epoch 101/200\n",
      "1/1 - 0s - loss: 0.0206 - accuracy: 1.0000 - 4ms/epoch - 4ms/step\n",
      "Epoch 102/200\n",
      "1/1 - 0s - loss: 0.0202 - accuracy: 1.0000 - 4ms/epoch - 4ms/step\n",
      "Epoch 103/200\n",
      "1/1 - 0s - loss: 0.0198 - accuracy: 1.0000 - 5ms/epoch - 5ms/step\n",
      "Epoch 104/200\n",
      "1/1 - 0s - loss: 0.0194 - accuracy: 1.0000 - 4ms/epoch - 4ms/step\n",
      "Epoch 105/200\n",
      "1/1 - 0s - loss: 0.0191 - accuracy: 1.0000 - 3ms/epoch - 3ms/step\n",
      "Epoch 106/200\n",
      "1/1 - 0s - loss: 0.0187 - accuracy: 1.0000 - 3ms/epoch - 3ms/step\n",
      "Epoch 107/200\n",
      "1/1 - 0s - loss: 0.0184 - accuracy: 1.0000 - 4ms/epoch - 4ms/step\n",
      "Epoch 108/200\n",
      "1/1 - 0s - loss: 0.0180 - accuracy: 1.0000 - 5ms/epoch - 5ms/step\n",
      "Epoch 109/200\n",
      "1/1 - 0s - loss: 0.0177 - accuracy: 1.0000 - 4ms/epoch - 4ms/step\n",
      "Epoch 110/200\n",
      "1/1 - 0s - loss: 0.0174 - accuracy: 1.0000 - 3ms/epoch - 3ms/step\n",
      "Epoch 111/200\n",
      "1/1 - 0s - loss: 0.0170 - accuracy: 1.0000 - 3ms/epoch - 3ms/step\n",
      "Epoch 112/200\n",
      "1/1 - 0s - loss: 0.0167 - accuracy: 1.0000 - 3ms/epoch - 3ms/step\n",
      "Epoch 113/200\n",
      "1/1 - 0s - loss: 0.0164 - accuracy: 1.0000 - 3ms/epoch - 3ms/step\n",
      "Epoch 114/200\n",
      "1/1 - 0s - loss: 0.0161 - accuracy: 1.0000 - 4ms/epoch - 4ms/step\n",
      "Epoch 115/200\n",
      "1/1 - 0s - loss: 0.0158 - accuracy: 1.0000 - 5ms/epoch - 5ms/step\n",
      "Epoch 116/200\n",
      "1/1 - 0s - loss: 0.0156 - accuracy: 1.0000 - 4ms/epoch - 4ms/step\n",
      "Epoch 117/200\n",
      "1/1 - 0s - loss: 0.0153 - accuracy: 1.0000 - 4ms/epoch - 4ms/step\n",
      "Epoch 118/200\n",
      "1/1 - 0s - loss: 0.0150 - accuracy: 1.0000 - 5ms/epoch - 5ms/step\n",
      "Epoch 119/200\n",
      "1/1 - 0s - loss: 0.0148 - accuracy: 1.0000 - 3ms/epoch - 3ms/step\n",
      "Epoch 120/200\n",
      "1/1 - 0s - loss: 0.0145 - accuracy: 1.0000 - 4ms/epoch - 4ms/step\n",
      "Epoch 121/200\n",
      "1/1 - 0s - loss: 0.0142 - accuracy: 1.0000 - 4ms/epoch - 4ms/step\n",
      "Epoch 122/200\n",
      "1/1 - 0s - loss: 0.0140 - accuracy: 1.0000 - 4ms/epoch - 4ms/step\n",
      "Epoch 123/200\n",
      "1/1 - 0s - loss: 0.0138 - accuracy: 1.0000 - 4ms/epoch - 4ms/step\n",
      "Epoch 124/200\n",
      "1/1 - 0s - loss: 0.0135 - accuracy: 1.0000 - 4ms/epoch - 4ms/step\n",
      "Epoch 125/200\n",
      "1/1 - 0s - loss: 0.0133 - accuracy: 1.0000 - 5ms/epoch - 5ms/step\n",
      "Epoch 126/200\n",
      "1/1 - 0s - loss: 0.0131 - accuracy: 1.0000 - 3ms/epoch - 3ms/step\n",
      "Epoch 127/200\n",
      "1/1 - 0s - loss: 0.0129 - accuracy: 1.0000 - 4ms/epoch - 4ms/step\n",
      "Epoch 128/200\n",
      "1/1 - 0s - loss: 0.0127 - accuracy: 1.0000 - 5ms/epoch - 5ms/step\n",
      "Epoch 129/200\n",
      "1/1 - 0s - loss: 0.0125 - accuracy: 1.0000 - 5ms/epoch - 5ms/step\n",
      "Epoch 130/200\n",
      "1/1 - 0s - loss: 0.0123 - accuracy: 1.0000 - 4ms/epoch - 4ms/step\n",
      "Epoch 131/200\n",
      "1/1 - 0s - loss: 0.0121 - accuracy: 1.0000 - 3ms/epoch - 3ms/step\n",
      "Epoch 132/200\n",
      "1/1 - 0s - loss: 0.0119 - accuracy: 1.0000 - 4ms/epoch - 4ms/step\n",
      "Epoch 133/200\n",
      "1/1 - 0s - loss: 0.0117 - accuracy: 1.0000 - 3ms/epoch - 3ms/step\n",
      "Epoch 134/200\n",
      "1/1 - 0s - loss: 0.0115 - accuracy: 1.0000 - 4ms/epoch - 4ms/step\n",
      "Epoch 135/200\n",
      "1/1 - 0s - loss: 0.0113 - accuracy: 1.0000 - 4ms/epoch - 4ms/step\n",
      "Epoch 136/200\n",
      "1/1 - 0s - loss: 0.0111 - accuracy: 1.0000 - 3ms/epoch - 3ms/step\n",
      "Epoch 137/200\n",
      "1/1 - 0s - loss: 0.0110 - accuracy: 1.0000 - 4ms/epoch - 4ms/step\n",
      "Epoch 138/200\n",
      "1/1 - 0s - loss: 0.0108 - accuracy: 1.0000 - 3ms/epoch - 3ms/step\n",
      "Epoch 139/200\n",
      "1/1 - 0s - loss: 0.0106 - accuracy: 1.0000 - 4ms/epoch - 4ms/step\n",
      "Epoch 140/200\n",
      "1/1 - 0s - loss: 0.0105 - accuracy: 1.0000 - 4ms/epoch - 4ms/step\n",
      "Epoch 141/200\n",
      "1/1 - 0s - loss: 0.0103 - accuracy: 1.0000 - 3ms/epoch - 3ms/step\n",
      "Epoch 142/200\n",
      "1/1 - 0s - loss: 0.0102 - accuracy: 1.0000 - 4ms/epoch - 4ms/step\n",
      "Epoch 143/200\n",
      "1/1 - 0s - loss: 0.0100 - accuracy: 1.0000 - 4ms/epoch - 4ms/step\n",
      "Epoch 144/200\n",
      "1/1 - 0s - loss: 0.0099 - accuracy: 1.0000 - 4ms/epoch - 4ms/step\n",
      "Epoch 145/200\n",
      "1/1 - 0s - loss: 0.0097 - accuracy: 1.0000 - 4ms/epoch - 4ms/step\n",
      "Epoch 146/200\n",
      "1/1 - 0s - loss: 0.0096 - accuracy: 1.0000 - 4ms/epoch - 4ms/step\n",
      "Epoch 147/200\n",
      "1/1 - 0s - loss: 0.0095 - accuracy: 1.0000 - 4ms/epoch - 4ms/step\n",
      "Epoch 148/200\n",
      "1/1 - 0s - loss: 0.0093 - accuracy: 1.0000 - 3ms/epoch - 3ms/step\n",
      "Epoch 149/200\n",
      "1/1 - 0s - loss: 0.0092 - accuracy: 1.0000 - 4ms/epoch - 4ms/step\n",
      "Epoch 150/200\n",
      "1/1 - 0s - loss: 0.0091 - accuracy: 1.0000 - 4ms/epoch - 4ms/step\n",
      "Epoch 151/200\n",
      "1/1 - 0s - loss: 0.0089 - accuracy: 1.0000 - 3ms/epoch - 3ms/step\n",
      "Epoch 152/200\n",
      "1/1 - 0s - loss: 0.0088 - accuracy: 1.0000 - 3ms/epoch - 3ms/step\n",
      "Epoch 153/200\n",
      "1/1 - 0s - loss: 0.0087 - accuracy: 1.0000 - 3ms/epoch - 3ms/step\n",
      "Epoch 154/200\n",
      "1/1 - 0s - loss: 0.0086 - accuracy: 1.0000 - 4ms/epoch - 4ms/step\n",
      "Epoch 155/200\n",
      "1/1 - 0s - loss: 0.0085 - accuracy: 1.0000 - 5ms/epoch - 5ms/step\n",
      "Epoch 156/200\n",
      "1/1 - 0s - loss: 0.0084 - accuracy: 1.0000 - 3ms/epoch - 3ms/step\n",
      "Epoch 157/200\n",
      "1/1 - 0s - loss: 0.0083 - accuracy: 1.0000 - 3ms/epoch - 3ms/step\n",
      "Epoch 158/200\n",
      "1/1 - 0s - loss: 0.0081 - accuracy: 1.0000 - 4ms/epoch - 4ms/step\n",
      "Epoch 159/200\n",
      "1/1 - 0s - loss: 0.0080 - accuracy: 1.0000 - 4ms/epoch - 4ms/step\n",
      "Epoch 160/200\n",
      "1/1 - 0s - loss: 0.0079 - accuracy: 1.0000 - 4ms/epoch - 4ms/step\n",
      "Epoch 161/200\n",
      "1/1 - 0s - loss: 0.0078 - accuracy: 1.0000 - 3ms/epoch - 3ms/step\n",
      "Epoch 162/200\n",
      "1/1 - 0s - loss: 0.0077 - accuracy: 1.0000 - 3ms/epoch - 3ms/step\n",
      "Epoch 163/200\n",
      "1/1 - 0s - loss: 0.0076 - accuracy: 1.0000 - 3ms/epoch - 3ms/step\n",
      "Epoch 164/200\n",
      "1/1 - 0s - loss: 0.0075 - accuracy: 1.0000 - 4ms/epoch - 4ms/step\n",
      "Epoch 165/200\n",
      "1/1 - 0s - loss: 0.0074 - accuracy: 1.0000 - 4ms/epoch - 4ms/step\n",
      "Epoch 166/200\n",
      "1/1 - 0s - loss: 0.0073 - accuracy: 1.0000 - 5ms/epoch - 5ms/step\n",
      "Epoch 167/200\n",
      "1/1 - 0s - loss: 0.0073 - accuracy: 1.0000 - 4ms/epoch - 4ms/step\n",
      "Epoch 168/200\n",
      "1/1 - 0s - loss: 0.0072 - accuracy: 1.0000 - 4ms/epoch - 4ms/step\n",
      "Epoch 169/200\n",
      "1/1 - 0s - loss: 0.0071 - accuracy: 1.0000 - 4ms/epoch - 4ms/step\n",
      "Epoch 170/200\n",
      "1/1 - 0s - loss: 0.0070 - accuracy: 1.0000 - 4ms/epoch - 4ms/step\n",
      "Epoch 171/200\n",
      "1/1 - 0s - loss: 0.0069 - accuracy: 1.0000 - 4ms/epoch - 4ms/step\n",
      "Epoch 172/200\n",
      "1/1 - 0s - loss: 0.0068 - accuracy: 1.0000 - 3ms/epoch - 3ms/step\n",
      "Epoch 173/200\n",
      "1/1 - 0s - loss: 0.0067 - accuracy: 1.0000 - 5ms/epoch - 5ms/step\n",
      "Epoch 174/200\n",
      "1/1 - 0s - loss: 0.0067 - accuracy: 1.0000 - 3ms/epoch - 3ms/step\n",
      "Epoch 175/200\n",
      "1/1 - 0s - loss: 0.0066 - accuracy: 1.0000 - 5ms/epoch - 5ms/step\n",
      "Epoch 176/200\n",
      "1/1 - 0s - loss: 0.0065 - accuracy: 1.0000 - 4ms/epoch - 4ms/step\n",
      "Epoch 177/200\n",
      "1/1 - 0s - loss: 0.0064 - accuracy: 1.0000 - 4ms/epoch - 4ms/step\n",
      "Epoch 178/200\n",
      "1/1 - 0s - loss: 0.0064 - accuracy: 1.0000 - 4ms/epoch - 4ms/step\n",
      "Epoch 179/200\n",
      "1/1 - 0s - loss: 0.0063 - accuracy: 1.0000 - 4ms/epoch - 4ms/step\n",
      "Epoch 180/200\n",
      "1/1 - 0s - loss: 0.0062 - accuracy: 1.0000 - 3ms/epoch - 3ms/step\n",
      "Epoch 181/200\n",
      "1/1 - 0s - loss: 0.0061 - accuracy: 1.0000 - 4ms/epoch - 4ms/step\n",
      "Epoch 182/200\n",
      "1/1 - 0s - loss: 0.0061 - accuracy: 1.0000 - 3ms/epoch - 3ms/step\n",
      "Epoch 183/200\n",
      "1/1 - 0s - loss: 0.0060 - accuracy: 1.0000 - 4ms/epoch - 4ms/step\n",
      "Epoch 184/200\n",
      "1/1 - 0s - loss: 0.0059 - accuracy: 1.0000 - 3ms/epoch - 3ms/step\n",
      "Epoch 185/200\n",
      "1/1 - 0s - loss: 0.0059 - accuracy: 1.0000 - 4ms/epoch - 4ms/step\n",
      "Epoch 186/200\n",
      "1/1 - 0s - loss: 0.0058 - accuracy: 1.0000 - 3ms/epoch - 3ms/step\n",
      "Epoch 187/200\n",
      "1/1 - 0s - loss: 0.0057 - accuracy: 1.0000 - 3ms/epoch - 3ms/step\n",
      "Epoch 188/200\n",
      "1/1 - 0s - loss: 0.0057 - accuracy: 1.0000 - 4ms/epoch - 4ms/step\n",
      "Epoch 189/200\n",
      "1/1 - 0s - loss: 0.0056 - accuracy: 1.0000 - 3ms/epoch - 3ms/step\n",
      "Epoch 190/200\n",
      "1/1 - 0s - loss: 0.0056 - accuracy: 1.0000 - 4ms/epoch - 4ms/step\n",
      "Epoch 191/200\n",
      "1/1 - 0s - loss: 0.0055 - accuracy: 1.0000 - 3ms/epoch - 3ms/step\n",
      "Epoch 192/200\n",
      "1/1 - 0s - loss: 0.0054 - accuracy: 1.0000 - 4ms/epoch - 4ms/step\n",
      "Epoch 193/200\n",
      "1/1 - 0s - loss: 0.0054 - accuracy: 1.0000 - 4ms/epoch - 4ms/step\n",
      "Epoch 194/200\n",
      "1/1 - 0s - loss: 0.0053 - accuracy: 1.0000 - 5ms/epoch - 5ms/step\n",
      "Epoch 195/200\n",
      "1/1 - 0s - loss: 0.0053 - accuracy: 1.0000 - 4ms/epoch - 4ms/step\n",
      "Epoch 196/200\n",
      "1/1 - 0s - loss: 0.0052 - accuracy: 1.0000 - 4ms/epoch - 4ms/step\n",
      "Epoch 197/200\n",
      "1/1 - 0s - loss: 0.0052 - accuracy: 1.0000 - 4ms/epoch - 4ms/step\n",
      "Epoch 198/200\n",
      "1/1 - 0s - loss: 0.0051 - accuracy: 1.0000 - 5ms/epoch - 5ms/step\n",
      "Epoch 199/200\n",
      "1/1 - 0s - loss: 0.0051 - accuracy: 1.0000 - 4ms/epoch - 4ms/step\n",
      "Epoch 200/200\n",
      "1/1 - 0s - loss: 0.0050 - accuracy: 1.0000 - 4ms/epoch - 4ms/step\n"
     ]
    },
    {
     "data": {
      "text/plain": [
       "<keras.src.callbacks.History at 0x1fd8a7fc710>"
      ]
     },
     "execution_count": 94,
     "metadata": {},
     "output_type": "execute_result"
    }
   ],
   "source": [
    "model.compile(loss='categorical_crossentropy', optimizer='adam', metrics=['accuracy'])\n",
    "model.fit(X, y, epochs=200, verbose=2)"
   ]
  },
  {
   "cell_type": "code",
   "execution_count": 95,
   "id": "6cc80700-db7f-4135-b786-adc85d18ba5d",
   "metadata": {},
   "outputs": [],
   "source": [
    "def sentence_generation(model, t, current_word, n ):\n",
    "    init_word = current_word\n",
    "    sentence =''\n",
    "    for _ in range(n):\n",
    "        encoded = t.texts_to_sequences([current_word])[0]\n",
    "        encoded = pad_sequences([encoded], maxlen = max_len -1 , padding= 'pre')\n",
    "        temp = model.predict(encoded)\n",
    "        result = np.argmax(temp, axis = 1)\n",
    "        for word, index in t.word_index.items():\n",
    "            if index == result:\n",
    "                break\n",
    "        current_word = current_word + \" \" +word\n",
    "        sentence = sentence + ' ' + word\n",
    "    sentence =init_word + sentence\n",
    "    return sentence"
   ]
  },
  {
   "cell_type": "code",
   "execution_count": 100,
   "id": "d1139df1-733b-465c-8a68-fbc213327c8d",
   "metadata": {},
   "outputs": [
    {
     "name": "stdout",
     "output_type": "stream",
     "text": [
      "1/1 [==============================] - 0s 15ms/step\n",
      "1/1 [==============================] - 0s 18ms/step\n",
      "1/1 [==============================] - 0s 14ms/step\n",
      "경마장에 경마장에 있다 있다\n"
     ]
    }
   ],
   "source": [
    "print(sentence_generation(model, t, \"경마장에\", 3))"
   ]
  },
  {
   "cell_type": "code",
   "execution_count": 101,
   "id": "f4cc9815-2991-4365-8a56-cb2645911d9a",
   "metadata": {},
   "outputs": [],
   "source": [
    "#LSTM을 이용하여 텍스트 생성하기"
   ]
  },
  {
   "cell_type": "code",
   "execution_count": 103,
   "id": "8b9d5459-a6cf-4faa-b5c7-28277c989f1b",
   "metadata": {},
   "outputs": [],
   "source": [
    "import pandas as pd\n",
    "from string import punctuation\n",
    "from tensorflow.keras.preprocessing.text import Tokenizer\n",
    "from tensorflow.keras.preprocessing.sequence import pad_sequences\n",
    "import numpy as np\n",
    "from tensorflow.keras.utils import to_categorical"
   ]
  },
  {
   "cell_type": "code",
   "execution_count": 105,
   "id": "ae44823e-05eb-4e6b-b781-2d3e881184ca",
   "metadata": {},
   "outputs": [
    {
     "ename": "FileNotFoundError",
     "evalue": "[Errno 2] No such file or directory: './ArticleApril2018.csv'",
     "output_type": "error",
     "traceback": [
      "\u001b[31m---------------------------------------------------------------------------\u001b[39m",
      "\u001b[31mFileNotFoundError\u001b[39m                         Traceback (most recent call last)",
      "\u001b[36mCell\u001b[39m\u001b[36m \u001b[39m\u001b[32mIn[105]\u001b[39m\u001b[32m, line 1\u001b[39m\n\u001b[32m----> \u001b[39m\u001b[32m1\u001b[39m df = \u001b[43mpd\u001b[49m\u001b[43m.\u001b[49m\u001b[43mread_csv\u001b[49m\u001b[43m(\u001b[49m\u001b[33;43m\"\u001b[39;49m\u001b[33;43m./ArticleApril2018.csv\u001b[39;49m\u001b[33;43m\"\u001b[39;49m\u001b[43m)\u001b[49m\n\u001b[32m      2\u001b[39m df.head(\u001b[32m2\u001b[39m)\n",
      "\u001b[36mFile \u001b[39m\u001b[32m~\\Documents\\GitHub\\Data_Baisc_Analyze\\Data_Baisc_Analyze\\.venv\\Lib\\site-packages\\pandas\\io\\parsers\\readers.py:1026\u001b[39m, in \u001b[36mread_csv\u001b[39m\u001b[34m(filepath_or_buffer, sep, delimiter, header, names, index_col, usecols, dtype, engine, converters, true_values, false_values, skipinitialspace, skiprows, skipfooter, nrows, na_values, keep_default_na, na_filter, verbose, skip_blank_lines, parse_dates, infer_datetime_format, keep_date_col, date_parser, date_format, dayfirst, cache_dates, iterator, chunksize, compression, thousands, decimal, lineterminator, quotechar, quoting, doublequote, escapechar, comment, encoding, encoding_errors, dialect, on_bad_lines, delim_whitespace, low_memory, memory_map, float_precision, storage_options, dtype_backend)\u001b[39m\n\u001b[32m   1013\u001b[39m kwds_defaults = _refine_defaults_read(\n\u001b[32m   1014\u001b[39m     dialect,\n\u001b[32m   1015\u001b[39m     delimiter,\n\u001b[32m   (...)\u001b[39m\u001b[32m   1022\u001b[39m     dtype_backend=dtype_backend,\n\u001b[32m   1023\u001b[39m )\n\u001b[32m   1024\u001b[39m kwds.update(kwds_defaults)\n\u001b[32m-> \u001b[39m\u001b[32m1026\u001b[39m \u001b[38;5;28;01mreturn\u001b[39;00m \u001b[43m_read\u001b[49m\u001b[43m(\u001b[49m\u001b[43mfilepath_or_buffer\u001b[49m\u001b[43m,\u001b[49m\u001b[43m \u001b[49m\u001b[43mkwds\u001b[49m\u001b[43m)\u001b[49m\n",
      "\u001b[36mFile \u001b[39m\u001b[32m~\\Documents\\GitHub\\Data_Baisc_Analyze\\Data_Baisc_Analyze\\.venv\\Lib\\site-packages\\pandas\\io\\parsers\\readers.py:620\u001b[39m, in \u001b[36m_read\u001b[39m\u001b[34m(filepath_or_buffer, kwds)\u001b[39m\n\u001b[32m    617\u001b[39m _validate_names(kwds.get(\u001b[33m\"\u001b[39m\u001b[33mnames\u001b[39m\u001b[33m\"\u001b[39m, \u001b[38;5;28;01mNone\u001b[39;00m))\n\u001b[32m    619\u001b[39m \u001b[38;5;66;03m# Create the parser.\u001b[39;00m\n\u001b[32m--> \u001b[39m\u001b[32m620\u001b[39m parser = \u001b[43mTextFileReader\u001b[49m\u001b[43m(\u001b[49m\u001b[43mfilepath_or_buffer\u001b[49m\u001b[43m,\u001b[49m\u001b[43m \u001b[49m\u001b[43m*\u001b[49m\u001b[43m*\u001b[49m\u001b[43mkwds\u001b[49m\u001b[43m)\u001b[49m\n\u001b[32m    622\u001b[39m \u001b[38;5;28;01mif\u001b[39;00m chunksize \u001b[38;5;129;01mor\u001b[39;00m iterator:\n\u001b[32m    623\u001b[39m     \u001b[38;5;28;01mreturn\u001b[39;00m parser\n",
      "\u001b[36mFile \u001b[39m\u001b[32m~\\Documents\\GitHub\\Data_Baisc_Analyze\\Data_Baisc_Analyze\\.venv\\Lib\\site-packages\\pandas\\io\\parsers\\readers.py:1620\u001b[39m, in \u001b[36mTextFileReader.__init__\u001b[39m\u001b[34m(self, f, engine, **kwds)\u001b[39m\n\u001b[32m   1617\u001b[39m     \u001b[38;5;28mself\u001b[39m.options[\u001b[33m\"\u001b[39m\u001b[33mhas_index_names\u001b[39m\u001b[33m\"\u001b[39m] = kwds[\u001b[33m\"\u001b[39m\u001b[33mhas_index_names\u001b[39m\u001b[33m\"\u001b[39m]\n\u001b[32m   1619\u001b[39m \u001b[38;5;28mself\u001b[39m.handles: IOHandles | \u001b[38;5;28;01mNone\u001b[39;00m = \u001b[38;5;28;01mNone\u001b[39;00m\n\u001b[32m-> \u001b[39m\u001b[32m1620\u001b[39m \u001b[38;5;28mself\u001b[39m._engine = \u001b[38;5;28;43mself\u001b[39;49m\u001b[43m.\u001b[49m\u001b[43m_make_engine\u001b[49m\u001b[43m(\u001b[49m\u001b[43mf\u001b[49m\u001b[43m,\u001b[49m\u001b[43m \u001b[49m\u001b[38;5;28;43mself\u001b[39;49m\u001b[43m.\u001b[49m\u001b[43mengine\u001b[49m\u001b[43m)\u001b[49m\n",
      "\u001b[36mFile \u001b[39m\u001b[32m~\\Documents\\GitHub\\Data_Baisc_Analyze\\Data_Baisc_Analyze\\.venv\\Lib\\site-packages\\pandas\\io\\parsers\\readers.py:1880\u001b[39m, in \u001b[36mTextFileReader._make_engine\u001b[39m\u001b[34m(self, f, engine)\u001b[39m\n\u001b[32m   1878\u001b[39m     \u001b[38;5;28;01mif\u001b[39;00m \u001b[33m\"\u001b[39m\u001b[33mb\u001b[39m\u001b[33m\"\u001b[39m \u001b[38;5;129;01mnot\u001b[39;00m \u001b[38;5;129;01min\u001b[39;00m mode:\n\u001b[32m   1879\u001b[39m         mode += \u001b[33m\"\u001b[39m\u001b[33mb\u001b[39m\u001b[33m\"\u001b[39m\n\u001b[32m-> \u001b[39m\u001b[32m1880\u001b[39m \u001b[38;5;28mself\u001b[39m.handles = \u001b[43mget_handle\u001b[49m\u001b[43m(\u001b[49m\n\u001b[32m   1881\u001b[39m \u001b[43m    \u001b[49m\u001b[43mf\u001b[49m\u001b[43m,\u001b[49m\n\u001b[32m   1882\u001b[39m \u001b[43m    \u001b[49m\u001b[43mmode\u001b[49m\u001b[43m,\u001b[49m\n\u001b[32m   1883\u001b[39m \u001b[43m    \u001b[49m\u001b[43mencoding\u001b[49m\u001b[43m=\u001b[49m\u001b[38;5;28;43mself\u001b[39;49m\u001b[43m.\u001b[49m\u001b[43moptions\u001b[49m\u001b[43m.\u001b[49m\u001b[43mget\u001b[49m\u001b[43m(\u001b[49m\u001b[33;43m\"\u001b[39;49m\u001b[33;43mencoding\u001b[39;49m\u001b[33;43m\"\u001b[39;49m\u001b[43m,\u001b[49m\u001b[43m \u001b[49m\u001b[38;5;28;43;01mNone\u001b[39;49;00m\u001b[43m)\u001b[49m\u001b[43m,\u001b[49m\n\u001b[32m   1884\u001b[39m \u001b[43m    \u001b[49m\u001b[43mcompression\u001b[49m\u001b[43m=\u001b[49m\u001b[38;5;28;43mself\u001b[39;49m\u001b[43m.\u001b[49m\u001b[43moptions\u001b[49m\u001b[43m.\u001b[49m\u001b[43mget\u001b[49m\u001b[43m(\u001b[49m\u001b[33;43m\"\u001b[39;49m\u001b[33;43mcompression\u001b[39;49m\u001b[33;43m\"\u001b[39;49m\u001b[43m,\u001b[49m\u001b[43m \u001b[49m\u001b[38;5;28;43;01mNone\u001b[39;49;00m\u001b[43m)\u001b[49m\u001b[43m,\u001b[49m\n\u001b[32m   1885\u001b[39m \u001b[43m    \u001b[49m\u001b[43mmemory_map\u001b[49m\u001b[43m=\u001b[49m\u001b[38;5;28;43mself\u001b[39;49m\u001b[43m.\u001b[49m\u001b[43moptions\u001b[49m\u001b[43m.\u001b[49m\u001b[43mget\u001b[49m\u001b[43m(\u001b[49m\u001b[33;43m\"\u001b[39;49m\u001b[33;43mmemory_map\u001b[39;49m\u001b[33;43m\"\u001b[39;49m\u001b[43m,\u001b[49m\u001b[43m \u001b[49m\u001b[38;5;28;43;01mFalse\u001b[39;49;00m\u001b[43m)\u001b[49m\u001b[43m,\u001b[49m\n\u001b[32m   1886\u001b[39m \u001b[43m    \u001b[49m\u001b[43mis_text\u001b[49m\u001b[43m=\u001b[49m\u001b[43mis_text\u001b[49m\u001b[43m,\u001b[49m\n\u001b[32m   1887\u001b[39m \u001b[43m    \u001b[49m\u001b[43merrors\u001b[49m\u001b[43m=\u001b[49m\u001b[38;5;28;43mself\u001b[39;49m\u001b[43m.\u001b[49m\u001b[43moptions\u001b[49m\u001b[43m.\u001b[49m\u001b[43mget\u001b[49m\u001b[43m(\u001b[49m\u001b[33;43m\"\u001b[39;49m\u001b[33;43mencoding_errors\u001b[39;49m\u001b[33;43m\"\u001b[39;49m\u001b[43m,\u001b[49m\u001b[43m \u001b[49m\u001b[33;43m\"\u001b[39;49m\u001b[33;43mstrict\u001b[39;49m\u001b[33;43m\"\u001b[39;49m\u001b[43m)\u001b[49m\u001b[43m,\u001b[49m\n\u001b[32m   1888\u001b[39m \u001b[43m    \u001b[49m\u001b[43mstorage_options\u001b[49m\u001b[43m=\u001b[49m\u001b[38;5;28;43mself\u001b[39;49m\u001b[43m.\u001b[49m\u001b[43moptions\u001b[49m\u001b[43m.\u001b[49m\u001b[43mget\u001b[49m\u001b[43m(\u001b[49m\u001b[33;43m\"\u001b[39;49m\u001b[33;43mstorage_options\u001b[39;49m\u001b[33;43m\"\u001b[39;49m\u001b[43m,\u001b[49m\u001b[43m \u001b[49m\u001b[38;5;28;43;01mNone\u001b[39;49;00m\u001b[43m)\u001b[49m\u001b[43m,\u001b[49m\n\u001b[32m   1889\u001b[39m \u001b[43m\u001b[49m\u001b[43m)\u001b[49m\n\u001b[32m   1890\u001b[39m \u001b[38;5;28;01massert\u001b[39;00m \u001b[38;5;28mself\u001b[39m.handles \u001b[38;5;129;01mis\u001b[39;00m \u001b[38;5;129;01mnot\u001b[39;00m \u001b[38;5;28;01mNone\u001b[39;00m\n\u001b[32m   1891\u001b[39m f = \u001b[38;5;28mself\u001b[39m.handles.handle\n",
      "\u001b[36mFile \u001b[39m\u001b[32m~\\Documents\\GitHub\\Data_Baisc_Analyze\\Data_Baisc_Analyze\\.venv\\Lib\\site-packages\\pandas\\io\\common.py:873\u001b[39m, in \u001b[36mget_handle\u001b[39m\u001b[34m(path_or_buf, mode, encoding, compression, memory_map, is_text, errors, storage_options)\u001b[39m\n\u001b[32m    868\u001b[39m \u001b[38;5;28;01melif\u001b[39;00m \u001b[38;5;28misinstance\u001b[39m(handle, \u001b[38;5;28mstr\u001b[39m):\n\u001b[32m    869\u001b[39m     \u001b[38;5;66;03m# Check whether the filename is to be opened in binary mode.\u001b[39;00m\n\u001b[32m    870\u001b[39m     \u001b[38;5;66;03m# Binary mode does not support 'encoding' and 'newline'.\u001b[39;00m\n\u001b[32m    871\u001b[39m     \u001b[38;5;28;01mif\u001b[39;00m ioargs.encoding \u001b[38;5;129;01mand\u001b[39;00m \u001b[33m\"\u001b[39m\u001b[33mb\u001b[39m\u001b[33m\"\u001b[39m \u001b[38;5;129;01mnot\u001b[39;00m \u001b[38;5;129;01min\u001b[39;00m ioargs.mode:\n\u001b[32m    872\u001b[39m         \u001b[38;5;66;03m# Encoding\u001b[39;00m\n\u001b[32m--> \u001b[39m\u001b[32m873\u001b[39m         handle = \u001b[38;5;28;43mopen\u001b[39;49m\u001b[43m(\u001b[49m\n\u001b[32m    874\u001b[39m \u001b[43m            \u001b[49m\u001b[43mhandle\u001b[49m\u001b[43m,\u001b[49m\n\u001b[32m    875\u001b[39m \u001b[43m            \u001b[49m\u001b[43mioargs\u001b[49m\u001b[43m.\u001b[49m\u001b[43mmode\u001b[49m\u001b[43m,\u001b[49m\n\u001b[32m    876\u001b[39m \u001b[43m            \u001b[49m\u001b[43mencoding\u001b[49m\u001b[43m=\u001b[49m\u001b[43mioargs\u001b[49m\u001b[43m.\u001b[49m\u001b[43mencoding\u001b[49m\u001b[43m,\u001b[49m\n\u001b[32m    877\u001b[39m \u001b[43m            \u001b[49m\u001b[43merrors\u001b[49m\u001b[43m=\u001b[49m\u001b[43merrors\u001b[49m\u001b[43m,\u001b[49m\n\u001b[32m    878\u001b[39m \u001b[43m            \u001b[49m\u001b[43mnewline\u001b[49m\u001b[43m=\u001b[49m\u001b[33;43m\"\u001b[39;49m\u001b[33;43m\"\u001b[39;49m\u001b[43m,\u001b[49m\n\u001b[32m    879\u001b[39m \u001b[43m        \u001b[49m\u001b[43m)\u001b[49m\n\u001b[32m    880\u001b[39m     \u001b[38;5;28;01melse\u001b[39;00m:\n\u001b[32m    881\u001b[39m         \u001b[38;5;66;03m# Binary mode\u001b[39;00m\n\u001b[32m    882\u001b[39m         handle = \u001b[38;5;28mopen\u001b[39m(handle, ioargs.mode)\n",
      "\u001b[31mFileNotFoundError\u001b[39m: [Errno 2] No such file or directory: './ArticleApril2018.csv'"
     ]
    }
   ],
   "source": [
    "df = pd.read_csv(\"./ArticleApril2018.csv\")\n",
    "df.head(2)"
   ]
  },
  {
   "cell_type": "code",
   "execution_count": null,
   "id": "9e6285ec-bfc5-4343-986d-55ab19eaa8fc",
   "metadata": {},
   "outputs": [],
   "source": []
  }
 ],
 "metadata": {
  "kernelspec": {
   "display_name": "Python 3 (ipykernel)",
   "language": "python",
   "name": "python3"
  },
  "language_info": {
   "codemirror_mode": {
    "name": "ipython",
    "version": 3
   },
   "file_extension": ".py",
   "mimetype": "text/x-python",
   "name": "python",
   "nbconvert_exporter": "python",
   "pygments_lexer": "ipython3",
   "version": "3.11.0"
  }
 },
 "nbformat": 4,
 "nbformat_minor": 5
}
