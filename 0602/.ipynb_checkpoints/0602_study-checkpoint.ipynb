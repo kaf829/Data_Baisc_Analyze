{
 "cells": [
  {
   "cell_type": "code",
   "execution_count": 7,
   "id": "79e38b5e-36b8-491a-81ae-81260edf54bd",
   "metadata": {},
   "outputs": [],
   "source": [
    "import sklearn"
   ]
  },
  {
   "cell_type": "code",
   "execution_count": null,
   "id": "28cefe98-66ac-4b4e-8992-ea5fa64a066b",
   "metadata": {},
   "outputs": [],
   "source": []
  },
  {
   "cell_type": "code",
   "execution_count": 8,
   "id": "cdb87f4b-d42c-4ccb-b444-78602295b498",
   "metadata": {},
   "outputs": [],
   "source": [
    "import sklearn"
   ]
  },
  {
   "cell_type": "code",
   "execution_count": 9,
   "id": "ef21c7a4-d3cf-4645-94b1-fb4d99c2da16",
   "metadata": {},
   "outputs": [
    {
     "name": "stdout",
     "output_type": "stream",
     "text": [
      "Requirement already satisfied: scikit-learn in c:\\users\\minjun\\appdata\\local\\programs\\python\\python311\\lib\\site-packages (1.6.1)\n",
      "Requirement already satisfied: numpy>=1.19.5 in c:\\users\\minjun\\appdata\\local\\programs\\python\\python311\\lib\\site-packages (from scikit-learn) (1.26.4)\n",
      "Requirement already satisfied: scipy>=1.6.0 in c:\\users\\minjun\\appdata\\local\\programs\\python\\python311\\lib\\site-packages (from scikit-learn) (1.15.3)\n",
      "Requirement already satisfied: joblib>=1.2.0 in c:\\users\\minjun\\appdata\\local\\programs\\python\\python311\\lib\\site-packages (from scikit-learn) (1.5.1)\n",
      "Requirement already satisfied: threadpoolctl>=3.1.0 in c:\\users\\minjun\\appdata\\local\\programs\\python\\python311\\lib\\site-packages (from scikit-learn) (3.6.0)\n"
     ]
    },
    {
     "name": "stderr",
     "output_type": "stream",
     "text": [
      "\n",
      "[notice] A new release of pip available: 22.3 -> 25.1.1\n",
      "[notice] To update, run: C:\\Users\\MINJUN\\AppData\\Local\\Programs\\Python\\Python311\\python.exe -m pip install --upgrade pip\n"
     ]
    }
   ],
   "source": [
    "import sys\n",
    "!{sys.executable} -m pip install scikit-learn"
   ]
  },
  {
   "cell_type": "code",
   "execution_count": 10,
   "id": "60220532-c7e8-4b04-9aa4-13d9aeaa802e",
   "metadata": {},
   "outputs": [],
   "source": [
    "import urllib\n",
    "DOWNLOAD_ROOT = \"https://raw.githubsercontent.com/rickiepark/handson-m12/master/\""
   ]
  },
  {
   "cell_type": "code",
   "execution_count": 11,
   "id": "89b5143c-5892-49c5-9180-f2c6bf824121",
   "metadata": {},
   "outputs": [
    {
     "ename": "NameError",
     "evalue": "name 'os' is not defined",
     "output_type": "error",
     "traceback": [
      "\u001b[31m---------------------------------------------------------------------------\u001b[39m",
      "\u001b[31mNameError\u001b[39m                                 Traceback (most recent call last)",
      "\u001b[36mCell\u001b[39m\u001b[36m \u001b[39m\u001b[32mIn[11]\u001b[39m\u001b[32m, line 3\u001b[39m\n\u001b[32m      1\u001b[39m \u001b[38;5;28;01mimport\u001b[39;00m\u001b[38;5;250m \u001b[39m\u001b[34;01murllib\u001b[39;00m\n\u001b[32m      2\u001b[39m DOWNLOAD_ROOT = \u001b[33m\"\u001b[39m\u001b[33mhttps://raw.githubsercontent.com/rickiepark/handson-m12/master/\u001b[39m\u001b[33m\"\u001b[39m\n\u001b[32m----> \u001b[39m\u001b[32m3\u001b[39m \u001b[43mos\u001b[49m.makedirs(datapath, exist_ok = \u001b[38;5;28;01mTrue\u001b[39;00m)\n\u001b[32m      4\u001b[39m \u001b[38;5;28;01mfor\u001b[39;00m filename \u001b[38;5;129;01min\u001b[39;00m (\u001b[33m\"\u001b[39m\u001b[33moecd_bli_2015.csv\u001b[39m\u001b[33m\"\u001b[39m,\u001b[33m\"\u001b[39m\u001b[33mgdp_per_capita.csv\u001b[39m\u001b[33m\"\u001b[39m):\n\u001b[32m      5\u001b[39m     \u001b[38;5;28mprint\u001b[39m(\u001b[33m\"\u001b[39m\u001b[33mDownloading\u001b[39m\u001b[33m\"\u001b[39m, filename)\n",
      "\u001b[31mNameError\u001b[39m: name 'os' is not defined"
     ]
    }
   ],
   "source": [
    "import urllib\n",
    "DOWNLOAD_ROOT = \"https://raw.githubsercontent.com/rickiepark/handson-m12/master/\"\n",
    "os.makedirs(datapath, exist_ok = True)\n",
    "for filename in (\"oecd_bli_2015.csv\",\"gdp_per_capita.csv\"):\n",
    "    print(\"Downloading\", filename)\n",
    "    url = DOWNLOAD_ROOT + \"datasets/lifesat/\", filename\n",
    "    urllib.request.urlretrieve(url, datapath + filename)"
   ]
  },
  {
   "cell_type": "code",
   "execution_count": null,
   "id": "be4ca173-2f2f-4577-94be-d50a9e64e56b",
   "metadata": {},
   "outputs": [],
   "source": [
    "import os\n",
    "import urllib.request\n",
    "\n",
    "DOWNLOAD_ROOT = \"https://raw.githubusercontent.com/rickiepark/handson-ml2/master/\"\n",
    "datapath = \"datasets/lifesat/\"\n",
    "os.makedirs(datapath, exist_ok=True)\n",
    "\n",
    "for filename in (\"oecd_bli_2015.csv\", \"gdp_per_capita.csv\"):\n",
    "    print(\"Downloading\", filename)\n",
    "    url = DOWNLOAD_ROOT + datapath + filename\n",
    "    urllib.request.urlretrieve(url, datapath + filename)\n"
   ]
  },
  {
   "cell_type": "code",
   "execution_count": null,
   "id": "f54cb6dc-ffae-4560-b110-adba9f28f811",
   "metadata": {},
   "outputs": [],
   "source": [
    "import matplotlib as mpl\n",
    "\n",
    "mpl.rc('axes', labelsize =14)\n",
    "mpl.rc('xtick', labelsize =12)\n",
    "mpl.rc('ytick', labelsize =12)\n"
   ]
  },
  {
   "cell_type": "code",
   "execution_count": null,
   "id": "dde8a0e2-c22c-4474-a060-60ef91d83539",
   "metadata": {},
   "outputs": [],
   "source": [
    "import matplotlib.pyplot as plt\n",
    "import numpy as np\n",
    "import pandas as pd\n",
    "from sklearn import linear_model\n",
    "\n",
    "oecd_bli = pd.read_csv(datapath + \"oecd_bli_2015.csv\", thousands = \",\")\n",
    "oecd_bli.head(3)"
   ]
  },
  {
   "cell_type": "code",
   "execution_count": null,
   "id": "ed7c82db-f9eb-49aa-a023-8486361914b4",
   "metadata": {},
   "outputs": [],
   "source": [
    "gdp_per_capita = pd.read_csv(\n",
    "    datapath + \"gdp_per_capita.csv\",\n",
    "    thousands=\",\",\n",
    "    delimiter=\"\\t\",\n",
    "    encoding=\"latin1\",\n",
    "    na_values=\"n/a\"\n",
    ")\n",
    "\n",
    "gdp_per_capita.head(3)\n"
   ]
  },
  {
   "cell_type": "code",
   "execution_count": null,
   "id": "87766868-c017-4b3b-a338-d38fcb04e74c",
   "metadata": {},
   "outputs": [],
   "source": [
    "oecd_bli = oecd_bli[oecd_bli[\"INEQUALITY\"] == \"TOT\"]"
   ]
  },
  {
   "cell_type": "code",
   "execution_count": null,
   "id": "8b6b3715-ebe4-4cab-9df2-717e510b2870",
   "metadata": {},
   "outputs": [],
   "source": [
    "oecd_bli.head(3)"
   ]
  },
  {
   "cell_type": "code",
   "execution_count": 12,
   "id": "213e51a8-393e-44f9-84a3-ebf6278af5bd",
   "metadata": {},
   "outputs": [
    {
     "ename": "NameError",
     "evalue": "name 'oecd_bli' is not defined",
     "output_type": "error",
     "traceback": [
      "\u001b[31m---------------------------------------------------------------------------\u001b[39m",
      "\u001b[31mNameError\u001b[39m                                 Traceback (most recent call last)",
      "\u001b[36mCell\u001b[39m\u001b[36m \u001b[39m\u001b[32mIn[12]\u001b[39m\u001b[32m, line 1\u001b[39m\n\u001b[32m----> \u001b[39m\u001b[32m1\u001b[39m oecd_bli = \u001b[43moecd_bli\u001b[49m.pivot(index = \u001b[33m\"\u001b[39m\u001b[33mCountry\u001b[39m\u001b[33m\"\u001b[39m, columns =\u001b[33m\"\u001b[39m\u001b[33mIndicator\u001b[39m\u001b[33m\"\u001b[39m, values = \u001b[33m\"\u001b[39m\u001b[33mValue\u001b[39m\u001b[33m\"\u001b[39m)\n\u001b[32m      2\u001b[39m oecd_bli\n",
      "\u001b[31mNameError\u001b[39m: name 'oecd_bli' is not defined"
     ]
    }
   ],
   "source": [
    "oecd_bli = oecd_bli.pivot(index = \"Country\", columns =\"Indicator\", values = \"Value\")\n",
    "oecd_bli"
   ]
  },
  {
   "cell_type": "code",
   "execution_count": 13,
   "id": "96fbd299-1fa2-4b18-a551-ba7fe064ec33",
   "metadata": {},
   "outputs": [
    {
     "ename": "NameError",
     "evalue": "name 'gdp_per_capita' is not defined",
     "output_type": "error",
     "traceback": [
      "\u001b[31m---------------------------------------------------------------------------\u001b[39m",
      "\u001b[31mNameError\u001b[39m                                 Traceback (most recent call last)",
      "\u001b[36mCell\u001b[39m\u001b[36m \u001b[39m\u001b[32mIn[13]\u001b[39m\u001b[32m, line 1\u001b[39m\n\u001b[32m----> \u001b[39m\u001b[32m1\u001b[39m \u001b[43mgdp_per_capita\u001b[49m.rename(columns = {\u001b[33m\"\u001b[39m\u001b[33m2015\u001b[39m\u001b[33m\"\u001b[39m: \u001b[33m\"\u001b[39m\u001b[33mGDP per Captia\u001b[39m\u001b[33m\"\u001b[39m }, inplace =\u001b[38;5;28;01mTrue\u001b[39;00m)\n\u001b[32m      2\u001b[39m gdp_per_capita\n",
      "\u001b[31mNameError\u001b[39m: name 'gdp_per_capita' is not defined"
     ]
    }
   ],
   "source": [
    "gdp_per_capita.rename(columns = {\"2015\": \"GDP per Captia\" }, inplace =True)\n",
    "gdp_per_capita"
   ]
  },
  {
   "cell_type": "code",
   "execution_count": 14,
   "id": "37d5bfa1-fcb4-42d6-8bbe-c217fd90dc13",
   "metadata": {},
   "outputs": [
    {
     "ename": "NameError",
     "evalue": "name 'gdp_per_capita' is not defined",
     "output_type": "error",
     "traceback": [
      "\u001b[31m---------------------------------------------------------------------------\u001b[39m",
      "\u001b[31mNameError\u001b[39m                                 Traceback (most recent call last)",
      "\u001b[36mCell\u001b[39m\u001b[36m \u001b[39m\u001b[32mIn[14]\u001b[39m\u001b[32m, line 1\u001b[39m\n\u001b[32m----> \u001b[39m\u001b[32m1\u001b[39m \u001b[43mgdp_per_capita\u001b[49m.set_index(\u001b[33m\"\u001b[39m\u001b[33mCountry\u001b[39m\u001b[33m\"\u001b[39m, inplace =\u001b[38;5;28;01mTrue\u001b[39;00m)\n\u001b[32m      2\u001b[39m gdp_per_capita\n",
      "\u001b[31mNameError\u001b[39m: name 'gdp_per_capita' is not defined"
     ]
    }
   ],
   "source": [
    "gdp_per_capita.set_index(\"Country\", inplace =True)\n",
    "gdp_per_capita"
   ]
  },
  {
   "cell_type": "code",
   "execution_count": 15,
   "id": "6b0fa143-42ab-44d5-af16-7d0022427f48",
   "metadata": {},
   "outputs": [
    {
     "ename": "NameError",
     "evalue": "name 'pd' is not defined",
     "output_type": "error",
     "traceback": [
      "\u001b[31m---------------------------------------------------------------------------\u001b[39m",
      "\u001b[31mNameError\u001b[39m                                 Traceback (most recent call last)",
      "\u001b[36mCell\u001b[39m\u001b[36m \u001b[39m\u001b[32mIn[15]\u001b[39m\u001b[32m, line 1\u001b[39m\n\u001b[32m----> \u001b[39m\u001b[32m1\u001b[39m full_country_stats = \u001b[43mpd\u001b[49m.merge(left = oecd_bli , right = gdp_per_capita, left_index = \u001b[38;5;28;01mTrue\u001b[39;00m, right_index = \u001b[38;5;28;01mTrue\u001b[39;00m)\n\u001b[32m      2\u001b[39m full_country_stats \n",
      "\u001b[31mNameError\u001b[39m: name 'pd' is not defined"
     ]
    }
   ],
   "source": [
    "full_country_stats = pd.merge(left = oecd_bli , right = gdp_per_capita, left_index = True, right_index = True)\n",
    "full_country_stats "
   ]
  },
  {
   "cell_type": "code",
   "execution_count": 16,
   "id": "cccb8a28-3b03-42e6-ac7f-9d4f8b321a13",
   "metadata": {},
   "outputs": [
    {
     "ename": "NameError",
     "evalue": "name 'full_country_stats' is not defined",
     "output_type": "error",
     "traceback": [
      "\u001b[31m---------------------------------------------------------------------------\u001b[39m",
      "\u001b[31mNameError\u001b[39m                                 Traceback (most recent call last)",
      "\u001b[36mCell\u001b[39m\u001b[36m \u001b[39m\u001b[32mIn[16]\u001b[39m\u001b[32m, line 1\u001b[39m\n\u001b[32m----> \u001b[39m\u001b[32m1\u001b[39m \u001b[43mfull_country_stats\u001b[49m.sort_values(by =\u001b[33m\"\u001b[39m\u001b[33mGDP per Captia\u001b[39m\u001b[33m\"\u001b[39m, inplace =\u001b[38;5;28;01mTrue\u001b[39;00m)\n\u001b[32m      2\u001b[39m full_country_stats\n",
      "\u001b[31mNameError\u001b[39m: name 'full_country_stats' is not defined"
     ]
    }
   ],
   "source": [
    "full_country_stats.sort_values(by =\"GDP per Captia\", inplace =True)\n",
    "full_country_stats"
   ]
  },
  {
   "cell_type": "code",
   "execution_count": 17,
   "id": "ae556718-e37e-4046-aa34-3a72bbfffaf7",
   "metadata": {},
   "outputs": [
    {
     "data": {
      "text/plain": [
       "[2,\n",
       " 3,\n",
       " 4,\n",
       " 5,\n",
       " 7,\n",
       " 9,\n",
       " 10,\n",
       " 11,\n",
       " 12,\n",
       " 13,\n",
       " 14,\n",
       " 15,\n",
       " 16,\n",
       " 17,\n",
       " 18,\n",
       " 19,\n",
       " 20,\n",
       " 21,\n",
       " 22,\n",
       " 23,\n",
       " 24,\n",
       " 25,\n",
       " 26,\n",
       " 27,\n",
       " 28,\n",
       " 29,\n",
       " 30,\n",
       " 31,\n",
       " 32]"
      ]
     },
     "execution_count": 17,
     "metadata": {},
     "output_type": "execute_result"
    }
   ],
   "source": [
    "remove_indices = [0,1,6,8,33,34,35]\n",
    "keep_indices = list(set(range(36)) - set(remove_indices))\n",
    "keep_indices"
   ]
  },
  {
   "cell_type": "code",
   "execution_count": 18,
   "id": "4e7b990a-8ea2-4aae-aa42-057ddb6b270f",
   "metadata": {},
   "outputs": [
    {
     "ename": "NameError",
     "evalue": "name 'full_country_stats' is not defined",
     "output_type": "error",
     "traceback": [
      "\u001b[31m---------------------------------------------------------------------------\u001b[39m",
      "\u001b[31mNameError\u001b[39m                                 Traceback (most recent call last)",
      "\u001b[36mCell\u001b[39m\u001b[36m \u001b[39m\u001b[32mIn[18]\u001b[39m\u001b[32m, line 1\u001b[39m\n\u001b[32m----> \u001b[39m\u001b[32m1\u001b[39m country_stats = \u001b[43mfull_country_stats\u001b[49m[[\u001b[33m\"\u001b[39m\u001b[33mGDP per Captia\u001b[39m\u001b[33m\"\u001b[39m, \u001b[33m\"\u001b[39m\u001b[33mLife satisfaction\u001b[39m\u001b[33m\"\u001b[39m]].iloc[keep_indices]\n\u001b[32m      2\u001b[39m country_stats\n",
      "\u001b[31mNameError\u001b[39m: name 'full_country_stats' is not defined"
     ]
    }
   ],
   "source": [
    "country_stats = full_country_stats[[\"GDP per Captia\", \"Life satisfaction\"]].iloc[keep_indices]\n",
    "country_stats"
   ]
  },
  {
   "cell_type": "code",
   "execution_count": 19,
   "id": "3c0a832e-a4b1-4da6-84df-d14e4169a656",
   "metadata": {},
   "outputs": [
    {
     "ename": "NameError",
     "evalue": "name 'np' is not defined",
     "output_type": "error",
     "traceback": [
      "\u001b[31m---------------------------------------------------------------------------\u001b[39m",
      "\u001b[31mNameError\u001b[39m                                 Traceback (most recent call last)",
      "\u001b[36mCell\u001b[39m\u001b[36m \u001b[39m\u001b[32mIn[19]\u001b[39m\u001b[32m, line 1\u001b[39m\n\u001b[32m----> \u001b[39m\u001b[32m1\u001b[39m y = \u001b[43mnp\u001b[49m.c_[country_stats[\u001b[33m\"\u001b[39m\u001b[33mLife satisfaction\u001b[39m\u001b[33m\"\u001b[39m]]\n\u001b[32m      2\u001b[39m y\n",
      "\u001b[31mNameError\u001b[39m: name 'np' is not defined"
     ]
    }
   ],
   "source": [
    "y = np.c_[country_stats[\"Life satisfaction\"]]\n",
    "y"
   ]
  },
  {
   "cell_type": "code",
   "execution_count": 20,
   "id": "3b439c61-f17d-4f7f-9535-2db4051d3316",
   "metadata": {},
   "outputs": [
    {
     "ename": "NameError",
     "evalue": "name 'country_stats' is not defined",
     "output_type": "error",
     "traceback": [
      "\u001b[31m---------------------------------------------------------------------------\u001b[39m",
      "\u001b[31mNameError\u001b[39m                                 Traceback (most recent call last)",
      "\u001b[36mCell\u001b[39m\u001b[36m \u001b[39m\u001b[32mIn[20]\u001b[39m\u001b[32m, line 1\u001b[39m\n\u001b[32m----> \u001b[39m\u001b[32m1\u001b[39m \u001b[43mcountry_stats\u001b[49m.plot(kind = \u001b[33m'\u001b[39m\u001b[33mscatter\u001b[39m\u001b[33m'\u001b[39m, x = \u001b[33m\"\u001b[39m\u001b[33mGDP per Captia\u001b[39m\u001b[33m\"\u001b[39m, y = \u001b[33m\"\u001b[39m\u001b[33mLife satisfaction\u001b[39m\u001b[33m\"\u001b[39m)\n\u001b[32m      2\u001b[39m plt.show()\n",
      "\u001b[31mNameError\u001b[39m: name 'country_stats' is not defined"
     ]
    }
   ],
   "source": [
    "country_stats.plot(kind = 'scatter', x = \"GDP per Captia\", y = \"Life satisfaction\")\n",
    "plt.show()"
   ]
  },
  {
   "cell_type": "code",
   "execution_count": 21,
   "id": "209481c1-e8b7-4031-a513-bafcc1bd871d",
   "metadata": {},
   "outputs": [
    {
     "ename": "NameError",
     "evalue": "name 'np' is not defined",
     "output_type": "error",
     "traceback": [
      "\u001b[31m---------------------------------------------------------------------------\u001b[39m",
      "\u001b[31mNameError\u001b[39m                                 Traceback (most recent call last)",
      "\u001b[36mCell\u001b[39m\u001b[36m \u001b[39m\u001b[32mIn[21]\u001b[39m\u001b[32m, line 1\u001b[39m\n\u001b[32m----> \u001b[39m\u001b[32m1\u001b[39m X = \u001b[43mnp\u001b[49m.c_[country_stats[\u001b[33m\"\u001b[39m\u001b[33mGDP per Captia\u001b[39m\u001b[33m\"\u001b[39m]]\n\u001b[32m      2\u001b[39m X\n",
      "\u001b[31mNameError\u001b[39m: name 'np' is not defined"
     ]
    }
   ],
   "source": [
    "X = np.c_[country_stats[\"GDP per Captia\"]]\n",
    "X"
   ]
  },
  {
   "cell_type": "code",
   "execution_count": 22,
   "id": "41d79b55-b000-47a5-9bc4-cc6d94c8e7cc",
   "metadata": {},
   "outputs": [
    {
     "ename": "NameError",
     "evalue": "name 'np' is not defined",
     "output_type": "error",
     "traceback": [
      "\u001b[31m---------------------------------------------------------------------------\u001b[39m",
      "\u001b[31mNameError\u001b[39m                                 Traceback (most recent call last)",
      "\u001b[36mCell\u001b[39m\u001b[36m \u001b[39m\u001b[32mIn[22]\u001b[39m\u001b[32m, line 3\u001b[39m\n\u001b[32m      1\u001b[39m \u001b[38;5;28;01mfrom\u001b[39;00m\u001b[38;5;250m \u001b[39m\u001b[34;01msklearn\u001b[39;00m\u001b[34;01m.\u001b[39;00m\u001b[34;01mlinear_model\u001b[39;00m\u001b[38;5;250m \u001b[39m\u001b[38;5;28;01mimport\u001b[39;00m LinearRegression  \n\u001b[32m----> \u001b[39m\u001b[32m3\u001b[39m X = \u001b[43mnp\u001b[49m.c_[country_stats[\u001b[33m\"\u001b[39m\u001b[33mGDP per Captia\u001b[39m\u001b[33m\"\u001b[39m]]  \n\u001b[32m      4\u001b[39m model = LinearRegression()                  \n\u001b[32m      5\u001b[39m model.fit(X, y)\n",
      "\u001b[31mNameError\u001b[39m: name 'np' is not defined"
     ]
    }
   ],
   "source": [
    "from sklearn.linear_model import LinearRegression  \n",
    "\n",
    "X = np.c_[country_stats[\"GDP per Captia\"]]  \n",
    "model = LinearRegression()                  \n",
    "model.fit(X, y)\n",
    "X_new = np.array([[22587]])                 \n",
    "print(model.predict(X_new))               \n"
   ]
  },
  {
   "cell_type": "code",
   "execution_count": 30,
   "id": "e0abcfbb-56a7-4bf9-af8e-4ff5be9e34b3",
   "metadata": {},
   "outputs": [
    {
     "data": {
      "text/html": [
       "<div>\n",
       "<style scoped>\n",
       "    .dataframe tbody tr th:only-of-type {\n",
       "        vertical-align: middle;\n",
       "    }\n",
       "\n",
       "    .dataframe tbody tr th {\n",
       "        vertical-align: top;\n",
       "    }\n",
       "\n",
       "    .dataframe thead th {\n",
       "        text-align: right;\n",
       "    }\n",
       "</style>\n",
       "<table border=\"1\" class=\"dataframe\">\n",
       "  <thead>\n",
       "    <tr style=\"text-align: right;\">\n",
       "      <th></th>\n",
       "      <th>AGE</th>\n",
       "      <th>B</th>\n",
       "      <th>RM</th>\n",
       "      <th>CRIM</th>\n",
       "      <th>DIS</th>\n",
       "      <th>INDUS</th>\n",
       "      <th>LSTAT</th>\n",
       "      <th>NOX</th>\n",
       "      <th>PTRATIO</th>\n",
       "      <th>RAD</th>\n",
       "      <th>ZN</th>\n",
       "      <th>TAX</th>\n",
       "      <th>CHAS</th>\n",
       "      <th>Target</th>\n",
       "    </tr>\n",
       "  </thead>\n",
       "  <tbody>\n",
       "    <tr>\n",
       "      <th>0</th>\n",
       "      <td>65.2</td>\n",
       "      <td>396.90</td>\n",
       "      <td>6.575</td>\n",
       "      <td>0.00632</td>\n",
       "      <td>4.0900</td>\n",
       "      <td>2.31</td>\n",
       "      <td>4.98</td>\n",
       "      <td>0.538</td>\n",
       "      <td>15.3</td>\n",
       "      <td>1</td>\n",
       "      <td>18.0</td>\n",
       "      <td>296</td>\n",
       "      <td>0</td>\n",
       "      <td>24.0</td>\n",
       "    </tr>\n",
       "    <tr>\n",
       "      <th>1</th>\n",
       "      <td>78.9</td>\n",
       "      <td>396.90</td>\n",
       "      <td>6.421</td>\n",
       "      <td>0.02731</td>\n",
       "      <td>4.9671</td>\n",
       "      <td>7.07</td>\n",
       "      <td>9.14</td>\n",
       "      <td>0.469</td>\n",
       "      <td>17.8</td>\n",
       "      <td>2</td>\n",
       "      <td>0.0</td>\n",
       "      <td>242</td>\n",
       "      <td>0</td>\n",
       "      <td>21.6</td>\n",
       "    </tr>\n",
       "    <tr>\n",
       "      <th>2</th>\n",
       "      <td>61.1</td>\n",
       "      <td>392.83</td>\n",
       "      <td>7.185</td>\n",
       "      <td>0.02729</td>\n",
       "      <td>4.9671</td>\n",
       "      <td>7.07</td>\n",
       "      <td>4.03</td>\n",
       "      <td>0.469</td>\n",
       "      <td>17.8</td>\n",
       "      <td>2</td>\n",
       "      <td>0.0</td>\n",
       "      <td>242</td>\n",
       "      <td>0</td>\n",
       "      <td>34.7</td>\n",
       "    </tr>\n",
       "  </tbody>\n",
       "</table>\n",
       "</div>"
      ],
      "text/plain": [
       "    AGE       B     RM     CRIM     DIS  INDUS  LSTAT    NOX  PTRATIO  RAD  \\\n",
       "0  65.2  396.90  6.575  0.00632  4.0900   2.31   4.98  0.538     15.3    1   \n",
       "1  78.9  396.90  6.421  0.02731  4.9671   7.07   9.14  0.469     17.8    2   \n",
       "2  61.1  392.83  7.185  0.02729  4.9671   7.07   4.03  0.469     17.8    2   \n",
       "\n",
       "     ZN  TAX  CHAS  Target  \n",
       "0  18.0  296     0    24.0  \n",
       "1   0.0  242     0    21.6  \n",
       "2   0.0  242     0    34.7  "
      ]
     },
     "execution_count": 30,
     "metadata": {},
     "output_type": "execute_result"
    }
   ],
   "source": [
    "import pandas as pd\n",
    "df = pd.read_csv(\"boston_house.csv\")\n",
    "df.head(3)"
   ]
  },
  {
   "cell_type": "code",
   "execution_count": 31,
   "id": "3d4b3b95-8b5e-4c68-bfa6-ce18bd05d6c2",
   "metadata": {},
   "outputs": [
    {
     "ename": "SyntaxError",
     "evalue": "invalid decimal literal (3277408867.py, line 11)",
     "output_type": "error",
     "traceback": [
      "  \u001b[36mCell\u001b[39m\u001b[36m \u001b[39m\u001b[32mIn[31]\u001b[39m\u001b[32m, line 11\u001b[39m\n\u001b[31m    \u001b[39m\u001b[31mAGE: 1940년 이전에 건축된 주택의 비율\u001b[39m\n            ^\n\u001b[31mSyntaxError\u001b[39m\u001b[31m:\u001b[39m invalid decimal literal\n"
     ]
    }
   ],
   "source": [
    "### 보스턴 집값 데이터\n",
    "CRIM: 범죄율\n",
    "INDUS: 비소매상업지역 면적 비율\n",
    "NOX: 일산화질소 농도\n",
    "RM: 주택당 방 수\n",
    "LSTAT: 인구 중 하위 계층 비율\n",
    "B: 인구 중 흑인 비율\n",
    "PTRATIO: 학생/교사 비율\n",
    "ZN: 25,000 평방피트를 초과 거주지역 비율\n",
    "CHAS: 찰스강의 경계에 위치한 경우는 1, 아니면 0\n",
    "AGE: 1940년 이전에 건축된 주택의 비율\n",
    "RAD: 방사형 고속도로까지의 거리\n",
    "DIS: 직업센터의 거리\n",
    "TAX: 재산세율\n",
    "\n",
    "\n",
    "\n"
   ]
  },
  {
   "cell_type": "code",
   "execution_count": 32,
   "id": "70eac62f-1dc9-4ca8-ab8c-356a8bed1d0c",
   "metadata": {},
   "outputs": [
    {
     "data": {
      "text/plain": [
       "((354, 14), (152, 14))"
      ]
     },
     "execution_count": 32,
     "metadata": {},
     "output_type": "execute_result"
    }
   ],
   "source": [
    "from sklearn.model_selection import train_test_split\n",
    "\n",
    "df_train, df_test = train_test_split(df, test_size = 0.3, random_state = 0)\n",
    "df_train.shape, df_test.shape"
   ]
  },
  {
   "cell_type": "code",
   "execution_count": 33,
   "id": "413562c4-fbc8-4882-8301-e9108f293837",
   "metadata": {},
   "outputs": [
    {
     "data": {
      "text/html": [
       "<div>\n",
       "<style scoped>\n",
       "    .dataframe tbody tr th:only-of-type {\n",
       "        vertical-align: middle;\n",
       "    }\n",
       "\n",
       "    .dataframe tbody tr th {\n",
       "        vertical-align: top;\n",
       "    }\n",
       "\n",
       "    .dataframe thead th {\n",
       "        text-align: right;\n",
       "    }\n",
       "</style>\n",
       "<table border=\"1\" class=\"dataframe\">\n",
       "  <thead>\n",
       "    <tr style=\"text-align: right;\">\n",
       "      <th></th>\n",
       "      <th>AGE</th>\n",
       "      <th>B</th>\n",
       "      <th>RM</th>\n",
       "      <th>CRIM</th>\n",
       "      <th>DIS</th>\n",
       "      <th>INDUS</th>\n",
       "      <th>LSTAT</th>\n",
       "      <th>NOX</th>\n",
       "      <th>PTRATIO</th>\n",
       "      <th>RAD</th>\n",
       "      <th>ZN</th>\n",
       "      <th>TAX</th>\n",
       "      <th>CHAS</th>\n",
       "      <th>Target</th>\n",
       "    </tr>\n",
       "  </thead>\n",
       "  <tbody>\n",
       "    <tr>\n",
       "      <th>141</th>\n",
       "      <td>100.0</td>\n",
       "      <td>396.90</td>\n",
       "      <td>5.019</td>\n",
       "      <td>1.62864</td>\n",
       "      <td>1.4394</td>\n",
       "      <td>21.89</td>\n",
       "      <td>34.41</td>\n",
       "      <td>0.624</td>\n",
       "      <td>21.2</td>\n",
       "      <td>4</td>\n",
       "      <td>0.0</td>\n",
       "      <td>437</td>\n",
       "      <td>0</td>\n",
       "      <td>14.4</td>\n",
       "    </tr>\n",
       "    <tr>\n",
       "      <th>272</th>\n",
       "      <td>58.7</td>\n",
       "      <td>394.96</td>\n",
       "      <td>6.538</td>\n",
       "      <td>0.11460</td>\n",
       "      <td>3.9175</td>\n",
       "      <td>6.96</td>\n",
       "      <td>7.73</td>\n",
       "      <td>0.464</td>\n",
       "      <td>18.6</td>\n",
       "      <td>3</td>\n",
       "      <td>20.0</td>\n",
       "      <td>223</td>\n",
       "      <td>0</td>\n",
       "      <td>24.4</td>\n",
       "    </tr>\n",
       "    <tr>\n",
       "      <th>135</th>\n",
       "      <td>98.2</td>\n",
       "      <td>394.67</td>\n",
       "      <td>6.335</td>\n",
       "      <td>0.55778</td>\n",
       "      <td>2.1107</td>\n",
       "      <td>21.89</td>\n",
       "      <td>16.96</td>\n",
       "      <td>0.624</td>\n",
       "      <td>21.2</td>\n",
       "      <td>4</td>\n",
       "      <td>0.0</td>\n",
       "      <td>437</td>\n",
       "      <td>0</td>\n",
       "      <td>18.1</td>\n",
       "    </tr>\n",
       "    <tr>\n",
       "      <th>298</th>\n",
       "      <td>20.1</td>\n",
       "      <td>368.24</td>\n",
       "      <td>6.345</td>\n",
       "      <td>0.06466</td>\n",
       "      <td>7.8278</td>\n",
       "      <td>2.24</td>\n",
       "      <td>4.97</td>\n",
       "      <td>0.400</td>\n",
       "      <td>14.8</td>\n",
       "      <td>5</td>\n",
       "      <td>70.0</td>\n",
       "      <td>358</td>\n",
       "      <td>0</td>\n",
       "      <td>22.5</td>\n",
       "    </tr>\n",
       "    <tr>\n",
       "      <th>122</th>\n",
       "      <td>92.9</td>\n",
       "      <td>378.09</td>\n",
       "      <td>5.961</td>\n",
       "      <td>0.09299</td>\n",
       "      <td>2.0869</td>\n",
       "      <td>25.65</td>\n",
       "      <td>17.93</td>\n",
       "      <td>0.581</td>\n",
       "      <td>19.1</td>\n",
       "      <td>2</td>\n",
       "      <td>0.0</td>\n",
       "      <td>188</td>\n",
       "      <td>0</td>\n",
       "      <td>20.5</td>\n",
       "    </tr>\n",
       "    <tr>\n",
       "      <th>22</th>\n",
       "      <td>91.7</td>\n",
       "      <td>396.90</td>\n",
       "      <td>6.142</td>\n",
       "      <td>1.23247</td>\n",
       "      <td>3.9769</td>\n",
       "      <td>8.14</td>\n",
       "      <td>18.72</td>\n",
       "      <td>0.538</td>\n",
       "      <td>21.0</td>\n",
       "      <td>4</td>\n",
       "      <td>0.0</td>\n",
       "      <td>307</td>\n",
       "      <td>0</td>\n",
       "      <td>15.2</td>\n",
       "    </tr>\n",
       "    <tr>\n",
       "      <th>68</th>\n",
       "      <td>36.8</td>\n",
       "      <td>396.90</td>\n",
       "      <td>5.594</td>\n",
       "      <td>0.13554</td>\n",
       "      <td>6.4980</td>\n",
       "      <td>6.07</td>\n",
       "      <td>13.09</td>\n",
       "      <td>0.409</td>\n",
       "      <td>18.9</td>\n",
       "      <td>4</td>\n",
       "      <td>12.5</td>\n",
       "      <td>345</td>\n",
       "      <td>0</td>\n",
       "      <td>17.4</td>\n",
       "    </tr>\n",
       "    <tr>\n",
       "      <th>20</th>\n",
       "      <td>98.1</td>\n",
       "      <td>376.57</td>\n",
       "      <td>5.570</td>\n",
       "      <td>1.25179</td>\n",
       "      <td>3.7979</td>\n",
       "      <td>8.14</td>\n",
       "      <td>21.02</td>\n",
       "      <td>0.538</td>\n",
       "      <td>21.0</td>\n",
       "      <td>4</td>\n",
       "      <td>0.0</td>\n",
       "      <td>307</td>\n",
       "      <td>0</td>\n",
       "      <td>13.6</td>\n",
       "    </tr>\n",
       "    <tr>\n",
       "      <th>437</th>\n",
       "      <td>100.0</td>\n",
       "      <td>9.32</td>\n",
       "      <td>6.152</td>\n",
       "      <td>15.17720</td>\n",
       "      <td>1.9142</td>\n",
       "      <td>18.10</td>\n",
       "      <td>26.45</td>\n",
       "      <td>0.740</td>\n",
       "      <td>20.2</td>\n",
       "      <td>24</td>\n",
       "      <td>0.0</td>\n",
       "      <td>666</td>\n",
       "      <td>0</td>\n",
       "      <td>8.7</td>\n",
       "    </tr>\n",
       "    <tr>\n",
       "      <th>14</th>\n",
       "      <td>84.5</td>\n",
       "      <td>380.02</td>\n",
       "      <td>6.096</td>\n",
       "      <td>0.63796</td>\n",
       "      <td>4.4619</td>\n",
       "      <td>8.14</td>\n",
       "      <td>10.26</td>\n",
       "      <td>0.538</td>\n",
       "      <td>21.0</td>\n",
       "      <td>4</td>\n",
       "      <td>0.0</td>\n",
       "      <td>307</td>\n",
       "      <td>0</td>\n",
       "      <td>18.2</td>\n",
       "    </tr>\n",
       "  </tbody>\n",
       "</table>\n",
       "</div>"
      ],
      "text/plain": [
       "       AGE       B     RM      CRIM     DIS  INDUS  LSTAT    NOX  PTRATIO  \\\n",
       "141  100.0  396.90  5.019   1.62864  1.4394  21.89  34.41  0.624     21.2   \n",
       "272   58.7  394.96  6.538   0.11460  3.9175   6.96   7.73  0.464     18.6   \n",
       "135   98.2  394.67  6.335   0.55778  2.1107  21.89  16.96  0.624     21.2   \n",
       "298   20.1  368.24  6.345   0.06466  7.8278   2.24   4.97  0.400     14.8   \n",
       "122   92.9  378.09  5.961   0.09299  2.0869  25.65  17.93  0.581     19.1   \n",
       "22    91.7  396.90  6.142   1.23247  3.9769   8.14  18.72  0.538     21.0   \n",
       "68    36.8  396.90  5.594   0.13554  6.4980   6.07  13.09  0.409     18.9   \n",
       "20    98.1  376.57  5.570   1.25179  3.7979   8.14  21.02  0.538     21.0   \n",
       "437  100.0    9.32  6.152  15.17720  1.9142  18.10  26.45  0.740     20.2   \n",
       "14    84.5  380.02  6.096   0.63796  4.4619   8.14  10.26  0.538     21.0   \n",
       "\n",
       "     RAD    ZN  TAX  CHAS  Target  \n",
       "141    4   0.0  437     0    14.4  \n",
       "272    3  20.0  223     0    24.4  \n",
       "135    4   0.0  437     0    18.1  \n",
       "298    5  70.0  358     0    22.5  \n",
       "122    2   0.0  188     0    20.5  \n",
       "22     4   0.0  307     0    15.2  \n",
       "68     4  12.5  345     0    17.4  \n",
       "20     4   0.0  307     0    13.6  \n",
       "437   24   0.0  666     0     8.7  \n",
       "14     4   0.0  307     0    18.2  "
      ]
     },
     "execution_count": 33,
     "metadata": {},
     "output_type": "execute_result"
    }
   ],
   "source": [
    "df_train.head(10)"
   ]
  },
  {
   "cell_type": "code",
   "execution_count": 34,
   "id": "de9b6195-740e-46c0-b7b2-6825c0524800",
   "metadata": {},
   "outputs": [
    {
     "data": {
      "text/html": [
       "<div>\n",
       "<style scoped>\n",
       "    .dataframe tbody tr th:only-of-type {\n",
       "        vertical-align: middle;\n",
       "    }\n",
       "\n",
       "    .dataframe tbody tr th {\n",
       "        vertical-align: top;\n",
       "    }\n",
       "\n",
       "    .dataframe thead th {\n",
       "        text-align: right;\n",
       "    }\n",
       "</style>\n",
       "<table border=\"1\" class=\"dataframe\">\n",
       "  <thead>\n",
       "    <tr style=\"text-align: right;\">\n",
       "      <th></th>\n",
       "      <th>AGE</th>\n",
       "      <th>B</th>\n",
       "      <th>RM</th>\n",
       "      <th>CRIM</th>\n",
       "      <th>DIS</th>\n",
       "      <th>INDUS</th>\n",
       "      <th>LSTAT</th>\n",
       "      <th>NOX</th>\n",
       "      <th>PTRATIO</th>\n",
       "      <th>RAD</th>\n",
       "      <th>ZN</th>\n",
       "      <th>TAX</th>\n",
       "      <th>CHAS</th>\n",
       "    </tr>\n",
       "  </thead>\n",
       "  <tbody>\n",
       "    <tr>\n",
       "      <th>0</th>\n",
       "      <td>65.2</td>\n",
       "      <td>396.90</td>\n",
       "      <td>6.575</td>\n",
       "      <td>0.00632</td>\n",
       "      <td>4.0900</td>\n",
       "      <td>2.31</td>\n",
       "      <td>4.98</td>\n",
       "      <td>0.538</td>\n",
       "      <td>15.3</td>\n",
       "      <td>1</td>\n",
       "      <td>18.0</td>\n",
       "      <td>296</td>\n",
       "      <td>0</td>\n",
       "    </tr>\n",
       "    <tr>\n",
       "      <th>1</th>\n",
       "      <td>78.9</td>\n",
       "      <td>396.90</td>\n",
       "      <td>6.421</td>\n",
       "      <td>0.02731</td>\n",
       "      <td>4.9671</td>\n",
       "      <td>7.07</td>\n",
       "      <td>9.14</td>\n",
       "      <td>0.469</td>\n",
       "      <td>17.8</td>\n",
       "      <td>2</td>\n",
       "      <td>0.0</td>\n",
       "      <td>242</td>\n",
       "      <td>0</td>\n",
       "    </tr>\n",
       "    <tr>\n",
       "      <th>2</th>\n",
       "      <td>61.1</td>\n",
       "      <td>392.83</td>\n",
       "      <td>7.185</td>\n",
       "      <td>0.02729</td>\n",
       "      <td>4.9671</td>\n",
       "      <td>7.07</td>\n",
       "      <td>4.03</td>\n",
       "      <td>0.469</td>\n",
       "      <td>17.8</td>\n",
       "      <td>2</td>\n",
       "      <td>0.0</td>\n",
       "      <td>242</td>\n",
       "      <td>0</td>\n",
       "    </tr>\n",
       "    <tr>\n",
       "      <th>3</th>\n",
       "      <td>45.8</td>\n",
       "      <td>394.63</td>\n",
       "      <td>6.998</td>\n",
       "      <td>0.03237</td>\n",
       "      <td>6.0622</td>\n",
       "      <td>2.18</td>\n",
       "      <td>2.94</td>\n",
       "      <td>0.458</td>\n",
       "      <td>18.7</td>\n",
       "      <td>3</td>\n",
       "      <td>0.0</td>\n",
       "      <td>222</td>\n",
       "      <td>0</td>\n",
       "    </tr>\n",
       "    <tr>\n",
       "      <th>4</th>\n",
       "      <td>54.2</td>\n",
       "      <td>396.90</td>\n",
       "      <td>7.147</td>\n",
       "      <td>0.06905</td>\n",
       "      <td>6.0622</td>\n",
       "      <td>2.18</td>\n",
       "      <td>5.33</td>\n",
       "      <td>0.458</td>\n",
       "      <td>18.7</td>\n",
       "      <td>3</td>\n",
       "      <td>0.0</td>\n",
       "      <td>222</td>\n",
       "      <td>0</td>\n",
       "    </tr>\n",
       "  </tbody>\n",
       "</table>\n",
       "</div>"
      ],
      "text/plain": [
       "    AGE       B     RM     CRIM     DIS  INDUS  LSTAT    NOX  PTRATIO  RAD  \\\n",
       "0  65.2  396.90  6.575  0.00632  4.0900   2.31   4.98  0.538     15.3    1   \n",
       "1  78.9  396.90  6.421  0.02731  4.9671   7.07   9.14  0.469     17.8    2   \n",
       "2  61.1  392.83  7.185  0.02729  4.9671   7.07   4.03  0.469     17.8    2   \n",
       "3  45.8  394.63  6.998  0.03237  6.0622   2.18   2.94  0.458     18.7    3   \n",
       "4  54.2  396.90  7.147  0.06905  6.0622   2.18   5.33  0.458     18.7    3   \n",
       "\n",
       "     ZN  TAX  CHAS  \n",
       "0  18.0  296     0  \n",
       "1   0.0  242     0  \n",
       "2   0.0  242     0  \n",
       "3   0.0  222     0  \n",
       "4   0.0  222     0  "
      ]
     },
     "execution_count": 34,
     "metadata": {},
     "output_type": "execute_result"
    }
   ],
   "source": [
    "dfx = df.drop([\"Target\"], axis = 1)\n",
    "dfx.head()"
   ]
  },
  {
   "cell_type": "code",
   "execution_count": 35,
   "id": "9f561495-041b-4db9-bf53-79292340bc4c",
   "metadata": {},
   "outputs": [
    {
     "data": {
      "text/html": [
       "<div>\n",
       "<style scoped>\n",
       "    .dataframe tbody tr th:only-of-type {\n",
       "        vertical-align: middle;\n",
       "    }\n",
       "\n",
       "    .dataframe tbody tr th {\n",
       "        vertical-align: top;\n",
       "    }\n",
       "\n",
       "    .dataframe thead th {\n",
       "        text-align: right;\n",
       "    }\n",
       "</style>\n",
       "<table border=\"1\" class=\"dataframe\">\n",
       "  <thead>\n",
       "    <tr style=\"text-align: right;\">\n",
       "      <th></th>\n",
       "      <th>Target</th>\n",
       "    </tr>\n",
       "  </thead>\n",
       "  <tbody>\n",
       "    <tr>\n",
       "      <th>0</th>\n",
       "      <td>24.0</td>\n",
       "    </tr>\n",
       "    <tr>\n",
       "      <th>1</th>\n",
       "      <td>21.6</td>\n",
       "    </tr>\n",
       "    <tr>\n",
       "      <th>2</th>\n",
       "      <td>34.7</td>\n",
       "    </tr>\n",
       "    <tr>\n",
       "      <th>3</th>\n",
       "      <td>33.4</td>\n",
       "    </tr>\n",
       "    <tr>\n",
       "      <th>4</th>\n",
       "      <td>36.2</td>\n",
       "    </tr>\n",
       "  </tbody>\n",
       "</table>\n",
       "</div>"
      ],
      "text/plain": [
       "   Target\n",
       "0    24.0\n",
       "1    21.6\n",
       "2    34.7\n",
       "3    33.4\n",
       "4    36.2"
      ]
     },
     "execution_count": 35,
     "metadata": {},
     "output_type": "execute_result"
    }
   ],
   "source": [
    "dfy = df[[\"Target\"]]\n",
    "dfy.head()"
   ]
  },
  {
   "cell_type": "code",
   "execution_count": 36,
   "id": "2ba70941-f546-49a6-b347-2abcba891095",
   "metadata": {},
   "outputs": [
    {
     "data": {
      "text/plain": [
       "((354, 13), (152, 13), (354, 1), (152, 1))"
      ]
     },
     "execution_count": 36,
     "metadata": {},
     "output_type": "execute_result"
    }
   ],
   "source": [
    "dfX_train, dfX_test, dfy_train, dfy_test = train_test_split(dfx,dfy, test_size = 0.3, random_state = 0)\n",
    "dfX_train.shape, dfX_test.shape, dfy_train.shape, dfy_test.shape"
   ]
  },
  {
   "cell_type": "raw",
   "id": "4decd48b-4318-44b7-b447-17ffa9ab8a8a",
   "metadata": {},
   "source": []
  },
  {
   "cell_type": "code",
   "execution_count": 37,
   "id": "fbc3d879-e707-4a1c-9185-9d8e8c890331",
   "metadata": {},
   "outputs": [],
   "source": [
    "from sklearn.model_selection import KFold\n",
    "# statsmodels : 통계적 모델링, 통계 테스트, 데이터 탐색 및 시각화를 지원하는 라이브러리\n",
    "import statsmodels.api as sm\n",
    "import numpy as np"
   ]
  },
  {
   "cell_type": "code",
   "execution_count": 38,
   "id": "668810c8-74d2-4f96-a3f3-e270f2213fb7",
   "metadata": {},
   "outputs": [
    {
     "data": {
      "text/plain": [
       "array([0., 0., 0., 0., 0.])"
      ]
     },
     "execution_count": 38,
     "metadata": {},
     "output_type": "execute_result"
    }
   ],
   "source": [
    "scores = np.zeros(5)\n",
    "scores"
   ]
  },
  {
   "cell_type": "code",
   "execution_count": 39,
   "id": "a67649a7-4f5c-4d49-8417-70ef29799f32",
   "metadata": {},
   "outputs": [
    {
     "data": {
      "text/plain": [
       "KFold(n_splits=5, random_state=0, shuffle=True)"
      ]
     },
     "execution_count": 39,
     "metadata": {},
     "output_type": "execute_result"
    }
   ],
   "source": [
    "cv = KFold(5, shuffle= True,random_state=0)\n",
    "cv"
   ]
  },
  {
   "cell_type": "code",
   "execution_count": 40,
   "id": "afaed9c6-6dd0-45c0-97f1-d3f621657309",
   "metadata": {},
   "outputs": [
    {
     "name": "stdout",
     "output_type": "stream",
     "text": [
      "Index(['AGE', 'B', 'RM', 'CRIM', 'DIS', 'INDUS', 'LSTAT', 'NOX', 'PTRATIO',\n",
      "       'RAD', 'ZN', 'TAX', 'CHAS'],\n",
      "      dtype='object')\n"
     ]
    }
   ],
   "source": [
    "feature_names = df.columns[:-1]\n",
    "print(feature_names)"
   ]
  },
  {
   "cell_type": "code",
   "execution_count": 43,
   "id": "cda4fff1-c665-4948-9a82-9b333fe1bbdd",
   "metadata": {},
   "outputs": [
    {
     "name": "stdout",
     "output_type": "stream",
     "text": [
      "학습 R2 = 0.77301356,검증 R2 = 0.58922238\n",
      "학습 R2 = 0.72917058,검증 R2 = 0.77799144\n",
      "학습 R2 = 0.74897081,검증 R2 = 0.66791979\n",
      "학습 R2 = 0.75658611,검증 R2 = 0.66801630\n",
      "학습 R2 = 0.70497483,검증 R2 = 0.83953317\n"
     ]
    }
   ],
   "source": [
    "for i, (idx_train, idx_test) in enumerate(cv.split(df)):\n",
    "    df_train = df.iloc[idx_train]\n",
    "    df_test = df.iloc[idx_test]\n",
    "\n",
    "    model = sm.OLS.from_formula(\"Target~\" + \"+\".join(feature_names),data= df_train)\n",
    "    result = model.fit()\n",
    "\n",
    "    pred = result.predict(df_test)\n",
    "    rss = ((df_test.Target - pred) ** 2).sum() #정확도?\n",
    "    tss = ((df_test.Target - df_test.Target.mean()) ** 2).sum()\n",
    "    rsquared = 1 - rss/tss\n",
    "\n",
    "    scores[i] = rsquared\n",
    "    print(\"학습 R2 = {:.8f},검증 R2 = {:.8f}\".format(result.rsquared, rsquared))"
   ]
  },
  {
   "cell_type": "code",
   "execution_count": 45,
   "id": "4966a50d-3305-4bd2-abbf-f9131093ec45",
   "metadata": {},
   "outputs": [
    {
     "name": "stdout",
     "output_type": "stream",
     "text": [
      "학습 R2 = 0.77301356,검증 R2 = 0.83953317\n",
      "학습 R2 = 0.72917058,검증 R2 = 0.83953317\n",
      "학습 R2 = 0.74897081,검증 R2 = 0.83953317\n",
      "학습 R2 = 0.75658611,검증 R2 = 0.83953317\n",
      "학습 R2 = 0.70497483,검증 R2 = 0.83953317\n"
     ]
    }
   ],
   "source": [
    "from sklearn.metrics import r2_score #결정계수\n",
    "for i, (idx_train, idx_test) in enumerate(cv.split(df)):\n",
    "    df_train = df.iloc[idx_train]\n",
    "    df_test = df.iloc[idx_test]\n",
    "\n",
    "    model = sm.OLS.from_formula(\"Target~\" + \"+\".join(feature_names),data= df_train)\n",
    "    result = model.fit()\n",
    "\n",
    "    pred = result.predict(df_test)\n",
    "    rsuared = r2_score(df_test.Target, pred)\n",
    "    scores[i] = rsquared\n",
    "    print(\"학습 R2 = {:.8f},검증 R2 = {:.8f}\".format(result.rsquared, rsquared))"
   ]
  },
  {
   "cell_type": "code",
   "execution_count": 49,
   "id": "b7baac6c-9114-4d2d-9650-1ecda530fc88",
   "metadata": {},
   "outputs": [],
   "source": [
    "from sklearn.base import BaseEstimator, RegressorMixin\n",
    "import statsmodels.formula.api as smf\n",
    "import pandas as pd\n",
    "\n",
    "class StatsmodelOLS(BaseEstimator, RegressorMixin):\n",
    "    def __init__(self, formula):\n",
    "        self.formula = formula\n",
    "        self.model = None\n",
    "        self.data = None\n",
    "        self.result = None\n",
    "\n",
    "    def fit(self, dfX, dfy):\n",
    "        self.data = pd.concat([dfX, dfy], axis=1)\n",
    "        self.model = smf.ols(self.formula, data=self.data)\n",
    "        self.result = self.model.fit()\n",
    "        return self\n",
    "\n",
    "    def predict(self, new_data):\n",
    "        return self.result.predict(new_data)\n"
   ]
  },
  {
   "cell_type": "code",
   "execution_count": null,
   "id": "8de2b0ba-d761-4a58-a421-06c435b28d76",
   "metadata": {},
   "outputs": [],
   "source": []
  }
 ],
 "metadata": {
  "kernelspec": {
   "display_name": "Python 3 (ipykernel)",
   "language": "python",
   "name": "python3"
  },
  "language_info": {
   "codemirror_mode": {
    "name": "ipython",
    "version": 3
   },
   "file_extension": ".py",
   "mimetype": "text/x-python",
   "name": "python",
   "nbconvert_exporter": "python",
   "pygments_lexer": "ipython3",
   "version": "3.11.0"
  }
 },
 "nbformat": 4,
 "nbformat_minor": 5
}
