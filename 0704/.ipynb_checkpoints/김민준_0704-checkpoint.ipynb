{
 "cells": [
  {
   "cell_type": "code",
   "execution_count": 1,
   "id": "9a2b7d3b-4235-44f1-ab06-3725a9da2c1b",
   "metadata": {},
   "outputs": [
    {
     "name": "stdin",
     "output_type": "stream",
     "text": [
      "아이디를 입력하세요 (영문+숫자 4~10자):  kaf829\n"
     ]
    },
    {
     "name": "stdout",
     "output_type": "stream",
     "text": [
      "아이디 가능: kaf829\n"
     ]
    },
    {
     "name": "stdin",
     "output_type": "stream",
     "text": [
      "휴대폰 번호를 입력하세요 (예: 010-1234-5678):  010-2292-4221\n"
     ]
    },
    {
     "name": "stdout",
     "output_type": "stream",
     "text": [
      "유효한 전화번호입니다: 010-2292-4221\n"
     ]
    },
    {
     "name": "stdin",
     "output_type": "stream",
     "text": [
      "이메일 주소를 입력하세요 (예: abcd123@hanmail.net):  test@hanmail.net\n"
     ]
    },
    {
     "name": "stdout",
     "output_type": "stream",
     "text": [
      "유효한 이메일입니다: test@hanmail.net\n"
     ]
    }
   ],
   "source": [
    "import re\n",
    "\n",
    "def validate_id(user_id):\n",
    "    pattern = r'^[a-zA-Z0-9]{4,10}$'\n",
    "    if re.fullmatch(pattern, user_id):\n",
    "        print(f\"아이디 가능: {user_id}\")\n",
    "    else:\n",
    "        print(\"아이디 오류 최소 4자에서 10자 한글 안됨:.\")\n",
    "\n",
    "def validate_phone(phone):\n",
    "    pattern = r'^010-\\d{4}-\\d{4}$'\n",
    "    if re.fullmatch(pattern, phone):\n",
    "        print(f\"유효한 전화번호입니다: {phone}\")\n",
    "    else:\n",
    "        print(\"전화번호 오류: 010-1234-5678 형식이어야 합니다.\")\n",
    "\n",
    "def validate_email(email):\n",
    "    pattern = r'^[a-zA-Z0-9]{4,10}@hanmail.net$'\n",
    "    if re.fullmatch(pattern, email):\n",
    "        print(f\"유효한 이메일입니다: {email}\")\n",
    "    else:\n",
    "        print(\"이메일 오류: 아이디는 영문+숫자 4~10자이며, 도메인은 hanmail.net 이어야 합니다.\")\n",
    "\n",
    "# 입력\n",
    "user_id = input(\"아이디를 입력하세요 (영문+숫자 4~10자): \")\n",
    "validate_id(user_id)\n",
    "\n",
    "phone = input(\"휴대폰 번호를 입력하세요 (예: 010-1234-5678): \")\n",
    "validate_phone(phone)\n",
    "\n",
    "email = input(\"이메일 주소를 입력하세요 (예: abcd123@hanmail.net): \")\n",
    "validate_email(email)\n"
   ]
  },
  {
   "cell_type": "code",
   "execution_count": null,
   "id": "25ef7876-6887-4fca-9bbb-87897cf53df4",
   "metadata": {},
   "outputs": [],
   "source": []
  }
 ],
 "metadata": {
  "kernelspec": {
   "display_name": "Python 3 (ipykernel)",
   "language": "python",
   "name": "python3"
  },
  "language_info": {
   "codemirror_mode": {
    "name": "ipython",
    "version": 3
   },
   "file_extension": ".py",
   "mimetype": "text/x-python",
   "name": "python",
   "nbconvert_exporter": "python",
   "pygments_lexer": "ipython3",
   "version": "3.11.0"
  }
 },
 "nbformat": 4,
 "nbformat_minor": 5
}
